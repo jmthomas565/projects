{
 "cells": [
  {
   "cell_type": "code",
   "execution_count": 11,
   "id": "8cb49ed0-acf0-4b90-9266-38d32c5169de",
   "metadata": {},
   "outputs": [],
   "source": [
    "import os \n",
    "cwd = os.getcwd()\n",
    "cwd\n",
    "\n",
    "os.chdir(\"/Users/jmthomas565/Desktop/Education/Birkbeck Econ/Econometrics Paper/Project Data\")"
   ]
  },
  {
   "cell_type": "code",
   "execution_count": 15,
   "id": "1ee90849-e81c-4384-abc5-41bb565340f1",
   "metadata": {
    "scrolled": true
   },
   "outputs": [],
   "source": [
    "import pandas as pd\n",
    "\n",
    "house_prices = pd.read_csv (\"AVG House Prices.csv\")\n",
    "\n",
    "boe_interest_rates = pd.read_csv (\"Bank Rate history and data  Bank of England Database.csv\")\n"
   ]
  },
  {
   "cell_type": "markdown",
   "id": "868d3d56-511c-4c27-ab07-3b256c89ec28",
   "metadata": {
    "tags": []
   },
   "source": [
    "# Cleansing House Prices data "
   ]
  },
  {
   "cell_type": "code",
   "execution_count": 17,
   "id": "8bb756f2-2580-43de-8895-78e9cf7b3f87",
   "metadata": {},
   "outputs": [],
   "source": [
    "house_prices_pivotted = house_prices.pivot(index='Date', columns='Region_Name', values='Average_Price')\n",
    "\n",
    "house_prices_pivotted = house_prices_pivotted.rename_axis(None).rename_axis(None, axis=1)\n",
    "\n",
    "house_prices_pivotted.index.name = \"Date\"\n",
    "\n",
    "house_prices_pivotted.index = pd.to_datetime(house_prices_pivotted.index).strftime('%Y')\n",
    "\n",
    "uk_house_prices = house_prices_pivotted[[\"United Kingdom\"]]\n",
    "\n",
    "uk_house_prices = uk_house_prices.groupby('Date').mean()\n",
    "\n",
    "uk_house_prices.index = uk_house_prices.index.astype('int64') \n",
    "\n",
    "uk_house_prices.rename(columns={\"United Kingdom\": \"house_prices\"}, inplace=True)\n"
   ]
  },
  {
   "cell_type": "markdown",
   "id": "620f4c3d-6f40-4019-b597-32ef034e6f05",
   "metadata": {},
   "source": [
    "# Cleansing BOE Interest Rate "
   ]
  },
  {
   "cell_type": "code",
   "execution_count": 19,
   "id": "4aec4db6-9449-46a8-a15e-2e7e03b221d1",
   "metadata": {
    "scrolled": true
   },
   "outputs": [
    {
     "name": "stderr",
     "output_type": "stream",
     "text": [
      "/var/folders/5k/0mrs71sj38b3m6trnqsfqlx00000gp/T/ipykernel_15042/1986779471.py:3: UserWarning: Could not infer format, so each element will be parsed individually, falling back to `dateutil`. To ensure parsing is consistent and as-expected, please specify a format.\n",
      "  boe_interest_rates.index = pd.to_datetime(boe_interest_rates.index).strftime('%Y')\n"
     ]
    },
    {
     "data": {
      "text/html": [
       "<div>\n",
       "<style scoped>\n",
       "    .dataframe tbody tr th:only-of-type {\n",
       "        vertical-align: middle;\n",
       "    }\n",
       "\n",
       "    .dataframe tbody tr th {\n",
       "        vertical-align: top;\n",
       "    }\n",
       "\n",
       "    .dataframe thead th {\n",
       "        text-align: right;\n",
       "    }\n",
       "</style>\n",
       "<table border=\"1\" class=\"dataframe\">\n",
       "  <thead>\n",
       "    <tr style=\"text-align: right;\">\n",
       "      <th></th>\n",
       "      <th>interest_rate</th>\n",
       "    </tr>\n",
       "    <tr>\n",
       "      <th>Date Changed</th>\n",
       "      <th></th>\n",
       "    </tr>\n",
       "  </thead>\n",
       "  <tbody>\n",
       "    <tr>\n",
       "      <th>1975</th>\n",
       "      <td>10.846154</td>\n",
       "    </tr>\n",
       "    <tr>\n",
       "      <th>1976</th>\n",
       "      <td>11.678571</td>\n",
       "    </tr>\n",
       "    <tr>\n",
       "      <th>1977</th>\n",
       "      <td>8.960526</td>\n",
       "    </tr>\n",
       "    <tr>\n",
       "      <th>1978</th>\n",
       "      <td>9.041667</td>\n",
       "    </tr>\n",
       "    <tr>\n",
       "      <th>1979</th>\n",
       "      <td>14.000000</td>\n",
       "    </tr>\n",
       "  </tbody>\n",
       "</table>\n",
       "</div>"
      ],
      "text/plain": [
       "              interest_rate\n",
       "Date Changed               \n",
       "1975              10.846154\n",
       "1976              11.678571\n",
       "1977               8.960526\n",
       "1978               9.041667\n",
       "1979              14.000000"
      ]
     },
     "execution_count": 19,
     "metadata": {},
     "output_type": "execute_result"
    }
   ],
   "source": [
    "boe_interest_rates = boe_interest_rates.set_index (\"Date Changed\")\n",
    "\n",
    "boe_interest_rates.index = pd.to_datetime(boe_interest_rates.index).strftime('%Y')\n",
    "\n",
    "boe_interest_rates = boe_interest_rates.groupby('Date Changed').mean()\n",
    "\n",
    "boe_interest_rates.rename(columns={\"Rate\": \"interest_rate\"}, inplace=True)\n",
    "\n",
    "boe_interest_rates.head()\n"
   ]
  },
  {
   "cell_type": "markdown",
   "id": "4e0d5938-51c6-4f33-935c-8be729b4ea01",
   "metadata": {},
   "source": [
    "# Inputing missing values, where interest rate is unchanged"
   ]
  },
  {
   "cell_type": "code",
   "execution_count": 21,
   "id": "9bb841c0-213e-414b-bbce-d7c262720890",
   "metadata": {},
   "outputs": [
    {
     "data": {
      "text/html": [
       "<div>\n",
       "<style scoped>\n",
       "    .dataframe tbody tr th:only-of-type {\n",
       "        vertical-align: middle;\n",
       "    }\n",
       "\n",
       "    .dataframe tbody tr th {\n",
       "        vertical-align: top;\n",
       "    }\n",
       "\n",
       "    .dataframe thead th {\n",
       "        text-align: right;\n",
       "    }\n",
       "</style>\n",
       "<table border=\"1\" class=\"dataframe\">\n",
       "  <thead>\n",
       "    <tr style=\"text-align: right;\">\n",
       "      <th></th>\n",
       "      <th>interest_rate</th>\n",
       "    </tr>\n",
       "    <tr>\n",
       "      <th>Year</th>\n",
       "      <th></th>\n",
       "    </tr>\n",
       "  </thead>\n",
       "  <tbody>\n",
       "    <tr>\n",
       "      <th>2010</th>\n",
       "      <td>0.500000</td>\n",
       "    </tr>\n",
       "    <tr>\n",
       "      <th>2011</th>\n",
       "      <td>0.500000</td>\n",
       "    </tr>\n",
       "    <tr>\n",
       "      <th>2012</th>\n",
       "      <td>0.500000</td>\n",
       "    </tr>\n",
       "    <tr>\n",
       "      <th>2013</th>\n",
       "      <td>0.500000</td>\n",
       "    </tr>\n",
       "    <tr>\n",
       "      <th>2014</th>\n",
       "      <td>0.500000</td>\n",
       "    </tr>\n",
       "    <tr>\n",
       "      <th>2015</th>\n",
       "      <td>0.500000</td>\n",
       "    </tr>\n",
       "    <tr>\n",
       "      <th>2019</th>\n",
       "      <td>0.750000</td>\n",
       "    </tr>\n",
       "    <tr>\n",
       "      <th>2002</th>\n",
       "      <td>4.964286</td>\n",
       "    </tr>\n",
       "  </tbody>\n",
       "</table>\n",
       "</div>"
      ],
      "text/plain": [
       "      interest_rate\n",
       "Year               \n",
       "2010       0.500000\n",
       "2011       0.500000\n",
       "2012       0.500000\n",
       "2013       0.500000\n",
       "2014       0.500000\n",
       "2015       0.500000\n",
       "2019       0.750000\n",
       "2002       4.964286"
      ]
     },
     "execution_count": 21,
     "metadata": {},
     "output_type": "execute_result"
    }
   ],
   "source": [
    "data = {\n",
    "    'Year': [2010, 2011, 2012, 2013, 2014, 2015, 2019, 2002],\n",
    "    'interest_rate': [0.5, 0.5, 0.5, 0.5, 0.5, 0.5, 0.750000, 4.964286],\n",
    "}\n",
    "\n",
    "df = pd.DataFrame(data)\n",
    "\n",
    "df = df.set_index(['Year'])\n",
    "\n",
    "df.head(20)\n"
   ]
  },
  {
   "cell_type": "code",
   "execution_count": 23,
   "id": "3cc56327-8134-422d-9696-a8b721ea4104",
   "metadata": {
    "scrolled": true
   },
   "outputs": [
    {
     "ename": "AttributeError",
     "evalue": "'DataFrame' object has no attribute 'append'",
     "output_type": "error",
     "traceback": [
      "\u001b[0;31m---------------------------------------------------------------------------\u001b[0m",
      "\u001b[0;31mAttributeError\u001b[0m                            Traceback (most recent call last)",
      "\u001b[0;32m/var/folders/5k/0mrs71sj38b3m6trnqsfqlx00000gp/T/ipykernel_15042/3576672242.py\u001b[0m in \u001b[0;36m?\u001b[0;34m()\u001b[0m\n\u001b[0;32m----> 1\u001b[0;31m \u001b[0mboe_interest_rates\u001b[0m \u001b[0;34m=\u001b[0m \u001b[0mboe_interest_rates\u001b[0m\u001b[0;34m.\u001b[0m\u001b[0mappend\u001b[0m\u001b[0;34m(\u001b[0m\u001b[0mdf\u001b[0m\u001b[0;34m,\u001b[0m \u001b[0mignore_index\u001b[0m\u001b[0;34m=\u001b[0m\u001b[0;32mFalse\u001b[0m\u001b[0;34m)\u001b[0m\u001b[0;34m\u001b[0m\u001b[0;34m\u001b[0m\u001b[0m\n\u001b[0m\u001b[1;32m      2\u001b[0m \u001b[0;34m\u001b[0m\u001b[0m\n\u001b[1;32m      3\u001b[0m \u001b[0mboe_interest_rates\u001b[0m\u001b[0;34m.\u001b[0m\u001b[0mindex\u001b[0m \u001b[0;34m=\u001b[0m \u001b[0mboe_interest_rates\u001b[0m\u001b[0;34m.\u001b[0m\u001b[0mindex\u001b[0m\u001b[0;34m.\u001b[0m\u001b[0mastype\u001b[0m\u001b[0;34m(\u001b[0m\u001b[0;34m'int64'\u001b[0m\u001b[0;34m)\u001b[0m\u001b[0;34m\u001b[0m\u001b[0;34m\u001b[0m\u001b[0m\n\u001b[1;32m      4\u001b[0m \u001b[0;34m\u001b[0m\u001b[0m\n",
      "\u001b[0;32m/opt/anaconda3/lib/python3.12/site-packages/pandas/core/generic.py\u001b[0m in \u001b[0;36m?\u001b[0;34m(self, name)\u001b[0m\n\u001b[1;32m   6295\u001b[0m             \u001b[0;32mand\u001b[0m \u001b[0mname\u001b[0m \u001b[0;32mnot\u001b[0m \u001b[0;32min\u001b[0m \u001b[0mself\u001b[0m\u001b[0;34m.\u001b[0m\u001b[0m_accessors\u001b[0m\u001b[0;34m\u001b[0m\u001b[0;34m\u001b[0m\u001b[0m\n\u001b[1;32m   6296\u001b[0m             \u001b[0;32mand\u001b[0m \u001b[0mself\u001b[0m\u001b[0;34m.\u001b[0m\u001b[0m_info_axis\u001b[0m\u001b[0;34m.\u001b[0m\u001b[0m_can_hold_identifiers_and_holds_name\u001b[0m\u001b[0;34m(\u001b[0m\u001b[0mname\u001b[0m\u001b[0;34m)\u001b[0m\u001b[0;34m\u001b[0m\u001b[0;34m\u001b[0m\u001b[0m\n\u001b[1;32m   6297\u001b[0m         \u001b[0;34m)\u001b[0m\u001b[0;34m:\u001b[0m\u001b[0;34m\u001b[0m\u001b[0;34m\u001b[0m\u001b[0m\n\u001b[1;32m   6298\u001b[0m             \u001b[0;32mreturn\u001b[0m \u001b[0mself\u001b[0m\u001b[0;34m[\u001b[0m\u001b[0mname\u001b[0m\u001b[0;34m]\u001b[0m\u001b[0;34m\u001b[0m\u001b[0;34m\u001b[0m\u001b[0m\n\u001b[0;32m-> 6299\u001b[0;31m         \u001b[0;32mreturn\u001b[0m \u001b[0mobject\u001b[0m\u001b[0;34m.\u001b[0m\u001b[0m__getattribute__\u001b[0m\u001b[0;34m(\u001b[0m\u001b[0mself\u001b[0m\u001b[0;34m,\u001b[0m \u001b[0mname\u001b[0m\u001b[0;34m)\u001b[0m\u001b[0;34m\u001b[0m\u001b[0;34m\u001b[0m\u001b[0m\n\u001b[0m",
      "\u001b[0;31mAttributeError\u001b[0m: 'DataFrame' object has no attribute 'append'"
     ]
    }
   ],
   "source": [
    "boe_interest_rates = boe_interest_rates.append(df, ignore_index=False)\n",
    "\n",
    "boe_interest_rates.index = boe_interest_rates.index.astype('int64') \n",
    "\n",
    "boe_interest_rates = boe_interest_rates.sort_index()\n",
    "\n",
    "boe_interest_rates.head()"
   ]
  },
  {
   "cell_type": "markdown",
   "id": "4a15ee63-fa3a-4271-8b70-00970ee697be",
   "metadata": {},
   "source": [
    "# Merging House Prices to Interest Rates"
   ]
  },
  {
   "cell_type": "code",
   "execution_count": null,
   "id": "9f3d2187-64e5-4c34-955d-bb65c202d1be",
   "metadata": {},
   "outputs": [],
   "source": [
    "merged_data = boe_interest_rates.merge(uk_house_prices, how=\"left\", left_index=True, right_index=True)"
   ]
  },
  {
   "cell_type": "markdown",
   "id": "0d57abcf-49e5-42ed-8536-e85c3fb16b0b",
   "metadata": {},
   "source": [
    "# Plotting the Data (with no transformations)"
   ]
  },
  {
   "cell_type": "code",
   "execution_count": null,
   "id": "eba590c5-7159-4b53-94be-fcb4067e3451",
   "metadata": {},
   "outputs": [],
   "source": [
    "import matplotlib.pyplot as plt\n",
    "import numpy as np\n",
    "from matplotlib import ticker\n",
    "fig,ax = plt.subplots(figsize=(10,6))\n",
    "\n",
    "\n",
    "plt.scatter(merged_data.index, merged_data['interest_rate'], label = \"interest_rate\", s=25, c='g')\n",
    "\n",
    "plt.scatter(merged_data.index, merged_data['house_prices'], label = \"house_prices\", s=25, c='b')\n",
    "\n",
    "plt.xticks(rotation=70, size=8)\n",
    "\n",
    "\n",
    "plt.xlabel(\"year\")\n",
    "plt.ylabel(\"value\")\n",
    "\n",
    "plt.xticks(rotation=70, size=10)\n",
    "\n",
    "plt.xticks(np.arange(1975, 2023, step=5))\n",
    "\n",
    "plt.grid(color='grey', linestyle='-', linewidth=0.25, alpha=1)\n",
    "\n",
    "plt.legend()\n",
    "\n",
    "plt.show()\n",
    "\n",
    "\n"
   ]
  },
  {
   "cell_type": "markdown",
   "id": "7291f1ae-5941-461e-b945-a98c2945c98d",
   "metadata": {},
   "source": [
    "# Plotting the Data - With Logged House Prices"
   ]
  },
  {
   "cell_type": "code",
   "execution_count": null,
   "id": "496c40bf-a6db-4d0d-8fab-f8c114d56ef5",
   "metadata": {},
   "outputs": [],
   "source": [
    "fig,ax = plt.subplots(figsize=(10,6))\n",
    "\n",
    "merged_data[\"house_prices_logged\"] = np.log(merged_data['house_prices'])\n",
    "\n",
    "plt.scatter(merged_data.index, merged_data['interest_rate'], label = \"interest_rate\", s=25, c='g')\n",
    "\n",
    "plt.scatter(merged_data.index, merged_data[\"house_prices_logged\"], label = \"house_prices_logged\", s=25, c='b')\n",
    "\n",
    "plt.xticks(rotation=70, size=10)\n",
    "\n",
    "\n",
    "plt.xticks(np.arange(1975, 2023, step=5))\n",
    "\n",
    "plt.grid(color='grey', linestyle='-', linewidth=0.25, alpha=1)\n",
    "\n",
    "\n",
    "plt.xlabel(\"year\")\n",
    "plt.ylabel(\"value\")\n",
    "\n",
    "plt.legend()\n",
    "\n",
    "plt.show()\n",
    "\n",
    "\n"
   ]
  },
  {
   "cell_type": "markdown",
   "id": "11e47100-e3c0-43f2-8fc6-9099b9dac12f",
   "metadata": {},
   "source": [
    "# Plotting the Regression - House Prices on Rates (Not Logged)"
   ]
  },
  {
   "cell_type": "code",
   "execution_count": null,
   "id": "1bccc01e-bb02-41c9-9bc8-6dcf6580168f",
   "metadata": {},
   "outputs": [],
   "source": [
    "import seaborn as sns\n",
    "\n",
    "fig,ax = plt.subplots(figsize=(10,6))\n",
    "\n",
    "\n",
    "\n",
    "plt.grid(color='grey', linestyle='-', linewidth=0.25, alpha=1)\n",
    "\n",
    "sns.regplot(x=merged_data['interest_rate'], y=merged_data['house_prices'], data=merged_data, ci=None)\n",
    "\n",
    "plt.scatter(merged_data['interest_rate'], merged_data['house_prices'], s=25, c='r')\n",
    "\n",
    "plt.xticks(rotation=70, size=10)\n",
    "\n",
    "plt.xlabel(\"interest_rate\")\n",
    "plt.ylabel(\"house_prices_logged\")\n",
    "\n",
    "\n",
    "plt.show()\n"
   ]
  },
  {
   "cell_type": "markdown",
   "id": "7dc0288e-98c5-4670-9f08-61c57831c081",
   "metadata": {},
   "source": [
    "# Plotting the Regression - House Prices on Rates (Logged)"
   ]
  },
  {
   "cell_type": "code",
   "execution_count": null,
   "id": "5fe90293-80d4-40ca-93c6-acfc602477a9",
   "metadata": {},
   "outputs": [],
   "source": [
    "import seaborn as sns\n",
    "\n",
    "fig,ax = plt.subplots(figsize=(10,6))\n",
    "\n",
    "\n",
    "\n",
    "plt.grid(color='grey', linestyle='-', linewidth=0.25, alpha=1)\n",
    "\n",
    "sns.regplot(x=merged_data['interest_rate'], y=merged_data['house_prices_logged'], data=merged_data, ci=None)\n",
    "\n",
    "plt.scatter(merged_data['interest_rate'], merged_data['house_prices_logged'], s=25, c='r')\n",
    "\n",
    "plt.xticks(rotation=70, size=10)\n",
    "\n",
    "plt.xlabel(\"interest_rate\")\n",
    "plt.ylabel(\"house_prices_logged\")\n",
    "\n",
    "\n",
    "plt.show()\n"
   ]
  },
  {
   "cell_type": "markdown",
   "id": "d345cef0-3231-4d7b-adcf-f8c1d99883e2",
   "metadata": {},
   "source": [
    "# Running the Regression - House Prices on Rates (Not Logged)"
   ]
  },
  {
   "cell_type": "code",
   "execution_count": null,
   "id": "f26341ff-4712-4de2-800e-6eea24269cb7",
   "metadata": {},
   "outputs": [],
   "source": [
    "import statsmodels.api as sm\n",
    "import pandas as pd\n",
    "\n",
    "from statsmodels.api import add_constant\n",
    "\n",
    "result = sm.OLS(merged_data['house_prices'], sm.tools.add_constant(merged_data['interest_rate'])).fit()\n",
    "\n",
    "# printing the summary table\n",
    "print(result.summary())\n"
   ]
  },
  {
   "cell_type": "markdown",
   "id": "b932c5de-82d8-462a-b730-4e393922e17b",
   "metadata": {},
   "source": [
    "# Running the Regression - House Prices on Rates (Logged)"
   ]
  },
  {
   "cell_type": "code",
   "execution_count": null,
   "id": "1cf74bb9-fbec-40dc-9d29-b730427fac7c",
   "metadata": {},
   "outputs": [],
   "source": [
    "import statsmodels.api as sm\n",
    "import pandas as pd\n",
    "\n",
    "from statsmodels.api import add_constant\n",
    "\n",
    "result = sm.OLS(merged_data['house_prices_logged'], sm.tools.add_constant(merged_data['interest_rate'])).fit()\n",
    "\n",
    "# printing the summary table\n",
    "print(result.summary())\n"
   ]
  },
  {
   "cell_type": "code",
   "execution_count": null,
   "id": "c105a69f-2cfe-4b89-89f8-379d8600338f",
   "metadata": {},
   "outputs": [],
   "source": [
    "# import packages and libraries \n",
    "import pandas as pd \n",
    "import seaborn as sns \n",
    "import matplotlib.pyplot as plt \n",
    "\n",
    "plt.grid(color='grey', linestyle='-', linewidth=0.25, alpha=1)\n",
    "  \n",
    "sns.residplot(x='interest_rate', y='house_prices', data=merged_data) \n",
    "\n",
    "plt.xticks(rotation=70, size=10)\n",
    "\n",
    "plt.yticks(np.arange(1975, 2023, step=5))\n",
    "\n",
    "  \n",
    "plt.show() "
   ]
  },
  {
   "cell_type": "code",
   "execution_count": null,
   "id": "ac383d87-8aa1-41ac-9420-965cd4086647",
   "metadata": {},
   "outputs": [],
   "source": [
    "import seaborn as sns\n",
    "\n",
    "fig,ax = plt.subplots(figsize=(10,6))\n",
    "\n",
    "\n",
    "\n",
    "\n",
    "\n",
    "sns.regplot(x=merged_data['interest_rate'], y=merged_data['house_prices_logged'], data=merged_data, ci=None)\n",
    "\n",
    "plt.scatter(merged_data['interest_rate'], merged_data['house_prices_logged'], s=25, c='r')\n",
    "\n",
    "\n",
    "\n",
    "plt.show()\n"
   ]
  },
  {
   "cell_type": "markdown",
   "id": "d3a399b6-790b-4d87-b830-ce6feeb681dc",
   "metadata": {},
   "source": [
    "# Cleansing GDP Data"
   ]
  },
  {
   "cell_type": "code",
   "execution_count": null,
   "id": "26eb9be1-bde8-40f2-af0f-48ab5b47938a",
   "metadata": {},
   "outputs": [],
   "source": [
    "gdp = pd.read_csv (\"GDP - UK.csv\")\n",
    "\n",
    "gdp = gdp.set_index (\"Date\")\n",
    "\n",
    "merged_data.index = merged_data.index.astype('int64') \n"
   ]
  },
  {
   "cell_type": "code",
   "execution_count": null,
   "id": "599d9c2c-54f3-43d8-9fa0-e064321d9192",
   "metadata": {},
   "outputs": [],
   "source": [
    "merged_data_with_gdp = merged_data.merge(gdp, how=\"left\", left_index=True, right_index=True)\n",
    "\n",
    "merged_data_with_gdp.head()"
   ]
  },
  {
   "cell_type": "code",
   "execution_count": null,
   "id": "6cba8188-66a0-4b29-949a-6e4b93f0840d",
   "metadata": {},
   "outputs": [],
   "source": [
    "merged_data_with_gdp[\"gdp_logged\"] = np.log(merged_data_with_gdp[\"GDP\"])"
   ]
  },
  {
   "cell_type": "code",
   "execution_count": null,
   "id": "7ebaebf7-ba79-4fb9-8152-96d691cfcdac",
   "metadata": {},
   "outputs": [],
   "source": [
    "merged_data_with_gdp.rename(columns ={\"GDP\": \"gdp\"}, inplace= True)\n"
   ]
  },
  {
   "cell_type": "code",
   "execution_count": null,
   "id": "7094b92b-fa64-4cdb-a90a-78852412e266",
   "metadata": {},
   "outputs": [],
   "source": [
    "merged_data_with_gdp.head()"
   ]
  },
  {
   "cell_type": "markdown",
   "id": "41c50206-1549-4257-a82e-7ef1ea9d147d",
   "metadata": {},
   "source": [
    "# Plotting with GDP Data"
   ]
  },
  {
   "cell_type": "code",
   "execution_count": null,
   "id": "b694f14d-0171-4df3-9256-f63f2e86ccc0",
   "metadata": {},
   "outputs": [],
   "source": [
    "fig,ax = plt.subplots(figsize=(10,6))\n",
    "\n",
    "plt.scatter(merged_data_with_gdp.index, merged_data_with_gdp['interest_rate'], label = \"interest_rate\", s=25, c='g')\n",
    "\n",
    "plt.scatter(merged_data_with_gdp.index, merged_data_with_gdp[\"house_prices_logged\"], label = \"UK_Houses_Logged\", s=25, c='b')\n",
    "\n",
    "plt.scatter(merged_data_with_gdp.index, merged_data_with_gdp[\"gdp_logged\"], label = \"gdp_logged\", s=25, c='r')\n",
    "\n",
    "\n",
    "plt.xticks(rotation=70, size=10)\n",
    "\n",
    "\n",
    "plt.xticks(np.arange(1975, 2023, step=5))\n",
    "\n",
    "plt.yticks(np.arange(-1, 17, step=1))\n",
    "\n",
    "plt.grid(color='grey', linestyle='-', linewidth=0.25, alpha=1)\n",
    "\n",
    "\n",
    "plt.xlabel(\"year\")\n",
    "plt.ylabel(\"value\")\n",
    "\n",
    "\n",
    "plt.legend()\n",
    "\n",
    "plt.show()\n"
   ]
  },
  {
   "cell_type": "markdown",
   "id": "c5115e42-dea4-4320-95b0-fe5090e3e018",
   "metadata": {},
   "source": [
    "# Cleansing Employment Rate Data"
   ]
  },
  {
   "cell_type": "code",
   "execution_count": null,
   "id": "fbfe1c3f-9710-4f6d-a31d-6e0abf73ea35",
   "metadata": {},
   "outputs": [],
   "source": [
    "employmnet_rates = pd.read_csv (\"Employment Rate Data.csv\")\n",
    "\n",
    "employmnet_rates = employmnet_rates.set_index (\"Year\")\n",
    "\n",
    "employmnet_rates.index = employmnet_rates.index.astype('int64') \n",
    "\n",
    "employmnet_rates.rename(columns ={\"Employment Rate\": \"employment_rate\"}, inplace = True)\n"
   ]
  },
  {
   "cell_type": "markdown",
   "id": "28879d6e-276c-44f2-aae6-c815024bd4b6",
   "metadata": {},
   "source": [
    "# Merging Employment Rate Data with Master Table"
   ]
  },
  {
   "cell_type": "code",
   "execution_count": null,
   "id": "1f19619b-883e-410d-a928-14b3dedbfbd8",
   "metadata": {},
   "outputs": [],
   "source": [
    "merged_data_with_employment = merged_data_with_gdp.merge(employmnet_rates, how=\"left\", left_index=True, right_index=True)\n",
    "\n",
    "merged_data_with_employment.head()\n"
   ]
  },
  {
   "cell_type": "markdown",
   "id": "e697c372-6859-40f3-a224-496089e06884",
   "metadata": {},
   "source": [
    "# Plotting All Variables ---- Y Axis needs amending! "
   ]
  },
  {
   "cell_type": "code",
   "execution_count": null,
   "id": "fbebe97e-069f-4fb7-b9c2-b5366978b891",
   "metadata": {},
   "outputs": [],
   "source": [
    "fig,ax = plt.subplots(figsize=(10,6))\n",
    "\n",
    "plt.scatter(merged_data_with_employment.index, merged_data_with_employment['interest_rate'], label = \"interest_rate\", s=25, c='g')\n",
    "\n",
    "plt.scatter(merged_data_with_employment.index, merged_data_with_employment[\"house_prices_logged\"], label = \"house_prices_logged\", s=25, c='b')\n",
    "\n",
    "plt.scatter(merged_data_with_employment.index, merged_data_with_employment[\"gdp_logged\"], label = \"gdp_logged\", s=25, c='r')\n",
    "\n",
    "plt.scatter(merged_data_with_employment.index, merged_data_with_employment[\"employment_rate\"], label = \"employment_rate\", s=25, c='y')\n",
    "\n",
    "plt.xticks(rotation=70, size=10)\n",
    "\n",
    "plt.xticks(np.arange(1975, 2023, step=5))\n",
    "\n",
    "plt.yticks(np.arange(-1, 101, step=10))\n",
    "\n",
    "\n",
    "plt.grid(color='grey', linestyle='-', linewidth=0.25, alpha=1)\n",
    "\n",
    "\n",
    "plt.xlabel(\"year\")\n",
    "plt.ylabel(\"value\")\n",
    "\n",
    "\n",
    "plt.legend()\n",
    "\n",
    "plt.show()\n",
    "\n"
   ]
  },
  {
   "cell_type": "markdown",
   "id": "1561f778-436e-4bd1-8cf6-b3c70f14964c",
   "metadata": {},
   "source": [
    "# Transforming Employment Rate"
   ]
  },
  {
   "cell_type": "code",
   "execution_count": null,
   "id": "5892ba24-91da-4827-b5ae-41d00b8d25a5",
   "metadata": {},
   "outputs": [],
   "source": [
    "merged_data_with_employment[[\"employment_rate_div_10\"]] = merged_data_with_employment[[\"employment_rate\"]]/ 10\n",
    "\n",
    "merged_data_with_employment = merged_data_with_employment.drop(2023)\n",
    "\n",
    "merged_data_with_employment.tail()"
   ]
  },
  {
   "cell_type": "markdown",
   "id": "3f8557db-12e7-4d65-aae3-6e7d2591e0b4",
   "metadata": {},
   "source": [
    "# Graphing all Variables"
   ]
  },
  {
   "cell_type": "code",
   "execution_count": null,
   "id": "69d54a79-c597-4436-b9e2-f2f90936eb1d",
   "metadata": {},
   "outputs": [],
   "source": [
    "fig,ax = plt.subplots(figsize=(10,6))\n",
    "\n",
    "plt.scatter(merged_data_with_employment.index, merged_data_with_employment['interest_rate'], label = \"interest_rate\", s=25, c='g')\n",
    "\n",
    "plt.scatter(merged_data_with_employment.index, merged_data_with_employment[\"house_prices_logged\"], label = \"house_prices_logged\", s=25, c='b')\n",
    "\n",
    "plt.scatter(merged_data_with_employment.index, merged_data_with_employment[\"gdp_logged\"], label = \"gdp_logged\", s=25, c='r')\n",
    "\n",
    "plt.scatter(merged_data_with_employment.index, merged_data_with_employment[\"employment_rate_div_10\"], label = \"employment_rate_div_10\", s=25, c='y')\n",
    "\n",
    "plt.xticks(rotation=70, size=10)\n",
    "\n",
    "plt.xticks(np.arange(1975, 2023, step=5))\n",
    "\n",
    "plt.yticks(np.arange(-1, 19, step=1))\n",
    "\n",
    "\n",
    "plt.grid(color='grey', linestyle='-', linewidth=0.25, alpha=1)\n",
    "\n",
    "\n",
    "plt.xlabel(\"year\")\n",
    "plt.ylabel(\"value\")\n",
    "\n",
    "\n",
    "plt.legend()\n",
    "\n",
    "plt.show()\n",
    "\n"
   ]
  },
  {
   "cell_type": "markdown",
   "id": "078588cc-df73-4b44-beb8-e9447bf0e2c4",
   "metadata": {},
   "source": [
    "# OLS Model with transformed variables"
   ]
  },
  {
   "cell_type": "code",
   "execution_count": null,
   "id": "99788915-8e9b-4e26-91ff-d7f58191249a",
   "metadata": {},
   "outputs": [],
   "source": [
    "X = merged_data_with_employment [[\"employment_rate_div_10\", \"gdp_logged\", \"interest_rate\"]]\n",
    "\n",
    "Y = merged_data_with_employment [[\"house_prices_logged\"]]"
   ]
  },
  {
   "cell_type": "code",
   "execution_count": null,
   "id": "70d2297b-5d1d-48b7-adbf-668ed4601650",
   "metadata": {},
   "outputs": [],
   "source": [
    "X.head()"
   ]
  },
  {
   "cell_type": "code",
   "execution_count": null,
   "id": "6226b585-978a-48a3-b0fe-3a7492b7d920",
   "metadata": {},
   "outputs": [],
   "source": [
    "multivariate_result = sm.OLS(Y, sm.add_constant(X)).fit()\n",
    "\n",
    "\n",
    "# printing the summary table\n",
    "print(multivariate_result.summary())\n"
   ]
  },
  {
   "cell_type": "markdown",
   "id": "d6680898-1b33-47ff-b51e-badee23ffbe7",
   "metadata": {},
   "source": [
    "# Adding Lagged Variables"
   ]
  },
  {
   "cell_type": "code",
   "execution_count": null,
   "id": "04790bcc-d271-4d57-8d69-657c33d8f2bf",
   "metadata": {},
   "outputs": [],
   "source": [
    "merged_data_with_employment['house_prices_logged_lag_1'] = merged_data_with_employment['house_prices_logged'].shift(-1)\n",
    "\n",
    "merged_data_with_employment['gdp_logged_lag_1'] = merged_data_with_employment['gdp_logged'].shift(-1)\n",
    "\n",
    "merged_data_with_employment['interest_rate_lag_1'] = merged_data_with_employment['interest_rate'].shift(-1)\n",
    "\n",
    "merged_data_with_employment['employment_rate_div_10_lag_1'] = merged_data_with_employment['employment_rate_div_10'].shift(-1)\n",
    "\n",
    "merged_data_with_employment['house_prices_logged_lag_2'] = merged_data_with_employment['house_prices_logged'].shift(-2)\n",
    "\n",
    "merged_data_with_employment['gdp_logged_lag_2'] = merged_data_with_employment['gdp_logged'].shift(-2)\n",
    "\n",
    "merged_data_with_employment['interest_rate_lag_2'] = merged_data_with_employment['interest_rate'].shift(-2)\n",
    "\n",
    "merged_data_with_employment['employment_rate_div_10_lag_2'] = merged_data_with_employment['employment_rate_div_10'].shift(-2)"
   ]
  },
  {
   "cell_type": "code",
   "execution_count": null,
   "id": "895fd108-d0f4-4d9b-b4e7-abcd8b082a5f",
   "metadata": {},
   "outputs": [],
   "source": [
    "final_df = merged_data_with_employment[[\"house_prices_logged\", \"house_prices_logged_lag_1\", \"house_prices_logged_lag_2\", \n",
    "                                        \"interest_rate\", \"interest_rate_lag_1\", \"interest_rate_lag_2\",\n",
    "                                        \"gdp_logged\", \"gdp_logged_lag_1\", \"gdp_logged_lag_2\",\n",
    "                                        \"employment_rate_div_10\", \"employment_rate_div_10_lag_1\", \"employment_rate_div_10_lag_2\"]]\n"
   ]
  },
  {
   "cell_type": "code",
   "execution_count": null,
   "id": "dd8a3367-b0b1-45c0-9243-523daa225849",
   "metadata": {
    "jupyter": {
     "source_hidden": true
    }
   },
   "outputs": [],
   "source": [
    "#Dropping rows, because lags are meaning that we now have less rows in data. This is reducing our degrees of freedom! \n",
    "#Mention this in the assignment\n",
    "#Could try these 2 models - one with lags (and excluded rows) and one without. Mention the playoff between DOF and more useful variables. \n"
   ]
  },
  {
   "cell_type": "code",
   "execution_count": null,
   "id": "0646aa08-2815-48b3-829f-66e69277f290",
   "metadata": {
    "scrolled": true
   },
   "outputs": [],
   "source": [
    "final_df = final_df.drop(2021)\n",
    "\n",
    "final_df = final_df.drop(2022)\n",
    "\n",
    "final_df.tail()"
   ]
  },
  {
   "cell_type": "markdown",
   "id": "1e0057a2-e969-49f7-a244-7f2c6bdb66b0",
   "metadata": {},
   "source": [
    "# Running the Model with Lagged Variables "
   ]
  },
  {
   "cell_type": "code",
   "execution_count": null,
   "id": "d474b504-1b30-463b-ae34-0f5b7d94faae",
   "metadata": {},
   "outputs": [],
   "source": [
    "kitchen_sink_y = final_df[[\"house_prices_logged\"]]\n",
    "\n",
    "kitchen_sink_x = final_df[['house_prices_logged_lag_1', 'house_prices_logged_lag_2',\n",
    "       'interest_rate', 'interest_rate_lag_1', 'interest_rate_lag_2', 'gdp_logged', 'gdp_logged_lag_1',\n",
    "       'gdp_logged_lag_2', 'employment_rate_div_10',\n",
    "       'employment_rate_div_10_lag_1', 'employment_rate_div_10_lag_2']]\n"
   ]
  },
  {
   "cell_type": "code",
   "execution_count": null,
   "id": "b90d7263-fd74-471c-98e9-a68112625b1a",
   "metadata": {},
   "outputs": [],
   "source": [
    "\n",
    "kitchen_sink_result = sm.OLS(kitchen_sink_y, sm.add_constant(kitchen_sink_x)).fit()\n",
    "\n",
    "\n",
    "# printing the summary table\n",
    "print(kitchen_sink_result.summary())\n"
   ]
  },
  {
   "cell_type": "code",
   "execution_count": null,
   "id": "9a2eb2be-619d-4cd7-bfaa-e2ceacddd24c",
   "metadata": {},
   "outputs": [],
   "source": [
    "merged"
   ]
  }
 ],
 "metadata": {
  "kernelspec": {
   "display_name": "Python 3 (ipykernel)",
   "language": "python",
   "name": "python3"
  },
  "language_info": {
   "codemirror_mode": {
    "name": "ipython",
    "version": 3
   },
   "file_extension": ".py",
   "mimetype": "text/x-python",
   "name": "python",
   "nbconvert_exporter": "python",
   "pygments_lexer": "ipython3",
   "version": "3.12.4"
  }
 },
 "nbformat": 4,
 "nbformat_minor": 5
}

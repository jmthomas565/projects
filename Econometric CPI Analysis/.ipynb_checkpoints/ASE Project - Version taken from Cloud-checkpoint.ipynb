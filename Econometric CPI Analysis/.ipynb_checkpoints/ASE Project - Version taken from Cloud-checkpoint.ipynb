{
 "cells": [
  {
   "cell_type": "code",
   "execution_count": 1,
   "id": "7863bffa-714b-4f23-9d84-59644b65395d",
   "metadata": {},
   "outputs": [],
   "source": [
    "import os \n",
    "cwd = os.getcwd()\n",
    "cwd\n",
    "\n",
    "os.chdir(\"/Users/jmthomas565/Desktop/Education/Birkbeck Econ/Econometrics Paper/Project Data\")"
   ]
  },
  {
   "cell_type": "code",
   "execution_count": 3,
   "id": "1ee90849-e81c-4384-abc5-41bb565340f1",
   "metadata": {},
   "outputs": [],
   "source": [
    "import pandas as pd\n",
    "\n",
    "house_prices = pd.read_csv (\"AVG House Prices.csv\")\n",
    "\n",
    "boe_interest_rates = pd.read_csv (\"Bank Rate history and data  Bank of England Database.csv\")\n"
   ]
  },
  {
   "cell_type": "code",
   "execution_count": 4,
   "id": "aecd5cd1-b992-4a4b-93c5-f9cd0f8dab1f",
   "metadata": {},
   "outputs": [
    {
     "data": {
      "text/html": [
       "<div>\n",
       "<style scoped>\n",
       "    .dataframe tbody tr th:only-of-type {\n",
       "        vertical-align: middle;\n",
       "    }\n",
       "\n",
       "    .dataframe tbody tr th {\n",
       "        vertical-align: top;\n",
       "    }\n",
       "\n",
       "    .dataframe thead th {\n",
       "        text-align: right;\n",
       "    }\n",
       "</style>\n",
       "<table border=\"1\" class=\"dataframe\">\n",
       "  <thead>\n",
       "    <tr style=\"text-align: right;\">\n",
       "      <th></th>\n",
       "      <th>Date Changed</th>\n",
       "      <th>Rate</th>\n",
       "    </tr>\n",
       "  </thead>\n",
       "  <tbody>\n",
       "    <tr>\n",
       "      <th>247</th>\n",
       "      <td>10 Mar 75</td>\n",
       "      <td>10.25</td>\n",
       "    </tr>\n",
       "    <tr>\n",
       "      <th>248</th>\n",
       "      <td>17 Feb 75</td>\n",
       "      <td>10.50</td>\n",
       "    </tr>\n",
       "    <tr>\n",
       "      <th>249</th>\n",
       "      <td>10 Feb 75</td>\n",
       "      <td>10.75</td>\n",
       "    </tr>\n",
       "    <tr>\n",
       "      <th>250</th>\n",
       "      <td>27 Jan 75</td>\n",
       "      <td>11.00</td>\n",
       "    </tr>\n",
       "    <tr>\n",
       "      <th>251</th>\n",
       "      <td>20 Jan 75</td>\n",
       "      <td>11.25</td>\n",
       "    </tr>\n",
       "  </tbody>\n",
       "</table>\n",
       "</div>"
      ],
      "text/plain": [
       "    Date Changed   Rate\n",
       "247    10 Mar 75  10.25\n",
       "248    17 Feb 75  10.50\n",
       "249    10 Feb 75  10.75\n",
       "250    27 Jan 75  11.00\n",
       "251    20 Jan 75  11.25"
      ]
     },
     "execution_count": 4,
     "metadata": {},
     "output_type": "execute_result"
    }
   ],
   "source": [
    "boe_interest_rates.tail()"
   ]
  },
  {
   "cell_type": "markdown",
   "id": "868d3d56-511c-4c27-ab07-3b256c89ec28",
   "metadata": {
    "tags": []
   },
   "source": [
    "# Cleansing House Prices data "
   ]
  },
  {
   "cell_type": "code",
   "execution_count": 7,
   "id": "8bb756f2-2580-43de-8895-78e9cf7b3f87",
   "metadata": {},
   "outputs": [],
   "source": [
    "house_prices_pivotted = house_prices.pivot(index='Date', columns='Region_Name', values='Average_Price')\n",
    "\n",
    "house_prices_pivotted = house_prices_pivotted.rename_axis(None).rename_axis(None, axis=1)\n",
    "\n",
    "house_prices_pivotted.index.name = \"Date\"\n",
    "\n",
    "house_prices_pivotted.index = pd.to_datetime(house_prices_pivotted.index).strftime('%Y')\n",
    "\n",
    "uk_house_prices = house_prices_pivotted[[\"United Kingdom\"]]\n",
    "\n",
    "uk_house_prices = uk_house_prices.groupby('Date').mean()\n",
    "\n",
    "uk_house_prices.index = uk_house_prices.index.astype('int64') \n",
    "\n",
    "uk_house_prices.rename(columns={\"United Kingdom\": \"house_prices\"}, inplace=True)\n"
   ]
  },
  {
   "cell_type": "markdown",
   "id": "620f4c3d-6f40-4019-b597-32ef034e6f05",
   "metadata": {},
   "source": [
    "# Cleansing BOE Interest Rate "
   ]
  },
  {
   "cell_type": "code",
   "execution_count": 9,
   "id": "4aec4db6-9449-46a8-a15e-2e7e03b221d1",
   "metadata": {
    "scrolled": true
   },
   "outputs": [
    {
     "name": "stderr",
     "output_type": "stream",
     "text": [
      "/var/folders/5k/0mrs71sj38b3m6trnqsfqlx00000gp/T/ipykernel_47850/4084042211.py:3: UserWarning: Could not infer format, so each element will be parsed individually, falling back to `dateutil`. To ensure parsing is consistent and as-expected, please specify a format.\n",
      "  boe_interest_rates.index = pd.to_datetime(boe_interest_rates.index).strftime('%Y')\n"
     ]
    },
    {
     "data": {
      "text/html": [
       "<div>\n",
       "<style scoped>\n",
       "    .dataframe tbody tr th:only-of-type {\n",
       "        vertical-align: middle;\n",
       "    }\n",
       "\n",
       "    .dataframe tbody tr th {\n",
       "        vertical-align: top;\n",
       "    }\n",
       "\n",
       "    .dataframe thead th {\n",
       "        text-align: right;\n",
       "    }\n",
       "</style>\n",
       "<table border=\"1\" class=\"dataframe\">\n",
       "  <thead>\n",
       "    <tr style=\"text-align: right;\">\n",
       "      <th></th>\n",
       "      <th>interest_rate</th>\n",
       "    </tr>\n",
       "    <tr>\n",
       "      <th>Date Changed</th>\n",
       "      <th></th>\n",
       "    </tr>\n",
       "  </thead>\n",
       "  <tbody>\n",
       "    <tr>\n",
       "      <th>2018</th>\n",
       "      <td>0.750</td>\n",
       "    </tr>\n",
       "    <tr>\n",
       "      <th>2020</th>\n",
       "      <td>0.175</td>\n",
       "    </tr>\n",
       "    <tr>\n",
       "      <th>2021</th>\n",
       "      <td>0.250</td>\n",
       "    </tr>\n",
       "    <tr>\n",
       "      <th>2022</th>\n",
       "      <td>1.750</td>\n",
       "    </tr>\n",
       "    <tr>\n",
       "      <th>2023</th>\n",
       "      <td>4.600</td>\n",
       "    </tr>\n",
       "  </tbody>\n",
       "</table>\n",
       "</div>"
      ],
      "text/plain": [
       "              interest_rate\n",
       "Date Changed               \n",
       "2018                  0.750\n",
       "2020                  0.175\n",
       "2021                  0.250\n",
       "2022                  1.750\n",
       "2023                  4.600"
      ]
     },
     "execution_count": 9,
     "metadata": {},
     "output_type": "execute_result"
    }
   ],
   "source": [
    "boe_interest_rates = boe_interest_rates.set_index (\"Date Changed\")\n",
    "\n",
    "boe_interest_rates.index = pd.to_datetime(boe_interest_rates.index).strftime('%Y')\n",
    "\n",
    "boe_interest_rates = boe_interest_rates.groupby('Date Changed').mean()\n",
    "\n",
    "boe_interest_rates.rename(columns={\"Rate\": \"interest_rate\"}, inplace=True)\n",
    "\n",
    "boe_interest_rates.tail()\n"
   ]
  },
  {
   "cell_type": "markdown",
   "id": "4e0d5938-51c6-4f33-935c-8be729b4ea01",
   "metadata": {},
   "source": [
    "# Inputing missing values, where interest rate is unchanged"
   ]
  },
  {
   "cell_type": "code",
   "execution_count": 13,
   "id": "9bb841c0-213e-414b-bbce-d7c262720890",
   "metadata": {},
   "outputs": [
    {
     "data": {
      "text/html": [
       "<div>\n",
       "<style scoped>\n",
       "    .dataframe tbody tr th:only-of-type {\n",
       "        vertical-align: middle;\n",
       "    }\n",
       "\n",
       "    .dataframe tbody tr th {\n",
       "        vertical-align: top;\n",
       "    }\n",
       "\n",
       "    .dataframe thead th {\n",
       "        text-align: right;\n",
       "    }\n",
       "</style>\n",
       "<table border=\"1\" class=\"dataframe\">\n",
       "  <thead>\n",
       "    <tr style=\"text-align: right;\">\n",
       "      <th></th>\n",
       "      <th>interest_rate</th>\n",
       "    </tr>\n",
       "    <tr>\n",
       "      <th>Year</th>\n",
       "      <th></th>\n",
       "    </tr>\n",
       "  </thead>\n",
       "  <tbody>\n",
       "    <tr>\n",
       "      <th>2010</th>\n",
       "      <td>0.500000</td>\n",
       "    </tr>\n",
       "    <tr>\n",
       "      <th>2011</th>\n",
       "      <td>0.500000</td>\n",
       "    </tr>\n",
       "    <tr>\n",
       "      <th>2012</th>\n",
       "      <td>0.500000</td>\n",
       "    </tr>\n",
       "    <tr>\n",
       "      <th>2013</th>\n",
       "      <td>0.500000</td>\n",
       "    </tr>\n",
       "    <tr>\n",
       "      <th>2014</th>\n",
       "      <td>0.500000</td>\n",
       "    </tr>\n",
       "    <tr>\n",
       "      <th>2015</th>\n",
       "      <td>0.500000</td>\n",
       "    </tr>\n",
       "    <tr>\n",
       "      <th>2019</th>\n",
       "      <td>0.750000</td>\n",
       "    </tr>\n",
       "    <tr>\n",
       "      <th>2002</th>\n",
       "      <td>4.964286</td>\n",
       "    </tr>\n",
       "  </tbody>\n",
       "</table>\n",
       "</div>"
      ],
      "text/plain": [
       "      interest_rate\n",
       "Year               \n",
       "2010       0.500000\n",
       "2011       0.500000\n",
       "2012       0.500000\n",
       "2013       0.500000\n",
       "2014       0.500000\n",
       "2015       0.500000\n",
       "2019       0.750000\n",
       "2002       4.964286"
      ]
     },
     "execution_count": 13,
     "metadata": {},
     "output_type": "execute_result"
    }
   ],
   "source": [
    "data = {\n",
    "    'Year': [2010, 2011, 2012, 2013, 2014, 2015, 2019, 2002],\n",
    "    'interest_rate': [0.5, 0.5, 0.5, 0.5, 0.5, 0.5, 0.750000, 4.964286],\n",
    "}\n",
    "\n",
    "df = pd.DataFrame(data)\n",
    "\n",
    "df = df.set_index(['Year'])\n",
    "\n",
    "df.head(20)\n"
   ]
  },
  {
   "cell_type": "code",
   "execution_count": 15,
   "id": "3cc56327-8134-422d-9696-a8b721ea4104",
   "metadata": {
    "scrolled": true
   },
   "outputs": [
    {
     "data": {
      "text/html": [
       "<div>\n",
       "<style scoped>\n",
       "    .dataframe tbody tr th:only-of-type {\n",
       "        vertical-align: middle;\n",
       "    }\n",
       "\n",
       "    .dataframe tbody tr th {\n",
       "        vertical-align: top;\n",
       "    }\n",
       "\n",
       "    .dataframe thead th {\n",
       "        text-align: right;\n",
       "    }\n",
       "</style>\n",
       "<table border=\"1\" class=\"dataframe\">\n",
       "  <thead>\n",
       "    <tr style=\"text-align: right;\">\n",
       "      <th></th>\n",
       "      <th>interest_rate</th>\n",
       "    </tr>\n",
       "  </thead>\n",
       "  <tbody>\n",
       "    <tr>\n",
       "      <th>1975</th>\n",
       "      <td>10.846154</td>\n",
       "    </tr>\n",
       "    <tr>\n",
       "      <th>1976</th>\n",
       "      <td>11.678571</td>\n",
       "    </tr>\n",
       "    <tr>\n",
       "      <th>1977</th>\n",
       "      <td>8.960526</td>\n",
       "    </tr>\n",
       "    <tr>\n",
       "      <th>1978</th>\n",
       "      <td>9.041667</td>\n",
       "    </tr>\n",
       "    <tr>\n",
       "      <th>1979</th>\n",
       "      <td>14.000000</td>\n",
       "    </tr>\n",
       "  </tbody>\n",
       "</table>\n",
       "</div>"
      ],
      "text/plain": [
       "      interest_rate\n",
       "1975      10.846154\n",
       "1976      11.678571\n",
       "1977       8.960526\n",
       "1978       9.041667\n",
       "1979      14.000000"
      ]
     },
     "execution_count": 15,
     "metadata": {},
     "output_type": "execute_result"
    }
   ],
   "source": [
    "boe_interest_rates = pd.concat([boe_interest_rates, df])\n",
    "\n",
    "boe_interest_rates.index = boe_interest_rates.index.astype('int64') \n",
    "\n",
    "boe_interest_rates = boe_interest_rates.sort_index()\n",
    "\n",
    "boe_interest_rates.head()"
   ]
  },
  {
   "cell_type": "markdown",
   "id": "4a15ee63-fa3a-4271-8b70-00970ee697be",
   "metadata": {},
   "source": [
    "# Merging House Prices to Interest Rates"
   ]
  },
  {
   "cell_type": "code",
   "execution_count": 17,
   "id": "9f3d2187-64e5-4c34-955d-bb65c202d1be",
   "metadata": {},
   "outputs": [],
   "source": [
    "merged_data = boe_interest_rates.merge(uk_house_prices, how=\"left\", left_index=True, right_index=True)"
   ]
  },
  {
   "cell_type": "markdown",
   "id": "0d57abcf-49e5-42ed-8536-e85c3fb16b0b",
   "metadata": {},
   "source": [
    "# Plotting the Data (with no transformations)"
   ]
  },
  {
   "cell_type": "code",
   "execution_count": 19,
   "id": "eba590c5-7159-4b53-94be-fcb4067e3451",
   "metadata": {},
   "outputs": [
    {
     "data": {
      "image/png": "[encoded data removed]",
      "text/plain": [
       "<Figure size 1500x900 with 1 Axes>"
      ]
     },
     "metadata": {},
     "output_type": "display_data"
    }
   ],
   "source": [
    "import matplotlib.pyplot as plt\n",
    "import numpy as np\n",
    "from matplotlib import ticker\n",
    "fig,ax = plt.subplots(figsize=(15,9))\n",
    "\n",
    "\n",
    "#plt.plot(merged_data.index, merged_data['interest_rate'], label = \"interest_rate\", linestyle = 'dashed', linewidth = '1.8', c='g')\n",
    "\n",
    "plt.plot(merged_data.index, merged_data['house_prices'], label = \"house_prices\", linestyle = 'dashed', linewidth = '2.4', c='b')\n",
    "\n",
    "import matplotlib as mpl\n",
    "from matplotlib import rc\n",
    "ax.yaxis.set_major_formatter(mpl.ticker.StrMethodFormatter('{x:,.0f}'))\n",
    "\n",
    "\n",
    "\n",
    "plt.xticks(rotation=70, size=8)\n",
    "\n",
    "plt.xlabel(\"Year\")\n",
    "plt.ylabel(\"Value (in GBP)\")\n",
    "\n",
    "\n",
    "plt.xticks(rotation=70, size=10)\n",
    "\n",
    "plt.xticks(np.arange(1975, 2024, step=1))\n",
    "\n",
    "\n",
    "ax.spines['top'].set_visible(False)\n",
    "\n",
    "ax.spines['right'].set_visible(False)\n",
    "\n",
    "plt.margins(x=0)\n",
    "\n",
    "ax.xaxis.labelpad=30\n",
    "\n",
    "ax.yaxis.labelpad=30\n",
    "\n",
    "\n",
    "plt.rcParams.update({'font.size': 22})\n",
    "\n",
    "plt.xticks(fontsize=15)\n",
    "\n",
    "plt.grid(color='grey', linestyle='-', linewidth=0.25, alpha=1)\n",
    "\n",
    "from matplotlib import rc\n",
    "rc('font',**{'family':'sans-serif','sans-serif':['Helvetica']})\n",
    "rc('font',**{'family':'serif','serif':['Times']})\n",
    "rc('text', usetex=True)\n",
    "\n",
    "\n",
    "\n",
    "#plt.legend()\n",
    "\n",
    "plt.show()\n",
    "\n",
    "\n"
   ]
  },
  {
   "cell_type": "markdown",
   "id": "7291f1ae-5941-461e-b945-a98c2945c98d",
   "metadata": {},
   "source": [
    "# Plotting the Data - With Logged House Prices"
   ]
  },
  {
   "cell_type": "code",
   "execution_count": 21,
   "id": "496c40bf-a6db-4d0d-8fab-f8c114d56ef5",
   "metadata": {},
   "outputs": [
    {
     "ename": "RuntimeError",
     "evalue": "Failed to process string with tex because latex could not be found",
     "output_type": "error",
     "traceback": [
      "\u001b[0;31m---------------------------------------------------------------------------\u001b[0m",
      "\u001b[0;31mFileNotFoundError\u001b[0m                         Traceback (most recent call last)",
      "File \u001b[0;32m/opt/anaconda3/lib/python3.12/site-packages/matplotlib/texmanager.py:250\u001b[0m, in \u001b[0;36mTexManager._run_checked_subprocess\u001b[0;34m(cls, command, tex, cwd)\u001b[0m\n\u001b[1;32m    249\u001b[0m \u001b[38;5;28;01mtry\u001b[39;00m:\n\u001b[0;32m--> 250\u001b[0m     report \u001b[38;5;241m=\u001b[39m subprocess\u001b[38;5;241m.\u001b[39mcheck_output(\n\u001b[1;32m    251\u001b[0m         command, cwd\u001b[38;5;241m=\u001b[39mcwd \u001b[38;5;28;01mif\u001b[39;00m cwd \u001b[38;5;129;01mis\u001b[39;00m \u001b[38;5;129;01mnot\u001b[39;00m \u001b[38;5;28;01mNone\u001b[39;00m \u001b[38;5;28;01melse\u001b[39;00m \u001b[38;5;28mcls\u001b[39m\u001b[38;5;241m.\u001b[39m_texcache,\n\u001b[1;32m    252\u001b[0m         stderr\u001b[38;5;241m=\u001b[39msubprocess\u001b[38;5;241m.\u001b[39mSTDOUT)\n\u001b[1;32m    253\u001b[0m \u001b[38;5;28;01mexcept\u001b[39;00m \u001b[38;5;167;01mFileNotFoundError\u001b[39;00m \u001b[38;5;28;01mas\u001b[39;00m exc:\n",
      "File \u001b[0;32m/opt/anaconda3/lib/python3.12/subprocess.py:466\u001b[0m, in \u001b[0;36mcheck_output\u001b[0;34m(timeout, *popenargs, **kwargs)\u001b[0m\n\u001b[1;32m    464\u001b[0m     kwargs[\u001b[38;5;124m'\u001b[39m\u001b[38;5;124minput\u001b[39m\u001b[38;5;124m'\u001b[39m] \u001b[38;5;241m=\u001b[39m empty\n\u001b[0;32m--> 466\u001b[0m \u001b[38;5;28;01mreturn\u001b[39;00m run(\u001b[38;5;241m*\u001b[39mpopenargs, stdout\u001b[38;5;241m=\u001b[39mPIPE, timeout\u001b[38;5;241m=\u001b[39mtimeout, check\u001b[38;5;241m=\u001b[39m\u001b[38;5;28;01mTrue\u001b[39;00m,\n\u001b[1;32m    467\u001b[0m            \u001b[38;5;241m*\u001b[39m\u001b[38;5;241m*\u001b[39mkwargs)\u001b[38;5;241m.\u001b[39mstdout\n",
      "File \u001b[0;32m/opt/anaconda3/lib/python3.12/subprocess.py:548\u001b[0m, in \u001b[0;36mrun\u001b[0;34m(input, capture_output, timeout, check, *popenargs, **kwargs)\u001b[0m\n\u001b[1;32m    546\u001b[0m     kwargs[\u001b[38;5;124m'\u001b[39m\u001b[38;5;124mstderr\u001b[39m\u001b[38;5;124m'\u001b[39m] \u001b[38;5;241m=\u001b[39m PIPE\n\u001b[0;32m--> 548\u001b[0m \u001b[38;5;28;01mwith\u001b[39;00m Popen(\u001b[38;5;241m*\u001b[39mpopenargs, \u001b[38;5;241m*\u001b[39m\u001b[38;5;241m*\u001b[39mkwargs) \u001b[38;5;28;01mas\u001b[39;00m process:\n\u001b[1;32m    549\u001b[0m     \u001b[38;5;28;01mtry\u001b[39;00m:\n",
      "File \u001b[0;32m/opt/anaconda3/lib/python3.12/subprocess.py:1026\u001b[0m, in \u001b[0;36mPopen.__init__\u001b[0;34m(self, args, bufsize, executable, stdin, stdout, stderr, preexec_fn, close_fds, shell, cwd, env, universal_newlines, startupinfo, creationflags, restore_signals, start_new_session, pass_fds, user, group, extra_groups, encoding, errors, text, umask, pipesize, process_group)\u001b[0m\n\u001b[1;32m   1023\u001b[0m             \u001b[38;5;28mself\u001b[39m\u001b[38;5;241m.\u001b[39mstderr \u001b[38;5;241m=\u001b[39m io\u001b[38;5;241m.\u001b[39mTextIOWrapper(\u001b[38;5;28mself\u001b[39m\u001b[38;5;241m.\u001b[39mstderr,\n\u001b[1;32m   1024\u001b[0m                     encoding\u001b[38;5;241m=\u001b[39mencoding, errors\u001b[38;5;241m=\u001b[39merrors)\n\u001b[0;32m-> 1026\u001b[0m     \u001b[38;5;28mself\u001b[39m\u001b[38;5;241m.\u001b[39m_execute_child(args, executable, preexec_fn, close_fds,\n\u001b[1;32m   1027\u001b[0m                         pass_fds, cwd, env,\n\u001b[1;32m   1028\u001b[0m                         startupinfo, creationflags, shell,\n\u001b[1;32m   1029\u001b[0m                         p2cread, p2cwrite,\n\u001b[1;32m   1030\u001b[0m                         c2pread, c2pwrite,\n\u001b[1;32m   1031\u001b[0m                         errread, errwrite,\n\u001b[1;32m   1032\u001b[0m                         restore_signals,\n\u001b[1;32m   1033\u001b[0m                         gid, gids, uid, umask,\n\u001b[1;32m   1034\u001b[0m                         start_new_session, process_group)\n\u001b[1;32m   1035\u001b[0m \u001b[38;5;28;01mexcept\u001b[39;00m:\n\u001b[1;32m   1036\u001b[0m     \u001b[38;5;66;03m# Cleanup if the child failed starting.\u001b[39;00m\n",
      "File \u001b[0;32m/opt/anaconda3/lib/python3.12/subprocess.py:1955\u001b[0m, in \u001b[0;36mPopen._execute_child\u001b[0;34m(self, args, executable, preexec_fn, close_fds, pass_fds, cwd, env, startupinfo, creationflags, shell, p2cread, p2cwrite, c2pread, c2pwrite, errread, errwrite, restore_signals, gid, gids, uid, umask, start_new_session, process_group)\u001b[0m\n\u001b[1;32m   1954\u001b[0m \u001b[38;5;28;01mif\u001b[39;00m err_filename \u001b[38;5;129;01mis\u001b[39;00m \u001b[38;5;129;01mnot\u001b[39;00m \u001b[38;5;28;01mNone\u001b[39;00m:\n\u001b[0;32m-> 1955\u001b[0m     \u001b[38;5;28;01mraise\u001b[39;00m child_exception_type(errno_num, err_msg, err_filename)\n\u001b[1;32m   1956\u001b[0m \u001b[38;5;28;01melse\u001b[39;00m:\n",
      "\u001b[0;31mFileNotFoundError\u001b[0m: [Errno 2] No such file or directory: 'latex'",
      "\nThe above exception was the direct cause of the following exception:\n",
      "\u001b[0;31mRuntimeError\u001b[0m                              Traceback (most recent call last)",
      "File \u001b[0;32m/opt/anaconda3/lib/python3.12/site-packages/IPython/core/formatters.py:343\u001b[0m, in \u001b[0;36mBaseFormatter.__call__\u001b[0;34m(self, obj)\u001b[0m\n\u001b[1;32m    341\u001b[0m     \u001b[38;5;28;01mpass\u001b[39;00m\n\u001b[1;32m    342\u001b[0m \u001b[38;5;28;01melse\u001b[39;00m:\n\u001b[0;32m--> 343\u001b[0m     \u001b[38;5;28;01mreturn\u001b[39;00m printer(obj)\n\u001b[1;32m    344\u001b[0m \u001b[38;5;66;03m# Finally look for special method names\u001b[39;00m\n\u001b[1;32m    345\u001b[0m method \u001b[38;5;241m=\u001b[39m get_real_method(obj, \u001b[38;5;28mself\u001b[39m\u001b[38;5;241m.\u001b[39mprint_method)\n",
      "File \u001b[0;32m/opt/anaconda3/lib/python3.12/site-packages/IPython/core/pylabtools.py:170\u001b[0m, in \u001b[0;36mprint_figure\u001b[0;34m(fig, fmt, bbox_inches, base64, **kwargs)\u001b[0m\n\u001b[1;32m    167\u001b[0m     \u001b[38;5;28;01mfrom\u001b[39;00m \u001b[38;5;21;01mmatplotlib\u001b[39;00m\u001b[38;5;21;01m.\u001b[39;00m\u001b[38;5;21;01mbackend_bases\u001b[39;00m \u001b[38;5;28;01mimport\u001b[39;00m FigureCanvasBase\n\u001b[1;32m    168\u001b[0m     FigureCanvasBase(fig)\n\u001b[0;32m--> 170\u001b[0m fig\u001b[38;5;241m.\u001b[39mcanvas\u001b[38;5;241m.\u001b[39mprint_figure(bytes_io, \u001b[38;5;241m*\u001b[39m\u001b[38;5;241m*\u001b[39mkw)\n\u001b[1;32m    171\u001b[0m data \u001b[38;5;241m=\u001b[39m bytes_io\u001b[38;5;241m.\u001b[39mgetvalue()\n\u001b[1;32m    172\u001b[0m \u001b[38;5;28;01mif\u001b[39;00m fmt \u001b[38;5;241m==\u001b[39m \u001b[38;5;124m'\u001b[39m\u001b[38;5;124msvg\u001b[39m\u001b[38;5;124m'\u001b[39m:\n",
      "File \u001b[0;32m/opt/anaconda3/lib/python3.12/site-packages/matplotlib/backend_bases.py:2164\u001b[0m, in \u001b[0;36mFigureCanvasBase.print_figure\u001b[0;34m(self, filename, dpi, facecolor, edgecolor, orientation, format, bbox_inches, pad_inches, bbox_extra_artists, backend, **kwargs)\u001b[0m\n\u001b[1;32m   2161\u001b[0m     \u001b[38;5;66;03m# we do this instead of `self.figure.draw_without_rendering`\u001b[39;00m\n\u001b[1;32m   2162\u001b[0m     \u001b[38;5;66;03m# so that we can inject the orientation\u001b[39;00m\n\u001b[1;32m   2163\u001b[0m     \u001b[38;5;28;01mwith\u001b[39;00m \u001b[38;5;28mgetattr\u001b[39m(renderer, \u001b[38;5;124m\"\u001b[39m\u001b[38;5;124m_draw_disabled\u001b[39m\u001b[38;5;124m\"\u001b[39m, nullcontext)():\n\u001b[0;32m-> 2164\u001b[0m         \u001b[38;5;28mself\u001b[39m\u001b[38;5;241m.\u001b[39mfigure\u001b[38;5;241m.\u001b[39mdraw(renderer)\n\u001b[1;32m   2165\u001b[0m \u001b[38;5;28;01mif\u001b[39;00m bbox_inches:\n\u001b[1;32m   2166\u001b[0m     \u001b[38;5;28;01mif\u001b[39;00m bbox_inches \u001b[38;5;241m==\u001b[39m \u001b[38;5;124m\"\u001b[39m\u001b[38;5;124mtight\u001b[39m\u001b[38;5;124m\"\u001b[39m:\n",
      "File \u001b[0;32m/opt/anaconda3/lib/python3.12/site-packages/matplotlib/artist.py:95\u001b[0m, in \u001b[0;36m_finalize_rasterization.<locals>.draw_wrapper\u001b[0;34m(artist, renderer, *args, **kwargs)\u001b[0m\n\u001b[1;32m     93\u001b[0m \u001b[38;5;129m@wraps\u001b[39m(draw)\n\u001b[1;32m     94\u001b[0m \u001b[38;5;28;01mdef\u001b[39;00m \u001b[38;5;21mdraw_wrapper\u001b[39m(artist, renderer, \u001b[38;5;241m*\u001b[39margs, \u001b[38;5;241m*\u001b[39m\u001b[38;5;241m*\u001b[39mkwargs):\n\u001b[0;32m---> 95\u001b[0m     result \u001b[38;5;241m=\u001b[39m draw(artist, renderer, \u001b[38;5;241m*\u001b[39margs, \u001b[38;5;241m*\u001b[39m\u001b[38;5;241m*\u001b[39mkwargs)\n\u001b[1;32m     96\u001b[0m     \u001b[38;5;28;01mif\u001b[39;00m renderer\u001b[38;5;241m.\u001b[39m_rasterizing:\n\u001b[1;32m     97\u001b[0m         renderer\u001b[38;5;241m.\u001b[39mstop_rasterizing()\n",
      "File \u001b[0;32m/opt/anaconda3/lib/python3.12/site-packages/matplotlib/artist.py:72\u001b[0m, in \u001b[0;36mallow_rasterization.<locals>.draw_wrapper\u001b[0;34m(artist, renderer)\u001b[0m\n\u001b[1;32m     69\u001b[0m     \u001b[38;5;28;01mif\u001b[39;00m artist\u001b[38;5;241m.\u001b[39mget_agg_filter() \u001b[38;5;129;01mis\u001b[39;00m \u001b[38;5;129;01mnot\u001b[39;00m \u001b[38;5;28;01mNone\u001b[39;00m:\n\u001b[1;32m     70\u001b[0m         renderer\u001b[38;5;241m.\u001b[39mstart_filter()\n\u001b[0;32m---> 72\u001b[0m     \u001b[38;5;28;01mreturn\u001b[39;00m draw(artist, renderer)\n\u001b[1;32m     73\u001b[0m \u001b[38;5;28;01mfinally\u001b[39;00m:\n\u001b[1;32m     74\u001b[0m     \u001b[38;5;28;01mif\u001b[39;00m artist\u001b[38;5;241m.\u001b[39mget_agg_filter() \u001b[38;5;129;01mis\u001b[39;00m \u001b[38;5;129;01mnot\u001b[39;00m \u001b[38;5;28;01mNone\u001b[39;00m:\n",
      "File \u001b[0;32m/opt/anaconda3/lib/python3.12/site-packages/matplotlib/figure.py:3154\u001b[0m, in \u001b[0;36mFigure.draw\u001b[0;34m(self, renderer)\u001b[0m\n\u001b[1;32m   3151\u001b[0m         \u001b[38;5;66;03m# ValueError can occur when resizing a window.\u001b[39;00m\n\u001b[1;32m   3153\u001b[0m \u001b[38;5;28mself\u001b[39m\u001b[38;5;241m.\u001b[39mpatch\u001b[38;5;241m.\u001b[39mdraw(renderer)\n\u001b[0;32m-> 3154\u001b[0m mimage\u001b[38;5;241m.\u001b[39m_draw_list_compositing_images(\n\u001b[1;32m   3155\u001b[0m     renderer, \u001b[38;5;28mself\u001b[39m, artists, \u001b[38;5;28mself\u001b[39m\u001b[38;5;241m.\u001b[39msuppressComposite)\n\u001b[1;32m   3157\u001b[0m \u001b[38;5;28;01mfor\u001b[39;00m sfig \u001b[38;5;129;01min\u001b[39;00m \u001b[38;5;28mself\u001b[39m\u001b[38;5;241m.\u001b[39msubfigs:\n\u001b[1;32m   3158\u001b[0m     sfig\u001b[38;5;241m.\u001b[39mdraw(renderer)\n",
      "File \u001b[0;32m/opt/anaconda3/lib/python3.12/site-packages/matplotlib/image.py:132\u001b[0m, in \u001b[0;36m_draw_list_compositing_images\u001b[0;34m(renderer, parent, artists, suppress_composite)\u001b[0m\n\u001b[1;32m    130\u001b[0m \u001b[38;5;28;01mif\u001b[39;00m not_composite \u001b[38;5;129;01mor\u001b[39;00m \u001b[38;5;129;01mnot\u001b[39;00m has_images:\n\u001b[1;32m    131\u001b[0m     \u001b[38;5;28;01mfor\u001b[39;00m a \u001b[38;5;129;01min\u001b[39;00m artists:\n\u001b[0;32m--> 132\u001b[0m         a\u001b[38;5;241m.\u001b[39mdraw(renderer)\n\u001b[1;32m    133\u001b[0m \u001b[38;5;28;01melse\u001b[39;00m:\n\u001b[1;32m    134\u001b[0m     \u001b[38;5;66;03m# Composite any adjacent images together\u001b[39;00m\n\u001b[1;32m    135\u001b[0m     image_group \u001b[38;5;241m=\u001b[39m []\n",
      "File \u001b[0;32m/opt/anaconda3/lib/python3.12/site-packages/matplotlib/artist.py:72\u001b[0m, in \u001b[0;36mallow_rasterization.<locals>.draw_wrapper\u001b[0;34m(artist, renderer)\u001b[0m\n\u001b[1;32m     69\u001b[0m     \u001b[38;5;28;01mif\u001b[39;00m artist\u001b[38;5;241m.\u001b[39mget_agg_filter() \u001b[38;5;129;01mis\u001b[39;00m \u001b[38;5;129;01mnot\u001b[39;00m \u001b[38;5;28;01mNone\u001b[39;00m:\n\u001b[1;32m     70\u001b[0m         renderer\u001b[38;5;241m.\u001b[39mstart_filter()\n\u001b[0;32m---> 72\u001b[0m     \u001b[38;5;28;01mreturn\u001b[39;00m draw(artist, renderer)\n\u001b[1;32m     73\u001b[0m \u001b[38;5;28;01mfinally\u001b[39;00m:\n\u001b[1;32m     74\u001b[0m     \u001b[38;5;28;01mif\u001b[39;00m artist\u001b[38;5;241m.\u001b[39mget_agg_filter() \u001b[38;5;129;01mis\u001b[39;00m \u001b[38;5;129;01mnot\u001b[39;00m \u001b[38;5;28;01mNone\u001b[39;00m:\n",
      "File \u001b[0;32m/opt/anaconda3/lib/python3.12/site-packages/matplotlib/axes/_base.py:3070\u001b[0m, in \u001b[0;36m_AxesBase.draw\u001b[0;34m(self, renderer)\u001b[0m\n\u001b[1;32m   3067\u001b[0m \u001b[38;5;28;01mif\u001b[39;00m artists_rasterized:\n\u001b[1;32m   3068\u001b[0m     _draw_rasterized(\u001b[38;5;28mself\u001b[39m\u001b[38;5;241m.\u001b[39mfigure, artists_rasterized, renderer)\n\u001b[0;32m-> 3070\u001b[0m mimage\u001b[38;5;241m.\u001b[39m_draw_list_compositing_images(\n\u001b[1;32m   3071\u001b[0m     renderer, \u001b[38;5;28mself\u001b[39m, artists, \u001b[38;5;28mself\u001b[39m\u001b[38;5;241m.\u001b[39mfigure\u001b[38;5;241m.\u001b[39msuppressComposite)\n\u001b[1;32m   3073\u001b[0m renderer\u001b[38;5;241m.\u001b[39mclose_group(\u001b[38;5;124m'\u001b[39m\u001b[38;5;124maxes\u001b[39m\u001b[38;5;124m'\u001b[39m)\n\u001b[1;32m   3074\u001b[0m \u001b[38;5;28mself\u001b[39m\u001b[38;5;241m.\u001b[39mstale \u001b[38;5;241m=\u001b[39m \u001b[38;5;28;01mFalse\u001b[39;00m\n",
      "File \u001b[0;32m/opt/anaconda3/lib/python3.12/site-packages/matplotlib/image.py:132\u001b[0m, in \u001b[0;36m_draw_list_compositing_images\u001b[0;34m(renderer, parent, artists, suppress_composite)\u001b[0m\n\u001b[1;32m    130\u001b[0m \u001b[38;5;28;01mif\u001b[39;00m not_composite \u001b[38;5;129;01mor\u001b[39;00m \u001b[38;5;129;01mnot\u001b[39;00m has_images:\n\u001b[1;32m    131\u001b[0m     \u001b[38;5;28;01mfor\u001b[39;00m a \u001b[38;5;129;01min\u001b[39;00m artists:\n\u001b[0;32m--> 132\u001b[0m         a\u001b[38;5;241m.\u001b[39mdraw(renderer)\n\u001b[1;32m    133\u001b[0m \u001b[38;5;28;01melse\u001b[39;00m:\n\u001b[1;32m    134\u001b[0m     \u001b[38;5;66;03m# Composite any adjacent images together\u001b[39;00m\n\u001b[1;32m    135\u001b[0m     image_group \u001b[38;5;241m=\u001b[39m []\n",
      "File \u001b[0;32m/opt/anaconda3/lib/python3.12/site-packages/matplotlib/artist.py:72\u001b[0m, in \u001b[0;36mallow_rasterization.<locals>.draw_wrapper\u001b[0;34m(artist, renderer)\u001b[0m\n\u001b[1;32m     69\u001b[0m     \u001b[38;5;28;01mif\u001b[39;00m artist\u001b[38;5;241m.\u001b[39mget_agg_filter() \u001b[38;5;129;01mis\u001b[39;00m \u001b[38;5;129;01mnot\u001b[39;00m \u001b[38;5;28;01mNone\u001b[39;00m:\n\u001b[1;32m     70\u001b[0m         renderer\u001b[38;5;241m.\u001b[39mstart_filter()\n\u001b[0;32m---> 72\u001b[0m     \u001b[38;5;28;01mreturn\u001b[39;00m draw(artist, renderer)\n\u001b[1;32m     73\u001b[0m \u001b[38;5;28;01mfinally\u001b[39;00m:\n\u001b[1;32m     74\u001b[0m     \u001b[38;5;28;01mif\u001b[39;00m artist\u001b[38;5;241m.\u001b[39mget_agg_filter() \u001b[38;5;129;01mis\u001b[39;00m \u001b[38;5;129;01mnot\u001b[39;00m \u001b[38;5;28;01mNone\u001b[39;00m:\n",
      "File \u001b[0;32m/opt/anaconda3/lib/python3.12/site-packages/matplotlib/axis.py:1388\u001b[0m, in \u001b[0;36mAxis.draw\u001b[0;34m(self, renderer, *args, **kwargs)\u001b[0m\n\u001b[1;32m   1385\u001b[0m renderer\u001b[38;5;241m.\u001b[39mopen_group(\u001b[38;5;18m__name__\u001b[39m, gid\u001b[38;5;241m=\u001b[39m\u001b[38;5;28mself\u001b[39m\u001b[38;5;241m.\u001b[39mget_gid())\n\u001b[1;32m   1387\u001b[0m ticks_to_draw \u001b[38;5;241m=\u001b[39m \u001b[38;5;28mself\u001b[39m\u001b[38;5;241m.\u001b[39m_update_ticks()\n\u001b[0;32m-> 1388\u001b[0m tlb1, tlb2 \u001b[38;5;241m=\u001b[39m \u001b[38;5;28mself\u001b[39m\u001b[38;5;241m.\u001b[39m_get_ticklabel_bboxes(ticks_to_draw, renderer)\n\u001b[1;32m   1390\u001b[0m \u001b[38;5;28;01mfor\u001b[39;00m tick \u001b[38;5;129;01min\u001b[39;00m ticks_to_draw:\n\u001b[1;32m   1391\u001b[0m     tick\u001b[38;5;241m.\u001b[39mdraw(renderer)\n",
      "File \u001b[0;32m/opt/anaconda3/lib/python3.12/site-packages/matplotlib/axis.py:1315\u001b[0m, in \u001b[0;36mAxis._get_ticklabel_bboxes\u001b[0;34m(self, ticks, renderer)\u001b[0m\n\u001b[1;32m   1313\u001b[0m \u001b[38;5;28;01mif\u001b[39;00m renderer \u001b[38;5;129;01mis\u001b[39;00m \u001b[38;5;28;01mNone\u001b[39;00m:\n\u001b[1;32m   1314\u001b[0m     renderer \u001b[38;5;241m=\u001b[39m \u001b[38;5;28mself\u001b[39m\u001b[38;5;241m.\u001b[39mfigure\u001b[38;5;241m.\u001b[39m_get_renderer()\n\u001b[0;32m-> 1315\u001b[0m \u001b[38;5;28;01mreturn\u001b[39;00m ([tick\u001b[38;5;241m.\u001b[39mlabel1\u001b[38;5;241m.\u001b[39mget_window_extent(renderer)\n\u001b[1;32m   1316\u001b[0m          \u001b[38;5;28;01mfor\u001b[39;00m tick \u001b[38;5;129;01min\u001b[39;00m ticks \u001b[38;5;28;01mif\u001b[39;00m tick\u001b[38;5;241m.\u001b[39mlabel1\u001b[38;5;241m.\u001b[39mget_visible()],\n\u001b[1;32m   1317\u001b[0m         [tick\u001b[38;5;241m.\u001b[39mlabel2\u001b[38;5;241m.\u001b[39mget_window_extent(renderer)\n\u001b[1;32m   1318\u001b[0m          \u001b[38;5;28;01mfor\u001b[39;00m tick \u001b[38;5;129;01min\u001b[39;00m ticks \u001b[38;5;28;01mif\u001b[39;00m tick\u001b[38;5;241m.\u001b[39mlabel2\u001b[38;5;241m.\u001b[39mget_visible()])\n",
      "File \u001b[0;32m/opt/anaconda3/lib/python3.12/site-packages/matplotlib/text.py:956\u001b[0m, in \u001b[0;36mText.get_window_extent\u001b[0;34m(self, renderer, dpi)\u001b[0m\n\u001b[1;32m    951\u001b[0m     \u001b[38;5;28;01mraise\u001b[39;00m \u001b[38;5;167;01mRuntimeError\u001b[39;00m(\n\u001b[1;32m    952\u001b[0m         \u001b[38;5;124m\"\u001b[39m\u001b[38;5;124mCannot get window extent of text w/o renderer. You likely \u001b[39m\u001b[38;5;124m\"\u001b[39m\n\u001b[1;32m    953\u001b[0m         \u001b[38;5;124m\"\u001b[39m\u001b[38;5;124mwant to call \u001b[39m\u001b[38;5;124m'\u001b[39m\u001b[38;5;124mfigure.draw_without_rendering()\u001b[39m\u001b[38;5;124m'\u001b[39m\u001b[38;5;124m first.\u001b[39m\u001b[38;5;124m\"\u001b[39m)\n\u001b[1;32m    955\u001b[0m \u001b[38;5;28;01mwith\u001b[39;00m cbook\u001b[38;5;241m.\u001b[39m_setattr_cm(\u001b[38;5;28mself\u001b[39m\u001b[38;5;241m.\u001b[39mfigure, dpi\u001b[38;5;241m=\u001b[39mdpi):\n\u001b[0;32m--> 956\u001b[0m     bbox, info, descent \u001b[38;5;241m=\u001b[39m \u001b[38;5;28mself\u001b[39m\u001b[38;5;241m.\u001b[39m_get_layout(\u001b[38;5;28mself\u001b[39m\u001b[38;5;241m.\u001b[39m_renderer)\n\u001b[1;32m    957\u001b[0m     x, y \u001b[38;5;241m=\u001b[39m \u001b[38;5;28mself\u001b[39m\u001b[38;5;241m.\u001b[39mget_unitless_position()\n\u001b[1;32m    958\u001b[0m     x, y \u001b[38;5;241m=\u001b[39m \u001b[38;5;28mself\u001b[39m\u001b[38;5;241m.\u001b[39mget_transform()\u001b[38;5;241m.\u001b[39mtransform((x, y))\n",
      "File \u001b[0;32m/opt/anaconda3/lib/python3.12/site-packages/matplotlib/text.py:373\u001b[0m, in \u001b[0;36mText._get_layout\u001b[0;34m(self, renderer)\u001b[0m\n\u001b[1;32m    370\u001b[0m ys \u001b[38;5;241m=\u001b[39m []\n\u001b[1;32m    372\u001b[0m \u001b[38;5;66;03m# Full vertical extent of font, including ascenders and descenders:\u001b[39;00m\n\u001b[0;32m--> 373\u001b[0m _, lp_h, lp_d \u001b[38;5;241m=\u001b[39m _get_text_metrics_with_cache(\n\u001b[1;32m    374\u001b[0m     renderer, \u001b[38;5;124m\"\u001b[39m\u001b[38;5;124mlp\u001b[39m\u001b[38;5;124m\"\u001b[39m, \u001b[38;5;28mself\u001b[39m\u001b[38;5;241m.\u001b[39m_fontproperties,\n\u001b[1;32m    375\u001b[0m     ismath\u001b[38;5;241m=\u001b[39m\u001b[38;5;124m\"\u001b[39m\u001b[38;5;124mTeX\u001b[39m\u001b[38;5;124m\"\u001b[39m \u001b[38;5;28;01mif\u001b[39;00m \u001b[38;5;28mself\u001b[39m\u001b[38;5;241m.\u001b[39mget_usetex() \u001b[38;5;28;01melse\u001b[39;00m \u001b[38;5;28;01mFalse\u001b[39;00m, dpi\u001b[38;5;241m=\u001b[39m\u001b[38;5;28mself\u001b[39m\u001b[38;5;241m.\u001b[39mfigure\u001b[38;5;241m.\u001b[39mdpi)\n\u001b[1;32m    376\u001b[0m min_dy \u001b[38;5;241m=\u001b[39m (lp_h \u001b[38;5;241m-\u001b[39m lp_d) \u001b[38;5;241m*\u001b[39m \u001b[38;5;28mself\u001b[39m\u001b[38;5;241m.\u001b[39m_linespacing\n\u001b[1;32m    378\u001b[0m \u001b[38;5;28;01mfor\u001b[39;00m i, line \u001b[38;5;129;01min\u001b[39;00m \u001b[38;5;28menumerate\u001b[39m(lines):\n",
      "File \u001b[0;32m/opt/anaconda3/lib/python3.12/site-packages/matplotlib/text.py:69\u001b[0m, in \u001b[0;36m_get_text_metrics_with_cache\u001b[0;34m(renderer, text, fontprop, ismath, dpi)\u001b[0m\n\u001b[1;32m     66\u001b[0m \u001b[38;5;250m\u001b[39m\u001b[38;5;124;03m\"\"\"Call ``renderer.get_text_width_height_descent``, caching the results.\"\"\"\u001b[39;00m\n\u001b[1;32m     67\u001b[0m \u001b[38;5;66;03m# Cached based on a copy of fontprop so that later in-place mutations of\u001b[39;00m\n\u001b[1;32m     68\u001b[0m \u001b[38;5;66;03m# the passed-in argument do not mess up the cache.\u001b[39;00m\n\u001b[0;32m---> 69\u001b[0m \u001b[38;5;28;01mreturn\u001b[39;00m _get_text_metrics_with_cache_impl(\n\u001b[1;32m     70\u001b[0m     weakref\u001b[38;5;241m.\u001b[39mref(renderer), text, fontprop\u001b[38;5;241m.\u001b[39mcopy(), ismath, dpi)\n",
      "File \u001b[0;32m/opt/anaconda3/lib/python3.12/site-packages/matplotlib/text.py:77\u001b[0m, in \u001b[0;36m_get_text_metrics_with_cache_impl\u001b[0;34m(renderer_ref, text, fontprop, ismath, dpi)\u001b[0m\n\u001b[1;32m     73\u001b[0m \u001b[38;5;129m@functools\u001b[39m\u001b[38;5;241m.\u001b[39mlru_cache(\u001b[38;5;241m4096\u001b[39m)\n\u001b[1;32m     74\u001b[0m \u001b[38;5;28;01mdef\u001b[39;00m \u001b[38;5;21m_get_text_metrics_with_cache_impl\u001b[39m(\n\u001b[1;32m     75\u001b[0m         renderer_ref, text, fontprop, ismath, dpi):\n\u001b[1;32m     76\u001b[0m     \u001b[38;5;66;03m# dpi is unused, but participates in cache invalidation (via the renderer).\u001b[39;00m\n\u001b[0;32m---> 77\u001b[0m     \u001b[38;5;28;01mreturn\u001b[39;00m renderer_ref()\u001b[38;5;241m.\u001b[39mget_text_width_height_descent(text, fontprop, ismath)\n",
      "File \u001b[0;32m/opt/anaconda3/lib/python3.12/site-packages/matplotlib/backends/backend_agg.py:213\u001b[0m, in \u001b[0;36mRendererAgg.get_text_width_height_descent\u001b[0;34m(self, s, prop, ismath)\u001b[0m\n\u001b[1;32m    211\u001b[0m _api\u001b[38;5;241m.\u001b[39mcheck_in_list([\u001b[38;5;124m\"\u001b[39m\u001b[38;5;124mTeX\u001b[39m\u001b[38;5;124m\"\u001b[39m, \u001b[38;5;28;01mTrue\u001b[39;00m, \u001b[38;5;28;01mFalse\u001b[39;00m], ismath\u001b[38;5;241m=\u001b[39mismath)\n\u001b[1;32m    212\u001b[0m \u001b[38;5;28;01mif\u001b[39;00m ismath \u001b[38;5;241m==\u001b[39m \u001b[38;5;124m\"\u001b[39m\u001b[38;5;124mTeX\u001b[39m\u001b[38;5;124m\"\u001b[39m:\n\u001b[0;32m--> 213\u001b[0m     \u001b[38;5;28;01mreturn\u001b[39;00m \u001b[38;5;28msuper\u001b[39m()\u001b[38;5;241m.\u001b[39mget_text_width_height_descent(s, prop, ismath)\n\u001b[1;32m    215\u001b[0m \u001b[38;5;28;01mif\u001b[39;00m ismath:\n\u001b[1;32m    216\u001b[0m     ox, oy, width, height, descent, font_image \u001b[38;5;241m=\u001b[39m \\\n\u001b[1;32m    217\u001b[0m         \u001b[38;5;28mself\u001b[39m\u001b[38;5;241m.\u001b[39mmathtext_parser\u001b[38;5;241m.\u001b[39mparse(s, \u001b[38;5;28mself\u001b[39m\u001b[38;5;241m.\u001b[39mdpi, prop)\n",
      "File \u001b[0;32m/opt/anaconda3/lib/python3.12/site-packages/matplotlib/backend_bases.py:652\u001b[0m, in \u001b[0;36mRendererBase.get_text_width_height_descent\u001b[0;34m(self, s, prop, ismath)\u001b[0m\n\u001b[1;32m    648\u001b[0m fontsize \u001b[38;5;241m=\u001b[39m prop\u001b[38;5;241m.\u001b[39mget_size_in_points()\n\u001b[1;32m    650\u001b[0m \u001b[38;5;28;01mif\u001b[39;00m ismath \u001b[38;5;241m==\u001b[39m \u001b[38;5;124m'\u001b[39m\u001b[38;5;124mTeX\u001b[39m\u001b[38;5;124m'\u001b[39m:\n\u001b[1;32m    651\u001b[0m     \u001b[38;5;66;03m# todo: handle properties\u001b[39;00m\n\u001b[0;32m--> 652\u001b[0m     \u001b[38;5;28;01mreturn\u001b[39;00m \u001b[38;5;28mself\u001b[39m\u001b[38;5;241m.\u001b[39mget_texmanager()\u001b[38;5;241m.\u001b[39mget_text_width_height_descent(\n\u001b[1;32m    653\u001b[0m         s, fontsize, renderer\u001b[38;5;241m=\u001b[39m\u001b[38;5;28mself\u001b[39m)\n\u001b[1;32m    655\u001b[0m dpi \u001b[38;5;241m=\u001b[39m \u001b[38;5;28mself\u001b[39m\u001b[38;5;241m.\u001b[39mpoints_to_pixels(\u001b[38;5;241m72\u001b[39m)\n\u001b[1;32m    656\u001b[0m \u001b[38;5;28;01mif\u001b[39;00m ismath:\n",
      "File \u001b[0;32m/opt/anaconda3/lib/python3.12/site-packages/matplotlib/texmanager.py:363\u001b[0m, in \u001b[0;36mTexManager.get_text_width_height_descent\u001b[0;34m(cls, tex, fontsize, renderer)\u001b[0m\n\u001b[1;32m    361\u001b[0m \u001b[38;5;28;01mif\u001b[39;00m tex\u001b[38;5;241m.\u001b[39mstrip() \u001b[38;5;241m==\u001b[39m \u001b[38;5;124m'\u001b[39m\u001b[38;5;124m'\u001b[39m:\n\u001b[1;32m    362\u001b[0m     \u001b[38;5;28;01mreturn\u001b[39;00m \u001b[38;5;241m0\u001b[39m, \u001b[38;5;241m0\u001b[39m, \u001b[38;5;241m0\u001b[39m\n\u001b[0;32m--> 363\u001b[0m dvifile \u001b[38;5;241m=\u001b[39m \u001b[38;5;28mcls\u001b[39m\u001b[38;5;241m.\u001b[39mmake_dvi(tex, fontsize)\n\u001b[1;32m    364\u001b[0m dpi_fraction \u001b[38;5;241m=\u001b[39m renderer\u001b[38;5;241m.\u001b[39mpoints_to_pixels(\u001b[38;5;241m1.\u001b[39m) \u001b[38;5;28;01mif\u001b[39;00m renderer \u001b[38;5;28;01melse\u001b[39;00m \u001b[38;5;241m1\u001b[39m\n\u001b[1;32m    365\u001b[0m \u001b[38;5;28;01mwith\u001b[39;00m dviread\u001b[38;5;241m.\u001b[39mDvi(dvifile, \u001b[38;5;241m72\u001b[39m \u001b[38;5;241m*\u001b[39m dpi_fraction) \u001b[38;5;28;01mas\u001b[39;00m dvi:\n",
      "File \u001b[0;32m/opt/anaconda3/lib/python3.12/site-packages/matplotlib/texmanager.py:295\u001b[0m, in \u001b[0;36mTexManager.make_dvi\u001b[0;34m(cls, tex, fontsize)\u001b[0m\n\u001b[1;32m    293\u001b[0m     \u001b[38;5;28;01mwith\u001b[39;00m TemporaryDirectory(\u001b[38;5;28mdir\u001b[39m\u001b[38;5;241m=\u001b[39mcwd) \u001b[38;5;28;01mas\u001b[39;00m tmpdir:\n\u001b[1;32m    294\u001b[0m         tmppath \u001b[38;5;241m=\u001b[39m Path(tmpdir)\n\u001b[0;32m--> 295\u001b[0m         \u001b[38;5;28mcls\u001b[39m\u001b[38;5;241m.\u001b[39m_run_checked_subprocess(\n\u001b[1;32m    296\u001b[0m             [\u001b[38;5;124m\"\u001b[39m\u001b[38;5;124mlatex\u001b[39m\u001b[38;5;124m\"\u001b[39m, \u001b[38;5;124m\"\u001b[39m\u001b[38;5;124m-interaction=nonstopmode\u001b[39m\u001b[38;5;124m\"\u001b[39m, \u001b[38;5;124m\"\u001b[39m\u001b[38;5;124m--halt-on-error\u001b[39m\u001b[38;5;124m\"\u001b[39m,\n\u001b[1;32m    297\u001b[0m              \u001b[38;5;124mf\u001b[39m\u001b[38;5;124m\"\u001b[39m\u001b[38;5;124m--output-directory=\u001b[39m\u001b[38;5;132;01m{\u001b[39;00mtmppath\u001b[38;5;241m.\u001b[39mname\u001b[38;5;132;01m}\u001b[39;00m\u001b[38;5;124m\"\u001b[39m,\n\u001b[1;32m    298\u001b[0m              \u001b[38;5;124mf\u001b[39m\u001b[38;5;124m\"\u001b[39m\u001b[38;5;132;01m{\u001b[39;00mtexfile\u001b[38;5;241m.\u001b[39mname\u001b[38;5;132;01m}\u001b[39;00m\u001b[38;5;124m\"\u001b[39m], tex, cwd\u001b[38;5;241m=\u001b[39mcwd)\n\u001b[1;32m    299\u001b[0m         (tmppath \u001b[38;5;241m/\u001b[39m Path(dvifile)\u001b[38;5;241m.\u001b[39mname)\u001b[38;5;241m.\u001b[39mreplace(dvifile)\n\u001b[1;32m    300\u001b[0m \u001b[38;5;28;01mreturn\u001b[39;00m dvifile\n",
      "File \u001b[0;32m/opt/anaconda3/lib/python3.12/site-packages/matplotlib/texmanager.py:254\u001b[0m, in \u001b[0;36mTexManager._run_checked_subprocess\u001b[0;34m(cls, command, tex, cwd)\u001b[0m\n\u001b[1;32m    250\u001b[0m     report \u001b[38;5;241m=\u001b[39m subprocess\u001b[38;5;241m.\u001b[39mcheck_output(\n\u001b[1;32m    251\u001b[0m         command, cwd\u001b[38;5;241m=\u001b[39mcwd \u001b[38;5;28;01mif\u001b[39;00m cwd \u001b[38;5;129;01mis\u001b[39;00m \u001b[38;5;129;01mnot\u001b[39;00m \u001b[38;5;28;01mNone\u001b[39;00m \u001b[38;5;28;01melse\u001b[39;00m \u001b[38;5;28mcls\u001b[39m\u001b[38;5;241m.\u001b[39m_texcache,\n\u001b[1;32m    252\u001b[0m         stderr\u001b[38;5;241m=\u001b[39msubprocess\u001b[38;5;241m.\u001b[39mSTDOUT)\n\u001b[1;32m    253\u001b[0m \u001b[38;5;28;01mexcept\u001b[39;00m \u001b[38;5;167;01mFileNotFoundError\u001b[39;00m \u001b[38;5;28;01mas\u001b[39;00m exc:\n\u001b[0;32m--> 254\u001b[0m     \u001b[38;5;28;01mraise\u001b[39;00m \u001b[38;5;167;01mRuntimeError\u001b[39;00m(\n\u001b[1;32m    255\u001b[0m         \u001b[38;5;124mf\u001b[39m\u001b[38;5;124m'\u001b[39m\u001b[38;5;124mFailed to process string with tex because \u001b[39m\u001b[38;5;132;01m{\u001b[39;00mcommand[\u001b[38;5;241m0\u001b[39m]\u001b[38;5;132;01m}\u001b[39;00m\u001b[38;5;124m \u001b[39m\u001b[38;5;124m'\u001b[39m\n\u001b[1;32m    256\u001b[0m         \u001b[38;5;124m'\u001b[39m\u001b[38;5;124mcould not be found\u001b[39m\u001b[38;5;124m'\u001b[39m) \u001b[38;5;28;01mfrom\u001b[39;00m \u001b[38;5;21;01mexc\u001b[39;00m\n\u001b[1;32m    257\u001b[0m \u001b[38;5;28;01mexcept\u001b[39;00m subprocess\u001b[38;5;241m.\u001b[39mCalledProcessError \u001b[38;5;28;01mas\u001b[39;00m exc:\n\u001b[1;32m    258\u001b[0m     \u001b[38;5;28;01mraise\u001b[39;00m \u001b[38;5;167;01mRuntimeError\u001b[39;00m(\n\u001b[1;32m    259\u001b[0m         \u001b[38;5;124m'\u001b[39m\u001b[38;5;132;01m{prog}\u001b[39;00m\u001b[38;5;124m was not able to process the following string:\u001b[39m\u001b[38;5;130;01m\\n\u001b[39;00m\u001b[38;5;124m'\u001b[39m\n\u001b[1;32m    260\u001b[0m         \u001b[38;5;124m'\u001b[39m\u001b[38;5;132;01m{tex!r}\u001b[39;00m\u001b[38;5;130;01m\\n\u001b[39;00m\u001b[38;5;130;01m\\n\u001b[39;00m\u001b[38;5;124m'\u001b[39m\n\u001b[0;32m   (...)\u001b[0m\n\u001b[1;32m    267\u001b[0m             exc\u001b[38;5;241m=\u001b[39mexc\u001b[38;5;241m.\u001b[39moutput\u001b[38;5;241m.\u001b[39mdecode(\u001b[38;5;124m'\u001b[39m\u001b[38;5;124mutf-8\u001b[39m\u001b[38;5;124m'\u001b[39m, \u001b[38;5;124m'\u001b[39m\u001b[38;5;124mbackslashreplace\u001b[39m\u001b[38;5;124m'\u001b[39m))\n\u001b[1;32m    268\u001b[0m         ) \u001b[38;5;28;01mfrom\u001b[39;00m \u001b[38;5;28;01mNone\u001b[39;00m\n",
      "\u001b[0;31mRuntimeError\u001b[0m: Failed to process string with tex because latex could not be found"
     ]
    },
    {
     "data": {
      "text/plain": [
       "<Figure size 1500x900 with 1 Axes>"
      ]
     },
     "metadata": {},
     "output_type": "display_data"
    }
   ],
   "source": [
    "fig,ax = plt.subplots(figsize=(15,9))\n",
    "\n",
    "merged_data[\"house_prices_logged\"] = np.log(merged_data['house_prices'])\n",
    "\n",
    "\n",
    "plt.plot(merged_data.index, merged_data['interest_rate'], label = \"IR\", linestyle = 'dashed', linewidth = '1.8', c='g')\n",
    "\n",
    "plt.plot(merged_data.index, merged_data['house_prices_logged'], label = \"ln HP\", linestyle = 'dashed', linewidth = '1.8', c='b')\n",
    "\n",
    "plt.xticks(rotation=70, size=10)\n",
    "\n",
    "\n",
    "ax.spines['top'].set_visible(False)\n",
    "\n",
    "ax.spines['right'].set_visible(False)\n",
    "\n",
    "plt.margins(x=0)\n",
    "\n",
    "plt.margins(y=0)\n",
    "\n",
    "ax.xaxis.labelpad=30\n",
    "\n",
    "ax.yaxis.labelpad=30\n",
    "\n",
    "\n",
    "plt.rcParams.update({'font.size': 16})\n",
    "\n",
    "plt.xticks(fontsize=15)\n",
    "\n",
    "plt.grid(color='grey', linestyle='-', linewidth=0.25, alpha=1)\n",
    "\n",
    "from matplotlib import rc\n",
    "rc('font',**{'family':'sans-serif','sans-serif':['Helvetica']})\n",
    "rc('font',**{'family':'serif','serif':['Times']})\n",
    "rc('text', usetex=True)\n",
    "\n",
    "\n",
    "plt.xticks(np.arange(1975, 2024, step=1))\n",
    "\n",
    "plt.yticks(np.arange(0, 18, step=2))\n",
    "\n",
    "\n",
    "plt.grid(color='grey', linestyle='-', linewidth=0.25, alpha=1)\n",
    "\n",
    "\n",
    "plt.xlabel(\"Year\")\n",
    "plt.ylabel(\"Value\")\n",
    "\n",
    "plt.legend()\n",
    "\n",
    "plt.show()\n",
    "\n",
    "\n"
   ]
  },
  {
   "cell_type": "markdown",
   "id": "11e47100-e3c0-43f2-8fc6-9099b9dac12f",
   "metadata": {},
   "source": [
    "# Plotting the Regression - House Prices on Rates (Not Logged)"
   ]
  },
  {
   "cell_type": "code",
   "execution_count": 23,
   "id": "1bccc01e-bb02-41c9-9bc8-6dcf6580168f",
   "metadata": {},
   "outputs": [
    {
     "ename": "RuntimeError",
     "evalue": "Failed to process string with tex because latex could not be found",
     "output_type": "error",
     "traceback": [
      "\u001b[0;31m---------------------------------------------------------------------------\u001b[0m",
      "\u001b[0;31mFileNotFoundError\u001b[0m                         Traceback (most recent call last)",
      "File \u001b[0;32m/opt/anaconda3/lib/python3.12/site-packages/matplotlib/texmanager.py:250\u001b[0m, in \u001b[0;36mTexManager._run_checked_subprocess\u001b[0;34m(cls, command, tex, cwd)\u001b[0m\n\u001b[1;32m    249\u001b[0m \u001b[38;5;28;01mtry\u001b[39;00m:\n\u001b[0;32m--> 250\u001b[0m     report \u001b[38;5;241m=\u001b[39m subprocess\u001b[38;5;241m.\u001b[39mcheck_output(\n\u001b[1;32m    251\u001b[0m         command, cwd\u001b[38;5;241m=\u001b[39mcwd \u001b[38;5;28;01mif\u001b[39;00m cwd \u001b[38;5;129;01mis\u001b[39;00m \u001b[38;5;129;01mnot\u001b[39;00m \u001b[38;5;28;01mNone\u001b[39;00m \u001b[38;5;28;01melse\u001b[39;00m \u001b[38;5;28mcls\u001b[39m\u001b[38;5;241m.\u001b[39m_texcache,\n\u001b[1;32m    252\u001b[0m         stderr\u001b[38;5;241m=\u001b[39msubprocess\u001b[38;5;241m.\u001b[39mSTDOUT)\n\u001b[1;32m    253\u001b[0m \u001b[38;5;28;01mexcept\u001b[39;00m \u001b[38;5;167;01mFileNotFoundError\u001b[39;00m \u001b[38;5;28;01mas\u001b[39;00m exc:\n",
      "File \u001b[0;32m/opt/anaconda3/lib/python3.12/subprocess.py:466\u001b[0m, in \u001b[0;36mcheck_output\u001b[0;34m(timeout, *popenargs, **kwargs)\u001b[0m\n\u001b[1;32m    464\u001b[0m     kwargs[\u001b[38;5;124m'\u001b[39m\u001b[38;5;124minput\u001b[39m\u001b[38;5;124m'\u001b[39m] \u001b[38;5;241m=\u001b[39m empty\n\u001b[0;32m--> 466\u001b[0m \u001b[38;5;28;01mreturn\u001b[39;00m run(\u001b[38;5;241m*\u001b[39mpopenargs, stdout\u001b[38;5;241m=\u001b[39mPIPE, timeout\u001b[38;5;241m=\u001b[39mtimeout, check\u001b[38;5;241m=\u001b[39m\u001b[38;5;28;01mTrue\u001b[39;00m,\n\u001b[1;32m    467\u001b[0m            \u001b[38;5;241m*\u001b[39m\u001b[38;5;241m*\u001b[39mkwargs)\u001b[38;5;241m.\u001b[39mstdout\n",
      "File \u001b[0;32m/opt/anaconda3/lib/python3.12/subprocess.py:548\u001b[0m, in \u001b[0;36mrun\u001b[0;34m(input, capture_output, timeout, check, *popenargs, **kwargs)\u001b[0m\n\u001b[1;32m    546\u001b[0m     kwargs[\u001b[38;5;124m'\u001b[39m\u001b[38;5;124mstderr\u001b[39m\u001b[38;5;124m'\u001b[39m] \u001b[38;5;241m=\u001b[39m PIPE\n\u001b[0;32m--> 548\u001b[0m \u001b[38;5;28;01mwith\u001b[39;00m Popen(\u001b[38;5;241m*\u001b[39mpopenargs, \u001b[38;5;241m*\u001b[39m\u001b[38;5;241m*\u001b[39mkwargs) \u001b[38;5;28;01mas\u001b[39;00m process:\n\u001b[1;32m    549\u001b[0m     \u001b[38;5;28;01mtry\u001b[39;00m:\n",
      "File \u001b[0;32m/opt/anaconda3/lib/python3.12/subprocess.py:1026\u001b[0m, in \u001b[0;36mPopen.__init__\u001b[0;34m(self, args, bufsize, executable, stdin, stdout, stderr, preexec_fn, close_fds, shell, cwd, env, universal_newlines, startupinfo, creationflags, restore_signals, start_new_session, pass_fds, user, group, extra_groups, encoding, errors, text, umask, pipesize, process_group)\u001b[0m\n\u001b[1;32m   1023\u001b[0m             \u001b[38;5;28mself\u001b[39m\u001b[38;5;241m.\u001b[39mstderr \u001b[38;5;241m=\u001b[39m io\u001b[38;5;241m.\u001b[39mTextIOWrapper(\u001b[38;5;28mself\u001b[39m\u001b[38;5;241m.\u001b[39mstderr,\n\u001b[1;32m   1024\u001b[0m                     encoding\u001b[38;5;241m=\u001b[39mencoding, errors\u001b[38;5;241m=\u001b[39merrors)\n\u001b[0;32m-> 1026\u001b[0m     \u001b[38;5;28mself\u001b[39m\u001b[38;5;241m.\u001b[39m_execute_child(args, executable, preexec_fn, close_fds,\n\u001b[1;32m   1027\u001b[0m                         pass_fds, cwd, env,\n\u001b[1;32m   1028\u001b[0m                         startupinfo, creationflags, shell,\n\u001b[1;32m   1029\u001b[0m                         p2cread, p2cwrite,\n\u001b[1;32m   1030\u001b[0m                         c2pread, c2pwrite,\n\u001b[1;32m   1031\u001b[0m                         errread, errwrite,\n\u001b[1;32m   1032\u001b[0m                         restore_signals,\n\u001b[1;32m   1033\u001b[0m                         gid, gids, uid, umask,\n\u001b[1;32m   1034\u001b[0m                         start_new_session, process_group)\n\u001b[1;32m   1035\u001b[0m \u001b[38;5;28;01mexcept\u001b[39;00m:\n\u001b[1;32m   1036\u001b[0m     \u001b[38;5;66;03m# Cleanup if the child failed starting.\u001b[39;00m\n",
      "File \u001b[0;32m/opt/anaconda3/lib/python3.12/subprocess.py:1955\u001b[0m, in \u001b[0;36mPopen._execute_child\u001b[0;34m(self, args, executable, preexec_fn, close_fds, pass_fds, cwd, env, startupinfo, creationflags, shell, p2cread, p2cwrite, c2pread, c2pwrite, errread, errwrite, restore_signals, gid, gids, uid, umask, start_new_session, process_group)\u001b[0m\n\u001b[1;32m   1954\u001b[0m \u001b[38;5;28;01mif\u001b[39;00m err_filename \u001b[38;5;129;01mis\u001b[39;00m \u001b[38;5;129;01mnot\u001b[39;00m \u001b[38;5;28;01mNone\u001b[39;00m:\n\u001b[0;32m-> 1955\u001b[0m     \u001b[38;5;28;01mraise\u001b[39;00m child_exception_type(errno_num, err_msg, err_filename)\n\u001b[1;32m   1956\u001b[0m \u001b[38;5;28;01melse\u001b[39;00m:\n",
      "\u001b[0;31mFileNotFoundError\u001b[0m: [Errno 2] No such file or directory: 'latex'",
      "\nThe above exception was the direct cause of the following exception:\n",
      "\u001b[0;31mRuntimeError\u001b[0m                              Traceback (most recent call last)",
      "File \u001b[0;32m/opt/anaconda3/lib/python3.12/site-packages/IPython/core/formatters.py:343\u001b[0m, in \u001b[0;36mBaseFormatter.__call__\u001b[0;34m(self, obj)\u001b[0m\n\u001b[1;32m    341\u001b[0m     \u001b[38;5;28;01mpass\u001b[39;00m\n\u001b[1;32m    342\u001b[0m \u001b[38;5;28;01melse\u001b[39;00m:\n\u001b[0;32m--> 343\u001b[0m     \u001b[38;5;28;01mreturn\u001b[39;00m printer(obj)\n\u001b[1;32m    344\u001b[0m \u001b[38;5;66;03m# Finally look for special method names\u001b[39;00m\n\u001b[1;32m    345\u001b[0m method \u001b[38;5;241m=\u001b[39m get_real_method(obj, \u001b[38;5;28mself\u001b[39m\u001b[38;5;241m.\u001b[39mprint_method)\n",
      "File \u001b[0;32m/opt/anaconda3/lib/python3.12/site-packages/IPython/core/pylabtools.py:170\u001b[0m, in \u001b[0;36mprint_figure\u001b[0;34m(fig, fmt, bbox_inches, base64, **kwargs)\u001b[0m\n\u001b[1;32m    167\u001b[0m     \u001b[38;5;28;01mfrom\u001b[39;00m \u001b[38;5;21;01mmatplotlib\u001b[39;00m\u001b[38;5;21;01m.\u001b[39;00m\u001b[38;5;21;01mbackend_bases\u001b[39;00m \u001b[38;5;28;01mimport\u001b[39;00m FigureCanvasBase\n\u001b[1;32m    168\u001b[0m     FigureCanvasBase(fig)\n\u001b[0;32m--> 170\u001b[0m fig\u001b[38;5;241m.\u001b[39mcanvas\u001b[38;5;241m.\u001b[39mprint_figure(bytes_io, \u001b[38;5;241m*\u001b[39m\u001b[38;5;241m*\u001b[39mkw)\n\u001b[1;32m    171\u001b[0m data \u001b[38;5;241m=\u001b[39m bytes_io\u001b[38;5;241m.\u001b[39mgetvalue()\n\u001b[1;32m    172\u001b[0m \u001b[38;5;28;01mif\u001b[39;00m fmt \u001b[38;5;241m==\u001b[39m \u001b[38;5;124m'\u001b[39m\u001b[38;5;124msvg\u001b[39m\u001b[38;5;124m'\u001b[39m:\n",
      "File \u001b[0;32m/opt/anaconda3/lib/python3.12/site-packages/matplotlib/backend_bases.py:2164\u001b[0m, in \u001b[0;36mFigureCanvasBase.print_figure\u001b[0;34m(self, filename, dpi, facecolor, edgecolor, orientation, format, bbox_inches, pad_inches, bbox_extra_artists, backend, **kwargs)\u001b[0m\n\u001b[1;32m   2161\u001b[0m     \u001b[38;5;66;03m# we do this instead of `self.figure.draw_without_rendering`\u001b[39;00m\n\u001b[1;32m   2162\u001b[0m     \u001b[38;5;66;03m# so that we can inject the orientation\u001b[39;00m\n\u001b[1;32m   2163\u001b[0m     \u001b[38;5;28;01mwith\u001b[39;00m \u001b[38;5;28mgetattr\u001b[39m(renderer, \u001b[38;5;124m\"\u001b[39m\u001b[38;5;124m_draw_disabled\u001b[39m\u001b[38;5;124m\"\u001b[39m, nullcontext)():\n\u001b[0;32m-> 2164\u001b[0m         \u001b[38;5;28mself\u001b[39m\u001b[38;5;241m.\u001b[39mfigure\u001b[38;5;241m.\u001b[39mdraw(renderer)\n\u001b[1;32m   2165\u001b[0m \u001b[38;5;28;01mif\u001b[39;00m bbox_inches:\n\u001b[1;32m   2166\u001b[0m     \u001b[38;5;28;01mif\u001b[39;00m bbox_inches \u001b[38;5;241m==\u001b[39m \u001b[38;5;124m\"\u001b[39m\u001b[38;5;124mtight\u001b[39m\u001b[38;5;124m\"\u001b[39m:\n",
      "File \u001b[0;32m/opt/anaconda3/lib/python3.12/site-packages/matplotlib/artist.py:95\u001b[0m, in \u001b[0;36m_finalize_rasterization.<locals>.draw_wrapper\u001b[0;34m(artist, renderer, *args, **kwargs)\u001b[0m\n\u001b[1;32m     93\u001b[0m \u001b[38;5;129m@wraps\u001b[39m(draw)\n\u001b[1;32m     94\u001b[0m \u001b[38;5;28;01mdef\u001b[39;00m \u001b[38;5;21mdraw_wrapper\u001b[39m(artist, renderer, \u001b[38;5;241m*\u001b[39margs, \u001b[38;5;241m*\u001b[39m\u001b[38;5;241m*\u001b[39mkwargs):\n\u001b[0;32m---> 95\u001b[0m     result \u001b[38;5;241m=\u001b[39m draw(artist, renderer, \u001b[38;5;241m*\u001b[39margs, \u001b[38;5;241m*\u001b[39m\u001b[38;5;241m*\u001b[39mkwargs)\n\u001b[1;32m     96\u001b[0m     \u001b[38;5;28;01mif\u001b[39;00m renderer\u001b[38;5;241m.\u001b[39m_rasterizing:\n\u001b[1;32m     97\u001b[0m         renderer\u001b[38;5;241m.\u001b[39mstop_rasterizing()\n",
      "File \u001b[0;32m/opt/anaconda3/lib/python3.12/site-packages/matplotlib/artist.py:72\u001b[0m, in \u001b[0;36mallow_rasterization.<locals>.draw_wrapper\u001b[0;34m(artist, renderer)\u001b[0m\n\u001b[1;32m     69\u001b[0m     \u001b[38;5;28;01mif\u001b[39;00m artist\u001b[38;5;241m.\u001b[39mget_agg_filter() \u001b[38;5;129;01mis\u001b[39;00m \u001b[38;5;129;01mnot\u001b[39;00m \u001b[38;5;28;01mNone\u001b[39;00m:\n\u001b[1;32m     70\u001b[0m         renderer\u001b[38;5;241m.\u001b[39mstart_filter()\n\u001b[0;32m---> 72\u001b[0m     \u001b[38;5;28;01mreturn\u001b[39;00m draw(artist, renderer)\n\u001b[1;32m     73\u001b[0m \u001b[38;5;28;01mfinally\u001b[39;00m:\n\u001b[1;32m     74\u001b[0m     \u001b[38;5;28;01mif\u001b[39;00m artist\u001b[38;5;241m.\u001b[39mget_agg_filter() \u001b[38;5;129;01mis\u001b[39;00m \u001b[38;5;129;01mnot\u001b[39;00m \u001b[38;5;28;01mNone\u001b[39;00m:\n",
      "File \u001b[0;32m/opt/anaconda3/lib/python3.12/site-packages/matplotlib/figure.py:3154\u001b[0m, in \u001b[0;36mFigure.draw\u001b[0;34m(self, renderer)\u001b[0m\n\u001b[1;32m   3151\u001b[0m         \u001b[38;5;66;03m# ValueError can occur when resizing a window.\u001b[39;00m\n\u001b[1;32m   3153\u001b[0m \u001b[38;5;28mself\u001b[39m\u001b[38;5;241m.\u001b[39mpatch\u001b[38;5;241m.\u001b[39mdraw(renderer)\n\u001b[0;32m-> 3154\u001b[0m mimage\u001b[38;5;241m.\u001b[39m_draw_list_compositing_images(\n\u001b[1;32m   3155\u001b[0m     renderer, \u001b[38;5;28mself\u001b[39m, artists, \u001b[38;5;28mself\u001b[39m\u001b[38;5;241m.\u001b[39msuppressComposite)\n\u001b[1;32m   3157\u001b[0m \u001b[38;5;28;01mfor\u001b[39;00m sfig \u001b[38;5;129;01min\u001b[39;00m \u001b[38;5;28mself\u001b[39m\u001b[38;5;241m.\u001b[39msubfigs:\n\u001b[1;32m   3158\u001b[0m     sfig\u001b[38;5;241m.\u001b[39mdraw(renderer)\n",
      "File \u001b[0;32m/opt/anaconda3/lib/python3.12/site-packages/matplotlib/image.py:132\u001b[0m, in \u001b[0;36m_draw_list_compositing_images\u001b[0;34m(renderer, parent, artists, suppress_composite)\u001b[0m\n\u001b[1;32m    130\u001b[0m \u001b[38;5;28;01mif\u001b[39;00m not_composite \u001b[38;5;129;01mor\u001b[39;00m \u001b[38;5;129;01mnot\u001b[39;00m has_images:\n\u001b[1;32m    131\u001b[0m     \u001b[38;5;28;01mfor\u001b[39;00m a \u001b[38;5;129;01min\u001b[39;00m artists:\n\u001b[0;32m--> 132\u001b[0m         a\u001b[38;5;241m.\u001b[39mdraw(renderer)\n\u001b[1;32m    133\u001b[0m \u001b[38;5;28;01melse\u001b[39;00m:\n\u001b[1;32m    134\u001b[0m     \u001b[38;5;66;03m# Composite any adjacent images together\u001b[39;00m\n\u001b[1;32m    135\u001b[0m     image_group \u001b[38;5;241m=\u001b[39m []\n",
      "File \u001b[0;32m/opt/anaconda3/lib/python3.12/site-packages/matplotlib/artist.py:72\u001b[0m, in \u001b[0;36mallow_rasterization.<locals>.draw_wrapper\u001b[0;34m(artist, renderer)\u001b[0m\n\u001b[1;32m     69\u001b[0m     \u001b[38;5;28;01mif\u001b[39;00m artist\u001b[38;5;241m.\u001b[39mget_agg_filter() \u001b[38;5;129;01mis\u001b[39;00m \u001b[38;5;129;01mnot\u001b[39;00m \u001b[38;5;28;01mNone\u001b[39;00m:\n\u001b[1;32m     70\u001b[0m         renderer\u001b[38;5;241m.\u001b[39mstart_filter()\n\u001b[0;32m---> 72\u001b[0m     \u001b[38;5;28;01mreturn\u001b[39;00m draw(artist, renderer)\n\u001b[1;32m     73\u001b[0m \u001b[38;5;28;01mfinally\u001b[39;00m:\n\u001b[1;32m     74\u001b[0m     \u001b[38;5;28;01mif\u001b[39;00m artist\u001b[38;5;241m.\u001b[39mget_agg_filter() \u001b[38;5;129;01mis\u001b[39;00m \u001b[38;5;129;01mnot\u001b[39;00m \u001b[38;5;28;01mNone\u001b[39;00m:\n",
      "File \u001b[0;32m/opt/anaconda3/lib/python3.12/site-packages/matplotlib/axes/_base.py:3070\u001b[0m, in \u001b[0;36m_AxesBase.draw\u001b[0;34m(self, renderer)\u001b[0m\n\u001b[1;32m   3067\u001b[0m \u001b[38;5;28;01mif\u001b[39;00m artists_rasterized:\n\u001b[1;32m   3068\u001b[0m     _draw_rasterized(\u001b[38;5;28mself\u001b[39m\u001b[38;5;241m.\u001b[39mfigure, artists_rasterized, renderer)\n\u001b[0;32m-> 3070\u001b[0m mimage\u001b[38;5;241m.\u001b[39m_draw_list_compositing_images(\n\u001b[1;32m   3071\u001b[0m     renderer, \u001b[38;5;28mself\u001b[39m, artists, \u001b[38;5;28mself\u001b[39m\u001b[38;5;241m.\u001b[39mfigure\u001b[38;5;241m.\u001b[39msuppressComposite)\n\u001b[1;32m   3073\u001b[0m renderer\u001b[38;5;241m.\u001b[39mclose_group(\u001b[38;5;124m'\u001b[39m\u001b[38;5;124maxes\u001b[39m\u001b[38;5;124m'\u001b[39m)\n\u001b[1;32m   3074\u001b[0m \u001b[38;5;28mself\u001b[39m\u001b[38;5;241m.\u001b[39mstale \u001b[38;5;241m=\u001b[39m \u001b[38;5;28;01mFalse\u001b[39;00m\n",
      "File \u001b[0;32m/opt/anaconda3/lib/python3.12/site-packages/matplotlib/image.py:132\u001b[0m, in \u001b[0;36m_draw_list_compositing_images\u001b[0;34m(renderer, parent, artists, suppress_composite)\u001b[0m\n\u001b[1;32m    130\u001b[0m \u001b[38;5;28;01mif\u001b[39;00m not_composite \u001b[38;5;129;01mor\u001b[39;00m \u001b[38;5;129;01mnot\u001b[39;00m has_images:\n\u001b[1;32m    131\u001b[0m     \u001b[38;5;28;01mfor\u001b[39;00m a \u001b[38;5;129;01min\u001b[39;00m artists:\n\u001b[0;32m--> 132\u001b[0m         a\u001b[38;5;241m.\u001b[39mdraw(renderer)\n\u001b[1;32m    133\u001b[0m \u001b[38;5;28;01melse\u001b[39;00m:\n\u001b[1;32m    134\u001b[0m     \u001b[38;5;66;03m# Composite any adjacent images together\u001b[39;00m\n\u001b[1;32m    135\u001b[0m     image_group \u001b[38;5;241m=\u001b[39m []\n",
      "File \u001b[0;32m/opt/anaconda3/lib/python3.12/site-packages/matplotlib/artist.py:72\u001b[0m, in \u001b[0;36mallow_rasterization.<locals>.draw_wrapper\u001b[0;34m(artist, renderer)\u001b[0m\n\u001b[1;32m     69\u001b[0m     \u001b[38;5;28;01mif\u001b[39;00m artist\u001b[38;5;241m.\u001b[39mget_agg_filter() \u001b[38;5;129;01mis\u001b[39;00m \u001b[38;5;129;01mnot\u001b[39;00m \u001b[38;5;28;01mNone\u001b[39;00m:\n\u001b[1;32m     70\u001b[0m         renderer\u001b[38;5;241m.\u001b[39mstart_filter()\n\u001b[0;32m---> 72\u001b[0m     \u001b[38;5;28;01mreturn\u001b[39;00m draw(artist, renderer)\n\u001b[1;32m     73\u001b[0m \u001b[38;5;28;01mfinally\u001b[39;00m:\n\u001b[1;32m     74\u001b[0m     \u001b[38;5;28;01mif\u001b[39;00m artist\u001b[38;5;241m.\u001b[39mget_agg_filter() \u001b[38;5;129;01mis\u001b[39;00m \u001b[38;5;129;01mnot\u001b[39;00m \u001b[38;5;28;01mNone\u001b[39;00m:\n",
      "File \u001b[0;32m/opt/anaconda3/lib/python3.12/site-packages/matplotlib/axis.py:1388\u001b[0m, in \u001b[0;36mAxis.draw\u001b[0;34m(self, renderer, *args, **kwargs)\u001b[0m\n\u001b[1;32m   1385\u001b[0m renderer\u001b[38;5;241m.\u001b[39mopen_group(\u001b[38;5;18m__name__\u001b[39m, gid\u001b[38;5;241m=\u001b[39m\u001b[38;5;28mself\u001b[39m\u001b[38;5;241m.\u001b[39mget_gid())\n\u001b[1;32m   1387\u001b[0m ticks_to_draw \u001b[38;5;241m=\u001b[39m \u001b[38;5;28mself\u001b[39m\u001b[38;5;241m.\u001b[39m_update_ticks()\n\u001b[0;32m-> 1388\u001b[0m tlb1, tlb2 \u001b[38;5;241m=\u001b[39m \u001b[38;5;28mself\u001b[39m\u001b[38;5;241m.\u001b[39m_get_ticklabel_bboxes(ticks_to_draw, renderer)\n\u001b[1;32m   1390\u001b[0m \u001b[38;5;28;01mfor\u001b[39;00m tick \u001b[38;5;129;01min\u001b[39;00m ticks_to_draw:\n\u001b[1;32m   1391\u001b[0m     tick\u001b[38;5;241m.\u001b[39mdraw(renderer)\n",
      "File \u001b[0;32m/opt/anaconda3/lib/python3.12/site-packages/matplotlib/axis.py:1315\u001b[0m, in \u001b[0;36mAxis._get_ticklabel_bboxes\u001b[0;34m(self, ticks, renderer)\u001b[0m\n\u001b[1;32m   1313\u001b[0m \u001b[38;5;28;01mif\u001b[39;00m renderer \u001b[38;5;129;01mis\u001b[39;00m \u001b[38;5;28;01mNone\u001b[39;00m:\n\u001b[1;32m   1314\u001b[0m     renderer \u001b[38;5;241m=\u001b[39m \u001b[38;5;28mself\u001b[39m\u001b[38;5;241m.\u001b[39mfigure\u001b[38;5;241m.\u001b[39m_get_renderer()\n\u001b[0;32m-> 1315\u001b[0m \u001b[38;5;28;01mreturn\u001b[39;00m ([tick\u001b[38;5;241m.\u001b[39mlabel1\u001b[38;5;241m.\u001b[39mget_window_extent(renderer)\n\u001b[1;32m   1316\u001b[0m          \u001b[38;5;28;01mfor\u001b[39;00m tick \u001b[38;5;129;01min\u001b[39;00m ticks \u001b[38;5;28;01mif\u001b[39;00m tick\u001b[38;5;241m.\u001b[39mlabel1\u001b[38;5;241m.\u001b[39mget_visible()],\n\u001b[1;32m   1317\u001b[0m         [tick\u001b[38;5;241m.\u001b[39mlabel2\u001b[38;5;241m.\u001b[39mget_window_extent(renderer)\n\u001b[1;32m   1318\u001b[0m          \u001b[38;5;28;01mfor\u001b[39;00m tick \u001b[38;5;129;01min\u001b[39;00m ticks \u001b[38;5;28;01mif\u001b[39;00m tick\u001b[38;5;241m.\u001b[39mlabel2\u001b[38;5;241m.\u001b[39mget_visible()])\n",
      "File \u001b[0;32m/opt/anaconda3/lib/python3.12/site-packages/matplotlib/text.py:956\u001b[0m, in \u001b[0;36mText.get_window_extent\u001b[0;34m(self, renderer, dpi)\u001b[0m\n\u001b[1;32m    951\u001b[0m     \u001b[38;5;28;01mraise\u001b[39;00m \u001b[38;5;167;01mRuntimeError\u001b[39;00m(\n\u001b[1;32m    952\u001b[0m         \u001b[38;5;124m\"\u001b[39m\u001b[38;5;124mCannot get window extent of text w/o renderer. You likely \u001b[39m\u001b[38;5;124m\"\u001b[39m\n\u001b[1;32m    953\u001b[0m         \u001b[38;5;124m\"\u001b[39m\u001b[38;5;124mwant to call \u001b[39m\u001b[38;5;124m'\u001b[39m\u001b[38;5;124mfigure.draw_without_rendering()\u001b[39m\u001b[38;5;124m'\u001b[39m\u001b[38;5;124m first.\u001b[39m\u001b[38;5;124m\"\u001b[39m)\n\u001b[1;32m    955\u001b[0m \u001b[38;5;28;01mwith\u001b[39;00m cbook\u001b[38;5;241m.\u001b[39m_setattr_cm(\u001b[38;5;28mself\u001b[39m\u001b[38;5;241m.\u001b[39mfigure, dpi\u001b[38;5;241m=\u001b[39mdpi):\n\u001b[0;32m--> 956\u001b[0m     bbox, info, descent \u001b[38;5;241m=\u001b[39m \u001b[38;5;28mself\u001b[39m\u001b[38;5;241m.\u001b[39m_get_layout(\u001b[38;5;28mself\u001b[39m\u001b[38;5;241m.\u001b[39m_renderer)\n\u001b[1;32m    957\u001b[0m     x, y \u001b[38;5;241m=\u001b[39m \u001b[38;5;28mself\u001b[39m\u001b[38;5;241m.\u001b[39mget_unitless_position()\n\u001b[1;32m    958\u001b[0m     x, y \u001b[38;5;241m=\u001b[39m \u001b[38;5;28mself\u001b[39m\u001b[38;5;241m.\u001b[39mget_transform()\u001b[38;5;241m.\u001b[39mtransform((x, y))\n",
      "File \u001b[0;32m/opt/anaconda3/lib/python3.12/site-packages/matplotlib/text.py:373\u001b[0m, in \u001b[0;36mText._get_layout\u001b[0;34m(self, renderer)\u001b[0m\n\u001b[1;32m    370\u001b[0m ys \u001b[38;5;241m=\u001b[39m []\n\u001b[1;32m    372\u001b[0m \u001b[38;5;66;03m# Full vertical extent of font, including ascenders and descenders:\u001b[39;00m\n\u001b[0;32m--> 373\u001b[0m _, lp_h, lp_d \u001b[38;5;241m=\u001b[39m _get_text_metrics_with_cache(\n\u001b[1;32m    374\u001b[0m     renderer, \u001b[38;5;124m\"\u001b[39m\u001b[38;5;124mlp\u001b[39m\u001b[38;5;124m\"\u001b[39m, \u001b[38;5;28mself\u001b[39m\u001b[38;5;241m.\u001b[39m_fontproperties,\n\u001b[1;32m    375\u001b[0m     ismath\u001b[38;5;241m=\u001b[39m\u001b[38;5;124m\"\u001b[39m\u001b[38;5;124mTeX\u001b[39m\u001b[38;5;124m\"\u001b[39m \u001b[38;5;28;01mif\u001b[39;00m \u001b[38;5;28mself\u001b[39m\u001b[38;5;241m.\u001b[39mget_usetex() \u001b[38;5;28;01melse\u001b[39;00m \u001b[38;5;28;01mFalse\u001b[39;00m, dpi\u001b[38;5;241m=\u001b[39m\u001b[38;5;28mself\u001b[39m\u001b[38;5;241m.\u001b[39mfigure\u001b[38;5;241m.\u001b[39mdpi)\n\u001b[1;32m    376\u001b[0m min_dy \u001b[38;5;241m=\u001b[39m (lp_h \u001b[38;5;241m-\u001b[39m lp_d) \u001b[38;5;241m*\u001b[39m \u001b[38;5;28mself\u001b[39m\u001b[38;5;241m.\u001b[39m_linespacing\n\u001b[1;32m    378\u001b[0m \u001b[38;5;28;01mfor\u001b[39;00m i, line \u001b[38;5;129;01min\u001b[39;00m \u001b[38;5;28menumerate\u001b[39m(lines):\n",
      "File \u001b[0;32m/opt/anaconda3/lib/python3.12/site-packages/matplotlib/text.py:69\u001b[0m, in \u001b[0;36m_get_text_metrics_with_cache\u001b[0;34m(renderer, text, fontprop, ismath, dpi)\u001b[0m\n\u001b[1;32m     66\u001b[0m \u001b[38;5;250m\u001b[39m\u001b[38;5;124;03m\"\"\"Call ``renderer.get_text_width_height_descent``, caching the results.\"\"\"\u001b[39;00m\n\u001b[1;32m     67\u001b[0m \u001b[38;5;66;03m# Cached based on a copy of fontprop so that later in-place mutations of\u001b[39;00m\n\u001b[1;32m     68\u001b[0m \u001b[38;5;66;03m# the passed-in argument do not mess up the cache.\u001b[39;00m\n\u001b[0;32m---> 69\u001b[0m \u001b[38;5;28;01mreturn\u001b[39;00m _get_text_metrics_with_cache_impl(\n\u001b[1;32m     70\u001b[0m     weakref\u001b[38;5;241m.\u001b[39mref(renderer), text, fontprop\u001b[38;5;241m.\u001b[39mcopy(), ismath, dpi)\n",
      "File \u001b[0;32m/opt/anaconda3/lib/python3.12/site-packages/matplotlib/text.py:77\u001b[0m, in \u001b[0;36m_get_text_metrics_with_cache_impl\u001b[0;34m(renderer_ref, text, fontprop, ismath, dpi)\u001b[0m\n\u001b[1;32m     73\u001b[0m \u001b[38;5;129m@functools\u001b[39m\u001b[38;5;241m.\u001b[39mlru_cache(\u001b[38;5;241m4096\u001b[39m)\n\u001b[1;32m     74\u001b[0m \u001b[38;5;28;01mdef\u001b[39;00m \u001b[38;5;21m_get_text_metrics_with_cache_impl\u001b[39m(\n\u001b[1;32m     75\u001b[0m         renderer_ref, text, fontprop, ismath, dpi):\n\u001b[1;32m     76\u001b[0m     \u001b[38;5;66;03m# dpi is unused, but participates in cache invalidation (via the renderer).\u001b[39;00m\n\u001b[0;32m---> 77\u001b[0m     \u001b[38;5;28;01mreturn\u001b[39;00m renderer_ref()\u001b[38;5;241m.\u001b[39mget_text_width_height_descent(text, fontprop, ismath)\n",
      "File \u001b[0;32m/opt/anaconda3/lib/python3.12/site-packages/matplotlib/backends/backend_agg.py:213\u001b[0m, in \u001b[0;36mRendererAgg.get_text_width_height_descent\u001b[0;34m(self, s, prop, ismath)\u001b[0m\n\u001b[1;32m    211\u001b[0m _api\u001b[38;5;241m.\u001b[39mcheck_in_list([\u001b[38;5;124m\"\u001b[39m\u001b[38;5;124mTeX\u001b[39m\u001b[38;5;124m\"\u001b[39m, \u001b[38;5;28;01mTrue\u001b[39;00m, \u001b[38;5;28;01mFalse\u001b[39;00m], ismath\u001b[38;5;241m=\u001b[39mismath)\n\u001b[1;32m    212\u001b[0m \u001b[38;5;28;01mif\u001b[39;00m ismath \u001b[38;5;241m==\u001b[39m \u001b[38;5;124m\"\u001b[39m\u001b[38;5;124mTeX\u001b[39m\u001b[38;5;124m\"\u001b[39m:\n\u001b[0;32m--> 213\u001b[0m     \u001b[38;5;28;01mreturn\u001b[39;00m \u001b[38;5;28msuper\u001b[39m()\u001b[38;5;241m.\u001b[39mget_text_width_height_descent(s, prop, ismath)\n\u001b[1;32m    215\u001b[0m \u001b[38;5;28;01mif\u001b[39;00m ismath:\n\u001b[1;32m    216\u001b[0m     ox, oy, width, height, descent, font_image \u001b[38;5;241m=\u001b[39m \\\n\u001b[1;32m    217\u001b[0m         \u001b[38;5;28mself\u001b[39m\u001b[38;5;241m.\u001b[39mmathtext_parser\u001b[38;5;241m.\u001b[39mparse(s, \u001b[38;5;28mself\u001b[39m\u001b[38;5;241m.\u001b[39mdpi, prop)\n",
      "File \u001b[0;32m/opt/anaconda3/lib/python3.12/site-packages/matplotlib/backend_bases.py:652\u001b[0m, in \u001b[0;36mRendererBase.get_text_width_height_descent\u001b[0;34m(self, s, prop, ismath)\u001b[0m\n\u001b[1;32m    648\u001b[0m fontsize \u001b[38;5;241m=\u001b[39m prop\u001b[38;5;241m.\u001b[39mget_size_in_points()\n\u001b[1;32m    650\u001b[0m \u001b[38;5;28;01mif\u001b[39;00m ismath \u001b[38;5;241m==\u001b[39m \u001b[38;5;124m'\u001b[39m\u001b[38;5;124mTeX\u001b[39m\u001b[38;5;124m'\u001b[39m:\n\u001b[1;32m    651\u001b[0m     \u001b[38;5;66;03m# todo: handle properties\u001b[39;00m\n\u001b[0;32m--> 652\u001b[0m     \u001b[38;5;28;01mreturn\u001b[39;00m \u001b[38;5;28mself\u001b[39m\u001b[38;5;241m.\u001b[39mget_texmanager()\u001b[38;5;241m.\u001b[39mget_text_width_height_descent(\n\u001b[1;32m    653\u001b[0m         s, fontsize, renderer\u001b[38;5;241m=\u001b[39m\u001b[38;5;28mself\u001b[39m)\n\u001b[1;32m    655\u001b[0m dpi \u001b[38;5;241m=\u001b[39m \u001b[38;5;28mself\u001b[39m\u001b[38;5;241m.\u001b[39mpoints_to_pixels(\u001b[38;5;241m72\u001b[39m)\n\u001b[1;32m    656\u001b[0m \u001b[38;5;28;01mif\u001b[39;00m ismath:\n",
      "File \u001b[0;32m/opt/anaconda3/lib/python3.12/site-packages/matplotlib/texmanager.py:363\u001b[0m, in \u001b[0;36mTexManager.get_text_width_height_descent\u001b[0;34m(cls, tex, fontsize, renderer)\u001b[0m\n\u001b[1;32m    361\u001b[0m \u001b[38;5;28;01mif\u001b[39;00m tex\u001b[38;5;241m.\u001b[39mstrip() \u001b[38;5;241m==\u001b[39m \u001b[38;5;124m'\u001b[39m\u001b[38;5;124m'\u001b[39m:\n\u001b[1;32m    362\u001b[0m     \u001b[38;5;28;01mreturn\u001b[39;00m \u001b[38;5;241m0\u001b[39m, \u001b[38;5;241m0\u001b[39m, \u001b[38;5;241m0\u001b[39m\n\u001b[0;32m--> 363\u001b[0m dvifile \u001b[38;5;241m=\u001b[39m \u001b[38;5;28mcls\u001b[39m\u001b[38;5;241m.\u001b[39mmake_dvi(tex, fontsize)\n\u001b[1;32m    364\u001b[0m dpi_fraction \u001b[38;5;241m=\u001b[39m renderer\u001b[38;5;241m.\u001b[39mpoints_to_pixels(\u001b[38;5;241m1.\u001b[39m) \u001b[38;5;28;01mif\u001b[39;00m renderer \u001b[38;5;28;01melse\u001b[39;00m \u001b[38;5;241m1\u001b[39m\n\u001b[1;32m    365\u001b[0m \u001b[38;5;28;01mwith\u001b[39;00m dviread\u001b[38;5;241m.\u001b[39mDvi(dvifile, \u001b[38;5;241m72\u001b[39m \u001b[38;5;241m*\u001b[39m dpi_fraction) \u001b[38;5;28;01mas\u001b[39;00m dvi:\n",
      "File \u001b[0;32m/opt/anaconda3/lib/python3.12/site-packages/matplotlib/texmanager.py:295\u001b[0m, in \u001b[0;36mTexManager.make_dvi\u001b[0;34m(cls, tex, fontsize)\u001b[0m\n\u001b[1;32m    293\u001b[0m     \u001b[38;5;28;01mwith\u001b[39;00m TemporaryDirectory(\u001b[38;5;28mdir\u001b[39m\u001b[38;5;241m=\u001b[39mcwd) \u001b[38;5;28;01mas\u001b[39;00m tmpdir:\n\u001b[1;32m    294\u001b[0m         tmppath \u001b[38;5;241m=\u001b[39m Path(tmpdir)\n\u001b[0;32m--> 295\u001b[0m         \u001b[38;5;28mcls\u001b[39m\u001b[38;5;241m.\u001b[39m_run_checked_subprocess(\n\u001b[1;32m    296\u001b[0m             [\u001b[38;5;124m\"\u001b[39m\u001b[38;5;124mlatex\u001b[39m\u001b[38;5;124m\"\u001b[39m, \u001b[38;5;124m\"\u001b[39m\u001b[38;5;124m-interaction=nonstopmode\u001b[39m\u001b[38;5;124m\"\u001b[39m, \u001b[38;5;124m\"\u001b[39m\u001b[38;5;124m--halt-on-error\u001b[39m\u001b[38;5;124m\"\u001b[39m,\n\u001b[1;32m    297\u001b[0m              \u001b[38;5;124mf\u001b[39m\u001b[38;5;124m\"\u001b[39m\u001b[38;5;124m--output-directory=\u001b[39m\u001b[38;5;132;01m{\u001b[39;00mtmppath\u001b[38;5;241m.\u001b[39mname\u001b[38;5;132;01m}\u001b[39;00m\u001b[38;5;124m\"\u001b[39m,\n\u001b[1;32m    298\u001b[0m              \u001b[38;5;124mf\u001b[39m\u001b[38;5;124m\"\u001b[39m\u001b[38;5;132;01m{\u001b[39;00mtexfile\u001b[38;5;241m.\u001b[39mname\u001b[38;5;132;01m}\u001b[39;00m\u001b[38;5;124m\"\u001b[39m], tex, cwd\u001b[38;5;241m=\u001b[39mcwd)\n\u001b[1;32m    299\u001b[0m         (tmppath \u001b[38;5;241m/\u001b[39m Path(dvifile)\u001b[38;5;241m.\u001b[39mname)\u001b[38;5;241m.\u001b[39mreplace(dvifile)\n\u001b[1;32m    300\u001b[0m \u001b[38;5;28;01mreturn\u001b[39;00m dvifile\n",
      "File \u001b[0;32m/opt/anaconda3/lib/python3.12/site-packages/matplotlib/texmanager.py:254\u001b[0m, in \u001b[0;36mTexManager._run_checked_subprocess\u001b[0;34m(cls, command, tex, cwd)\u001b[0m\n\u001b[1;32m    250\u001b[0m     report \u001b[38;5;241m=\u001b[39m subprocess\u001b[38;5;241m.\u001b[39mcheck_output(\n\u001b[1;32m    251\u001b[0m         command, cwd\u001b[38;5;241m=\u001b[39mcwd \u001b[38;5;28;01mif\u001b[39;00m cwd \u001b[38;5;129;01mis\u001b[39;00m \u001b[38;5;129;01mnot\u001b[39;00m \u001b[38;5;28;01mNone\u001b[39;00m \u001b[38;5;28;01melse\u001b[39;00m \u001b[38;5;28mcls\u001b[39m\u001b[38;5;241m.\u001b[39m_texcache,\n\u001b[1;32m    252\u001b[0m         stderr\u001b[38;5;241m=\u001b[39msubprocess\u001b[38;5;241m.\u001b[39mSTDOUT)\n\u001b[1;32m    253\u001b[0m \u001b[38;5;28;01mexcept\u001b[39;00m \u001b[38;5;167;01mFileNotFoundError\u001b[39;00m \u001b[38;5;28;01mas\u001b[39;00m exc:\n\u001b[0;32m--> 254\u001b[0m     \u001b[38;5;28;01mraise\u001b[39;00m \u001b[38;5;167;01mRuntimeError\u001b[39;00m(\n\u001b[1;32m    255\u001b[0m         \u001b[38;5;124mf\u001b[39m\u001b[38;5;124m'\u001b[39m\u001b[38;5;124mFailed to process string with tex because \u001b[39m\u001b[38;5;132;01m{\u001b[39;00mcommand[\u001b[38;5;241m0\u001b[39m]\u001b[38;5;132;01m}\u001b[39;00m\u001b[38;5;124m \u001b[39m\u001b[38;5;124m'\u001b[39m\n\u001b[1;32m    256\u001b[0m         \u001b[38;5;124m'\u001b[39m\u001b[38;5;124mcould not be found\u001b[39m\u001b[38;5;124m'\u001b[39m) \u001b[38;5;28;01mfrom\u001b[39;00m \u001b[38;5;21;01mexc\u001b[39;00m\n\u001b[1;32m    257\u001b[0m \u001b[38;5;28;01mexcept\u001b[39;00m subprocess\u001b[38;5;241m.\u001b[39mCalledProcessError \u001b[38;5;28;01mas\u001b[39;00m exc:\n\u001b[1;32m    258\u001b[0m     \u001b[38;5;28;01mraise\u001b[39;00m \u001b[38;5;167;01mRuntimeError\u001b[39;00m(\n\u001b[1;32m    259\u001b[0m         \u001b[38;5;124m'\u001b[39m\u001b[38;5;132;01m{prog}\u001b[39;00m\u001b[38;5;124m was not able to process the following string:\u001b[39m\u001b[38;5;130;01m\\n\u001b[39;00m\u001b[38;5;124m'\u001b[39m\n\u001b[1;32m    260\u001b[0m         \u001b[38;5;124m'\u001b[39m\u001b[38;5;132;01m{tex!r}\u001b[39;00m\u001b[38;5;130;01m\\n\u001b[39;00m\u001b[38;5;130;01m\\n\u001b[39;00m\u001b[38;5;124m'\u001b[39m\n\u001b[0;32m   (...)\u001b[0m\n\u001b[1;32m    267\u001b[0m             exc\u001b[38;5;241m=\u001b[39mexc\u001b[38;5;241m.\u001b[39moutput\u001b[38;5;241m.\u001b[39mdecode(\u001b[38;5;124m'\u001b[39m\u001b[38;5;124mutf-8\u001b[39m\u001b[38;5;124m'\u001b[39m, \u001b[38;5;124m'\u001b[39m\u001b[38;5;124mbackslashreplace\u001b[39m\u001b[38;5;124m'\u001b[39m))\n\u001b[1;32m    268\u001b[0m         ) \u001b[38;5;28;01mfrom\u001b[39;00m \u001b[38;5;28;01mNone\u001b[39;00m\n",
      "\u001b[0;31mRuntimeError\u001b[0m: Failed to process string with tex because latex could not be found"
     ]
    },
    {
     "data": {
      "text/plain": [
       "<Figure size 1500x900 with 1 Axes>"
      ]
     },
     "metadata": {},
     "output_type": "display_data"
    }
   ],
   "source": [
    "import seaborn as sns\n",
    "\n",
    "import matplotlib.pyplot as plt\n",
    "import matplotlib as mpl\n",
    "from matplotlib import rc\n",
    "ax.yaxis.set_major_formatter(mpl.ticker.StrMethodFormatter('{x:,.0f}'))\n",
    "\n",
    "fig,ax = plt.subplots(figsize=(15,9))\n",
    "\n",
    "\n",
    "\n",
    "plt.grid(color='grey', linestyle='-', linewidth=0.25, alpha=1)\n",
    "\n",
    "sns.regplot(x=merged_data['interest_rate'], y=merged_data['house_prices'], data=merged_data, ci=None)\n",
    "\n",
    "plt.scatter(merged_data['interest_rate'], merged_data['house_prices'], s=25, c='r')\n",
    "\n",
    "plt.xticks(rotation=70, size=10)\n",
    "\n",
    "plt.xticks(np.arange(0, 30, step=1))\n",
    "\n",
    "plt.yticks(np.arange(0, 300000, step=50000))\n",
    "\n",
    "\n",
    "ax.spines['top'].set_visible(False)\n",
    "\n",
    "ax.spines['right'].set_visible(False)\n",
    "\n",
    "plt.margins(x=0)\n",
    "\n",
    "ax.xaxis.labelpad=30\n",
    "\n",
    "ax.yaxis.labelpad=30\n",
    "\n",
    "\n",
    "plt.rcParams.update({'font.size': 21})\n",
    "\n",
    "plt.xticks(fontsize=21)\n",
    "\n",
    "plt.xlabel(\"IR\")\n",
    "plt.ylabel(\"HP\")\n",
    "\n",
    "ax.yaxis.set_major_formatter(mpl.ticker.StrMethodFormatter('{x:,.0f}'))\n",
    "\n",
    "\n",
    "from matplotlib import rc\n",
    "rc('font',**{'family':'sans-serif','sans-serif':['Helvetica']})\n",
    "rc('font',**{'family':'serif','serif':['Times']})\n",
    "rc('text', usetex=True)\n",
    "\n",
    "\n",
    "plt.show()\n"
   ]
  },
  {
   "cell_type": "markdown",
   "id": "7dc0288e-98c5-4670-9f08-61c57831c081",
   "metadata": {},
   "source": [
    "# Plotting the Regression - House Prices on Rates (Logged)"
   ]
  },
  {
   "cell_type": "code",
   "execution_count": 25,
   "id": "5fe90293-80d4-40ca-93c6-acfc602477a9",
   "metadata": {},
   "outputs": [
    {
     "ename": "RuntimeError",
     "evalue": "Failed to process string with tex because latex could not be found",
     "output_type": "error",
     "traceback": [
      "\u001b[0;31m---------------------------------------------------------------------------\u001b[0m",
      "\u001b[0;31mFileNotFoundError\u001b[0m                         Traceback (most recent call last)",
      "File \u001b[0;32m/opt/anaconda3/lib/python3.12/site-packages/matplotlib/texmanager.py:250\u001b[0m, in \u001b[0;36mTexManager._run_checked_subprocess\u001b[0;34m(cls, command, tex, cwd)\u001b[0m\n\u001b[1;32m    249\u001b[0m \u001b[38;5;28;01mtry\u001b[39;00m:\n\u001b[0;32m--> 250\u001b[0m     report \u001b[38;5;241m=\u001b[39m subprocess\u001b[38;5;241m.\u001b[39mcheck_output(\n\u001b[1;32m    251\u001b[0m         command, cwd\u001b[38;5;241m=\u001b[39mcwd \u001b[38;5;28;01mif\u001b[39;00m cwd \u001b[38;5;129;01mis\u001b[39;00m \u001b[38;5;129;01mnot\u001b[39;00m \u001b[38;5;28;01mNone\u001b[39;00m \u001b[38;5;28;01melse\u001b[39;00m \u001b[38;5;28mcls\u001b[39m\u001b[38;5;241m.\u001b[39m_texcache,\n\u001b[1;32m    252\u001b[0m         stderr\u001b[38;5;241m=\u001b[39msubprocess\u001b[38;5;241m.\u001b[39mSTDOUT)\n\u001b[1;32m    253\u001b[0m \u001b[38;5;28;01mexcept\u001b[39;00m \u001b[38;5;167;01mFileNotFoundError\u001b[39;00m \u001b[38;5;28;01mas\u001b[39;00m exc:\n",
      "File \u001b[0;32m/opt/anaconda3/lib/python3.12/subprocess.py:466\u001b[0m, in \u001b[0;36mcheck_output\u001b[0;34m(timeout, *popenargs, **kwargs)\u001b[0m\n\u001b[1;32m    464\u001b[0m     kwargs[\u001b[38;5;124m'\u001b[39m\u001b[38;5;124minput\u001b[39m\u001b[38;5;124m'\u001b[39m] \u001b[38;5;241m=\u001b[39m empty\n\u001b[0;32m--> 466\u001b[0m \u001b[38;5;28;01mreturn\u001b[39;00m run(\u001b[38;5;241m*\u001b[39mpopenargs, stdout\u001b[38;5;241m=\u001b[39mPIPE, timeout\u001b[38;5;241m=\u001b[39mtimeout, check\u001b[38;5;241m=\u001b[39m\u001b[38;5;28;01mTrue\u001b[39;00m,\n\u001b[1;32m    467\u001b[0m            \u001b[38;5;241m*\u001b[39m\u001b[38;5;241m*\u001b[39mkwargs)\u001b[38;5;241m.\u001b[39mstdout\n",
      "File \u001b[0;32m/opt/anaconda3/lib/python3.12/subprocess.py:548\u001b[0m, in \u001b[0;36mrun\u001b[0;34m(input, capture_output, timeout, check, *popenargs, **kwargs)\u001b[0m\n\u001b[1;32m    546\u001b[0m     kwargs[\u001b[38;5;124m'\u001b[39m\u001b[38;5;124mstderr\u001b[39m\u001b[38;5;124m'\u001b[39m] \u001b[38;5;241m=\u001b[39m PIPE\n\u001b[0;32m--> 548\u001b[0m \u001b[38;5;28;01mwith\u001b[39;00m Popen(\u001b[38;5;241m*\u001b[39mpopenargs, \u001b[38;5;241m*\u001b[39m\u001b[38;5;241m*\u001b[39mkwargs) \u001b[38;5;28;01mas\u001b[39;00m process:\n\u001b[1;32m    549\u001b[0m     \u001b[38;5;28;01mtry\u001b[39;00m:\n",
      "File \u001b[0;32m/opt/anaconda3/lib/python3.12/subprocess.py:1026\u001b[0m, in \u001b[0;36mPopen.__init__\u001b[0;34m(self, args, bufsize, executable, stdin, stdout, stderr, preexec_fn, close_fds, shell, cwd, env, universal_newlines, startupinfo, creationflags, restore_signals, start_new_session, pass_fds, user, group, extra_groups, encoding, errors, text, umask, pipesize, process_group)\u001b[0m\n\u001b[1;32m   1023\u001b[0m             \u001b[38;5;28mself\u001b[39m\u001b[38;5;241m.\u001b[39mstderr \u001b[38;5;241m=\u001b[39m io\u001b[38;5;241m.\u001b[39mTextIOWrapper(\u001b[38;5;28mself\u001b[39m\u001b[38;5;241m.\u001b[39mstderr,\n\u001b[1;32m   1024\u001b[0m                     encoding\u001b[38;5;241m=\u001b[39mencoding, errors\u001b[38;5;241m=\u001b[39merrors)\n\u001b[0;32m-> 1026\u001b[0m     \u001b[38;5;28mself\u001b[39m\u001b[38;5;241m.\u001b[39m_execute_child(args, executable, preexec_fn, close_fds,\n\u001b[1;32m   1027\u001b[0m                         pass_fds, cwd, env,\n\u001b[1;32m   1028\u001b[0m                         startupinfo, creationflags, shell,\n\u001b[1;32m   1029\u001b[0m                         p2cread, p2cwrite,\n\u001b[1;32m   1030\u001b[0m                         c2pread, c2pwrite,\n\u001b[1;32m   1031\u001b[0m                         errread, errwrite,\n\u001b[1;32m   1032\u001b[0m                         restore_signals,\n\u001b[1;32m   1033\u001b[0m                         gid, gids, uid, umask,\n\u001b[1;32m   1034\u001b[0m                         start_new_session, process_group)\n\u001b[1;32m   1035\u001b[0m \u001b[38;5;28;01mexcept\u001b[39;00m:\n\u001b[1;32m   1036\u001b[0m     \u001b[38;5;66;03m# Cleanup if the child failed starting.\u001b[39;00m\n",
      "File \u001b[0;32m/opt/anaconda3/lib/python3.12/subprocess.py:1955\u001b[0m, in \u001b[0;36mPopen._execute_child\u001b[0;34m(self, args, executable, preexec_fn, close_fds, pass_fds, cwd, env, startupinfo, creationflags, shell, p2cread, p2cwrite, c2pread, c2pwrite, errread, errwrite, restore_signals, gid, gids, uid, umask, start_new_session, process_group)\u001b[0m\n\u001b[1;32m   1954\u001b[0m \u001b[38;5;28;01mif\u001b[39;00m err_filename \u001b[38;5;129;01mis\u001b[39;00m \u001b[38;5;129;01mnot\u001b[39;00m \u001b[38;5;28;01mNone\u001b[39;00m:\n\u001b[0;32m-> 1955\u001b[0m     \u001b[38;5;28;01mraise\u001b[39;00m child_exception_type(errno_num, err_msg, err_filename)\n\u001b[1;32m   1956\u001b[0m \u001b[38;5;28;01melse\u001b[39;00m:\n",
      "\u001b[0;31mFileNotFoundError\u001b[0m: [Errno 2] No such file or directory: 'latex'",
      "\nThe above exception was the direct cause of the following exception:\n",
      "\u001b[0;31mRuntimeError\u001b[0m                              Traceback (most recent call last)",
      "File \u001b[0;32m/opt/anaconda3/lib/python3.12/site-packages/IPython/core/formatters.py:343\u001b[0m, in \u001b[0;36mBaseFormatter.__call__\u001b[0;34m(self, obj)\u001b[0m\n\u001b[1;32m    341\u001b[0m     \u001b[38;5;28;01mpass\u001b[39;00m\n\u001b[1;32m    342\u001b[0m \u001b[38;5;28;01melse\u001b[39;00m:\n\u001b[0;32m--> 343\u001b[0m     \u001b[38;5;28;01mreturn\u001b[39;00m printer(obj)\n\u001b[1;32m    344\u001b[0m \u001b[38;5;66;03m# Finally look for special method names\u001b[39;00m\n\u001b[1;32m    345\u001b[0m method \u001b[38;5;241m=\u001b[39m get_real_method(obj, \u001b[38;5;28mself\u001b[39m\u001b[38;5;241m.\u001b[39mprint_method)\n",
      "File \u001b[0;32m/opt/anaconda3/lib/python3.12/site-packages/IPython/core/pylabtools.py:170\u001b[0m, in \u001b[0;36mprint_figure\u001b[0;34m(fig, fmt, bbox_inches, base64, **kwargs)\u001b[0m\n\u001b[1;32m    167\u001b[0m     \u001b[38;5;28;01mfrom\u001b[39;00m \u001b[38;5;21;01mmatplotlib\u001b[39;00m\u001b[38;5;21;01m.\u001b[39;00m\u001b[38;5;21;01mbackend_bases\u001b[39;00m \u001b[38;5;28;01mimport\u001b[39;00m FigureCanvasBase\n\u001b[1;32m    168\u001b[0m     FigureCanvasBase(fig)\n\u001b[0;32m--> 170\u001b[0m fig\u001b[38;5;241m.\u001b[39mcanvas\u001b[38;5;241m.\u001b[39mprint_figure(bytes_io, \u001b[38;5;241m*\u001b[39m\u001b[38;5;241m*\u001b[39mkw)\n\u001b[1;32m    171\u001b[0m data \u001b[38;5;241m=\u001b[39m bytes_io\u001b[38;5;241m.\u001b[39mgetvalue()\n\u001b[1;32m    172\u001b[0m \u001b[38;5;28;01mif\u001b[39;00m fmt \u001b[38;5;241m==\u001b[39m \u001b[38;5;124m'\u001b[39m\u001b[38;5;124msvg\u001b[39m\u001b[38;5;124m'\u001b[39m:\n",
      "File \u001b[0;32m/opt/anaconda3/lib/python3.12/site-packages/matplotlib/backend_bases.py:2164\u001b[0m, in \u001b[0;36mFigureCanvasBase.print_figure\u001b[0;34m(self, filename, dpi, facecolor, edgecolor, orientation, format, bbox_inches, pad_inches, bbox_extra_artists, backend, **kwargs)\u001b[0m\n\u001b[1;32m   2161\u001b[0m     \u001b[38;5;66;03m# we do this instead of `self.figure.draw_without_rendering`\u001b[39;00m\n\u001b[1;32m   2162\u001b[0m     \u001b[38;5;66;03m# so that we can inject the orientation\u001b[39;00m\n\u001b[1;32m   2163\u001b[0m     \u001b[38;5;28;01mwith\u001b[39;00m \u001b[38;5;28mgetattr\u001b[39m(renderer, \u001b[38;5;124m\"\u001b[39m\u001b[38;5;124m_draw_disabled\u001b[39m\u001b[38;5;124m\"\u001b[39m, nullcontext)():\n\u001b[0;32m-> 2164\u001b[0m         \u001b[38;5;28mself\u001b[39m\u001b[38;5;241m.\u001b[39mfigure\u001b[38;5;241m.\u001b[39mdraw(renderer)\n\u001b[1;32m   2165\u001b[0m \u001b[38;5;28;01mif\u001b[39;00m bbox_inches:\n\u001b[1;32m   2166\u001b[0m     \u001b[38;5;28;01mif\u001b[39;00m bbox_inches \u001b[38;5;241m==\u001b[39m \u001b[38;5;124m\"\u001b[39m\u001b[38;5;124mtight\u001b[39m\u001b[38;5;124m\"\u001b[39m:\n",
      "File \u001b[0;32m/opt/anaconda3/lib/python3.12/site-packages/matplotlib/artist.py:95\u001b[0m, in \u001b[0;36m_finalize_rasterization.<locals>.draw_wrapper\u001b[0;34m(artist, renderer, *args, **kwargs)\u001b[0m\n\u001b[1;32m     93\u001b[0m \u001b[38;5;129m@wraps\u001b[39m(draw)\n\u001b[1;32m     94\u001b[0m \u001b[38;5;28;01mdef\u001b[39;00m \u001b[38;5;21mdraw_wrapper\u001b[39m(artist, renderer, \u001b[38;5;241m*\u001b[39margs, \u001b[38;5;241m*\u001b[39m\u001b[38;5;241m*\u001b[39mkwargs):\n\u001b[0;32m---> 95\u001b[0m     result \u001b[38;5;241m=\u001b[39m draw(artist, renderer, \u001b[38;5;241m*\u001b[39margs, \u001b[38;5;241m*\u001b[39m\u001b[38;5;241m*\u001b[39mkwargs)\n\u001b[1;32m     96\u001b[0m     \u001b[38;5;28;01mif\u001b[39;00m renderer\u001b[38;5;241m.\u001b[39m_rasterizing:\n\u001b[1;32m     97\u001b[0m         renderer\u001b[38;5;241m.\u001b[39mstop_rasterizing()\n",
      "File \u001b[0;32m/opt/anaconda3/lib/python3.12/site-packages/matplotlib/artist.py:72\u001b[0m, in \u001b[0;36mallow_rasterization.<locals>.draw_wrapper\u001b[0;34m(artist, renderer)\u001b[0m\n\u001b[1;32m     69\u001b[0m     \u001b[38;5;28;01mif\u001b[39;00m artist\u001b[38;5;241m.\u001b[39mget_agg_filter() \u001b[38;5;129;01mis\u001b[39;00m \u001b[38;5;129;01mnot\u001b[39;00m \u001b[38;5;28;01mNone\u001b[39;00m:\n\u001b[1;32m     70\u001b[0m         renderer\u001b[38;5;241m.\u001b[39mstart_filter()\n\u001b[0;32m---> 72\u001b[0m     \u001b[38;5;28;01mreturn\u001b[39;00m draw(artist, renderer)\n\u001b[1;32m     73\u001b[0m \u001b[38;5;28;01mfinally\u001b[39;00m:\n\u001b[1;32m     74\u001b[0m     \u001b[38;5;28;01mif\u001b[39;00m artist\u001b[38;5;241m.\u001b[39mget_agg_filter() \u001b[38;5;129;01mis\u001b[39;00m \u001b[38;5;129;01mnot\u001b[39;00m \u001b[38;5;28;01mNone\u001b[39;00m:\n",
      "File \u001b[0;32m/opt/anaconda3/lib/python3.12/site-packages/matplotlib/figure.py:3154\u001b[0m, in \u001b[0;36mFigure.draw\u001b[0;34m(self, renderer)\u001b[0m\n\u001b[1;32m   3151\u001b[0m         \u001b[38;5;66;03m# ValueError can occur when resizing a window.\u001b[39;00m\n\u001b[1;32m   3153\u001b[0m \u001b[38;5;28mself\u001b[39m\u001b[38;5;241m.\u001b[39mpatch\u001b[38;5;241m.\u001b[39mdraw(renderer)\n\u001b[0;32m-> 3154\u001b[0m mimage\u001b[38;5;241m.\u001b[39m_draw_list_compositing_images(\n\u001b[1;32m   3155\u001b[0m     renderer, \u001b[38;5;28mself\u001b[39m, artists, \u001b[38;5;28mself\u001b[39m\u001b[38;5;241m.\u001b[39msuppressComposite)\n\u001b[1;32m   3157\u001b[0m \u001b[38;5;28;01mfor\u001b[39;00m sfig \u001b[38;5;129;01min\u001b[39;00m \u001b[38;5;28mself\u001b[39m\u001b[38;5;241m.\u001b[39msubfigs:\n\u001b[1;32m   3158\u001b[0m     sfig\u001b[38;5;241m.\u001b[39mdraw(renderer)\n",
      "File \u001b[0;32m/opt/anaconda3/lib/python3.12/site-packages/matplotlib/image.py:132\u001b[0m, in \u001b[0;36m_draw_list_compositing_images\u001b[0;34m(renderer, parent, artists, suppress_composite)\u001b[0m\n\u001b[1;32m    130\u001b[0m \u001b[38;5;28;01mif\u001b[39;00m not_composite \u001b[38;5;129;01mor\u001b[39;00m \u001b[38;5;129;01mnot\u001b[39;00m has_images:\n\u001b[1;32m    131\u001b[0m     \u001b[38;5;28;01mfor\u001b[39;00m a \u001b[38;5;129;01min\u001b[39;00m artists:\n\u001b[0;32m--> 132\u001b[0m         a\u001b[38;5;241m.\u001b[39mdraw(renderer)\n\u001b[1;32m    133\u001b[0m \u001b[38;5;28;01melse\u001b[39;00m:\n\u001b[1;32m    134\u001b[0m     \u001b[38;5;66;03m# Composite any adjacent images together\u001b[39;00m\n\u001b[1;32m    135\u001b[0m     image_group \u001b[38;5;241m=\u001b[39m []\n",
      "File \u001b[0;32m/opt/anaconda3/lib/python3.12/site-packages/matplotlib/artist.py:72\u001b[0m, in \u001b[0;36mallow_rasterization.<locals>.draw_wrapper\u001b[0;34m(artist, renderer)\u001b[0m\n\u001b[1;32m     69\u001b[0m     \u001b[38;5;28;01mif\u001b[39;00m artist\u001b[38;5;241m.\u001b[39mget_agg_filter() \u001b[38;5;129;01mis\u001b[39;00m \u001b[38;5;129;01mnot\u001b[39;00m \u001b[38;5;28;01mNone\u001b[39;00m:\n\u001b[1;32m     70\u001b[0m         renderer\u001b[38;5;241m.\u001b[39mstart_filter()\n\u001b[0;32m---> 72\u001b[0m     \u001b[38;5;28;01mreturn\u001b[39;00m draw(artist, renderer)\n\u001b[1;32m     73\u001b[0m \u001b[38;5;28;01mfinally\u001b[39;00m:\n\u001b[1;32m     74\u001b[0m     \u001b[38;5;28;01mif\u001b[39;00m artist\u001b[38;5;241m.\u001b[39mget_agg_filter() \u001b[38;5;129;01mis\u001b[39;00m \u001b[38;5;129;01mnot\u001b[39;00m \u001b[38;5;28;01mNone\u001b[39;00m:\n",
      "File \u001b[0;32m/opt/anaconda3/lib/python3.12/site-packages/matplotlib/axes/_base.py:3070\u001b[0m, in \u001b[0;36m_AxesBase.draw\u001b[0;34m(self, renderer)\u001b[0m\n\u001b[1;32m   3067\u001b[0m \u001b[38;5;28;01mif\u001b[39;00m artists_rasterized:\n\u001b[1;32m   3068\u001b[0m     _draw_rasterized(\u001b[38;5;28mself\u001b[39m\u001b[38;5;241m.\u001b[39mfigure, artists_rasterized, renderer)\n\u001b[0;32m-> 3070\u001b[0m mimage\u001b[38;5;241m.\u001b[39m_draw_list_compositing_images(\n\u001b[1;32m   3071\u001b[0m     renderer, \u001b[38;5;28mself\u001b[39m, artists, \u001b[38;5;28mself\u001b[39m\u001b[38;5;241m.\u001b[39mfigure\u001b[38;5;241m.\u001b[39msuppressComposite)\n\u001b[1;32m   3073\u001b[0m renderer\u001b[38;5;241m.\u001b[39mclose_group(\u001b[38;5;124m'\u001b[39m\u001b[38;5;124maxes\u001b[39m\u001b[38;5;124m'\u001b[39m)\n\u001b[1;32m   3074\u001b[0m \u001b[38;5;28mself\u001b[39m\u001b[38;5;241m.\u001b[39mstale \u001b[38;5;241m=\u001b[39m \u001b[38;5;28;01mFalse\u001b[39;00m\n",
      "File \u001b[0;32m/opt/anaconda3/lib/python3.12/site-packages/matplotlib/image.py:132\u001b[0m, in \u001b[0;36m_draw_list_compositing_images\u001b[0;34m(renderer, parent, artists, suppress_composite)\u001b[0m\n\u001b[1;32m    130\u001b[0m \u001b[38;5;28;01mif\u001b[39;00m not_composite \u001b[38;5;129;01mor\u001b[39;00m \u001b[38;5;129;01mnot\u001b[39;00m has_images:\n\u001b[1;32m    131\u001b[0m     \u001b[38;5;28;01mfor\u001b[39;00m a \u001b[38;5;129;01min\u001b[39;00m artists:\n\u001b[0;32m--> 132\u001b[0m         a\u001b[38;5;241m.\u001b[39mdraw(renderer)\n\u001b[1;32m    133\u001b[0m \u001b[38;5;28;01melse\u001b[39;00m:\n\u001b[1;32m    134\u001b[0m     \u001b[38;5;66;03m# Composite any adjacent images together\u001b[39;00m\n\u001b[1;32m    135\u001b[0m     image_group \u001b[38;5;241m=\u001b[39m []\n",
      "File \u001b[0;32m/opt/anaconda3/lib/python3.12/site-packages/matplotlib/artist.py:72\u001b[0m, in \u001b[0;36mallow_rasterization.<locals>.draw_wrapper\u001b[0;34m(artist, renderer)\u001b[0m\n\u001b[1;32m     69\u001b[0m     \u001b[38;5;28;01mif\u001b[39;00m artist\u001b[38;5;241m.\u001b[39mget_agg_filter() \u001b[38;5;129;01mis\u001b[39;00m \u001b[38;5;129;01mnot\u001b[39;00m \u001b[38;5;28;01mNone\u001b[39;00m:\n\u001b[1;32m     70\u001b[0m         renderer\u001b[38;5;241m.\u001b[39mstart_filter()\n\u001b[0;32m---> 72\u001b[0m     \u001b[38;5;28;01mreturn\u001b[39;00m draw(artist, renderer)\n\u001b[1;32m     73\u001b[0m \u001b[38;5;28;01mfinally\u001b[39;00m:\n\u001b[1;32m     74\u001b[0m     \u001b[38;5;28;01mif\u001b[39;00m artist\u001b[38;5;241m.\u001b[39mget_agg_filter() \u001b[38;5;129;01mis\u001b[39;00m \u001b[38;5;129;01mnot\u001b[39;00m \u001b[38;5;28;01mNone\u001b[39;00m:\n",
      "File \u001b[0;32m/opt/anaconda3/lib/python3.12/site-packages/matplotlib/axis.py:1388\u001b[0m, in \u001b[0;36mAxis.draw\u001b[0;34m(self, renderer, *args, **kwargs)\u001b[0m\n\u001b[1;32m   1385\u001b[0m renderer\u001b[38;5;241m.\u001b[39mopen_group(\u001b[38;5;18m__name__\u001b[39m, gid\u001b[38;5;241m=\u001b[39m\u001b[38;5;28mself\u001b[39m\u001b[38;5;241m.\u001b[39mget_gid())\n\u001b[1;32m   1387\u001b[0m ticks_to_draw \u001b[38;5;241m=\u001b[39m \u001b[38;5;28mself\u001b[39m\u001b[38;5;241m.\u001b[39m_update_ticks()\n\u001b[0;32m-> 1388\u001b[0m tlb1, tlb2 \u001b[38;5;241m=\u001b[39m \u001b[38;5;28mself\u001b[39m\u001b[38;5;241m.\u001b[39m_get_ticklabel_bboxes(ticks_to_draw, renderer)\n\u001b[1;32m   1390\u001b[0m \u001b[38;5;28;01mfor\u001b[39;00m tick \u001b[38;5;129;01min\u001b[39;00m ticks_to_draw:\n\u001b[1;32m   1391\u001b[0m     tick\u001b[38;5;241m.\u001b[39mdraw(renderer)\n",
      "File \u001b[0;32m/opt/anaconda3/lib/python3.12/site-packages/matplotlib/axis.py:1315\u001b[0m, in \u001b[0;36mAxis._get_ticklabel_bboxes\u001b[0;34m(self, ticks, renderer)\u001b[0m\n\u001b[1;32m   1313\u001b[0m \u001b[38;5;28;01mif\u001b[39;00m renderer \u001b[38;5;129;01mis\u001b[39;00m \u001b[38;5;28;01mNone\u001b[39;00m:\n\u001b[1;32m   1314\u001b[0m     renderer \u001b[38;5;241m=\u001b[39m \u001b[38;5;28mself\u001b[39m\u001b[38;5;241m.\u001b[39mfigure\u001b[38;5;241m.\u001b[39m_get_renderer()\n\u001b[0;32m-> 1315\u001b[0m \u001b[38;5;28;01mreturn\u001b[39;00m ([tick\u001b[38;5;241m.\u001b[39mlabel1\u001b[38;5;241m.\u001b[39mget_window_extent(renderer)\n\u001b[1;32m   1316\u001b[0m          \u001b[38;5;28;01mfor\u001b[39;00m tick \u001b[38;5;129;01min\u001b[39;00m ticks \u001b[38;5;28;01mif\u001b[39;00m tick\u001b[38;5;241m.\u001b[39mlabel1\u001b[38;5;241m.\u001b[39mget_visible()],\n\u001b[1;32m   1317\u001b[0m         [tick\u001b[38;5;241m.\u001b[39mlabel2\u001b[38;5;241m.\u001b[39mget_window_extent(renderer)\n\u001b[1;32m   1318\u001b[0m          \u001b[38;5;28;01mfor\u001b[39;00m tick \u001b[38;5;129;01min\u001b[39;00m ticks \u001b[38;5;28;01mif\u001b[39;00m tick\u001b[38;5;241m.\u001b[39mlabel2\u001b[38;5;241m.\u001b[39mget_visible()])\n",
      "File \u001b[0;32m/opt/anaconda3/lib/python3.12/site-packages/matplotlib/text.py:956\u001b[0m, in \u001b[0;36mText.get_window_extent\u001b[0;34m(self, renderer, dpi)\u001b[0m\n\u001b[1;32m    951\u001b[0m     \u001b[38;5;28;01mraise\u001b[39;00m \u001b[38;5;167;01mRuntimeError\u001b[39;00m(\n\u001b[1;32m    952\u001b[0m         \u001b[38;5;124m\"\u001b[39m\u001b[38;5;124mCannot get window extent of text w/o renderer. You likely \u001b[39m\u001b[38;5;124m\"\u001b[39m\n\u001b[1;32m    953\u001b[0m         \u001b[38;5;124m\"\u001b[39m\u001b[38;5;124mwant to call \u001b[39m\u001b[38;5;124m'\u001b[39m\u001b[38;5;124mfigure.draw_without_rendering()\u001b[39m\u001b[38;5;124m'\u001b[39m\u001b[38;5;124m first.\u001b[39m\u001b[38;5;124m\"\u001b[39m)\n\u001b[1;32m    955\u001b[0m \u001b[38;5;28;01mwith\u001b[39;00m cbook\u001b[38;5;241m.\u001b[39m_setattr_cm(\u001b[38;5;28mself\u001b[39m\u001b[38;5;241m.\u001b[39mfigure, dpi\u001b[38;5;241m=\u001b[39mdpi):\n\u001b[0;32m--> 956\u001b[0m     bbox, info, descent \u001b[38;5;241m=\u001b[39m \u001b[38;5;28mself\u001b[39m\u001b[38;5;241m.\u001b[39m_get_layout(\u001b[38;5;28mself\u001b[39m\u001b[38;5;241m.\u001b[39m_renderer)\n\u001b[1;32m    957\u001b[0m     x, y \u001b[38;5;241m=\u001b[39m \u001b[38;5;28mself\u001b[39m\u001b[38;5;241m.\u001b[39mget_unitless_position()\n\u001b[1;32m    958\u001b[0m     x, y \u001b[38;5;241m=\u001b[39m \u001b[38;5;28mself\u001b[39m\u001b[38;5;241m.\u001b[39mget_transform()\u001b[38;5;241m.\u001b[39mtransform((x, y))\n",
      "File \u001b[0;32m/opt/anaconda3/lib/python3.12/site-packages/matplotlib/text.py:373\u001b[0m, in \u001b[0;36mText._get_layout\u001b[0;34m(self, renderer)\u001b[0m\n\u001b[1;32m    370\u001b[0m ys \u001b[38;5;241m=\u001b[39m []\n\u001b[1;32m    372\u001b[0m \u001b[38;5;66;03m# Full vertical extent of font, including ascenders and descenders:\u001b[39;00m\n\u001b[0;32m--> 373\u001b[0m _, lp_h, lp_d \u001b[38;5;241m=\u001b[39m _get_text_metrics_with_cache(\n\u001b[1;32m    374\u001b[0m     renderer, \u001b[38;5;124m\"\u001b[39m\u001b[38;5;124mlp\u001b[39m\u001b[38;5;124m\"\u001b[39m, \u001b[38;5;28mself\u001b[39m\u001b[38;5;241m.\u001b[39m_fontproperties,\n\u001b[1;32m    375\u001b[0m     ismath\u001b[38;5;241m=\u001b[39m\u001b[38;5;124m\"\u001b[39m\u001b[38;5;124mTeX\u001b[39m\u001b[38;5;124m\"\u001b[39m \u001b[38;5;28;01mif\u001b[39;00m \u001b[38;5;28mself\u001b[39m\u001b[38;5;241m.\u001b[39mget_usetex() \u001b[38;5;28;01melse\u001b[39;00m \u001b[38;5;28;01mFalse\u001b[39;00m, dpi\u001b[38;5;241m=\u001b[39m\u001b[38;5;28mself\u001b[39m\u001b[38;5;241m.\u001b[39mfigure\u001b[38;5;241m.\u001b[39mdpi)\n\u001b[1;32m    376\u001b[0m min_dy \u001b[38;5;241m=\u001b[39m (lp_h \u001b[38;5;241m-\u001b[39m lp_d) \u001b[38;5;241m*\u001b[39m \u001b[38;5;28mself\u001b[39m\u001b[38;5;241m.\u001b[39m_linespacing\n\u001b[1;32m    378\u001b[0m \u001b[38;5;28;01mfor\u001b[39;00m i, line \u001b[38;5;129;01min\u001b[39;00m \u001b[38;5;28menumerate\u001b[39m(lines):\n",
      "File \u001b[0;32m/opt/anaconda3/lib/python3.12/site-packages/matplotlib/text.py:69\u001b[0m, in \u001b[0;36m_get_text_metrics_with_cache\u001b[0;34m(renderer, text, fontprop, ismath, dpi)\u001b[0m\n\u001b[1;32m     66\u001b[0m \u001b[38;5;250m\u001b[39m\u001b[38;5;124;03m\"\"\"Call ``renderer.get_text_width_height_descent``, caching the results.\"\"\"\u001b[39;00m\n\u001b[1;32m     67\u001b[0m \u001b[38;5;66;03m# Cached based on a copy of fontprop so that later in-place mutations of\u001b[39;00m\n\u001b[1;32m     68\u001b[0m \u001b[38;5;66;03m# the passed-in argument do not mess up the cache.\u001b[39;00m\n\u001b[0;32m---> 69\u001b[0m \u001b[38;5;28;01mreturn\u001b[39;00m _get_text_metrics_with_cache_impl(\n\u001b[1;32m     70\u001b[0m     weakref\u001b[38;5;241m.\u001b[39mref(renderer), text, fontprop\u001b[38;5;241m.\u001b[39mcopy(), ismath, dpi)\n",
      "File \u001b[0;32m/opt/anaconda3/lib/python3.12/site-packages/matplotlib/text.py:77\u001b[0m, in \u001b[0;36m_get_text_metrics_with_cache_impl\u001b[0;34m(renderer_ref, text, fontprop, ismath, dpi)\u001b[0m\n\u001b[1;32m     73\u001b[0m \u001b[38;5;129m@functools\u001b[39m\u001b[38;5;241m.\u001b[39mlru_cache(\u001b[38;5;241m4096\u001b[39m)\n\u001b[1;32m     74\u001b[0m \u001b[38;5;28;01mdef\u001b[39;00m \u001b[38;5;21m_get_text_metrics_with_cache_impl\u001b[39m(\n\u001b[1;32m     75\u001b[0m         renderer_ref, text, fontprop, ismath, dpi):\n\u001b[1;32m     76\u001b[0m     \u001b[38;5;66;03m# dpi is unused, but participates in cache invalidation (via the renderer).\u001b[39;00m\n\u001b[0;32m---> 77\u001b[0m     \u001b[38;5;28;01mreturn\u001b[39;00m renderer_ref()\u001b[38;5;241m.\u001b[39mget_text_width_height_descent(text, fontprop, ismath)\n",
      "File \u001b[0;32m/opt/anaconda3/lib/python3.12/site-packages/matplotlib/backends/backend_agg.py:213\u001b[0m, in \u001b[0;36mRendererAgg.get_text_width_height_descent\u001b[0;34m(self, s, prop, ismath)\u001b[0m\n\u001b[1;32m    211\u001b[0m _api\u001b[38;5;241m.\u001b[39mcheck_in_list([\u001b[38;5;124m\"\u001b[39m\u001b[38;5;124mTeX\u001b[39m\u001b[38;5;124m\"\u001b[39m, \u001b[38;5;28;01mTrue\u001b[39;00m, \u001b[38;5;28;01mFalse\u001b[39;00m], ismath\u001b[38;5;241m=\u001b[39mismath)\n\u001b[1;32m    212\u001b[0m \u001b[38;5;28;01mif\u001b[39;00m ismath \u001b[38;5;241m==\u001b[39m \u001b[38;5;124m\"\u001b[39m\u001b[38;5;124mTeX\u001b[39m\u001b[38;5;124m\"\u001b[39m:\n\u001b[0;32m--> 213\u001b[0m     \u001b[38;5;28;01mreturn\u001b[39;00m \u001b[38;5;28msuper\u001b[39m()\u001b[38;5;241m.\u001b[39mget_text_width_height_descent(s, prop, ismath)\n\u001b[1;32m    215\u001b[0m \u001b[38;5;28;01mif\u001b[39;00m ismath:\n\u001b[1;32m    216\u001b[0m     ox, oy, width, height, descent, font_image \u001b[38;5;241m=\u001b[39m \\\n\u001b[1;32m    217\u001b[0m         \u001b[38;5;28mself\u001b[39m\u001b[38;5;241m.\u001b[39mmathtext_parser\u001b[38;5;241m.\u001b[39mparse(s, \u001b[38;5;28mself\u001b[39m\u001b[38;5;241m.\u001b[39mdpi, prop)\n",
      "File \u001b[0;32m/opt/anaconda3/lib/python3.12/site-packages/matplotlib/backend_bases.py:652\u001b[0m, in \u001b[0;36mRendererBase.get_text_width_height_descent\u001b[0;34m(self, s, prop, ismath)\u001b[0m\n\u001b[1;32m    648\u001b[0m fontsize \u001b[38;5;241m=\u001b[39m prop\u001b[38;5;241m.\u001b[39mget_size_in_points()\n\u001b[1;32m    650\u001b[0m \u001b[38;5;28;01mif\u001b[39;00m ismath \u001b[38;5;241m==\u001b[39m \u001b[38;5;124m'\u001b[39m\u001b[38;5;124mTeX\u001b[39m\u001b[38;5;124m'\u001b[39m:\n\u001b[1;32m    651\u001b[0m     \u001b[38;5;66;03m# todo: handle properties\u001b[39;00m\n\u001b[0;32m--> 652\u001b[0m     \u001b[38;5;28;01mreturn\u001b[39;00m \u001b[38;5;28mself\u001b[39m\u001b[38;5;241m.\u001b[39mget_texmanager()\u001b[38;5;241m.\u001b[39mget_text_width_height_descent(\n\u001b[1;32m    653\u001b[0m         s, fontsize, renderer\u001b[38;5;241m=\u001b[39m\u001b[38;5;28mself\u001b[39m)\n\u001b[1;32m    655\u001b[0m dpi \u001b[38;5;241m=\u001b[39m \u001b[38;5;28mself\u001b[39m\u001b[38;5;241m.\u001b[39mpoints_to_pixels(\u001b[38;5;241m72\u001b[39m)\n\u001b[1;32m    656\u001b[0m \u001b[38;5;28;01mif\u001b[39;00m ismath:\n",
      "File \u001b[0;32m/opt/anaconda3/lib/python3.12/site-packages/matplotlib/texmanager.py:363\u001b[0m, in \u001b[0;36mTexManager.get_text_width_height_descent\u001b[0;34m(cls, tex, fontsize, renderer)\u001b[0m\n\u001b[1;32m    361\u001b[0m \u001b[38;5;28;01mif\u001b[39;00m tex\u001b[38;5;241m.\u001b[39mstrip() \u001b[38;5;241m==\u001b[39m \u001b[38;5;124m'\u001b[39m\u001b[38;5;124m'\u001b[39m:\n\u001b[1;32m    362\u001b[0m     \u001b[38;5;28;01mreturn\u001b[39;00m \u001b[38;5;241m0\u001b[39m, \u001b[38;5;241m0\u001b[39m, \u001b[38;5;241m0\u001b[39m\n\u001b[0;32m--> 363\u001b[0m dvifile \u001b[38;5;241m=\u001b[39m \u001b[38;5;28mcls\u001b[39m\u001b[38;5;241m.\u001b[39mmake_dvi(tex, fontsize)\n\u001b[1;32m    364\u001b[0m dpi_fraction \u001b[38;5;241m=\u001b[39m renderer\u001b[38;5;241m.\u001b[39mpoints_to_pixels(\u001b[38;5;241m1.\u001b[39m) \u001b[38;5;28;01mif\u001b[39;00m renderer \u001b[38;5;28;01melse\u001b[39;00m \u001b[38;5;241m1\u001b[39m\n\u001b[1;32m    365\u001b[0m \u001b[38;5;28;01mwith\u001b[39;00m dviread\u001b[38;5;241m.\u001b[39mDvi(dvifile, \u001b[38;5;241m72\u001b[39m \u001b[38;5;241m*\u001b[39m dpi_fraction) \u001b[38;5;28;01mas\u001b[39;00m dvi:\n",
      "File \u001b[0;32m/opt/anaconda3/lib/python3.12/site-packages/matplotlib/texmanager.py:295\u001b[0m, in \u001b[0;36mTexManager.make_dvi\u001b[0;34m(cls, tex, fontsize)\u001b[0m\n\u001b[1;32m    293\u001b[0m     \u001b[38;5;28;01mwith\u001b[39;00m TemporaryDirectory(\u001b[38;5;28mdir\u001b[39m\u001b[38;5;241m=\u001b[39mcwd) \u001b[38;5;28;01mas\u001b[39;00m tmpdir:\n\u001b[1;32m    294\u001b[0m         tmppath \u001b[38;5;241m=\u001b[39m Path(tmpdir)\n\u001b[0;32m--> 295\u001b[0m         \u001b[38;5;28mcls\u001b[39m\u001b[38;5;241m.\u001b[39m_run_checked_subprocess(\n\u001b[1;32m    296\u001b[0m             [\u001b[38;5;124m\"\u001b[39m\u001b[38;5;124mlatex\u001b[39m\u001b[38;5;124m\"\u001b[39m, \u001b[38;5;124m\"\u001b[39m\u001b[38;5;124m-interaction=nonstopmode\u001b[39m\u001b[38;5;124m\"\u001b[39m, \u001b[38;5;124m\"\u001b[39m\u001b[38;5;124m--halt-on-error\u001b[39m\u001b[38;5;124m\"\u001b[39m,\n\u001b[1;32m    297\u001b[0m              \u001b[38;5;124mf\u001b[39m\u001b[38;5;124m\"\u001b[39m\u001b[38;5;124m--output-directory=\u001b[39m\u001b[38;5;132;01m{\u001b[39;00mtmppath\u001b[38;5;241m.\u001b[39mname\u001b[38;5;132;01m}\u001b[39;00m\u001b[38;5;124m\"\u001b[39m,\n\u001b[1;32m    298\u001b[0m              \u001b[38;5;124mf\u001b[39m\u001b[38;5;124m\"\u001b[39m\u001b[38;5;132;01m{\u001b[39;00mtexfile\u001b[38;5;241m.\u001b[39mname\u001b[38;5;132;01m}\u001b[39;00m\u001b[38;5;124m\"\u001b[39m], tex, cwd\u001b[38;5;241m=\u001b[39mcwd)\n\u001b[1;32m    299\u001b[0m         (tmppath \u001b[38;5;241m/\u001b[39m Path(dvifile)\u001b[38;5;241m.\u001b[39mname)\u001b[38;5;241m.\u001b[39mreplace(dvifile)\n\u001b[1;32m    300\u001b[0m \u001b[38;5;28;01mreturn\u001b[39;00m dvifile\n",
      "File \u001b[0;32m/opt/anaconda3/lib/python3.12/site-packages/matplotlib/texmanager.py:254\u001b[0m, in \u001b[0;36mTexManager._run_checked_subprocess\u001b[0;34m(cls, command, tex, cwd)\u001b[0m\n\u001b[1;32m    250\u001b[0m     report \u001b[38;5;241m=\u001b[39m subprocess\u001b[38;5;241m.\u001b[39mcheck_output(\n\u001b[1;32m    251\u001b[0m         command, cwd\u001b[38;5;241m=\u001b[39mcwd \u001b[38;5;28;01mif\u001b[39;00m cwd \u001b[38;5;129;01mis\u001b[39;00m \u001b[38;5;129;01mnot\u001b[39;00m \u001b[38;5;28;01mNone\u001b[39;00m \u001b[38;5;28;01melse\u001b[39;00m \u001b[38;5;28mcls\u001b[39m\u001b[38;5;241m.\u001b[39m_texcache,\n\u001b[1;32m    252\u001b[0m         stderr\u001b[38;5;241m=\u001b[39msubprocess\u001b[38;5;241m.\u001b[39mSTDOUT)\n\u001b[1;32m    253\u001b[0m \u001b[38;5;28;01mexcept\u001b[39;00m \u001b[38;5;167;01mFileNotFoundError\u001b[39;00m \u001b[38;5;28;01mas\u001b[39;00m exc:\n\u001b[0;32m--> 254\u001b[0m     \u001b[38;5;28;01mraise\u001b[39;00m \u001b[38;5;167;01mRuntimeError\u001b[39;00m(\n\u001b[1;32m    255\u001b[0m         \u001b[38;5;124mf\u001b[39m\u001b[38;5;124m'\u001b[39m\u001b[38;5;124mFailed to process string with tex because \u001b[39m\u001b[38;5;132;01m{\u001b[39;00mcommand[\u001b[38;5;241m0\u001b[39m]\u001b[38;5;132;01m}\u001b[39;00m\u001b[38;5;124m \u001b[39m\u001b[38;5;124m'\u001b[39m\n\u001b[1;32m    256\u001b[0m         \u001b[38;5;124m'\u001b[39m\u001b[38;5;124mcould not be found\u001b[39m\u001b[38;5;124m'\u001b[39m) \u001b[38;5;28;01mfrom\u001b[39;00m \u001b[38;5;21;01mexc\u001b[39;00m\n\u001b[1;32m    257\u001b[0m \u001b[38;5;28;01mexcept\u001b[39;00m subprocess\u001b[38;5;241m.\u001b[39mCalledProcessError \u001b[38;5;28;01mas\u001b[39;00m exc:\n\u001b[1;32m    258\u001b[0m     \u001b[38;5;28;01mraise\u001b[39;00m \u001b[38;5;167;01mRuntimeError\u001b[39;00m(\n\u001b[1;32m    259\u001b[0m         \u001b[38;5;124m'\u001b[39m\u001b[38;5;132;01m{prog}\u001b[39;00m\u001b[38;5;124m was not able to process the following string:\u001b[39m\u001b[38;5;130;01m\\n\u001b[39;00m\u001b[38;5;124m'\u001b[39m\n\u001b[1;32m    260\u001b[0m         \u001b[38;5;124m'\u001b[39m\u001b[38;5;132;01m{tex!r}\u001b[39;00m\u001b[38;5;130;01m\\n\u001b[39;00m\u001b[38;5;130;01m\\n\u001b[39;00m\u001b[38;5;124m'\u001b[39m\n\u001b[0;32m   (...)\u001b[0m\n\u001b[1;32m    267\u001b[0m             exc\u001b[38;5;241m=\u001b[39mexc\u001b[38;5;241m.\u001b[39moutput\u001b[38;5;241m.\u001b[39mdecode(\u001b[38;5;124m'\u001b[39m\u001b[38;5;124mutf-8\u001b[39m\u001b[38;5;124m'\u001b[39m, \u001b[38;5;124m'\u001b[39m\u001b[38;5;124mbackslashreplace\u001b[39m\u001b[38;5;124m'\u001b[39m))\n\u001b[1;32m    268\u001b[0m         ) \u001b[38;5;28;01mfrom\u001b[39;00m \u001b[38;5;28;01mNone\u001b[39;00m\n",
      "\u001b[0;31mRuntimeError\u001b[0m: Failed to process string with tex because latex could not be found"
     ]
    },
    {
     "data": {
      "text/plain": [
       "<Figure size 1500x900 with 1 Axes>"
      ]
     },
     "metadata": {},
     "output_type": "display_data"
    }
   ],
   "source": [
    "import seaborn as sns\n",
    "\n",
    "ax.yaxis.set_major_formatter(mpl.ticker.StrMethodFormatter('{x:,.0f}'))\n",
    "\n",
    "fig,ax = plt.subplots(figsize=(15,9))\n",
    "\n",
    "\n",
    "\n",
    "plt.grid(color='grey', linestyle='-', linewidth=0.25, alpha=1)\n",
    "\n",
    "sns.regplot(x=merged_data['interest_rate'], y=merged_data['house_prices_logged'], data=merged_data, ci=None)\n",
    "\n",
    "plt.scatter(merged_data['interest_rate'], merged_data['house_prices_logged'], s=25, c='r')\n",
    "\n",
    "plt.xticks(rotation=70, size=10)\n",
    "\n",
    "\n",
    "ax.spines['top'].set_visible(False)\n",
    "\n",
    "ax.spines['right'].set_visible(False)\n",
    "\n",
    "plt.margins(x=0)\n",
    "\n",
    "ax.xaxis.labelpad=30\n",
    "\n",
    "ax.yaxis.labelpad=30\n",
    "\n",
    "plt.yticks(np.arange(9, 13.5, step=0.5))\n",
    "\n",
    "\n",
    "plt.rcParams.update({'font.size': 21})\n",
    "\n",
    "plt.xticks(fontsize=21)\n",
    "\n",
    "plt.xlabel(\"IR\")\n",
    "plt.ylabel(\"ln HP\")\n",
    "\n",
    "\n",
    "from matplotlib import rc\n",
    "rc('font',**{'family':'sans-serif','sans-serif':['Helvetica']})\n",
    "rc('font',**{'family':'serif','serif':['Times']})\n",
    "rc('text', usetex=True)\n",
    "\n",
    "\n",
    "\n",
    "plt.show()\n"
   ]
  },
  {
   "cell_type": "markdown",
   "id": "d345cef0-3231-4d7b-adcf-f8c1d99883e2",
   "metadata": {},
   "source": [
    "# Running the Regression - House Prices on Rates (Not Logged)"
   ]
  },
  {
   "cell_type": "code",
   "execution_count": 27,
   "id": "55fbd645-4ba2-465f-b29e-61d79baac875",
   "metadata": {},
   "outputs": [],
   "source": [
    "merged_data['IR'] = merged_data['interest_rate']\n",
    "\n",
    "merged_data['HP'] = merged_data['house_prices']"
   ]
  },
  {
   "cell_type": "code",
   "execution_count": 29,
   "id": "f26341ff-4712-4de2-800e-6eea24269cb7",
   "metadata": {},
   "outputs": [
    {
     "name": "stdout",
     "output_type": "stream",
     "text": [
      "                            OLS Regression Results                            \n",
      "==============================================================================\n",
      "Dep. Variable:                     HP   R-squared:                       0.709\n",
      "Model:                            OLS   Adj. R-squared:                  0.703\n",
      "Method:                 Least Squares   F-statistic:                     114.5\n",
      "Date:                Tue, 24 Jun 2025   Prob (F-statistic):           3.46e-14\n",
      "Time:                        13:00:09   Log-Likelihood:                -594.03\n",
      "No. Observations:                  49   AIC:                             1192.\n",
      "Df Residuals:                      47   BIC:                             1196.\n",
      "Df Model:                           1                                         \n",
      "Covariance Type:            nonrobust                                         \n",
      "==============================================================================\n",
      "                 coef    std err          t      P>|t|      [0.025      0.975]\n",
      "------------------------------------------------------------------------------\n",
      "const       2.047e+05   1.09e+04     18.761      0.000    1.83e+05    2.27e+05\n",
      "IR         -1.509e+04   1410.688    -10.699      0.000   -1.79e+04   -1.23e+04\n",
      "==============================================================================\n",
      "Omnibus:                       11.088   Durbin-Watson:                   0.395\n",
      "Prob(Omnibus):                  0.004   Jarque-Bera (JB):               10.931\n",
      "Skew:                           0.991   Prob(JB):                      0.00423\n",
      "Kurtosis:                       4.193   Cond. No.                         13.1\n",
      "==============================================================================\n",
      "\n",
      "Notes:\n",
      "[1] Standard Errors assume that the covariance matrix of the errors is correctly specified.\n"
     ]
    }
   ],
   "source": [
    "import statsmodels.api as sm\n",
    "import pandas as pd\n",
    "\n",
    "from statsmodels.api import add_constant\n",
    "\n",
    "\n",
    "\n",
    "\n",
    "result_not_logged = sm.OLS(merged_data['HP'], sm.tools.add_constant(merged_data['IR'])).fit()\n",
    "\n",
    "\n",
    "\n",
    "# printing the summary table\n",
    "print(result_not_logged.summary())\n"
   ]
  },
  {
   "cell_type": "code",
   "execution_count": 31,
   "id": "335cf67b-29da-4d4b-b73f-fed954e6a561",
   "metadata": {},
   "outputs": [
    {
     "name": "stdout",
     "output_type": "stream",
     "text": [
      "                             OLS Regression Results                            \n",
      "===============================================================================\n",
      "Dep. Variable:     house_prices_logged   R-squared:                       1.000\n",
      "Model:                             OLS   Adj. R-squared:                  1.000\n",
      "Method:                  Least Squares   F-statistic:                 7.021e+22\n",
      "Date:                 Tue, 24 Jun 2025   Prob (F-statistic):               0.00\n",
      "Time:                         13:00:14   Log-Likelihood:                 1154.0\n",
      "No. Observations:                   49   AIC:                            -2300.\n",
      "Df Residuals:                       45   BIC:                            -2292.\n",
      "Df Model:                            3                                         \n",
      "Covariance Type:             nonrobust                                         \n",
      "=======================================================================================\n",
      "                          coef    std err          t      P>|t|      [0.025      0.975]\n",
      "---------------------------------------------------------------------------------------\n",
      "const               -4.441e-15   6.59e-11  -6.74e-05      1.000   -1.33e-10    1.33e-10\n",
      "IR                    7.91e-16   4.53e-13      0.002      0.999   -9.11e-13    9.13e-13\n",
      "house_prices        -1.056e-11   3.63e-17  -2.91e+05      0.000   -1.06e-11   -1.06e-11\n",
      "house_prices_logged     1.0000   6.17e-12   1.62e+11      0.000       1.000       1.000\n",
      "IR                     6.8e-16   4.53e-13      0.002      0.999   -9.11e-13    9.13e-13\n",
      "HP                   1.056e-11   3.63e-17   2.91e+05      0.000    1.06e-11    1.06e-11\n",
      "==============================================================================\n",
      "Omnibus:                        8.837   Durbin-Watson:                   0.004\n",
      "Prob(Omnibus):                  0.012   Jarque-Bera (JB):                4.182\n",
      "Skew:                          -0.479   Prob(JB):                        0.124\n",
      "Kurtosis:                       1.936   Cond. No.                     1.31e+21\n",
      "==============================================================================\n",
      "\n",
      "Notes:\n",
      "[1] Standard Errors assume that the covariance matrix of the errors is correctly specified.\n",
      "[2] The smallest eigenvalue is 1.09e-30. This might indicate that there are\n",
      "strong multicollinearity problems or that the design matrix is singular.\n"
     ]
    }
   ],
   "source": [
    "\n",
    "\n",
    "\n",
    "import statsmodels.api as sm\n",
    "import pandas as pd\n",
    "\n",
    "from statsmodels.api import add_constant\n",
    "\n",
    "result_not_logged = sm.OLS(merged_data['house_prices_logged'], sm.tools.add_constant(merged_data.rename(columns={\"interest_rate\": \"IR\"}))).fit()\n",
    "\n",
    "\n",
    "# printing the summary table\n",
    "print(result_not_logged.summary())\n"
   ]
  },
  {
   "cell_type": "markdown",
   "id": "b932c5de-82d8-462a-b730-4e393922e17b",
   "metadata": {},
   "source": [
    "# Running the Regression - House Prices on Rates (Logged)"
   ]
  },
  {
   "cell_type": "code",
   "execution_count": 303,
   "id": "ea6a2091-a215-4998-ad02-6209205306e5",
   "metadata": {},
   "outputs": [],
   "source": [
    "merged_data['ln HP'] = merged_data['house_prices_logged']"
   ]
  },
  {
   "cell_type": "code",
   "execution_count": 304,
   "id": "1cf74bb9-fbec-40dc-9d29-b730427fac7c",
   "metadata": {},
   "outputs": [
    {
     "name": "stdout",
     "output_type": "stream",
     "text": [
      "                            OLS Regression Results                            \n",
      "==============================================================================\n",
      "Dep. Variable:                  ln HP   R-squared:                       0.714\n",
      "Model:                            OLS   Adj. R-squared:                  0.708\n",
      "Method:                 Least Squares   F-statistic:                     117.2\n",
      "Date:                Sat, 20 Apr 2024   Prob (F-statistic):           2.33e-14\n",
      "Time:                        07:54:32   Log-Likelihood:                -37.885\n",
      "No. Observations:                  49   AIC:                             79.77\n",
      "Df Residuals:                      47   BIC:                             83.55\n",
      "Df Model:                           1                                         \n",
      "Covariance Type:            nonrobust                                         \n",
      "==============================================================================\n",
      "                 coef    std err          t      P>|t|      [0.025      0.975]\n",
      "------------------------------------------------------------------------------\n",
      "const         12.3476      0.128     96.134      0.000      12.089      12.606\n",
      "IR            -0.1798      0.017    -10.825      0.000      -0.213      -0.146\n",
      "==============================================================================\n",
      "Omnibus:                        4.559   Durbin-Watson:                   0.406\n",
      "Prob(Omnibus):                  0.102   Jarque-Bera (JB):                3.942\n",
      "Skew:                          -0.367   Prob(JB):                        0.139\n",
      "Kurtosis:                       4.180   Cond. No.                         13.1\n",
      "==============================================================================\n",
      "\n",
      "Notes:\n",
      "[1] Standard Errors assume that the covariance matrix of the errors is correctly specified.\n"
     ]
    }
   ],
   "source": [
    "import statsmodels.api as sm\n",
    "import pandas as pd\n",
    "\n",
    "from statsmodels.api import add_constant\n",
    "\n",
    "house_prices = sm.OLS(merged_data['ln HP'], sm.tools.add_constant(merged_data['IR'])).fit()\n",
    "\n",
    "# printing the summary table\n",
    "print(house_prices.summary())\n"
   ]
  },
  {
   "cell_type": "code",
   "execution_count": 305,
   "id": "2c586ca3-90d5-4abf-862b-a7a2ae728c44",
   "metadata": {},
   "outputs": [
    {
     "data": {
      "text/html": [
       "<div>\n",
       "<style scoped>\n",
       "    .dataframe tbody tr th:only-of-type {\n",
       "        vertical-align: middle;\n",
       "    }\n",
       "\n",
       "    .dataframe tbody tr th {\n",
       "        vertical-align: top;\n",
       "    }\n",
       "\n",
       "    .dataframe thead th {\n",
       "        text-align: right;\n",
       "    }\n",
       "</style>\n",
       "<table border=\"1\" class=\"dataframe\">\n",
       "  <thead>\n",
       "    <tr style=\"text-align: right;\">\n",
       "      <th></th>\n",
       "      <th>interest_rate</th>\n",
       "      <th>house_prices</th>\n",
       "      <th>house_prices_logged</th>\n",
       "      <th>IR</th>\n",
       "      <th>HP</th>\n",
       "      <th>ln HP</th>\n",
       "      <th>interest_rate_logged</th>\n",
       "    </tr>\n",
       "  </thead>\n",
       "  <tbody>\n",
       "    <tr>\n",
       "      <th>1975</th>\n",
       "      <td>10.846154</td>\n",
       "      <td>9529.757632</td>\n",
       "      <td>9.162175</td>\n",
       "      <td>10.846154</td>\n",
       "      <td>9529.757632</td>\n",
       "      <td>9.162175</td>\n",
       "      <td>2.383811</td>\n",
       "    </tr>\n",
       "    <tr>\n",
       "      <th>1976</th>\n",
       "      <td>11.678571</td>\n",
       "      <td>10372.559850</td>\n",
       "      <td>9.246919</td>\n",
       "      <td>11.678571</td>\n",
       "      <td>10372.559850</td>\n",
       "      <td>9.246919</td>\n",
       "      <td>2.457756</td>\n",
       "    </tr>\n",
       "    <tr>\n",
       "      <th>1977</th>\n",
       "      <td>8.960526</td>\n",
       "      <td>11134.128123</td>\n",
       "      <td>9.317770</td>\n",
       "      <td>8.960526</td>\n",
       "      <td>11134.128123</td>\n",
       "      <td>9.317770</td>\n",
       "      <td>2.192829</td>\n",
       "    </tr>\n",
       "    <tr>\n",
       "      <th>1978</th>\n",
       "      <td>9.041667</td>\n",
       "      <td>12956.814850</td>\n",
       "      <td>9.469377</td>\n",
       "      <td>9.041667</td>\n",
       "      <td>12956.814850</td>\n",
       "      <td>9.469377</td>\n",
       "      <td>2.201844</td>\n",
       "    </tr>\n",
       "    <tr>\n",
       "      <th>1979</th>\n",
       "      <td>14.000000</td>\n",
       "      <td>16764.656208</td>\n",
       "      <td>9.727028</td>\n",
       "      <td>14.000000</td>\n",
       "      <td>16764.656208</td>\n",
       "      <td>9.727028</td>\n",
       "      <td>2.639057</td>\n",
       "    </tr>\n",
       "  </tbody>\n",
       "</table>\n",
       "</div>"
      ],
      "text/plain": [
       "      interest_rate  house_prices  house_prices_logged         IR  \\\n",
       "1975      10.846154   9529.757632             9.162175  10.846154   \n",
       "1976      11.678571  10372.559850             9.246919  11.678571   \n",
       "1977       8.960526  11134.128123             9.317770   8.960526   \n",
       "1978       9.041667  12956.814850             9.469377   9.041667   \n",
       "1979      14.000000  16764.656208             9.727028  14.000000   \n",
       "\n",
       "                HP     ln HP  interest_rate_logged  \n",
       "1975   9529.757632  9.162175              2.383811  \n",
       "1976  10372.559850  9.246919              2.457756  \n",
       "1977  11134.128123  9.317770              2.192829  \n",
       "1978  12956.814850  9.469377              2.201844  \n",
       "1979  16764.656208  9.727028              2.639057  "
      ]
     },
     "execution_count": 305,
     "metadata": {},
     "output_type": "execute_result"
    }
   ],
   "source": [
    "merged_data[\"interest_rate_logged\"] = np.log (merged_data.interest_rate)\n",
    "\n",
    "merged_data.head()"
   ]
  },
  {
   "cell_type": "markdown",
   "id": "ed91b37e-7570-4149-86f2-2bc955961878",
   "metadata": {},
   "source": [
    "# Using Interest Rate Logged as Independent Variable"
   ]
  },
  {
   "cell_type": "code",
   "execution_count": 307,
   "id": "c62d39e1-b9d4-476c-aa50-b9443deef601",
   "metadata": {},
   "outputs": [
    {
     "name": "stdout",
     "output_type": "stream",
     "text": [
      "                             OLS Regression Results                            \n",
      "===============================================================================\n",
      "Dep. Variable:     house_prices_logged   R-squared:                       0.579\n",
      "Model:                             OLS   Adj. R-squared:                  0.570\n",
      "Method:                  Least Squares   F-statistic:                     64.62\n",
      "Date:                 Sat, 20 Apr 2024   Prob (F-statistic):           2.23e-10\n",
      "Time:                         07:54:32   Log-Likelihood:                -47.338\n",
      "No. Observations:                   49   AIC:                             98.68\n",
      "Df Residuals:                       47   BIC:                             102.5\n",
      "Df Model:                            1                                         \n",
      "Covariance Type:             nonrobust                                         \n",
      "========================================================================================\n",
      "                           coef    std err          t      P>|t|      [0.025      0.975]\n",
      "----------------------------------------------------------------------------------------\n",
      "const                   11.9519      0.129     92.616      0.000      11.692      12.212\n",
      "interest_rate_logged    -0.5674      0.071     -8.039      0.000      -0.709      -0.425\n",
      "==============================================================================\n",
      "Omnibus:                        0.475   Durbin-Watson:                   0.239\n",
      "Prob(Omnibus):                  0.789   Jarque-Bera (JB):                0.198\n",
      "Skew:                          -0.155   Prob(JB):                        0.906\n",
      "Kurtosis:                       3.036   Cond. No.                         2.97\n",
      "==============================================================================\n",
      "\n",
      "Notes:\n",
      "[1] Standard Errors assume that the covariance matrix of the errors is correctly specified.\n"
     ]
    }
   ],
   "source": [
    "from statsmodels.api import add_constant\n",
    "\n",
    "result_logged = sm.OLS(merged_data['house_prices_logged'], sm.tools.add_constant(merged_data[\"interest_rate_logged\"])).fit()\n",
    "\n",
    "# printing the summary table\n",
    "print(result_logged.summary())\n"
   ]
  },
  {
   "cell_type": "markdown",
   "id": "fe790f92-3a39-4c96-8b6d-5cdb925fcb21",
   "metadata": {},
   "source": [
    "# QQ Plot Showing Normality of Residuals (Logged vs Not Logged)"
   ]
  },
  {
   "cell_type": "code",
   "execution_count": 309,
   "id": "c105a69f-2cfe-4b89-89f8-379d8600338f",
   "metadata": {},
   "outputs": [
    {
     "data": {
      "image/png": "[encoded data removed]",
      "text/plain": [
       "<Figure size 648x432 with 1 Axes>"
      ]
     },
     "metadata": {
      "needs_background": "light"
     },
     "output_type": "display_data"
    }
   ],
   "source": [
    "import statsmodels.api as sm\n",
    "import matplotlib.pyplot as plt\n",
    "\n",
    "plt.rc(\"figure\", figsize=(9,6))\n",
    "\n",
    "residuals = result_not_logged.resid\n",
    "\n",
    "sm.qqplot (residuals, line = 's')\n",
    "\n",
    "plt.grid(color='grey', linestyle='-', linewidth=0.25, alpha=1)\n",
    "\n",
    "\n",
    "plt.show()\n"
   ]
  },
  {
   "cell_type": "code",
   "execution_count": 310,
   "id": "ac383d87-8aa1-41ac-9420-965cd4086647",
   "metadata": {},
   "outputs": [
    {
     "data": {
      "image/png": "[encoded data removed]",
      "text/plain": [
       "<Figure size 648x432 with 1 Axes>"
      ]
     },
     "metadata": {
      "needs_background": "light"
     },
     "output_type": "display_data"
    }
   ],
   "source": [
    "import statsmodels.api as sm\n",
    "import matplotlib.pyplot as plt\n",
    "\n",
    "plt.rc(\"figure\", figsize=(9,6))\n",
    "\n",
    "residuals = result_logged.resid\n",
    "\n",
    "sm.qqplot (residuals, line = 's')\n",
    "\n",
    "plt.grid(color='grey', linestyle='-', linewidth=0.25, alpha=1)\n",
    "\n",
    "\n",
    "plt.show()"
   ]
  },
  {
   "cell_type": "code",
   "execution_count": 311,
   "id": "c02447ad-6c29-43c2-9971-138421317f3f",
   "metadata": {},
   "outputs": [
    {
     "data": {
      "image/png": "[encoded data removed]",
      "text/plain": [
       "<Figure size 648x432 with 1 Axes>"
      ]
     },
     "metadata": {
      "needs_background": "light"
     },
     "output_type": "display_data"
    }
   ],
   "source": [
    "plt.hist(merged_data['house_prices'])\n",
    "plt.show()\n"
   ]
  },
  {
   "cell_type": "code",
   "execution_count": 312,
   "id": "8c827bcc-572d-49d4-be1c-d43502a2a04a",
   "metadata": {},
   "outputs": [
    {
     "data": {
      "image/png": "[encoded data removed]",
      "text/plain": [
       "<Figure size 648x432 with 1 Axes>"
      ]
     },
     "metadata": {
      "needs_background": "light"
     },
     "output_type": "display_data"
    }
   ],
   "source": [
    "plt.hist(merged_data['house_prices_logged'])\n",
    "plt.show()\n"
   ]
  },
  {
   "cell_type": "code",
   "execution_count": 313,
   "id": "9a83c982-3cbe-4c2d-8801-861a84a5f4c4",
   "metadata": {},
   "outputs": [
    {
     "data": {
      "image/png": "[encoded data removed]",
      "text/plain": [
       "<Figure size 648x432 with 1 Axes>"
      ]
     },
     "metadata": {
      "needs_background": "light"
     },
     "output_type": "display_data"
    }
   ],
   "source": [
    "plt.rc(\"figure\", figsize=(9,6))\n",
    "\n",
    "residuals = result_not_logged.resid\n",
    "\n",
    "plt.scatter(merged_data.index, merged_data['interest_rate'], label = \"interest_rate\", s=25, c='g')\n",
    "\n",
    "plt.grid(color='grey', linestyle='-', linewidth=0.25, alpha=1)\n",
    "\n",
    "\n",
    "plt.show()\n"
   ]
  },
  {
   "cell_type": "markdown",
   "id": "8bc1031e-e95b-4312-8dee-cb4bf40a6b65",
   "metadata": {},
   "source": [
    "# Percentage Change of Interest Rate and House Prices"
   ]
  },
  {
   "cell_type": "code",
   "execution_count": 393,
   "id": "1c3fd883-28e0-40d9-8e1e-e8ab3403df0d",
   "metadata": {},
   "outputs": [
    {
     "data": {
      "text/html": [
       "<div>\n",
       "<style scoped>\n",
       "    .dataframe tbody tr th:only-of-type {\n",
       "        vertical-align: middle;\n",
       "    }\n",
       "\n",
       "    .dataframe tbody tr th {\n",
       "        vertical-align: top;\n",
       "    }\n",
       "\n",
       "    .dataframe thead th {\n",
       "        text-align: right;\n",
       "    }\n",
       "</style>\n",
       "<table border=\"1\" class=\"dataframe\">\n",
       "  <thead>\n",
       "    <tr style=\"text-align: right;\">\n",
       "      <th></th>\n",
       "      <th>interest_rate</th>\n",
       "      <th>house_prices</th>\n",
       "      <th>house_prices_logged</th>\n",
       "      <th>IR</th>\n",
       "      <th>HP</th>\n",
       "      <th>ln HP</th>\n",
       "      <th>interest_rate_logged</th>\n",
       "      <th>interest_rate_%_change</th>\n",
       "      <th>house_price_logged_%_change</th>\n",
       "    </tr>\n",
       "  </thead>\n",
       "  <tbody>\n",
       "    <tr>\n",
       "      <th>1976</th>\n",
       "      <td>11.678571</td>\n",
       "      <td>10372.559850</td>\n",
       "      <td>9.246919</td>\n",
       "      <td>11.678571</td>\n",
       "      <td>10372.559850</td>\n",
       "      <td>9.246919</td>\n",
       "      <td>2.457756</td>\n",
       "      <td>0.076748</td>\n",
       "      <td>0.009249</td>\n",
       "    </tr>\n",
       "    <tr>\n",
       "      <th>1977</th>\n",
       "      <td>8.960526</td>\n",
       "      <td>11134.128123</td>\n",
       "      <td>9.317770</td>\n",
       "      <td>8.960526</td>\n",
       "      <td>11134.128123</td>\n",
       "      <td>9.317770</td>\n",
       "      <td>2.192829</td>\n",
       "      <td>-0.232738</td>\n",
       "      <td>0.007662</td>\n",
       "    </tr>\n",
       "    <tr>\n",
       "      <th>1978</th>\n",
       "      <td>9.041667</td>\n",
       "      <td>12956.814850</td>\n",
       "      <td>9.469377</td>\n",
       "      <td>9.041667</td>\n",
       "      <td>12956.814850</td>\n",
       "      <td>9.469377</td>\n",
       "      <td>2.201844</td>\n",
       "      <td>0.009055</td>\n",
       "      <td>0.016271</td>\n",
       "    </tr>\n",
       "    <tr>\n",
       "      <th>1979</th>\n",
       "      <td>14.000000</td>\n",
       "      <td>16764.656208</td>\n",
       "      <td>9.727028</td>\n",
       "      <td>14.000000</td>\n",
       "      <td>16764.656208</td>\n",
       "      <td>9.727028</td>\n",
       "      <td>2.639057</td>\n",
       "      <td>0.548387</td>\n",
       "      <td>0.027209</td>\n",
       "    </tr>\n",
       "    <tr>\n",
       "      <th>1980</th>\n",
       "      <td>15.000000</td>\n",
       "      <td>20267.870253</td>\n",
       "      <td>9.916792</td>\n",
       "      <td>15.000000</td>\n",
       "      <td>20267.870253</td>\n",
       "      <td>9.916792</td>\n",
       "      <td>2.708050</td>\n",
       "      <td>0.071429</td>\n",
       "      <td>0.019509</td>\n",
       "    </tr>\n",
       "  </tbody>\n",
       "</table>\n",
       "</div>"
      ],
      "text/plain": [
       "      interest_rate  house_prices  house_prices_logged         IR  \\\n",
       "1976      11.678571  10372.559850             9.246919  11.678571   \n",
       "1977       8.960526  11134.128123             9.317770   8.960526   \n",
       "1978       9.041667  12956.814850             9.469377   9.041667   \n",
       "1979      14.000000  16764.656208             9.727028  14.000000   \n",
       "1980      15.000000  20267.870253             9.916792  15.000000   \n",
       "\n",
       "                HP     ln HP  interest_rate_logged  interest_rate_%_change  \\\n",
       "1976  10372.559850  9.246919              2.457756                0.076748   \n",
       "1977  11134.128123  9.317770              2.192829               -0.232738   \n",
       "1978  12956.814850  9.469377              2.201844                0.009055   \n",
       "1979  16764.656208  9.727028              2.639057                0.548387   \n",
       "1980  20267.870253  9.916792              2.708050                0.071429   \n",
       "\n",
       "      house_price_logged_%_change  \n",
       "1976                     0.009249  \n",
       "1977                     0.007662  \n",
       "1978                     0.016271  \n",
       "1979                     0.027209  \n",
       "1980                     0.019509  "
      ]
     },
     "execution_count": 393,
     "metadata": {},
     "output_type": "execute_result"
    }
   ],
   "source": [
    "percentage_changes = merged_data\n",
    "\n",
    "percentage_changes[\"interest_rate_%_change\"] = merged_data[\"interest_rate\"].pct_change()\n",
    "\n",
    "percentage_changes[\"house_price_logged_%_change\"] = merged_data[\"house_prices_logged\"].pct_change()\n",
    "\n",
    "percentage_changes = percentage_changes.drop(1975)\n",
    "\n",
    "percentage_changes.head()\n"
   ]
  },
  {
   "cell_type": "code",
   "execution_count": 395,
   "id": "99fa7cb6-938f-4a6c-ab2b-c8dc604aeac3",
   "metadata": {},
   "outputs": [
    {
     "data": {
      "image/png": "[encoded data removed]",
      "text/plain": [
       "<Figure size 720x432 with 1 Axes>"
      ]
     },
     "metadata": {
      "needs_background": "light"
     },
     "output_type": "display_data"
    }
   ],
   "source": [
    "fig,ax = plt.subplots(figsize=(10,6))\n",
    "\n",
    "\n",
    "plt.scatter(percentage_changes.index, percentage_changes[\"interest_rate_%_change\"], label = \"interest_rate_%_change\", s=25, c='g')\n",
    "\n",
    "plt.scatter(percentage_changes.index, percentage_changes[\"house_price_logged_%_change\"], label = \"house_price_logged_%_change\", s=25, c='b')\n",
    "\n",
    "\n",
    "plt.xticks(rotation=70, size=8)\n",
    "\n",
    "\n",
    "plt.xlabel(\"year\")\n",
    "plt.ylabel(\"value\")\n",
    "\n",
    "plt.xticks(rotation=70, size=10)\n",
    "\n",
    "plt.xticks(np.arange(1975, 2023, step=5))\n",
    "\n",
    "plt.grid(color='grey', linestyle='-', linewidth=0.25, alpha=1)\n",
    "\n",
    "plt.legend()\n",
    "\n",
    "plt.show()\n",
    "\n"
   ]
  },
  {
   "cell_type": "code",
   "execution_count": 397,
   "id": "822a378b-0868-4a12-825f-654d2c89afbd",
   "metadata": {},
   "outputs": [
    {
     "name": "stdout",
     "output_type": "stream",
     "text": [
      "                                 OLS Regression Results                                \n",
      "=======================================================================================\n",
      "Dep. Variable:     house_price_logged_%_change   R-squared:                       0.010\n",
      "Model:                                     OLS   Adj. R-squared:                 -0.012\n",
      "Method:                          Least Squares   F-statistic:                    0.4417\n",
      "Date:                         Sat, 20 Apr 2024   Prob (F-statistic):              0.510\n",
      "Time:                                 07:54:46   Log-Likelihood:                 171.24\n",
      "No. Observations:                           48   AIC:                            -338.5\n",
      "Df Residuals:                               46   BIC:                            -334.7\n",
      "Df Model:                                    1                                         \n",
      "Covariance Type:                     nonrobust                                         \n",
      "==========================================================================================\n",
      "                             coef    std err          t      P>|t|      [0.025      0.975]\n",
      "------------------------------------------------------------------------------------------\n",
      "const                      0.0065      0.001      6.410      0.000       0.004       0.009\n",
      "interest_rate_%_change     0.0007      0.001      0.665      0.510      -0.001       0.003\n",
      "==============================================================================\n",
      "Omnibus:                        5.828   Durbin-Watson:                   0.681\n",
      "Prob(Omnibus):                  0.054   Jarque-Bera (JB):                4.666\n",
      "Skew:                           0.696   Prob(JB):                       0.0970\n",
      "Kurtosis:                       3.627   Cond. No.                         1.17\n",
      "==============================================================================\n",
      "\n",
      "Notes:\n",
      "[1] Standard Errors assume that the covariance matrix of the errors is correctly specified.\n"
     ]
    }
   ],
   "source": [
    "percentage_change_result = sm.OLS(percentage_changes[\"house_price_logged_%_change\"], sm.tools.add_constant(percentage_changes[\"interest_rate_%_change\"])).fit()\n",
    "\n",
    "# printing the summary table\n",
    "print(percentage_change_result.summary())\n"
   ]
  },
  {
   "cell_type": "code",
   "execution_count": 399,
   "id": "f0808288-3510-4f04-a190-b6703c9b53e2",
   "metadata": {},
   "outputs": [
    {
     "name": "stdout",
     "output_type": "stream",
     "text": [
      "                                 OLS Regression Results                                \n",
      "=======================================================================================\n",
      "Dep. Variable:     house_price_logged_%_change   R-squared:                       0.010\n",
      "Model:                                     OLS   Adj. R-squared:                 -0.012\n",
      "Method:                          Least Squares   F-statistic:                    0.4417\n",
      "Date:                         Sat, 20 Apr 2024   Prob (F-statistic):              0.510\n",
      "Time:                                 07:54:47   Log-Likelihood:                 171.24\n",
      "No. Observations:                           48   AIC:                            -338.5\n",
      "Df Residuals:                               46   BIC:                            -334.7\n",
      "Df Model:                                    1                                         \n",
      "Covariance Type:                     nonrobust                                         \n",
      "==========================================================================================\n",
      "                             coef    std err          t      P>|t|      [0.025      0.975]\n",
      "------------------------------------------------------------------------------------------\n",
      "const                      0.0065      0.001      6.410      0.000       0.004       0.009\n",
      "interest_rate_%_change     0.0007      0.001      0.665      0.510      -0.001       0.003\n",
      "==============================================================================\n",
      "Omnibus:                        5.828   Durbin-Watson:                   0.681\n",
      "Prob(Omnibus):                  0.054   Jarque-Bera (JB):                4.666\n",
      "Skew:                           0.696   Prob(JB):                       0.0970\n",
      "Kurtosis:                       3.627   Cond. No.                         1.17\n",
      "==============================================================================\n",
      "\n",
      "Notes:\n",
      "[1] Standard Errors assume that the covariance matrix of the errors is correctly specified.\n"
     ]
    }
   ],
   "source": [
    "result_percentage_change = sm.OLS(percentage_changes['house_price_logged_%_change'], sm.tools.add_constant(percentage_changes['interest_rate_%_change'])).fit()\n",
    "\n",
    "# printing the summary table\n",
    "print(result_percentage_change.summary())\n"
   ]
  },
  {
   "cell_type": "code",
   "execution_count": 319,
   "id": "5711ee6a-3db8-4763-b8d2-4e4f65ea0cf6",
   "metadata": {},
   "outputs": [
    {
     "data": {
      "image/png": "[encoded data removed]",
      "text/plain": [
       "<Figure size 648x432 with 1 Axes>"
      ]
     },
     "metadata": {
      "needs_background": "light"
     },
     "output_type": "display_data"
    }
   ],
   "source": [
    "import statsmodels.api as sm\n",
    "import matplotlib.pyplot as plt\n",
    "\n",
    "plt.rc(\"figure\", figsize=(9,6))\n",
    "\n",
    "residuals = result_percentage_change.resid\n",
    "\n",
    "sm.qqplot (residuals, line = 's')\n",
    "\n",
    "plt.grid(color='grey', linestyle='-', linewidth=0.25, alpha=1)\n",
    "\n",
    "\n",
    "plt.show()"
   ]
  },
  {
   "cell_type": "code",
   "execution_count": 401,
   "id": "414f3c16-d4b3-4155-8420-bbf7585a1a4b",
   "metadata": {},
   "outputs": [
    {
     "data": {
      "image/png": "[encoded data removed]",
      "text/plain": [
       "<Figure size 720x432 with 1 Axes>"
      ]
     },
     "metadata": {
      "needs_background": "light"
     },
     "output_type": "display_data"
    }
   ],
   "source": [
    "import seaborn as sns\n",
    "\n",
    "fig,ax = plt.subplots(figsize=(10,6))\n",
    "\n",
    "\n",
    "\n",
    "plt.grid(color='grey', linestyle='-', linewidth=0.25, alpha=1)\n",
    "\n",
    "sns.regplot(x=merged_data['interest_rate_%_change'], y=merged_data['house_price_logged_%_change'], data=merged_data, ci=None)\n",
    "\n",
    "plt.scatter(merged_data['interest_rate_%_change'], merged_data['house_price_logged_%_change'], s=25, c='r')\n",
    "\n",
    "plt.xticks(rotation=70, size=10)\n",
    "\n",
    "plt.xlabel(\"interest_rate\")\n",
    "plt.ylabel(\"house_prices_logged_changed\")\n",
    "\n",
    "\n",
    "plt.show()\n",
    "\n"
   ]
  },
  {
   "cell_type": "code",
   "execution_count": 402,
   "id": "554aaff7-a178-499a-bf8c-b2327bce4bfe",
   "metadata": {},
   "outputs": [
    {
     "data": {
      "image/png": "[encoded data removed]",
      "text/plain": [
       "<Figure size 648x432 with 1 Axes>"
      ]
     },
     "metadata": {
      "needs_background": "light"
     },
     "output_type": "display_data"
    }
   ],
   "source": [
    "plt.hist(merged_data['house_price_logged_%_change'])\n",
    "plt.show()\n"
   ]
  },
  {
   "cell_type": "code",
   "execution_count": 403,
   "id": "6f3fe3a0-80b1-4c89-9647-55705d235da8",
   "metadata": {},
   "outputs": [
    {
     "data": {
      "image/png": "[encoded data removed]",
      "text/plain": [
       "<Figure size 648x432 with 1 Axes>"
      ]
     },
     "metadata": {
      "needs_background": "light"
     },
     "output_type": "display_data"
    }
   ],
   "source": [
    "plt.hist(merged_data['interest_rate'])\n",
    "plt.show()\n"
   ]
  },
  {
   "cell_type": "markdown",
   "id": "d3a399b6-790b-4d87-b830-ce6feeb681dc",
   "metadata": {},
   "source": [
    "# Cleansing GDP Data"
   ]
  },
  {
   "cell_type": "code",
   "execution_count": null,
   "id": "ddc144c7-f0c7-40a4-bd5a-7e9d6e95f5f4",
   "metadata": {},
   "outputs": [],
   "source": []
  },
  {
   "cell_type": "code",
   "execution_count": 407,
   "id": "26eb9be1-bde8-40f2-af0f-48ab5b47938a",
   "metadata": {},
   "outputs": [],
   "source": [
    "gdp = pd.read_csv (\"GDP - UK.csv\")\n",
    "\n",
    "gdp = gdp.set_index (\"Date\")\n",
    "\n",
    "merged_data.index = merged_data.index.astype('int64') \n"
   ]
  },
  {
   "cell_type": "code",
   "execution_count": 409,
   "id": "599d9c2c-54f3-43d8-9fa0-e064321d9192",
   "metadata": {},
   "outputs": [
    {
     "data": {
      "text/html": [
       "<div>\n",
       "<style scoped>\n",
       "    .dataframe tbody tr th:only-of-type {\n",
       "        vertical-align: middle;\n",
       "    }\n",
       "\n",
       "    .dataframe tbody tr th {\n",
       "        vertical-align: top;\n",
       "    }\n",
       "\n",
       "    .dataframe thead th {\n",
       "        text-align: right;\n",
       "    }\n",
       "</style>\n",
       "<table border=\"1\" class=\"dataframe\">\n",
       "  <thead>\n",
       "    <tr style=\"text-align: right;\">\n",
       "      <th></th>\n",
       "      <th>interest_rate</th>\n",
       "      <th>house_prices</th>\n",
       "      <th>house_prices_logged</th>\n",
       "      <th>IR</th>\n",
       "      <th>HP</th>\n",
       "      <th>ln HP</th>\n",
       "      <th>interest_rate_logged</th>\n",
       "      <th>interest_rate_%_change</th>\n",
       "      <th>house_price_logged_%_change</th>\n",
       "      <th>GDP</th>\n",
       "    </tr>\n",
       "  </thead>\n",
       "  <tbody>\n",
       "    <tr>\n",
       "      <th>1975</th>\n",
       "      <td>10.846154</td>\n",
       "      <td>9529.757632</td>\n",
       "      <td>9.162175</td>\n",
       "      <td>10.846154</td>\n",
       "      <td>9529.757632</td>\n",
       "      <td>9.162175</td>\n",
       "      <td>2.383811</td>\n",
       "      <td>NaN</td>\n",
       "      <td>NaN</td>\n",
       "      <td>856049.0</td>\n",
       "    </tr>\n",
       "    <tr>\n",
       "      <th>1976</th>\n",
       "      <td>11.678571</td>\n",
       "      <td>10372.559850</td>\n",
       "      <td>9.246919</td>\n",
       "      <td>11.678571</td>\n",
       "      <td>10372.559850</td>\n",
       "      <td>9.246919</td>\n",
       "      <td>2.457756</td>\n",
       "      <td>0.076748</td>\n",
       "      <td>0.009249</td>\n",
       "      <td>881878.0</td>\n",
       "    </tr>\n",
       "    <tr>\n",
       "      <th>1977</th>\n",
       "      <td>8.960526</td>\n",
       "      <td>11134.128123</td>\n",
       "      <td>9.317770</td>\n",
       "      <td>8.960526</td>\n",
       "      <td>11134.128123</td>\n",
       "      <td>9.317770</td>\n",
       "      <td>2.192829</td>\n",
       "      <td>-0.232738</td>\n",
       "      <td>0.007662</td>\n",
       "      <td>903587.0</td>\n",
       "    </tr>\n",
       "    <tr>\n",
       "      <th>1978</th>\n",
       "      <td>9.041667</td>\n",
       "      <td>12956.814850</td>\n",
       "      <td>9.469377</td>\n",
       "      <td>9.041667</td>\n",
       "      <td>12956.814850</td>\n",
       "      <td>9.469377</td>\n",
       "      <td>2.201844</td>\n",
       "      <td>0.009055</td>\n",
       "      <td>0.016271</td>\n",
       "      <td>941461.0</td>\n",
       "    </tr>\n",
       "    <tr>\n",
       "      <th>1979</th>\n",
       "      <td>14.000000</td>\n",
       "      <td>16764.656208</td>\n",
       "      <td>9.727028</td>\n",
       "      <td>14.000000</td>\n",
       "      <td>16764.656208</td>\n",
       "      <td>9.727028</td>\n",
       "      <td>2.639057</td>\n",
       "      <td>0.548387</td>\n",
       "      <td>0.027209</td>\n",
       "      <td>976566.0</td>\n",
       "    </tr>\n",
       "  </tbody>\n",
       "</table>\n",
       "</div>"
      ],
      "text/plain": [
       "      interest_rate  house_prices  house_prices_logged         IR  \\\n",
       "1975      10.846154   9529.757632             9.162175  10.846154   \n",
       "1976      11.678571  10372.559850             9.246919  11.678571   \n",
       "1977       8.960526  11134.128123             9.317770   8.960526   \n",
       "1978       9.041667  12956.814850             9.469377   9.041667   \n",
       "1979      14.000000  16764.656208             9.727028  14.000000   \n",
       "\n",
       "                HP     ln HP  interest_rate_logged  interest_rate_%_change  \\\n",
       "1975   9529.757632  9.162175              2.383811                     NaN   \n",
       "1976  10372.559850  9.246919              2.457756                0.076748   \n",
       "1977  11134.128123  9.317770              2.192829               -0.232738   \n",
       "1978  12956.814850  9.469377              2.201844                0.009055   \n",
       "1979  16764.656208  9.727028              2.639057                0.548387   \n",
       "\n",
       "      house_price_logged_%_change       GDP  \n",
       "1975                          NaN  856049.0  \n",
       "1976                     0.009249  881878.0  \n",
       "1977                     0.007662  903587.0  \n",
       "1978                     0.016271  941461.0  \n",
       "1979                     0.027209  976566.0  "
      ]
     },
     "execution_count": 409,
     "metadata": {},
     "output_type": "execute_result"
    }
   ],
   "source": [
    "merged_data_with_gdp = merged_data.merge(gdp, how=\"left\", left_index=True, right_index=True)\n",
    "\n",
    "merged_data_with_gdp.head()"
   ]
  },
  {
   "cell_type": "code",
   "execution_count": 411,
   "id": "6cba8188-66a0-4b29-949a-6e4b93f0840d",
   "metadata": {},
   "outputs": [],
   "source": [
    "merged_data_with_gdp[\"gdp_logged\"] = np.log(merged_data_with_gdp[\"GDP\"])"
   ]
  },
  {
   "cell_type": "code",
   "execution_count": 413,
   "id": "7ebaebf7-ba79-4fb9-8152-96d691cfcdac",
   "metadata": {},
   "outputs": [],
   "source": [
    "merged_data_with_gdp.rename(columns ={\"GDP\": \"gdp\"}, inplace= True)\n"
   ]
  },
  {
   "cell_type": "markdown",
   "id": "41c50206-1549-4257-a82e-7ef1ea9d147d",
   "metadata": {},
   "source": [
    "# Plotting with GDP Data"
   ]
  },
  {
   "cell_type": "code",
   "execution_count": 415,
   "id": "b694f14d-0171-4df3-9256-f63f2e86ccc0",
   "metadata": {},
   "outputs": [
    {
     "data": {
      "image/png": "[encoded data removed]",
      "text/plain": [
       "<Figure size 720x432 with 1 Axes>"
      ]
     },
     "metadata": {
      "needs_background": "light"
     },
     "output_type": "display_data"
    }
   ],
   "source": [
    "fig,ax = plt.subplots(figsize=(10,6))\n",
    "\n",
    "plt.plot(merged_data_with_gdp.index, merged_data_with_gdp['interest_rate'], label = \"interest_rate\", linestyle = 'dashed', linewidth = '1.8', c='g')\n",
    "\n",
    "plt.plot(merged_data_with_gdp.index, merged_data_with_gdp[\"house_prices_logged\"], label = \"house_prices_logged\", linestyle = 'dashed', linewidth = '1.8', c='b')\n",
    "\n",
    "plt.plot(merged_data_with_gdp.index, merged_data_with_gdp[\"gdp_logged\"], label = \"gdp_logged\", linestyle = 'dashed', linewidth = '1.8', c='r')\n",
    "\n",
    "\n",
    "plt.xticks(rotation=70, size=10)\n",
    "\n",
    "plt.xticks(np.arange(1975, 2023, step=5))\n",
    "\n",
    "#plt.yticks(np.arange(-1, 101, step=10))\n",
    "\n",
    "\n",
    "plt.grid(color='grey', linestyle='-', linewidth=0.25, alpha=1)\n",
    "\n",
    "\n",
    "plt.xlabel(\"year\")\n",
    "plt.ylabel(\"value\")\n",
    "\n",
    "\n",
    "plt.legend()\n",
    "\n",
    "plt.show()\n"
   ]
  },
  {
   "cell_type": "markdown",
   "id": "c5115e42-dea4-4320-95b0-fe5090e3e018",
   "metadata": {},
   "source": [
    "# Cleansing Employment Rate Data"
   ]
  },
  {
   "cell_type": "code",
   "execution_count": 417,
   "id": "fbfe1c3f-9710-4f6d-a31d-6e0abf73ea35",
   "metadata": {},
   "outputs": [],
   "source": [
    "import pandas as pd\n",
    "\n",
    "employmnet_rates = pd.read_csv (\"Employment Rate Data.csv\")\n",
    "\n",
    "employmnet_rates = employmnet_rates.set_index (\"Year\")\n",
    "\n",
    "employmnet_rates.index = employmnet_rates.index.astype('int64') \n",
    "\n",
    "employmnet_rates.rename(columns ={\"Employment Rate\": \"employment_rate\"}, inplace = True)\n"
   ]
  },
  {
   "cell_type": "markdown",
   "id": "28879d6e-276c-44f2-aae6-c815024bd4b6",
   "metadata": {},
   "source": [
    "# Merging Employment Rate Data with Master Table"
   ]
  },
  {
   "cell_type": "code",
   "execution_count": 419,
   "id": "1f19619b-883e-410d-a928-14b3dedbfbd8",
   "metadata": {},
   "outputs": [
    {
     "data": {
      "text/html": [
       "<div>\n",
       "<style scoped>\n",
       "    .dataframe tbody tr th:only-of-type {\n",
       "        vertical-align: middle;\n",
       "    }\n",
       "\n",
       "    .dataframe tbody tr th {\n",
       "        vertical-align: top;\n",
       "    }\n",
       "\n",
       "    .dataframe thead th {\n",
       "        text-align: right;\n",
       "    }\n",
       "</style>\n",
       "<table border=\"1\" class=\"dataframe\">\n",
       "  <thead>\n",
       "    <tr style=\"text-align: right;\">\n",
       "      <th></th>\n",
       "      <th>interest_rate</th>\n",
       "      <th>house_prices</th>\n",
       "      <th>house_prices_logged</th>\n",
       "      <th>IR</th>\n",
       "      <th>HP</th>\n",
       "      <th>ln HP</th>\n",
       "      <th>interest_rate_logged</th>\n",
       "      <th>interest_rate_%_change</th>\n",
       "      <th>house_price_logged_%_change</th>\n",
       "      <th>gdp</th>\n",
       "      <th>gdp_logged</th>\n",
       "      <th>employment_rate</th>\n",
       "    </tr>\n",
       "  </thead>\n",
       "  <tbody>\n",
       "    <tr>\n",
       "      <th>1975</th>\n",
       "      <td>10.846154</td>\n",
       "      <td>9529.757632</td>\n",
       "      <td>9.162175</td>\n",
       "      <td>10.846154</td>\n",
       "      <td>9529.757632</td>\n",
       "      <td>9.162175</td>\n",
       "      <td>2.383811</td>\n",
       "      <td>NaN</td>\n",
       "      <td>NaN</td>\n",
       "      <td>856049.0</td>\n",
       "      <td>13.660083</td>\n",
       "      <td>72.6</td>\n",
       "    </tr>\n",
       "    <tr>\n",
       "      <th>1976</th>\n",
       "      <td>11.678571</td>\n",
       "      <td>10372.559850</td>\n",
       "      <td>9.246919</td>\n",
       "      <td>11.678571</td>\n",
       "      <td>10372.559850</td>\n",
       "      <td>9.246919</td>\n",
       "      <td>2.457756</td>\n",
       "      <td>0.076748</td>\n",
       "      <td>0.009249</td>\n",
       "      <td>881878.0</td>\n",
       "      <td>13.689809</td>\n",
       "      <td>71.9</td>\n",
       "    </tr>\n",
       "    <tr>\n",
       "      <th>1977</th>\n",
       "      <td>8.960526</td>\n",
       "      <td>11134.128123</td>\n",
       "      <td>9.317770</td>\n",
       "      <td>8.960526</td>\n",
       "      <td>11134.128123</td>\n",
       "      <td>9.317770</td>\n",
       "      <td>2.192829</td>\n",
       "      <td>-0.232738</td>\n",
       "      <td>0.007662</td>\n",
       "      <td>903587.0</td>\n",
       "      <td>13.714128</td>\n",
       "      <td>71.6</td>\n",
       "    </tr>\n",
       "    <tr>\n",
       "      <th>1978</th>\n",
       "      <td>9.041667</td>\n",
       "      <td>12956.814850</td>\n",
       "      <td>9.469377</td>\n",
       "      <td>9.041667</td>\n",
       "      <td>12956.814850</td>\n",
       "      <td>9.469377</td>\n",
       "      <td>2.201844</td>\n",
       "      <td>0.009055</td>\n",
       "      <td>0.016271</td>\n",
       "      <td>941461.0</td>\n",
       "      <td>13.755188</td>\n",
       "      <td>71.6</td>\n",
       "    </tr>\n",
       "    <tr>\n",
       "      <th>1979</th>\n",
       "      <td>14.000000</td>\n",
       "      <td>16764.656208</td>\n",
       "      <td>9.727028</td>\n",
       "      <td>14.000000</td>\n",
       "      <td>16764.656208</td>\n",
       "      <td>9.727028</td>\n",
       "      <td>2.639057</td>\n",
       "      <td>0.548387</td>\n",
       "      <td>0.027209</td>\n",
       "      <td>976566.0</td>\n",
       "      <td>13.791798</td>\n",
       "      <td>71.8</td>\n",
       "    </tr>\n",
       "  </tbody>\n",
       "</table>\n",
       "</div>"
      ],
      "text/plain": [
       "      interest_rate  house_prices  house_prices_logged         IR  \\\n",
       "1975      10.846154   9529.757632             9.162175  10.846154   \n",
       "1976      11.678571  10372.559850             9.246919  11.678571   \n",
       "1977       8.960526  11134.128123             9.317770   8.960526   \n",
       "1978       9.041667  12956.814850             9.469377   9.041667   \n",
       "1979      14.000000  16764.656208             9.727028  14.000000   \n",
       "\n",
       "                HP     ln HP  interest_rate_logged  interest_rate_%_change  \\\n",
       "1975   9529.757632  9.162175              2.383811                     NaN   \n",
       "1976  10372.559850  9.246919              2.457756                0.076748   \n",
       "1977  11134.128123  9.317770              2.192829               -0.232738   \n",
       "1978  12956.814850  9.469377              2.201844                0.009055   \n",
       "1979  16764.656208  9.727028              2.639057                0.548387   \n",
       "\n",
       "      house_price_logged_%_change       gdp  gdp_logged  employment_rate  \n",
       "1975                          NaN  856049.0   13.660083             72.6  \n",
       "1976                     0.009249  881878.0   13.689809             71.9  \n",
       "1977                     0.007662  903587.0   13.714128             71.6  \n",
       "1978                     0.016271  941461.0   13.755188             71.6  \n",
       "1979                     0.027209  976566.0   13.791798             71.8  "
      ]
     },
     "execution_count": 419,
     "metadata": {},
     "output_type": "execute_result"
    }
   ],
   "source": [
    "merged_data_with_employment = merged_data_with_gdp.merge(employmnet_rates, how=\"left\", left_index=True, right_index=True)\n",
    "\n",
    "merged_data_with_employment.head()\n"
   ]
  },
  {
   "cell_type": "markdown",
   "id": "e697c372-6859-40f3-a224-496089e06884",
   "metadata": {},
   "source": [
    "# Plotting All Variables ---- Y Axis needs amending! "
   ]
  },
  {
   "cell_type": "code",
   "execution_count": 421,
   "id": "1df6eaf9-6c56-450f-a44a-5a3b89bf38e3",
   "metadata": {},
   "outputs": [],
   "source": [
    "merged_data_with_employment[[\"employment_rate_div_10\"]] = merged_data_with_employment[[\"employment_rate\"]]/ 10"
   ]
  },
  {
   "cell_type": "code",
   "execution_count": 423,
   "id": "fbebe97e-069f-4fb7-b9c2-b5366978b891",
   "metadata": {},
   "outputs": [
    {
     "data": {
      "image/png": "[encoded data removed]",
      "text/plain": [
       "<Figure size 1080x648 with 1 Axes>"
      ]
     },
     "metadata": {
      "needs_background": "light"
     },
     "output_type": "display_data"
    }
   ],
   "source": [
    "fig,ax = plt.subplots(figsize=(15,9))\n",
    "\n",
    "plt.plot(merged_data_with_employment.index, merged_data_with_employment['interest_rate'], label = \"IR\", linestyle = 'dashed', linewidth = '1.8', c='g')\n",
    "\n",
    "plt.plot(merged_data_with_employment.index, merged_data_with_employment[\"house_prices_logged\"], label = \"ln HP\", linestyle = 'dashed', linewidth = '1.8', c='b')\n",
    "\n",
    "plt.plot(merged_data_with_employment.index, merged_data_with_employment[\"gdp_logged\"], label = \"ln GDP\", linestyle = 'dashed', linewidth = '1.8', c='r')\n",
    "\n",
    "plt.plot(merged_data_with_employment.index, merged_data_with_employment[\"employment_rate_div_10\"], label = \"ER_div_10\", linestyle = 'dashed', linewidth = '1.8', c='y')\n",
    "\n",
    "plt.xticks(rotation=70, size=10)\n",
    "\n",
    "plt.xticks(np.arange(1975, 2024, step=1))\n",
    "\n",
    "plt.yticks(np.arange(0, 18, step=1))\n",
    "\n",
    "\n",
    "ax.spines['top'].set_visible(False)\n",
    "\n",
    "ax.spines['right'].set_visible(False)\n",
    "\n",
    "plt.margins(x=0)\n",
    "\n",
    "plt.margins(y=0)\n",
    "\n",
    "ax.xaxis.labelpad=30\n",
    "\n",
    "ax.yaxis.labelpad=30\n",
    "\n",
    "\n",
    "plt.rcParams.update({'font.size': 18})\n",
    "\n",
    "plt.xticks(fontsize=15)\n",
    "\n",
    "plt.grid(color='grey', linestyle='-', linewidth=0.25, alpha=1)\n",
    "\n",
    "from matplotlib import rc\n",
    "rc('font',**{'family':'sans-serif','sans-serif':['Helvetica']})\n",
    "rc('font',**{'family':'serif','serif':['Times']})\n",
    "rc('text', usetex=True)\n",
    "\n",
    "\n",
    "plt.grid(color='grey', linestyle='-', linewidth=0.25, alpha=1)\n",
    "\n",
    "\n",
    "plt.xlabel(\"Year\")\n",
    "plt.ylabel(\"Value\")\n",
    "\n",
    "\n",
    "plt.legend()\n",
    "\n",
    "plt.show()\n",
    "\n",
    "\n"
   ]
  },
  {
   "cell_type": "markdown",
   "id": "1561f778-436e-4bd1-8cf6-b3c70f14964c",
   "metadata": {},
   "source": [
    "# Transforming Employment Rate"
   ]
  },
  {
   "cell_type": "code",
   "execution_count": 425,
   "id": "5892ba24-91da-4827-b5ae-41d00b8d25a5",
   "metadata": {},
   "outputs": [
    {
     "data": {
      "text/html": [
       "<div>\n",
       "<style scoped>\n",
       "    .dataframe tbody tr th:only-of-type {\n",
       "        vertical-align: middle;\n",
       "    }\n",
       "\n",
       "    .dataframe tbody tr th {\n",
       "        vertical-align: top;\n",
       "    }\n",
       "\n",
       "    .dataframe thead th {\n",
       "        text-align: right;\n",
       "    }\n",
       "</style>\n",
       "<table border=\"1\" class=\"dataframe\">\n",
       "  <thead>\n",
       "    <tr style=\"text-align: right;\">\n",
       "      <th></th>\n",
       "      <th>interest_rate</th>\n",
       "      <th>house_prices</th>\n",
       "      <th>house_prices_logged</th>\n",
       "      <th>IR</th>\n",
       "      <th>HP</th>\n",
       "      <th>ln HP</th>\n",
       "      <th>interest_rate_logged</th>\n",
       "      <th>interest_rate_%_change</th>\n",
       "      <th>house_price_logged_%_change</th>\n",
       "      <th>gdp</th>\n",
       "      <th>gdp_logged</th>\n",
       "      <th>employment_rate</th>\n",
       "      <th>employment_rate_div_10</th>\n",
       "    </tr>\n",
       "  </thead>\n",
       "  <tbody>\n",
       "    <tr>\n",
       "      <th>2018</th>\n",
       "      <td>0.750</td>\n",
       "      <td>228354.187692</td>\n",
       "      <td>12.338653</td>\n",
       "      <td>0.750</td>\n",
       "      <td>228354.187692</td>\n",
       "      <td>12.338653</td>\n",
       "      <td>-0.287682</td>\n",
       "      <td>0.500000</td>\n",
       "      <td>0.002512</td>\n",
       "      <td>2197841.0</td>\n",
       "      <td>14.602986</td>\n",
       "      <td>75.4</td>\n",
       "      <td>7.54</td>\n",
       "    </tr>\n",
       "    <tr>\n",
       "      <th>2019</th>\n",
       "      <td>0.750</td>\n",
       "      <td>230612.082450</td>\n",
       "      <td>12.348492</td>\n",
       "      <td>0.750</td>\n",
       "      <td>230612.082450</td>\n",
       "      <td>12.348492</td>\n",
       "      <td>-0.287682</td>\n",
       "      <td>0.000000</td>\n",
       "      <td>0.000797</td>\n",
       "      <td>2233921.0</td>\n",
       "      <td>14.619269</td>\n",
       "      <td>75.8</td>\n",
       "      <td>7.58</td>\n",
       "    </tr>\n",
       "    <tr>\n",
       "      <th>2020</th>\n",
       "      <td>0.175</td>\n",
       "      <td>237217.610683</td>\n",
       "      <td>12.376733</td>\n",
       "      <td>0.175</td>\n",
       "      <td>237217.610683</td>\n",
       "      <td>12.376733</td>\n",
       "      <td>-1.742969</td>\n",
       "      <td>-0.766667</td>\n",
       "      <td>0.002287</td>\n",
       "      <td>2002489.0</td>\n",
       "      <td>14.509901</td>\n",
       "      <td>75.0</td>\n",
       "      <td>7.50</td>\n",
       "    </tr>\n",
       "    <tr>\n",
       "      <th>2021</th>\n",
       "      <td>0.250</td>\n",
       "      <td>258430.224539</td>\n",
       "      <td>12.462381</td>\n",
       "      <td>0.250</td>\n",
       "      <td>258430.224539</td>\n",
       "      <td>12.462381</td>\n",
       "      <td>-1.386294</td>\n",
       "      <td>0.428571</td>\n",
       "      <td>0.006920</td>\n",
       "      <td>2176203.0</td>\n",
       "      <td>14.593092</td>\n",
       "      <td>74.7</td>\n",
       "      <td>7.47</td>\n",
       "    </tr>\n",
       "    <tr>\n",
       "      <th>2022</th>\n",
       "      <td>1.750</td>\n",
       "      <td>283499.857186</td>\n",
       "      <td>12.554967</td>\n",
       "      <td>1.750</td>\n",
       "      <td>283499.857186</td>\n",
       "      <td>12.554967</td>\n",
       "      <td>0.559616</td>\n",
       "      <td>6.000000</td>\n",
       "      <td>0.007429</td>\n",
       "      <td>2270764.0</td>\n",
       "      <td>14.635627</td>\n",
       "      <td>75.1</td>\n",
       "      <td>7.51</td>\n",
       "    </tr>\n",
       "  </tbody>\n",
       "</table>\n",
       "</div>"
      ],
      "text/plain": [
       "      interest_rate   house_prices  house_prices_logged     IR             HP  \\\n",
       "2018          0.750  228354.187692            12.338653  0.750  228354.187692   \n",
       "2019          0.750  230612.082450            12.348492  0.750  230612.082450   \n",
       "2020          0.175  237217.610683            12.376733  0.175  237217.610683   \n",
       "2021          0.250  258430.224539            12.462381  0.250  258430.224539   \n",
       "2022          1.750  283499.857186            12.554967  1.750  283499.857186   \n",
       "\n",
       "          ln HP  interest_rate_logged  interest_rate_%_change  \\\n",
       "2018  12.338653             -0.287682                0.500000   \n",
       "2019  12.348492             -0.287682                0.000000   \n",
       "2020  12.376733             -1.742969               -0.766667   \n",
       "2021  12.462381             -1.386294                0.428571   \n",
       "2022  12.554967              0.559616                6.000000   \n",
       "\n",
       "      house_price_logged_%_change        gdp  gdp_logged  employment_rate  \\\n",
       "2018                     0.002512  2197841.0   14.602986             75.4   \n",
       "2019                     0.000797  2233921.0   14.619269             75.8   \n",
       "2020                     0.002287  2002489.0   14.509901             75.0   \n",
       "2021                     0.006920  2176203.0   14.593092             74.7   \n",
       "2022                     0.007429  2270764.0   14.635627             75.1   \n",
       "\n",
       "      employment_rate_div_10  \n",
       "2018                    7.54  \n",
       "2019                    7.58  \n",
       "2020                    7.50  \n",
       "2021                    7.47  \n",
       "2022                    7.51  "
      ]
     },
     "execution_count": 425,
     "metadata": {},
     "output_type": "execute_result"
    }
   ],
   "source": [
    "merged_data_with_employment[[\"employment_rate_div_10\"]] = merged_data_with_employment[[\"employment_rate\"]]/ 10\n",
    "\n",
    "merged_data_with_employment = merged_data_with_employment.drop(2023)\n",
    "\n",
    "merged_data_with_employment.tail()"
   ]
  },
  {
   "cell_type": "code",
   "execution_count": 427,
   "id": "8d6d541f-dd2b-42b8-87ef-a4fa5a6158ae",
   "metadata": {},
   "outputs": [
    {
     "data": {
      "text/html": [
       "<div>\n",
       "<style scoped>\n",
       "    .dataframe tbody tr th:only-of-type {\n",
       "        vertical-align: middle;\n",
       "    }\n",
       "\n",
       "    .dataframe tbody tr th {\n",
       "        vertical-align: top;\n",
       "    }\n",
       "\n",
       "    .dataframe thead th {\n",
       "        text-align: right;\n",
       "    }\n",
       "</style>\n",
       "<table border=\"1\" class=\"dataframe\">\n",
       "  <thead>\n",
       "    <tr style=\"text-align: right;\">\n",
       "      <th></th>\n",
       "      <th>interest_rate</th>\n",
       "      <th>house_prices</th>\n",
       "      <th>house_prices_logged</th>\n",
       "      <th>IR</th>\n",
       "      <th>HP</th>\n",
       "      <th>ln HP</th>\n",
       "      <th>interest_rate_logged</th>\n",
       "      <th>interest_rate_%_change</th>\n",
       "      <th>house_price_logged_%_change</th>\n",
       "      <th>gdp</th>\n",
       "      <th>gdp_logged</th>\n",
       "      <th>employment_rate</th>\n",
       "      <th>employment_rate_div_10</th>\n",
       "    </tr>\n",
       "  </thead>\n",
       "  <tbody>\n",
       "    <tr>\n",
       "      <th>2018</th>\n",
       "      <td>0.750</td>\n",
       "      <td>228354.187692</td>\n",
       "      <td>12.338653</td>\n",
       "      <td>0.750</td>\n",
       "      <td>228354.187692</td>\n",
       "      <td>12.338653</td>\n",
       "      <td>-0.287682</td>\n",
       "      <td>0.500000</td>\n",
       "      <td>0.002512</td>\n",
       "      <td>2197841.0</td>\n",
       "      <td>14.602986</td>\n",
       "      <td>75.4</td>\n",
       "      <td>7.54</td>\n",
       "    </tr>\n",
       "    <tr>\n",
       "      <th>2019</th>\n",
       "      <td>0.750</td>\n",
       "      <td>230612.082450</td>\n",
       "      <td>12.348492</td>\n",
       "      <td>0.750</td>\n",
       "      <td>230612.082450</td>\n",
       "      <td>12.348492</td>\n",
       "      <td>-0.287682</td>\n",
       "      <td>0.000000</td>\n",
       "      <td>0.000797</td>\n",
       "      <td>2233921.0</td>\n",
       "      <td>14.619269</td>\n",
       "      <td>75.8</td>\n",
       "      <td>7.58</td>\n",
       "    </tr>\n",
       "    <tr>\n",
       "      <th>2020</th>\n",
       "      <td>0.175</td>\n",
       "      <td>237217.610683</td>\n",
       "      <td>12.376733</td>\n",
       "      <td>0.175</td>\n",
       "      <td>237217.610683</td>\n",
       "      <td>12.376733</td>\n",
       "      <td>-1.742969</td>\n",
       "      <td>-0.766667</td>\n",
       "      <td>0.002287</td>\n",
       "      <td>2002489.0</td>\n",
       "      <td>14.509901</td>\n",
       "      <td>75.0</td>\n",
       "      <td>7.50</td>\n",
       "    </tr>\n",
       "    <tr>\n",
       "      <th>2021</th>\n",
       "      <td>0.250</td>\n",
       "      <td>258430.224539</td>\n",
       "      <td>12.462381</td>\n",
       "      <td>0.250</td>\n",
       "      <td>258430.224539</td>\n",
       "      <td>12.462381</td>\n",
       "      <td>-1.386294</td>\n",
       "      <td>0.428571</td>\n",
       "      <td>0.006920</td>\n",
       "      <td>2176203.0</td>\n",
       "      <td>14.593092</td>\n",
       "      <td>74.7</td>\n",
       "      <td>7.47</td>\n",
       "    </tr>\n",
       "    <tr>\n",
       "      <th>2022</th>\n",
       "      <td>1.750</td>\n",
       "      <td>283499.857186</td>\n",
       "      <td>12.554967</td>\n",
       "      <td>1.750</td>\n",
       "      <td>283499.857186</td>\n",
       "      <td>12.554967</td>\n",
       "      <td>0.559616</td>\n",
       "      <td>6.000000</td>\n",
       "      <td>0.007429</td>\n",
       "      <td>2270764.0</td>\n",
       "      <td>14.635627</td>\n",
       "      <td>75.1</td>\n",
       "      <td>7.51</td>\n",
       "    </tr>\n",
       "  </tbody>\n",
       "</table>\n",
       "</div>"
      ],
      "text/plain": [
       "      interest_rate   house_prices  house_prices_logged     IR             HP  \\\n",
       "2018          0.750  228354.187692            12.338653  0.750  228354.187692   \n",
       "2019          0.750  230612.082450            12.348492  0.750  230612.082450   \n",
       "2020          0.175  237217.610683            12.376733  0.175  237217.610683   \n",
       "2021          0.250  258430.224539            12.462381  0.250  258430.224539   \n",
       "2022          1.750  283499.857186            12.554967  1.750  283499.857186   \n",
       "\n",
       "          ln HP  interest_rate_logged  interest_rate_%_change  \\\n",
       "2018  12.338653             -0.287682                0.500000   \n",
       "2019  12.348492             -0.287682                0.000000   \n",
       "2020  12.376733             -1.742969               -0.766667   \n",
       "2021  12.462381             -1.386294                0.428571   \n",
       "2022  12.554967              0.559616                6.000000   \n",
       "\n",
       "      house_price_logged_%_change        gdp  gdp_logged  employment_rate  \\\n",
       "2018                     0.002512  2197841.0   14.602986             75.4   \n",
       "2019                     0.000797  2233921.0   14.619269             75.8   \n",
       "2020                     0.002287  2002489.0   14.509901             75.0   \n",
       "2021                     0.006920  2176203.0   14.593092             74.7   \n",
       "2022                     0.007429  2270764.0   14.635627             75.1   \n",
       "\n",
       "      employment_rate_div_10  \n",
       "2018                    7.54  \n",
       "2019                    7.58  \n",
       "2020                    7.50  \n",
       "2021                    7.47  \n",
       "2022                    7.51  "
      ]
     },
     "execution_count": 427,
     "metadata": {},
     "output_type": "execute_result"
    }
   ],
   "source": [
    "merged_data_with_employment.tail()"
   ]
  },
  {
   "cell_type": "markdown",
   "id": "3f8557db-12e7-4d65-aae3-6e7d2591e0b4",
   "metadata": {},
   "source": [
    "# Graphing all Variables"
   ]
  },
  {
   "cell_type": "code",
   "execution_count": 429,
   "id": "69d54a79-c597-4436-b9e2-f2f90936eb1d",
   "metadata": {},
   "outputs": [
    {
     "data": {
      "image/png": "[encoded data removed]",
      "text/plain": [
       "<Figure size 720x432 with 1 Axes>"
      ]
     },
     "metadata": {
      "needs_background": "light"
     },
     "output_type": "display_data"
    }
   ],
   "source": [
    "fig,ax = plt.subplots(figsize=(10,6))\n",
    "\n",
    "plt.plot(merged_data_with_employment.index, merged_data_with_employment['interest_rate'], label = \"interest_rate\", linestyle = 'dashed', linewidth = '1.8', c='g')\n",
    "\n",
    "plt.plot(merged_data_with_employment.index, merged_data_with_employment[\"house_prices_logged\"], label = \"house_prices_logged\", linestyle = 'dashed', linewidth = '1.8', c='b')\n",
    "\n",
    "plt.plot(merged_data_with_employment.index, merged_data_with_employment[\"gdp_logged\"], label = \"gdp_logged\", linestyle = 'dashed', linewidth = '1.8', c='r')\n",
    "\n",
    "plt.plot(merged_data_with_employment.index, merged_data_with_employment[\"employment_rate_div_10\"], label = \"employment_rate_div_10\", linestyle = 'dashed', linewidth = '1.8', c='y')\n",
    "\n",
    "plt.xticks(rotation=70, size=10)\n",
    "\n",
    "plt.xticks(np.arange(1975, 2023, step=5))\n",
    "\n",
    "plt.yticks(np.arange(0, 18, step=2))\n",
    "\n",
    "\n",
    "\n",
    "plt.grid(color='grey', linestyle='-', linewidth=0.25, alpha=1)\n",
    "\n",
    "\n",
    "plt.xlabel(\"year\")\n",
    "plt.ylabel(\"value\")\n",
    "\n",
    "\n",
    "plt.legend()\n",
    "\n",
    "plt.show()\n"
   ]
  },
  {
   "cell_type": "markdown",
   "id": "3a5176a7-237b-43db-8108-531ac4adaec8",
   "metadata": {},
   "source": [
    "# OLS Model with non-transformed variables"
   ]
  },
  {
   "cell_type": "code",
   "execution_count": 431,
   "id": "ee946871-094f-4735-8e23-d2b6aceb17d8",
   "metadata": {},
   "outputs": [
    {
     "ename": "KeyError",
     "evalue": "\"None of [Index(['house_price_logged'], dtype='object')] are in the [columns]\"",
     "output_type": "error",
     "traceback": [
      "\u001b[0;31m---------------------------------------------------------------------------\u001b[0m",
      "\u001b[0;31mKeyError\u001b[0m                                  Traceback (most recent call last)",
      "Input \u001b[0;32mIn [431]\u001b[0m, in \u001b[0;36m<cell line: 3>\u001b[0;34m()\u001b[0m\n\u001b[1;32m      1\u001b[0m X \u001b[38;5;241m=\u001b[39m merged_data_with_employment [[\u001b[38;5;124m\"\u001b[39m\u001b[38;5;124memployment_rate\u001b[39m\u001b[38;5;124m\"\u001b[39m]]\n\u001b[0;32m----> 3\u001b[0m Y \u001b[38;5;241m=\u001b[39m \u001b[43mmerged_data_with_employment\u001b[49m\u001b[43m \u001b[49m\u001b[43m[\u001b[49m\u001b[43m[\u001b[49m\u001b[38;5;124;43m\"\u001b[39;49m\u001b[38;5;124;43mhouse_price_logged\u001b[39;49m\u001b[38;5;124;43m\"\u001b[39;49m\u001b[43m]\u001b[49m\u001b[43m]\u001b[49m\n",
      "File \u001b[0;32m/opt/conda/envs/anaconda-2022.05-py39/lib/python3.9/site-packages/pandas/core/frame.py:3511\u001b[0m, in \u001b[0;36mDataFrame.__getitem__\u001b[0;34m(self, key)\u001b[0m\n\u001b[1;32m   3509\u001b[0m     \u001b[38;5;28;01mif\u001b[39;00m is_iterator(key):\n\u001b[1;32m   3510\u001b[0m         key \u001b[38;5;241m=\u001b[39m \u001b[38;5;28mlist\u001b[39m(key)\n\u001b[0;32m-> 3511\u001b[0m     indexer \u001b[38;5;241m=\u001b[39m \u001b[38;5;28;43mself\u001b[39;49m\u001b[38;5;241;43m.\u001b[39;49m\u001b[43mcolumns\u001b[49m\u001b[38;5;241;43m.\u001b[39;49m\u001b[43m_get_indexer_strict\u001b[49m\u001b[43m(\u001b[49m\u001b[43mkey\u001b[49m\u001b[43m,\u001b[49m\u001b[43m \u001b[49m\u001b[38;5;124;43m\"\u001b[39;49m\u001b[38;5;124;43mcolumns\u001b[39;49m\u001b[38;5;124;43m\"\u001b[39;49m\u001b[43m)\u001b[49m[\u001b[38;5;241m1\u001b[39m]\n\u001b[1;32m   3513\u001b[0m \u001b[38;5;66;03m# take() does not accept boolean indexers\u001b[39;00m\n\u001b[1;32m   3514\u001b[0m \u001b[38;5;28;01mif\u001b[39;00m \u001b[38;5;28mgetattr\u001b[39m(indexer, \u001b[38;5;124m\"\u001b[39m\u001b[38;5;124mdtype\u001b[39m\u001b[38;5;124m\"\u001b[39m, \u001b[38;5;28;01mNone\u001b[39;00m) \u001b[38;5;241m==\u001b[39m \u001b[38;5;28mbool\u001b[39m:\n",
      "File \u001b[0;32m/opt/conda/envs/anaconda-2022.05-py39/lib/python3.9/site-packages/pandas/core/indexes/base.py:5782\u001b[0m, in \u001b[0;36mIndex._get_indexer_strict\u001b[0;34m(self, key, axis_name)\u001b[0m\n\u001b[1;32m   5779\u001b[0m \u001b[38;5;28;01melse\u001b[39;00m:\n\u001b[1;32m   5780\u001b[0m     keyarr, indexer, new_indexer \u001b[38;5;241m=\u001b[39m \u001b[38;5;28mself\u001b[39m\u001b[38;5;241m.\u001b[39m_reindex_non_unique(keyarr)\n\u001b[0;32m-> 5782\u001b[0m \u001b[38;5;28;43mself\u001b[39;49m\u001b[38;5;241;43m.\u001b[39;49m\u001b[43m_raise_if_missing\u001b[49m\u001b[43m(\u001b[49m\u001b[43mkeyarr\u001b[49m\u001b[43m,\u001b[49m\u001b[43m \u001b[49m\u001b[43mindexer\u001b[49m\u001b[43m,\u001b[49m\u001b[43m \u001b[49m\u001b[43maxis_name\u001b[49m\u001b[43m)\u001b[49m\n\u001b[1;32m   5784\u001b[0m keyarr \u001b[38;5;241m=\u001b[39m \u001b[38;5;28mself\u001b[39m\u001b[38;5;241m.\u001b[39mtake(indexer)\n\u001b[1;32m   5785\u001b[0m \u001b[38;5;28;01mif\u001b[39;00m \u001b[38;5;28misinstance\u001b[39m(key, Index):\n\u001b[1;32m   5786\u001b[0m     \u001b[38;5;66;03m# GH 42790 - Preserve name from an Index\u001b[39;00m\n",
      "File \u001b[0;32m/opt/conda/envs/anaconda-2022.05-py39/lib/python3.9/site-packages/pandas/core/indexes/base.py:5842\u001b[0m, in \u001b[0;36mIndex._raise_if_missing\u001b[0;34m(self, key, indexer, axis_name)\u001b[0m\n\u001b[1;32m   5840\u001b[0m     \u001b[38;5;28;01mif\u001b[39;00m use_interval_msg:\n\u001b[1;32m   5841\u001b[0m         key \u001b[38;5;241m=\u001b[39m \u001b[38;5;28mlist\u001b[39m(key)\n\u001b[0;32m-> 5842\u001b[0m     \u001b[38;5;28;01mraise\u001b[39;00m \u001b[38;5;167;01mKeyError\u001b[39;00m(\u001b[38;5;124mf\u001b[39m\u001b[38;5;124m\"\u001b[39m\u001b[38;5;124mNone of [\u001b[39m\u001b[38;5;132;01m{\u001b[39;00mkey\u001b[38;5;132;01m}\u001b[39;00m\u001b[38;5;124m] are in the [\u001b[39m\u001b[38;5;132;01m{\u001b[39;00maxis_name\u001b[38;5;132;01m}\u001b[39;00m\u001b[38;5;124m]\u001b[39m\u001b[38;5;124m\"\u001b[39m)\n\u001b[1;32m   5844\u001b[0m not_found \u001b[38;5;241m=\u001b[39m \u001b[38;5;28mlist\u001b[39m(ensure_index(key)[missing_mask\u001b[38;5;241m.\u001b[39mnonzero()[\u001b[38;5;241m0\u001b[39m]]\u001b[38;5;241m.\u001b[39munique())\n\u001b[1;32m   5845\u001b[0m \u001b[38;5;28;01mraise\u001b[39;00m \u001b[38;5;167;01mKeyError\u001b[39;00m(\u001b[38;5;124mf\u001b[39m\u001b[38;5;124m\"\u001b[39m\u001b[38;5;132;01m{\u001b[39;00mnot_found\u001b[38;5;132;01m}\u001b[39;00m\u001b[38;5;124m not in index\u001b[39m\u001b[38;5;124m\"\u001b[39m)\n",
      "\u001b[0;31mKeyError\u001b[0m: \"None of [Index(['house_price_logged'], dtype='object')] are in the [columns]\""
     ]
    }
   ],
   "source": [
    "X = merged_data_with_employment [[\"employment_rate\"]]\n",
    "\n",
    "Y = merged_data_with_employment [[\"house_price_logged\"]]"
   ]
  },
  {
   "cell_type": "code",
   "execution_count": 433,
   "id": "c008efa7-e328-4805-a9e0-f6d5d2f03d99",
   "metadata": {},
   "outputs": [
    {
     "name": "stdout",
     "output_type": "stream",
     "text": [
      "                             OLS Regression Results                            \n",
      "===============================================================================\n",
      "Dep. Variable:     house_prices_logged   R-squared:                       0.353\n",
      "Model:                             OLS   Adj. R-squared:                  0.339\n",
      "Method:                  Least Squares   F-statistic:                     25.14\n",
      "Date:                 Sat, 20 Apr 2024   Prob (F-statistic):           8.38e-06\n",
      "Time:                         07:55:34   Log-Likelihood:                -56.216\n",
      "No. Observations:                   48   AIC:                             116.4\n",
      "Df Residuals:                       46   BIC:                             120.2\n",
      "Df Model:                            1                                         \n",
      "Covariance Type:             nonrobust                                         \n",
      "===================================================================================\n",
      "                      coef    std err          t      P>|t|      [0.025      0.975]\n",
      "-----------------------------------------------------------------------------------\n",
      "const              -6.2414      3.481     -1.793      0.080     -13.248       0.765\n",
      "employment_rate     0.2442      0.049      5.014      0.000       0.146       0.342\n",
      "==============================================================================\n",
      "Omnibus:                       18.648   Durbin-Watson:                   0.071\n",
      "Prob(Omnibus):                  0.000   Jarque-Bera (JB):               23.000\n",
      "Skew:                          -1.457   Prob(JB):                     1.01e-05\n",
      "Kurtosis:                       4.734   Cond. No.                     2.16e+03\n",
      "==============================================================================\n",
      "\n",
      "Notes:\n",
      "[1] Standard Errors assume that the covariance matrix of the errors is correctly specified.\n",
      "[2] The condition number is large, 2.16e+03. This might indicate that there are\n",
      "strong multicollinearity or other numerical problems.\n"
     ]
    }
   ],
   "source": [
    "multivariate_result = sm.OLS(Y, sm.add_constant(X)).fit()\n",
    "\n",
    "\n",
    "# printing the summary table\n",
    "print(multivariate_result.summary())\n"
   ]
  },
  {
   "cell_type": "markdown",
   "id": "078588cc-df73-4b44-beb8-e9447bf0e2c4",
   "metadata": {},
   "source": [
    "# OLS Model with transformed variables"
   ]
  },
  {
   "cell_type": "code",
   "execution_count": 435,
   "id": "99788915-8e9b-4e26-91ff-d7f58191249a",
   "metadata": {},
   "outputs": [],
   "source": [
    "#X = merged_data_with_employment [[\"interest_rate\", \"gdp_logged\", \"employment_rate\"]]\n",
    "\n",
    "X = merged_data_with_employment [[\"interest_rate\"]]\n",
    "\n",
    "Y = merged_data_with_employment [[\"house_prices_logged\"]]"
   ]
  },
  {
   "cell_type": "code",
   "execution_count": null,
   "id": "bd07993a-ccdf-499c-8e55-0a1d65a11f7a",
   "metadata": {},
   "outputs": [],
   "source": []
  },
  {
   "cell_type": "code",
   "execution_count": 437,
   "id": "70d2297b-5d1d-48b7-adbf-668ed4601650",
   "metadata": {},
   "outputs": [
    {
     "data": {
      "text/html": [
       "<div>\n",
       "<style scoped>\n",
       "    .dataframe tbody tr th:only-of-type {\n",
       "        vertical-align: middle;\n",
       "    }\n",
       "\n",
       "    .dataframe tbody tr th {\n",
       "        vertical-align: top;\n",
       "    }\n",
       "\n",
       "    .dataframe thead th {\n",
       "        text-align: right;\n",
       "    }\n",
       "</style>\n",
       "<table border=\"1\" class=\"dataframe\">\n",
       "  <thead>\n",
       "    <tr style=\"text-align: right;\">\n",
       "      <th></th>\n",
       "      <th>interest_rate</th>\n",
       "    </tr>\n",
       "  </thead>\n",
       "  <tbody>\n",
       "    <tr>\n",
       "      <th>1975</th>\n",
       "      <td>10.846154</td>\n",
       "    </tr>\n",
       "    <tr>\n",
       "      <th>1976</th>\n",
       "      <td>11.678571</td>\n",
       "    </tr>\n",
       "    <tr>\n",
       "      <th>1977</th>\n",
       "      <td>8.960526</td>\n",
       "    </tr>\n",
       "    <tr>\n",
       "      <th>1978</th>\n",
       "      <td>9.041667</td>\n",
       "    </tr>\n",
       "    <tr>\n",
       "      <th>1979</th>\n",
       "      <td>14.000000</td>\n",
       "    </tr>\n",
       "  </tbody>\n",
       "</table>\n",
       "</div>"
      ],
      "text/plain": [
       "      interest_rate\n",
       "1975      10.846154\n",
       "1976      11.678571\n",
       "1977       8.960526\n",
       "1978       9.041667\n",
       "1979      14.000000"
      ]
     },
     "execution_count": 437,
     "metadata": {},
     "output_type": "execute_result"
    }
   ],
   "source": [
    "X.head()"
   ]
  },
  {
   "cell_type": "code",
   "execution_count": 439,
   "id": "6226b585-978a-48a3-b0fe-3a7492b7d920",
   "metadata": {},
   "outputs": [
    {
     "name": "stdout",
     "output_type": "stream",
     "text": [
      "                             OLS Regression Results                            \n",
      "===============================================================================\n",
      "Dep. Variable:     house_prices_logged   R-squared:                       0.727\n",
      "Model:                             OLS   Adj. R-squared:                  0.721\n",
      "Method:                  Least Squares   F-statistic:                     122.4\n",
      "Date:                 Sat, 20 Apr 2024   Prob (F-statistic):           1.48e-14\n",
      "Time:                         07:55:42   Log-Likelihood:                -35.530\n",
      "No. Observations:                   48   AIC:                             75.06\n",
      "Df Residuals:                       46   BIC:                             78.80\n",
      "Df Model:                            1                                         \n",
      "Covariance Type:             nonrobust                                         \n",
      "=================================================================================\n",
      "                    coef    std err          t      P>|t|      [0.025      0.975]\n",
      "---------------------------------------------------------------------------------\n",
      "const            12.3155      0.125     98.266      0.000      12.063      12.568\n",
      "interest_rate    -0.1781      0.016    -11.065      0.000      -0.210      -0.146\n",
      "==============================================================================\n",
      "Omnibus:                        6.235   Durbin-Watson:                   0.414\n",
      "Prob(Omnibus):                  0.044   Jarque-Bera (JB):                5.963\n",
      "Skew:                          -0.501   Prob(JB):                       0.0507\n",
      "Kurtosis:                       4.407   Cond. No.                         13.2\n",
      "==============================================================================\n",
      "\n",
      "Notes:\n",
      "[1] Standard Errors assume that the covariance matrix of the errors is correctly specified.\n"
     ]
    }
   ],
   "source": [
    "multivariate_result_T = sm.OLS(Y, sm.add_constant(X)).fit()\n",
    "\n",
    "\n",
    "# printing the summary table\n",
    "print(multivariate_result_T.summary())\n"
   ]
  },
  {
   "cell_type": "markdown",
   "id": "1f95d2a0-49c3-4a74-97de-55a3f7df2a02",
   "metadata": {},
   "source": [
    "# Checking for Heteroskedasticity (House Price Logged vs GDP Logged)"
   ]
  },
  {
   "cell_type": "code",
   "execution_count": 441,
   "id": "4ec62d90-eb59-4916-be23-bc211df9fb27",
   "metadata": {},
   "outputs": [
    {
     "data": {
      "image/png": "[encoded data removed]",
      "text/plain": [
       "<Figure size 720x432 with 1 Axes>"
      ]
     },
     "metadata": {
      "needs_background": "light"
     },
     "output_type": "display_data"
    }
   ],
   "source": [
    "\n",
    "fig,ax = plt.subplots(figsize=(10,6))\n",
    "\n",
    "\n",
    "plt.grid(color='grey', linestyle='-', linewidth=0.25, alpha=1)\n",
    "\n",
    "sns.regplot(x=merged_data_with_employment [\"house_prices_logged\"], y=merged_data_with_employment[\"gdp_logged\"], data=merged_data, ci=None)\n",
    "\n",
    "plt.scatter(merged_data_with_employment [\"house_prices_logged\"], merged_data_with_employment[\"gdp_logged\"], s=25, c='r')\n",
    "\n",
    "plt.xticks(rotation=70, size=10)\n",
    "\n",
    "plt.xlabel(\"interest_rate\")\n",
    "plt.ylabel(\"house_prices_logged\")\n",
    "\n",
    "\n",
    "plt.show()\n"
   ]
  },
  {
   "cell_type": "markdown",
   "id": "4aa158a0-164e-4be3-a834-42681b5ffa53",
   "metadata": {},
   "source": [
    "# Checking for Heteroskedasticity (House Price Logged vs Employment Rate Div 10)"
   ]
  },
  {
   "cell_type": "code",
   "execution_count": 444,
   "id": "ecbafa3d-e9d4-4cab-aedd-2f884eb80f43",
   "metadata": {},
   "outputs": [
    {
     "data": {
      "image/png": "[encoded data removed]",
      "text/plain": [
       "<Figure size 720x432 with 1 Axes>"
      ]
     },
     "metadata": {
      "needs_background": "light"
     },
     "output_type": "display_data"
    }
   ],
   "source": [
    "\n",
    "fig,ax = plt.subplots(figsize=(10,6))\n",
    "\n",
    "\n",
    "plt.grid(color='grey', linestyle='-', linewidth=0.25, alpha=1)\n",
    "\n",
    "sns.regplot(x=merged_data_with_employment [\"house_prices_logged\"], y=merged_data_with_employment[\"employment_rate_div_10\"], data=merged_data, ci=None)\n",
    "\n",
    "plt.scatter(merged_data_with_employment [\"house_prices_logged\"], merged_data_with_employment[\"employment_rate_div_10\"], s=25, c='r')\n",
    "\n",
    "plt.xticks(rotation=70, size=10)\n",
    "\n",
    "plt.xlabel(\"employment_rate_div_10\")\n",
    "plt.ylabel(\"house_prices_logged\")\n",
    "\n",
    "\n",
    "plt.show()\n"
   ]
  },
  {
   "cell_type": "markdown",
   "id": "d6680898-1b33-47ff-b51e-badee23ffbe7",
   "metadata": {},
   "source": [
    "# Adding Lagged Variables"
   ]
  },
  {
   "cell_type": "code",
   "execution_count": 446,
   "id": "04790bcc-d271-4d57-8d69-657c33d8f2bf",
   "metadata": {},
   "outputs": [],
   "source": [
    "merged_data_with_employment['house_prices_logged_lag_1'] = merged_data_with_employment['house_prices_logged'].shift(-1)\n",
    "\n",
    "merged_data_with_employment['gdp_logged_lag_1'] = merged_data_with_employment['gdp_logged'].shift(-1)\n",
    "\n",
    "merged_data_with_employment['interest_rate_lag_1'] = merged_data_with_employment['interest_rate'].shift(-1)\n",
    "\n",
    "merged_data_with_employment['employment_rate_div_10_lag_1'] = merged_data_with_employment['employment_rate_div_10'].shift(-1)\n",
    "\n",
    "merged_data_with_employment['house_prices_logged_lag_2'] = merged_data_with_employment['house_prices_logged'].shift(-2)\n",
    "\n",
    "merged_data_with_employment['gdp_logged_lag_2'] = merged_data_with_employment['gdp_logged'].shift(-2)\n",
    "\n",
    "merged_data_with_employment['interest_rate_lag_2'] = merged_data_with_employment['interest_rate'].shift(-2)\n",
    "\n",
    "merged_data_with_employment['employment_rate_div_10_lag_2'] = merged_data_with_employment['employment_rate_div_10'].shift(-2)"
   ]
  },
  {
   "cell_type": "code",
   "execution_count": 448,
   "id": "895fd108-d0f4-4d9b-b4e7-abcd8b082a5f",
   "metadata": {},
   "outputs": [],
   "source": [
    "final_df = merged_data_with_employment[[\"house_prices_logged\", \"house_prices_logged_lag_1\", \"house_prices_logged_lag_2\", \n",
    "                                        \"interest_rate\", \"interest_rate_lag_1\", \"interest_rate_lag_2\",\n",
    "                                        \"gdp_logged\", \"gdp_logged_lag_1\", \"gdp_logged_lag_2\",\n",
    "                                        \"employment_rate_div_10\", \"employment_rate_div_10_lag_1\", \"employment_rate_div_10_lag_2\"]]\n"
   ]
  },
  {
   "cell_type": "code",
   "execution_count": null,
   "id": "dd8a3367-b0b1-45c0-9243-523daa225849",
   "metadata": {
    "jupyter": {
     "source_hidden": true
    }
   },
   "outputs": [],
   "source": [
    "#Dropping rows, because lags are meaning that we now have less rows in data. This is reducing our degrees of freedom! \n",
    "#Mention this in the assignment\n",
    "#Could try these 2 models - one with lags (and excluded rows) and one without. Mention the playoff between DOF and more useful variables. \n"
   ]
  },
  {
   "cell_type": "code",
   "execution_count": 450,
   "id": "0646aa08-2815-48b3-829f-66e69277f290",
   "metadata": {
    "scrolled": true
   },
   "outputs": [
    {
     "data": {
      "text/html": [
       "<div>\n",
       "<style scoped>\n",
       "    .dataframe tbody tr th:only-of-type {\n",
       "        vertical-align: middle;\n",
       "    }\n",
       "\n",
       "    .dataframe tbody tr th {\n",
       "        vertical-align: top;\n",
       "    }\n",
       "\n",
       "    .dataframe thead th {\n",
       "        text-align: right;\n",
       "    }\n",
       "</style>\n",
       "<table border=\"1\" class=\"dataframe\">\n",
       "  <thead>\n",
       "    <tr style=\"text-align: right;\">\n",
       "      <th></th>\n",
       "      <th>house_prices_logged</th>\n",
       "      <th>house_prices_logged_lag_1</th>\n",
       "      <th>house_prices_logged_lag_2</th>\n",
       "      <th>interest_rate</th>\n",
       "      <th>interest_rate_lag_1</th>\n",
       "      <th>interest_rate_lag_2</th>\n",
       "      <th>gdp_logged</th>\n",
       "      <th>gdp_logged_lag_1</th>\n",
       "      <th>gdp_logged_lag_2</th>\n",
       "      <th>employment_rate_div_10</th>\n",
       "      <th>employment_rate_div_10_lag_1</th>\n",
       "      <th>employment_rate_div_10_lag_2</th>\n",
       "    </tr>\n",
       "  </thead>\n",
       "  <tbody>\n",
       "    <tr>\n",
       "      <th>2016</th>\n",
       "      <td>12.263042</td>\n",
       "      <td>12.307739</td>\n",
       "      <td>12.338653</td>\n",
       "      <td>0.250</td>\n",
       "      <td>0.500</td>\n",
       "      <td>0.750</td>\n",
       "      <td>14.562841</td>\n",
       "      <td>14.589046</td>\n",
       "      <td>14.602986</td>\n",
       "      <td>7.42</td>\n",
       "      <td>7.48</td>\n",
       "      <td>7.54</td>\n",
       "    </tr>\n",
       "    <tr>\n",
       "      <th>2017</th>\n",
       "      <td>12.307739</td>\n",
       "      <td>12.338653</td>\n",
       "      <td>12.348492</td>\n",
       "      <td>0.500</td>\n",
       "      <td>0.750</td>\n",
       "      <td>0.750</td>\n",
       "      <td>14.589046</td>\n",
       "      <td>14.602986</td>\n",
       "      <td>14.619269</td>\n",
       "      <td>7.48</td>\n",
       "      <td>7.54</td>\n",
       "      <td>7.58</td>\n",
       "    </tr>\n",
       "    <tr>\n",
       "      <th>2018</th>\n",
       "      <td>12.338653</td>\n",
       "      <td>12.348492</td>\n",
       "      <td>12.376733</td>\n",
       "      <td>0.750</td>\n",
       "      <td>0.750</td>\n",
       "      <td>0.175</td>\n",
       "      <td>14.602986</td>\n",
       "      <td>14.619269</td>\n",
       "      <td>14.509901</td>\n",
       "      <td>7.54</td>\n",
       "      <td>7.58</td>\n",
       "      <td>7.50</td>\n",
       "    </tr>\n",
       "    <tr>\n",
       "      <th>2019</th>\n",
       "      <td>12.348492</td>\n",
       "      <td>12.376733</td>\n",
       "      <td>12.462381</td>\n",
       "      <td>0.750</td>\n",
       "      <td>0.175</td>\n",
       "      <td>0.250</td>\n",
       "      <td>14.619269</td>\n",
       "      <td>14.509901</td>\n",
       "      <td>14.593092</td>\n",
       "      <td>7.58</td>\n",
       "      <td>7.50</td>\n",
       "      <td>7.47</td>\n",
       "    </tr>\n",
       "    <tr>\n",
       "      <th>2020</th>\n",
       "      <td>12.376733</td>\n",
       "      <td>12.462381</td>\n",
       "      <td>12.554967</td>\n",
       "      <td>0.175</td>\n",
       "      <td>0.250</td>\n",
       "      <td>1.750</td>\n",
       "      <td>14.509901</td>\n",
       "      <td>14.593092</td>\n",
       "      <td>14.635627</td>\n",
       "      <td>7.50</td>\n",
       "      <td>7.47</td>\n",
       "      <td>7.51</td>\n",
       "    </tr>\n",
       "  </tbody>\n",
       "</table>\n",
       "</div>"
      ],
      "text/plain": [
       "      house_prices_logged  house_prices_logged_lag_1  \\\n",
       "2016            12.263042                  12.307739   \n",
       "2017            12.307739                  12.338653   \n",
       "2018            12.338653                  12.348492   \n",
       "2019            12.348492                  12.376733   \n",
       "2020            12.376733                  12.462381   \n",
       "\n",
       "      house_prices_logged_lag_2  interest_rate  interest_rate_lag_1  \\\n",
       "2016                  12.338653          0.250                0.500   \n",
       "2017                  12.348492          0.500                0.750   \n",
       "2018                  12.376733          0.750                0.750   \n",
       "2019                  12.462381          0.750                0.175   \n",
       "2020                  12.554967          0.175                0.250   \n",
       "\n",
       "      interest_rate_lag_2  gdp_logged  gdp_logged_lag_1  gdp_logged_lag_2  \\\n",
       "2016                0.750   14.562841         14.589046         14.602986   \n",
       "2017                0.750   14.589046         14.602986         14.619269   \n",
       "2018                0.175   14.602986         14.619269         14.509901   \n",
       "2019                0.250   14.619269         14.509901         14.593092   \n",
       "2020                1.750   14.509901         14.593092         14.635627   \n",
       "\n",
       "      employment_rate_div_10  employment_rate_div_10_lag_1  \\\n",
       "2016                    7.42                          7.48   \n",
       "2017                    7.48                          7.54   \n",
       "2018                    7.54                          7.58   \n",
       "2019                    7.58                          7.50   \n",
       "2020                    7.50                          7.47   \n",
       "\n",
       "      employment_rate_div_10_lag_2  \n",
       "2016                          7.54  \n",
       "2017                          7.58  \n",
       "2018                          7.50  \n",
       "2019                          7.47  \n",
       "2020                          7.51  "
      ]
     },
     "execution_count": 450,
     "metadata": {},
     "output_type": "execute_result"
    }
   ],
   "source": [
    "final_df = final_df.drop(2021)\n",
    "\n",
    "final_df = final_df.drop(2022)\n",
    "\n",
    "final_df.tail()"
   ]
  },
  {
   "cell_type": "code",
   "execution_count": 452,
   "id": "d8939cd6-c422-47a7-a1d8-da818d513814",
   "metadata": {},
   "outputs": [
    {
     "data": {
      "text/html": [
       "<div>\n",
       "<style scoped>\n",
       "    .dataframe tbody tr th:only-of-type {\n",
       "        vertical-align: middle;\n",
       "    }\n",
       "\n",
       "    .dataframe tbody tr th {\n",
       "        vertical-align: top;\n",
       "    }\n",
       "\n",
       "    .dataframe thead th {\n",
       "        text-align: right;\n",
       "    }\n",
       "</style>\n",
       "<table border=\"1\" class=\"dataframe\">\n",
       "  <thead>\n",
       "    <tr style=\"text-align: right;\">\n",
       "      <th></th>\n",
       "      <th>house_prices_logged</th>\n",
       "      <th>house_prices_logged_lag_1</th>\n",
       "      <th>house_prices_logged_lag_2</th>\n",
       "      <th>interest_rate</th>\n",
       "      <th>interest_rate_lag_1</th>\n",
       "      <th>interest_rate_lag_2</th>\n",
       "      <th>gdp_logged</th>\n",
       "      <th>gdp_logged_lag_1</th>\n",
       "      <th>gdp_logged_lag_2</th>\n",
       "      <th>employment_rate_div_10</th>\n",
       "      <th>employment_rate_div_10_lag_1</th>\n",
       "      <th>employment_rate_div_10_lag_2</th>\n",
       "    </tr>\n",
       "  </thead>\n",
       "  <tbody>\n",
       "    <tr>\n",
       "      <th>1975</th>\n",
       "      <td>9.162175</td>\n",
       "      <td>9.246919</td>\n",
       "      <td>9.317770</td>\n",
       "      <td>10.846154</td>\n",
       "      <td>11.678571</td>\n",
       "      <td>8.960526</td>\n",
       "      <td>13.660083</td>\n",
       "      <td>13.689809</td>\n",
       "      <td>13.714128</td>\n",
       "      <td>7.26</td>\n",
       "      <td>7.19</td>\n",
       "      <td>7.16</td>\n",
       "    </tr>\n",
       "    <tr>\n",
       "      <th>1976</th>\n",
       "      <td>9.246919</td>\n",
       "      <td>9.317770</td>\n",
       "      <td>9.469377</td>\n",
       "      <td>11.678571</td>\n",
       "      <td>8.960526</td>\n",
       "      <td>9.041667</td>\n",
       "      <td>13.689809</td>\n",
       "      <td>13.714128</td>\n",
       "      <td>13.755188</td>\n",
       "      <td>7.19</td>\n",
       "      <td>7.16</td>\n",
       "      <td>7.16</td>\n",
       "    </tr>\n",
       "    <tr>\n",
       "      <th>1977</th>\n",
       "      <td>9.317770</td>\n",
       "      <td>9.469377</td>\n",
       "      <td>9.727028</td>\n",
       "      <td>8.960526</td>\n",
       "      <td>9.041667</td>\n",
       "      <td>14.000000</td>\n",
       "      <td>13.714128</td>\n",
       "      <td>13.755188</td>\n",
       "      <td>13.791798</td>\n",
       "      <td>7.16</td>\n",
       "      <td>7.16</td>\n",
       "      <td>7.18</td>\n",
       "    </tr>\n",
       "    <tr>\n",
       "      <th>1978</th>\n",
       "      <td>9.469377</td>\n",
       "      <td>9.727028</td>\n",
       "      <td>9.916792</td>\n",
       "      <td>9.041667</td>\n",
       "      <td>14.000000</td>\n",
       "      <td>15.000000</td>\n",
       "      <td>13.755188</td>\n",
       "      <td>13.791798</td>\n",
       "      <td>13.771071</td>\n",
       "      <td>7.16</td>\n",
       "      <td>7.18</td>\n",
       "      <td>7.08</td>\n",
       "    </tr>\n",
       "    <tr>\n",
       "      <th>1979</th>\n",
       "      <td>9.727028</td>\n",
       "      <td>9.916792</td>\n",
       "      <td>9.972572</td>\n",
       "      <td>14.000000</td>\n",
       "      <td>15.000000</td>\n",
       "      <td>14.161111</td>\n",
       "      <td>13.791798</td>\n",
       "      <td>13.771071</td>\n",
       "      <td>13.764176</td>\n",
       "      <td>7.18</td>\n",
       "      <td>7.08</td>\n",
       "      <td>6.85</td>\n",
       "    </tr>\n",
       "  </tbody>\n",
       "</table>\n",
       "</div>"
      ],
      "text/plain": [
       "      house_prices_logged  house_prices_logged_lag_1  \\\n",
       "1975             9.162175                   9.246919   \n",
       "1976             9.246919                   9.317770   \n",
       "1977             9.317770                   9.469377   \n",
       "1978             9.469377                   9.727028   \n",
       "1979             9.727028                   9.916792   \n",
       "\n",
       "      house_prices_logged_lag_2  interest_rate  interest_rate_lag_1  \\\n",
       "1975                   9.317770      10.846154            11.678571   \n",
       "1976                   9.469377      11.678571             8.960526   \n",
       "1977                   9.727028       8.960526             9.041667   \n",
       "1978                   9.916792       9.041667            14.000000   \n",
       "1979                   9.972572      14.000000            15.000000   \n",
       "\n",
       "      interest_rate_lag_2  gdp_logged  gdp_logged_lag_1  gdp_logged_lag_2  \\\n",
       "1975             8.960526   13.660083         13.689809         13.714128   \n",
       "1976             9.041667   13.689809         13.714128         13.755188   \n",
       "1977            14.000000   13.714128         13.755188         13.791798   \n",
       "1978            15.000000   13.755188         13.791798         13.771071   \n",
       "1979            14.161111   13.791798         13.771071         13.764176   \n",
       "\n",
       "      employment_rate_div_10  employment_rate_div_10_lag_1  \\\n",
       "1975                    7.26                          7.19   \n",
       "1976                    7.19                          7.16   \n",
       "1977                    7.16                          7.16   \n",
       "1978                    7.16                          7.18   \n",
       "1979                    7.18                          7.08   \n",
       "\n",
       "      employment_rate_div_10_lag_2  \n",
       "1975                          7.16  \n",
       "1976                          7.16  \n",
       "1977                          7.18  \n",
       "1978                          7.08  \n",
       "1979                          6.85  "
      ]
     },
     "execution_count": 452,
     "metadata": {},
     "output_type": "execute_result"
    }
   ],
   "source": [
    "final_df.head()"
   ]
  },
  {
   "cell_type": "markdown",
   "id": "1e0057a2-e969-49f7-a244-7f2c6bdb66b0",
   "metadata": {},
   "source": [
    "# Running the Model with Lagged Variables "
   ]
  },
  {
   "cell_type": "code",
   "execution_count": 460,
   "id": "59fb42e5-dac0-40ac-aa2b-4c619d7d2327",
   "metadata": {},
   "outputs": [],
   "source": [
    "\n",
    "\n",
    "final_df = final_df.rename(columns={'house_prices_logged': 'ln HP','house_prices_logged_lag_1': 'ln HP(-1)', 'house_prices_logged_lag_2': 'ln HP(-2)', \n",
    "                                    'gdp_logged': 'ln GDP', 'gdp_logged_lag_1': 'ln GDP(-1)', 'gdp_logged_lag_2': 'ln GDP(-2)'})\n"
   ]
  },
  {
   "cell_type": "code",
   "execution_count": 480,
   "id": "d474b504-1b30-463b-ae34-0f5b7d94faae",
   "metadata": {},
   "outputs": [],
   "source": [
    "\n",
    "\n",
    "\n",
    "\n",
    "\n",
    "kitchen_sink_y = final_df[[\"ln HP\"]]\n",
    "\n",
    "kitchen_sink_x = final_df[['ln HP(-1)', 'ln HP(-2)',\n",
    " 'ln GDP', 'ln GDP(-1)',\n",
    " 'ln GDP(-2)']]\n",
    "    \n",
    "    \n",
    "\n"
   ]
  },
  {
   "cell_type": "code",
   "execution_count": 482,
   "id": "b90d7263-fd74-471c-98e9-a68112625b1a",
   "metadata": {},
   "outputs": [
    {
     "name": "stdout",
     "output_type": "stream",
     "text": [
      "                            OLS Regression Results                            \n",
      "==============================================================================\n",
      "Dep. Variable:                  ln HP   R-squared:                       0.997\n",
      "Model:                            OLS   Adj. R-squared:                  0.997\n",
      "Method:                 Least Squares   F-statistic:                     2809.\n",
      "Date:                Sat, 20 Apr 2024   Prob (F-statistic):           8.57e-50\n",
      "Time:                        08:10:17   Log-Likelihood:                 71.875\n",
      "No. Observations:                  46   AIC:                            -131.8\n",
      "Df Residuals:                      40   BIC:                            -120.8\n",
      "Df Model:                           5                                         \n",
      "Covariance Type:            nonrobust                                         \n",
      "==============================================================================\n",
      "                 coef    std err          t      P>|t|      [0.025      0.975]\n",
      "------------------------------------------------------------------------------\n",
      "const         -3.2851      2.114     -1.554      0.128      -7.558       0.988\n",
      "ln HP(-1)      1.5659      0.142     11.045      0.000       1.279       1.852\n",
      "ln HP(-2)     -0.6529      0.157     -4.162      0.000      -0.970      -0.336\n",
      "ln GDP         0.6732      0.316      2.129      0.039       0.034       1.312\n",
      "ln GDP(-1)    -0.8800      0.408     -2.158      0.037      -1.704      -0.056\n",
      "ln GDP(-2)     0.5053      0.336      1.504      0.140      -0.174       1.184\n",
      "==============================================================================\n",
      "Omnibus:                        2.030   Durbin-Watson:                   1.866\n",
      "Prob(Omnibus):                  0.362   Jarque-Bera (JB):                1.474\n",
      "Skew:                          -0.437   Prob(JB):                        0.479\n",
      "Kurtosis:                       3.064   Cond. No.                     7.75e+03\n",
      "==============================================================================\n",
      "\n",
      "Notes:\n",
      "[1] Standard Errors assume that the covariance matrix of the errors is correctly specified.\n",
      "[2] The condition number is large, 7.75e+03. This might indicate that there are\n",
      "strong multicollinearity or other numerical problems.\n"
     ]
    }
   ],
   "source": [
    "\n",
    "kitchen_sink_result = sm.OLS(kitchen_sink_y, sm.add_constant(kitchen_sink_x)).fit()\n",
    "\n",
    "\n",
    "# printing the summary table\n",
    "print(kitchen_sink_result.summary())\n"
   ]
  },
  {
   "cell_type": "code",
   "execution_count": null,
   "id": "9a2eb2be-619d-4cd7-bfaa-e2ceacddd24c",
   "metadata": {},
   "outputs": [],
   "source": [
    "final_df.head()"
   ]
  },
  {
   "cell_type": "code",
   "execution_count": null,
   "id": "90a38fc7-1427-440c-8211-f1091cbfe4c4",
   "metadata": {},
   "outputs": [],
   "source": [
    "import numpy as np\n",
    "import seaborn as sns\n",
    "import pandas as pd\n",
    "from matplotlib import pyplot as plt\n",
    "\n",
    "\n",
    "corr = final_df.corr()\n",
    "plt.figure(figsize=(11,8))\n",
    "sns.heatmap(corr, cmap=\"Greens\",annot=True)\n",
    "\n",
    "plt.show()"
   ]
  },
  {
   "cell_type": "code",
   "execution_count": null,
   "id": "da9cc9dd-36fc-4e00-8a7c-95f0fbaf3f0c",
   "metadata": {},
   "outputs": [],
   "source": [
    "merged_data_with_employment['gdp_logged_%_change'] = merged_data_with_employment['gdp_logged'].pct_change()\n",
    "\n",
    "fig, ax = plt.subplots(figsize=(10,6))\n",
    "\n",
    "plt.hist(merged_data_with_employment['gdp_logged_%_change'])\n"
   ]
  },
  {
   "cell_type": "code",
   "execution_count": null,
   "id": "48b0abc9-24b2-41e9-b695-d0e05dca1390",
   "metadata": {},
   "outputs": [],
   "source": [
    "import seaborn as sns\n",
    "\n",
    "fig,ax = plt.subplots(figsize=(10,6))\n",
    "\n",
    "\n",
    "\n",
    "plt.grid(color='grey', linestyle='-', linewidth=0.25, alpha=1)\n",
    "\n",
    "sns.regplot(x=merged_data['interest_rate_%_change'], y=merged_data['house_price_logged_%_change'], data=merged_data, ci=None)\n",
    "\n",
    "plt.scatter(merged_data['interest_rate_%_change'], merged_data['house_price_logged_%_change'], s=25, c='r')\n",
    "\n",
    "plt.xticks(rotation=70, size=10)\n",
    "\n",
    "plt.xlabel(\"interest_rate\")\n",
    "plt.ylabel(\"house_prices_logged_changed\")\n",
    "\n",
    "\n",
    "plt.show()\n",
    "\n"
   ]
  },
  {
   "cell_type": "code",
   "execution_count": null,
   "id": "910d6dc2-9699-45c6-9822-bfb890907ddf",
   "metadata": {},
   "outputs": [],
   "source": [
    "final_df[\"house_prices_logged_%_change\"] = final_df[\"house_prices_logged\"].pct_change()\n",
    "\n",
    "final_df[\"interest_rate_%_change\"] = final_df[\"interest_rate\"].pct_change()\n",
    "\n",
    "final_df[\"interest_rate_lag_1_%_change\"] = final_df[\"interest_rate_lag_1\"].pct_change()\n",
    "\n",
    "final_df[\"interest_rate_lag_2_%_change\"] = final_df[\"interest_rate_lag_2\"].pct_change()\n"
   ]
  },
  {
   "cell_type": "code",
   "execution_count": null,
   "id": "bd4e7620-7d77-46d0-8369-505a54a77d5a",
   "metadata": {},
   "outputs": [],
   "source": [
    "\n",
    "correl_df = final_df[[\"house_prices_logged_%_change\", 'gdp_logged_%_change']]\n",
    "\n"
   ]
  },
  {
   "cell_type": "code",
   "execution_count": null,
   "id": "97ff54c8-3d15-4735-b537-54e5c154cad9",
   "metadata": {},
   "outputs": [],
   "source": [
    "final_df"
   ]
  },
  {
   "cell_type": "code",
   "execution_count": null,
   "id": "8a918dc2-7271-497e-85ce-5fdb101c6632",
   "metadata": {},
   "outputs": [],
   "source": [
    "corr_house_price_interest = correl_df.corr()\n",
    "plt.figure(figsize=(11,8))\n",
    "sns.heatmap(corr_house_price_interest, cmap=\"Greens\",annot=True)\n",
    "\n",
    "plt.show()"
   ]
  },
  {
   "cell_type": "code",
   "execution_count": null,
   "id": "737949e8-7bb3-4b6f-b265-9b4003d4bc04",
   "metadata": {},
   "outputs": [],
   "source": [
    "merged_data_with_employment = merged_data_with_employment.drop(1975)"
   ]
  },
  {
   "cell_type": "code",
   "execution_count": null,
   "id": "5d74139d-6e6a-4d36-9449-a8cbb1e5659e",
   "metadata": {},
   "outputs": [],
   "source": [
    "kitchen_sink_x = merged_data_with_employment['house_prices_logged']\n",
    "\n",
    "kitchen_sink_y = merged_data_with_employment[[\"employment_rate_div_10\"]]\n",
    "\n",
    "\n",
    "kitchen_sink_result = sm.OLS(kitchen_sink_y, sm.add_constant(kitchen_sink_x)).fit()\n",
    "\n",
    "\n",
    "# printing the summary table\n",
    "print(kitchen_sink_result.summary())\n"
   ]
  },
  {
   "cell_type": "code",
   "execution_count": null,
   "id": "97a95927-b184-4d44-81ad-5d8e50c1bc97",
   "metadata": {},
   "outputs": [],
   "source": [
    "merged_data_with_employment[\"house_prices_%_change\"] = merged_data_with_employment[\"house_prices\"].pct_change()"
   ]
  },
  {
   "cell_type": "code",
   "execution_count": null,
   "id": "1c984c9b-85a3-4778-8c1a-306a36af7eb8",
   "metadata": {},
   "outputs": [],
   "source": [
    "merged_data_with_employment = merged_data_with_employment.drop(1976)"
   ]
  },
  {
   "cell_type": "code",
   "execution_count": null,
   "id": "573d7772-17c9-44ee-804f-77ae28092470",
   "metadata": {},
   "outputs": [],
   "source": [
    "fig,ax = plt.subplots(figsize=(10,6))\n",
    "\n",
    "plt.scatter(merged_data_with_employment.index, merged_data_with_employment['interest_rate'], label = \"interest_rate\", s=25, c='g')\n",
    "\n",
    "plt.scatter(merged_data_with_employment.index, merged_data_with_employment[\"house_prices_logged\"], label = \"house_prices_logged\", s=25, c='b')\n",
    "\n",
    "plt.scatter(merged_data_with_employment.index, merged_data_with_employment[\"gdp_logged\"], label = \"gdp_logged\", s=25, c='r')\n",
    "\n",
    "plt.scatter(merged_data_with_employment.index, merged_data_with_employment[\"employment_rate_div_10\"], label = \"employment_rate_div_10\", s=25, c='y')\n",
    "\n",
    "plt.xticks(rotation=70, size=10)\n",
    "\n",
    "plt.xticks(np.arange(1975, 2023, step=5))\n",
    "\n",
    "plt.yticks(np.arange(-1, 19, step=1))\n",
    "\n",
    "\n",
    "plt.grid(color='grey', linestyle='-', linewidth=0.25, alpha=1)\n",
    "\n",
    "\n",
    "plt.xlabel(\"year\")\n",
    "plt.ylabel(\"value\")\n",
    "\n",
    "\n",
    "plt.legend()\n",
    "\n",
    "plt.show()\n",
    "\n"
   ]
  },
  {
   "cell_type": "code",
   "execution_count": null,
   "id": "0e9c6598-bb7f-47bb-bed6-0342fd0849e0",
   "metadata": {},
   "outputs": [],
   "source": [
    "merged_data_with_employment['interest_rate_logged'] = np.log(merged_data_with_employment['interest_rate'])"
   ]
  },
  {
   "cell_type": "code",
   "execution_count": null,
   "id": "468a679a-7341-4003-b90e-d0b0f00beb8a",
   "metadata": {},
   "outputs": [],
   "source": [
    "plt.scatter(merged_data_with_employment.index, merged_data_with_employment[\"employment_rate\"] / 100, s=25, c='y')"
   ]
  },
  {
   "cell_type": "code",
   "execution_count": null,
   "id": "71a7069c-9861-49c7-8e68-37cf390b6d74",
   "metadata": {},
   "outputs": [],
   "source": [
    "merged_data_with_employment.head()"
   ]
  },
  {
   "cell_type": "markdown",
   "id": "5f4c412e-f55c-4ca3-bae2-d09ada7a2912",
   "metadata": {},
   "source": [
    "# Testing for Heteroskedasticity - Interest Rate vs House Prices"
   ]
  },
  {
   "cell_type": "code",
   "execution_count": null,
   "id": "25883d6b-c8ee-4983-a8e5-d8c6c1471db9",
   "metadata": {},
   "outputs": [],
   "source": [
    "import seaborn as sns \n",
    "import matplotlib.pyplot as plt \n",
    "\n",
    "fig,ax = plt.subplots(figsize=(10,6))\n",
    "\n",
    "\n",
    "plt.yticks(np.arange(-2, 2.1, step=0.5))\n",
    "\n",
    "plt.ylim(-2, 2,2010)\n",
    "\n",
    "\n",
    "\n",
    "plt.grid(color='grey', linestyle='-', linewidth=0.25, alpha=1)\n",
    "\n",
    "sns.residplot(x = \"interest_rate\", \n",
    "              y = \"house_prices_logged\", \n",
    "              data = merged_data_with_employment,\n",
    "             scatter_kws={\"color\": \"red\"})\n",
    "\n",
    "  \n",
    "# show the plot \n",
    "plt.show() \n",
    "\n",
    "\n"
   ]
  },
  {
   "cell_type": "code",
   "execution_count": null,
   "id": "02825fd4-e011-4184-ad33-6e9df7be73ce",
   "metadata": {},
   "outputs": [],
   "source": [
    "import numpy as np\n",
    "import pandas as pd\n",
    "import statsmodels.formula.api as smf\n",
    "from statsmodels.compat import lzip\n",
    "import statsmodels.stats.api as sms\n",
    "\n",
    "\n",
    "# Conduct the Breusch-Pagan test\n",
    "names = ['Lagrange multiplier statistic', 'p-value',\n",
    "         'f-value', 'f p-value']\n",
    " \n",
    "# Get the test result\n",
    "test_result_v1 = sms.het_breuschpagan(house_prices_logged_vs_interest_rate.resid, house_prices_logged_vs_interest_rate.model.exog)\n",
    " \n",
    "lzip(names, test_result_v1)"
   ]
  },
  {
   "cell_type": "code",
   "execution_count": null,
   "id": "e4231458-d720-44f7-9463-6d1747578312",
   "metadata": {},
   "outputs": [],
   "source": [
    "\n",
    "# Conduct the Breusch-Pagan test\n",
    "names = ['Lagrange multiplier statistic', 'p-value',\n",
    "         'f-value', 'f p-value']\n",
    " \n",
    "# Get the test result\n",
    "test_result_v2 = sms.het_breuschpagan(result_not_logged.resid, result_not_logged.model.exog)\n",
    " \n",
    "lzip(names, test_result_v2)"
   ]
  },
  {
   "cell_type": "code",
   "execution_count": null,
   "id": "33cba36a-6aad-491e-a552-0dcab9fff466",
   "metadata": {},
   "outputs": [],
   "source": [
    "\n",
    "# Conduct the Breusch-Pagan test\n",
    "names = ['Lagrange multiplier statistic', 'p-value',\n",
    "         'f-value', 'f p-value']\n",
    " \n",
    "# Get the test result\n",
    "test_result_v3 = sms.het_breuschpagan(multivariate_result.resid, multivariate_result.model.exog)\n",
    " \n",
    "lzip(names, test_result_v3)\n",
    "\n",
    "\n",
    "kitchen_sink_result\n",
    "\n"
   ]
  },
  {
   "cell_type": "code",
   "execution_count": null,
   "id": "760b0456-b473-4473-87ff-2cea46455ad9",
   "metadata": {},
   "outputs": [],
   "source": [
    "\n",
    "# Conduct the Breusch-Pagan test\n",
    "names = ['Lagrange multiplier statistic', 'p-value',\n",
    "         'f-value', 'f p-value']\n",
    " \n",
    "# Get the test result\n",
    "kitchen_sink_result = sms.het_breuschpagan(multivariate_result.resid, multivariate_result.model.exog)\n",
    " \n",
    "lzip(names, kitchen_sink_result)"
   ]
  },
  {
   "cell_type": "code",
   "execution_count": null,
   "id": "bbebd2af-7e42-417b-bf6f-49d57cd57246",
   "metadata": {},
   "outputs": [],
   "source": []
  },
  {
   "cell_type": "code",
   "execution_count": null,
   "id": "86ba9d82-b930-4d92-87e4-c986454fd55e",
   "metadata": {},
   "outputs": [],
   "source": [
    "\n",
    "fig,ax = plt.subplots(figsize=(10,6))\n",
    "\n",
    "\n",
    "\n",
    "\n",
    "plt.grid(color='grey', linestyle='-', linewidth=0.25, alpha=1)\n",
    "\n",
    "\n",
    "plt.yticks(np.arange(-150000, 170000, step=50000))\n",
    "\n",
    "plt.ylim(-150000, 150000,2010)\n",
    "\n",
    "\n",
    "sns.residplot(x = \"interest_rate\", \n",
    "              y = \"house_prices\", \n",
    "              data = merged_data_with_employment,\n",
    "             scatter_kws={\"color\": \"red\"})\n",
    "\n",
    "  \n",
    "# show the plot \n",
    "plt.show() \n",
    "\n",
    "\n"
   ]
  },
  {
   "cell_type": "code",
   "execution_count": null,
   "id": "4626cbae-3f55-439a-a4fa-fd08dc0dc652",
   "metadata": {},
   "outputs": [],
   "source": [
    "import seaborn as sns\n",
    "\n",
    "fig,ax = plt.subplots(figsize=(10,6))\n",
    "\n",
    "\n",
    "\n",
    "plt.grid(color='grey', linestyle='-', linewidth=0.25, alpha=1)\n",
    "\n",
    "sns.regplot(x=merged_data['interest_rate'], y=merged_data['house_prices_logged'], data=merged_data, ci=None)\n",
    "\n",
    "plt.scatter(merged_data['interest_rate'], merged_data['house_prices_logged'], s=25, c='r')\n",
    "\n",
    "plt.xticks(rotation=70, size=10)\n",
    "\n",
    "plt.xlabel(\"interest_rate\")\n",
    "plt.ylabel(\"house_prices_logged\")\n",
    "\n",
    "\n",
    "plt.show()\n"
   ]
  },
  {
   "cell_type": "markdown",
   "id": "cc4f2fb0-03a3-464c-b248-0369fe900a3c",
   "metadata": {},
   "source": [
    "# House Price Graphs - For Background Section\n"
   ]
  },
  {
   "cell_type": "code",
   "execution_count": null,
   "id": "fd527fa1-0612-4439-900c-af1e0974a083",
   "metadata": {},
   "outputs": [],
   "source": [
    "fig,ax = plt.subplots(figsize=(10,6))\n",
    "\n",
    "plt.plot(merged_data_with_gdp.index, merged_data_with_gdp[\"house_prices\"], linestyle = 'dashed', linewidth = '1.8', c='r')\n",
    "\n",
    "\n",
    "plt.xticks(rotation=70, size=9)\n",
    "\n",
    "plt.xticks(np.arange(1974, 2025, step=1))\n",
    "\n",
    "plt.grid(color='grey', linestyle='-', linewidth=0.25, alpha=1)\n",
    "\n",
    "plt.show()\n"
   ]
  },
  {
   "cell_type": "code",
   "execution_count": null,
   "id": "d9736063-2f7e-4c69-a6c3-807aa0a64e9e",
   "metadata": {},
   "outputs": [],
   "source": [
    "merged_data['pct_change'] = merged_data[\"house_prices\"].pct_change()"
   ]
  },
  {
   "cell_type": "code",
   "execution_count": null,
   "id": "21a61f7d-0203-45d1-b1ba-6335455ce431",
   "metadata": {},
   "outputs": [],
   "source": [
    "merged_data"
   ]
  },
  {
   "cell_type": "code",
   "execution_count": null,
   "id": "b144c335-923a-4df3-8559-e49b06147356",
   "metadata": {},
   "outputs": [],
   "source": [
    "fig,ax = plt.subplots(figsize=(15,9))\n",
    "\n",
    "plt.scatter(merged_data.index, merged_data[\"house_prices\"].pct_change(), s=45, c='r')\n",
    "\n",
    "plt.xticks(rotation=70, size=10)\n",
    "\n",
    "plt.xticks(np.arange(1974, 2030, step=1))\n",
    "\n",
    "plt.yticks(np.arange(-0.25, 0.45, step=0.05))\n",
    "\n",
    "\n",
    "\n",
    "plt.grid(color='grey', linestyle='-', linewidth=0.25, alpha=1)\n",
    "\n",
    "\n",
    "\n",
    "ax.spines['top'].set_visible(False)\n",
    "\n",
    "ax.spines['right'].set_visible(False)\n",
    "\n",
    "plt.margins(x=0)\n",
    "\n",
    "ax.xaxis.labelpad=30\n",
    "\n",
    "ax.yaxis.labelpad=30\n",
    "\n",
    "\n",
    "plt.rcParams.update({'font.size': 18})\n",
    "\n",
    "plt.xticks(fontsize=15)\n",
    "\n",
    "plt.yticks(fontsize=18)\n",
    "\n",
    "\n",
    "\n",
    "plt.xlabel(\"Year\")\n",
    "plt.ylabel(\"Percentage Change as Decimal\")\n",
    "\n",
    "\n",
    "\n",
    "plt.show()\n",
    "\n"
   ]
  },
  {
   "cell_type": "code",
   "execution_count": null,
   "id": "ec64c6a5-4db7-4de3-bdbb-a4f41a6d8204",
   "metadata": {},
   "outputs": [],
   "source": [
    "merged_data_with_gdp[\"house_prices\"] [merged_data_with_gdp[\"house_prices\"].pct_change() < 0]"
   ]
  },
  {
   "cell_type": "code",
   "execution_count": null,
   "id": "3cf39c40-0f64-4404-ba54-b485e7f9e390",
   "metadata": {},
   "outputs": [],
   "source": [
    "merged_data_with_employment.head()"
   ]
  },
  {
   "cell_type": "code",
   "execution_count": null,
   "id": "768c4658-dafe-44ff-8995-a1dfa1bffdc9",
   "metadata": {},
   "outputs": [],
   "source": [
    "import statistics\n",
    "\n",
    "print (statistics.stdev(merged_data_with_employment[\"employment_rate\"]))"
   ]
  },
  {
   "cell_type": "code",
   "execution_count": null,
   "id": "fb27e2a5-7daa-47df-8861-43596accaaac",
   "metadata": {},
   "outputs": [],
   "source": [
    "merged_data_with_employment[\"employment_rate\"].mean()"
   ]
  },
  {
   "cell_type": "code",
   "execution_count": null,
   "id": "ce143530-6a95-4765-8a83-8f3e633d1462",
   "metadata": {},
   "outputs": [],
   "source": [
    "uk_house_prices.head()"
   ]
  },
  {
   "cell_type": "code",
   "execution_count": null,
   "id": "81ca17f4-1ef2-489d-bbc4-83f0b2e4cbbe",
   "metadata": {},
   "outputs": [],
   "source": [
    "import numpy as np\n",
    "import pandas as pd\n",
    "import seaborn as sns\n",
    "import statsmodels.api as sm\n",
    "import matplotlib.pyplot as plt\n",
    "from statsmodels.graphics.gofplots import ProbPlot"
   ]
  },
  {
   "cell_type": "code",
   "execution_count": null,
   "id": "c80a5de7-4485-4566-aa62-789abb0bacfb",
   "metadata": {},
   "outputs": [],
   "source": [
    "merged_data_with_employment [[\"interest_rate\", \"gdp_logged\", \"employment_rate\"]]\n",
    "\n",
    "\n",
    "np.corrcoef(x, y)"
   ]
  }
 ],
 "metadata": {
  "kernelspec": {
   "display_name": "Python 3 (ipykernel)",
   "language": "python",
   "name": "python3"
  },
  "language_info": {
   "codemirror_mode": {
    "name": "ipython",
    "version": 3
   },
   "file_extension": ".py",
   "mimetype": "text/x-python",
   "name": "python",
   "nbconvert_exporter": "python",
   "pygments_lexer": "ipython3",
   "version": "3.12.4"
  }
 },
 "nbformat": 4,
 "nbformat_minor": 5
}

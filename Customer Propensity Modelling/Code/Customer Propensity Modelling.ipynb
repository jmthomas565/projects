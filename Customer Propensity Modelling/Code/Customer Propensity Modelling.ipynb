{
 "cells": [
  {
   "cell_type": "markdown",
   "id": "424229af",
   "metadata": {},
   "source": [
    "# Banking Customer Propensity Modelling with Class Imballanced Data                                                                                                                                                                                                                                                                                                                                                                                  \n"
   ]
  },
  {
   "cell_type": "markdown",
   "id": "f9c4e72b",
   "metadata": {},
   "source": [
    "# Introduction"
   ]
  },
  {
   "cell_type": "markdown",
   "id": "f659b112",
   "metadata": {},
   "source": [
    "A bank’s term deposit is defined as “a fixed term lump sum savings account” (Raisin, 2025). The customer locking in their deposits for a longer period of time benefits the bank in two ways: (1) Gives it more financial stability, given that it can depend on that liquidity being available for a longer time horizon; (2) Allows it to make longer-term investments in other securities (which could in-turn lead to greater returns). \n",
    "\n",
    "Given the importance of term deposits to a bank’s liquidity and profitability, having the right strategy and tactics in-place to optimally market and sell these term deposits is vital. Our bank spends huge budgets on marketing and sales, in order to drive these initiatives. Many of the bank’s preferred advertising channels are extremely costly (for example telephone marketing, or paid media advertising). Targeting the prospective customers most likely to purchase the financial product, and keeping ad wastage low, is of utmost importance to the bank. Modern data science and predictive analytical techniques have been adopted by many sectors, in order to help target customers more effectively. One of these techniques is known as Customer Propensity Modelling. The technique utilises machine learning classification models to predict which prospective customers are most likely to purchase a product. Then a score is given using the classifier's probability. This can then be used by the company to focus their marketing budget on only certain (high propensity) customers. \n"
   ]
  },
  {
   "cell_type": "markdown",
   "id": "a01df5d5",
   "metadata": {},
   "source": [
    "# Background"
   ]
  },
  {
   "cell_type": "markdown",
   "id": "50b9de0c",
   "metadata": {},
   "source": [
    "The scope of customer predictive analytics for banking generally falls under two main areas: (1) Predicting which prospects will become customers; (2) Predicting which current customers will churn (close their bank account). \n",
    "\n",
    "There is a large amount of research that has been carried out around these two areas, in many sectors, including e-commerce, telecoms, and of course, finance and banking. (Chen at al., 2024) carry out a high-level systematic review of research in the area of predicting customer behaviour. The study explains that tree-based, ensemble, and feedforward neural networks (FNN) methods are commonly utilised in the area. \n",
    "\n",
    "(Zoynul Abedin, et al., 2023) focuses on banking customers and discusses various classification techniques, this time introducing the likes of Multi-Layer Perceptrons and Naïve Bayes. This paper focuses predominantly on feature engineering. \n",
    "\n",
    "(Coussement, C., Van den Poel, D., 2008) uses binary classification models to predict subscription customer churn. They focus predominantly on support vector machines, but also include outputs from Random Forest and Logistic Regression algorithms. \n",
    "\n",
    "This report adds to this existing body of research, but also adopts the techniques used towards Customer Propensity Modelling within the banking sector (a specific combinatory niche that doesn’t seem to be researched extensively). \n",
    "\n",
    "One final important comment (whilst discussing relevant work in this area) is that many Customer Relationship Management (CRM) SAAS include propensity models. These include HubSpot, SalesForce and Bloomreach. These companies utilise binary classifications to derive these scores. \n"
   ]
  },
  {
   "cell_type": "markdown",
   "id": "d4b996bd",
   "metadata": {},
   "source": [
    "# Data"
   ]
  },
  {
   "cell_type": "markdown",
   "id": "cc8d65d1",
   "metadata": {},
   "source": [
    "### Data Source"
   ]
  },
  {
   "cell_type": "markdown",
   "id": "4b9ed370",
   "metadata": {},
   "source": [
    "The data used in this report is the Bank Marketing dataset from UC Irvine Machine Learning Repository. The reduced dataset, containing 4521 customers is used, so that the more computationally demanding algorithms (such as Support Vector Machines) will run. The dataset contains customer records taken from a Portuguese banking institution. Link is provided below:\n",
    "\n",
    "https://archive.ics.uci.edu/dataset/222/bank+marketing\n"
   ]
  },
  {
   "cell_type": "code",
   "execution_count": 4,
   "id": "18cf3e0f",
   "metadata": {},
   "outputs": [],
   "source": [
    "import pandas as pd\n",
    "import matplotlib.pyplot as plt\n",
    "from sklearn.model_selection import train_test_split\n",
    "import numpy as np\n",
    "\n",
    "\n",
    "bank_data = pd.read_csv(\"Banking Dataset - Marketing Targets.csv\")\n",
    "bank_data.head()"
   ]
  },
  {
   "cell_type": "markdown",
   "id": "26ce1932",
   "metadata": {},
   "source": [
    "### Response Variable"
   ]
  },
  {
   "cell_type": "markdown",
   "id": "69c32e3f",
   "metadata": {},
   "source": [
    "The column “y” is a binary field, representing whether the customer has subscribed to a term deposit. As such, this will be used as the response variable (referred to as “label” going forwards in this report). Customers who have subscribed will be referred to as “Converters”. Customers who haven’t will be referred to as “Non-Converters”.\n",
    "\n",
    "Taking counts of the two categories in this column shows that there is an obvious class-imbalance (there are far more Non-Converters than Converters). This aspect of the data will be of huge importance throughout this report. \n"
   ]
  },
  {
   "cell_type": "code",
   "execution_count": 294,
   "id": "a2641b68",
   "metadata": {},
   "outputs": [
    {
     "data": {
      "text/plain": [
       "y\n",
       "no     4000\n",
       "yes     521\n",
       "Name: count, dtype: int64"
      ]
     },
     "execution_count": 294,
     "metadata": {},
     "output_type": "execute_result"
    }
   ],
   "source": [
    "bank_data[\"y\"].value_counts()"
   ]
  },
  {
   "cell_type": "markdown",
   "id": "06016e41",
   "metadata": {},
   "source": [
    "### Train-Test Split"
   ]
  },
  {
   "cell_type": "markdown",
   "id": "3d473aa8",
   "metadata": {},
   "source": [
    "Before the data is transformed or explored in any way, it should first be split into train and test sections. This is so that the model can be trained on a certain portion of the data, and tested on unseen data at the end of the process. The model must generalise well, and perform strongly on unseen data. \n",
    "\n",
    "It's important that the train-test split happens right at the start of the process, so that any decisions made during the training process aren’t influenced by seeing the test data. This influence is what is known as data leakage (IBM, 2024), and can lead to overly optimistic model validation, and lead to the model performing poorly when seeing truly unseen data. \n",
    "\n",
    "The Random State parameter is set, to ensure reproducibility of results. The Stratify parameter is also set to True. This ensures that equal proportions of the label are in both the train and test splits. This is important, because the label suffers from class imbalance. Keeping equal proportions in both splits means that the training data will be representative of the testing data. \n"
   ]
  },
  {
   "cell_type": "code",
   "execution_count": 295,
   "id": "9a3b64d9",
   "metadata": {},
   "outputs": [],
   "source": [
    "#Train-test split should happen before we explore the data. Note that we need to split the data into the label (y) and the features to do this. \n",
    "#But they are then concatenated back together for data exploration purposes.\n",
    "\n",
    "y = bank_data[\"y\"]\n",
    "x = bank_data[bank_data.columns.drop('y')]\n",
    "\n",
    "#Setting up train-test split.\n",
    "\n",
    "x_train, x_test, y_train, y_test = train_test_split(\n",
    "    x, y, test_size=0.30, random_state=42, stratify=y, shuffle=True\n",
    "    )\n",
    "\n",
    "\n",
    "#Joining the x_train and y_train test data back together\n",
    "\n",
    "train_df = pd.concat([x_train, y_train], axis=1)"
   ]
  },
  {
   "cell_type": "markdown",
   "id": "a2e14c7e",
   "metadata": {},
   "source": [
    "### Grouping Age"
   ]
  },
  {
   "cell_type": "markdown",
   "id": "1c9509f8",
   "metadata": {},
   "source": [
    "Before data cleansing is performed, it is necessary to perform some Exploratory Data Analysis (EDA). It’s clear that one of the features (age) is not yet suitable for exploration, however. Rather than using age in its natural state, the decision was made to group this feature. This is so that easier insights could be drawn from each age segment. Age was grouped into decades (20s, 30s, 40s etc). "
   ]
  },
  {
   "cell_type": "code",
   "execution_count": 296,
   "id": "322d1759",
   "metadata": {},
   "outputs": [
    {
     "data": {
      "text/plain": [
       "array(['30s', '20s', '50s', '40s', '60s', '70s', '80s', '10s'],\n",
       "      dtype=object)"
      ]
     },
     "execution_count": 296,
     "metadata": {},
     "output_type": "execute_result"
    }
   ],
   "source": [
    "#Grouping the age feature, by decades (for easier analysis)\n",
    "\n",
    "def age_func(X1, X2, Y):\n",
    "    train_df.loc[train_df['age'].between(X1,X2), 'age_bracket'] = Y\n",
    "    \n",
    "#This iterates through every decade between 10 and 100, and groups the customer accordingly. \n",
    "    \n",
    "for i in range (10, 100, 10):\n",
    "    X1 = i\n",
    "    X2 = i+9\n",
    "    Y = f\"{i}s\"\n",
    "    \n",
    "    age_func(X1, X2, Y)\n",
    "    \n",
    "train_df[\"age_bracket\"].unique()"
   ]
  },
  {
   "cell_type": "code",
   "execution_count": 297,
   "id": "08ca279c",
   "metadata": {},
   "outputs": [
    {
     "data": {
      "text/html": [
       "<div>\n",
       "<style scoped>\n",
       "    .dataframe tbody tr th:only-of-type {\n",
       "        vertical-align: middle;\n",
       "    }\n",
       "\n",
       "    .dataframe tbody tr th {\n",
       "        vertical-align: top;\n",
       "    }\n",
       "\n",
       "    .dataframe thead th {\n",
       "        text-align: right;\n",
       "    }\n",
       "</style>\n",
       "<table border=\"1\" class=\"dataframe\">\n",
       "  <thead>\n",
       "    <tr style=\"text-align: right;\">\n",
       "      <th></th>\n",
       "      <th>age</th>\n",
       "      <th>job</th>\n",
       "      <th>marital</th>\n",
       "      <th>education</th>\n",
       "      <th>default</th>\n",
       "      <th>balance</th>\n",
       "      <th>housing</th>\n",
       "      <th>loan</th>\n",
       "      <th>contact</th>\n",
       "      <th>day</th>\n",
       "      <th>month</th>\n",
       "      <th>duration</th>\n",
       "      <th>campaign</th>\n",
       "      <th>pdays</th>\n",
       "      <th>previous</th>\n",
       "      <th>poutcome</th>\n",
       "      <th>y</th>\n",
       "      <th>age_bracket</th>\n",
       "    </tr>\n",
       "  </thead>\n",
       "  <tbody>\n",
       "    <tr>\n",
       "      <th>1244</th>\n",
       "      <td>37</td>\n",
       "      <td>entrepreneur</td>\n",
       "      <td>single</td>\n",
       "      <td>tertiary</td>\n",
       "      <td>no</td>\n",
       "      <td>1467</td>\n",
       "      <td>yes</td>\n",
       "      <td>yes</td>\n",
       "      <td>cellular</td>\n",
       "      <td>17</td>\n",
       "      <td>nov</td>\n",
       "      <td>349</td>\n",
       "      <td>1</td>\n",
       "      <td>-1</td>\n",
       "      <td>0</td>\n",
       "      <td>unknown</td>\n",
       "      <td>no</td>\n",
       "      <td>30s</td>\n",
       "    </tr>\n",
       "    <tr>\n",
       "      <th>3359</th>\n",
       "      <td>25</td>\n",
       "      <td>unemployed</td>\n",
       "      <td>single</td>\n",
       "      <td>secondary</td>\n",
       "      <td>no</td>\n",
       "      <td>34</td>\n",
       "      <td>no</td>\n",
       "      <td>yes</td>\n",
       "      <td>unknown</td>\n",
       "      <td>4</td>\n",
       "      <td>jul</td>\n",
       "      <td>316</td>\n",
       "      <td>1</td>\n",
       "      <td>-1</td>\n",
       "      <td>0</td>\n",
       "      <td>unknown</td>\n",
       "      <td>no</td>\n",
       "      <td>20s</td>\n",
       "    </tr>\n",
       "    <tr>\n",
       "      <th>2983</th>\n",
       "      <td>53</td>\n",
       "      <td>retired</td>\n",
       "      <td>married</td>\n",
       "      <td>secondary</td>\n",
       "      <td>no</td>\n",
       "      <td>1278</td>\n",
       "      <td>yes</td>\n",
       "      <td>no</td>\n",
       "      <td>telephone</td>\n",
       "      <td>15</td>\n",
       "      <td>jul</td>\n",
       "      <td>174</td>\n",
       "      <td>3</td>\n",
       "      <td>-1</td>\n",
       "      <td>0</td>\n",
       "      <td>unknown</td>\n",
       "      <td>no</td>\n",
       "      <td>50s</td>\n",
       "    </tr>\n",
       "    <tr>\n",
       "      <th>4279</th>\n",
       "      <td>31</td>\n",
       "      <td>housemaid</td>\n",
       "      <td>married</td>\n",
       "      <td>unknown</td>\n",
       "      <td>yes</td>\n",
       "      <td>-6</td>\n",
       "      <td>no</td>\n",
       "      <td>yes</td>\n",
       "      <td>telephone</td>\n",
       "      <td>7</td>\n",
       "      <td>jul</td>\n",
       "      <td>94</td>\n",
       "      <td>2</td>\n",
       "      <td>-1</td>\n",
       "      <td>0</td>\n",
       "      <td>unknown</td>\n",
       "      <td>no</td>\n",
       "      <td>30s</td>\n",
       "    </tr>\n",
       "    <tr>\n",
       "      <th>4023</th>\n",
       "      <td>43</td>\n",
       "      <td>unemployed</td>\n",
       "      <td>married</td>\n",
       "      <td>secondary</td>\n",
       "      <td>no</td>\n",
       "      <td>3529</td>\n",
       "      <td>no</td>\n",
       "      <td>no</td>\n",
       "      <td>cellular</td>\n",
       "      <td>5</td>\n",
       "      <td>feb</td>\n",
       "      <td>169</td>\n",
       "      <td>2</td>\n",
       "      <td>-1</td>\n",
       "      <td>0</td>\n",
       "      <td>unknown</td>\n",
       "      <td>no</td>\n",
       "      <td>40s</td>\n",
       "    </tr>\n",
       "  </tbody>\n",
       "</table>\n",
       "</div>"
      ],
      "text/plain": [
       "      age           job  marital  education default  balance housing loan  \\\n",
       "1244   37  entrepreneur   single   tertiary      no     1467     yes  yes   \n",
       "3359   25    unemployed   single  secondary      no       34      no  yes   \n",
       "2983   53       retired  married  secondary      no     1278     yes   no   \n",
       "4279   31     housemaid  married    unknown     yes       -6      no  yes   \n",
       "4023   43    unemployed  married  secondary      no     3529      no   no   \n",
       "\n",
       "        contact  day month  duration  campaign  pdays  previous poutcome   y  \\\n",
       "1244   cellular   17   nov       349         1     -1         0  unknown  no   \n",
       "3359    unknown    4   jul       316         1     -1         0  unknown  no   \n",
       "2983  telephone   15   jul       174         3     -1         0  unknown  no   \n",
       "4279  telephone    7   jul        94         2     -1         0  unknown  no   \n",
       "4023   cellular    5   feb       169         2     -1         0  unknown  no   \n",
       "\n",
       "     age_bracket  \n",
       "1244         30s  \n",
       "3359         20s  \n",
       "2983         50s  \n",
       "4279         30s  \n",
       "4023         40s  "
      ]
     },
     "execution_count": 297,
     "metadata": {},
     "output_type": "execute_result"
    }
   ],
   "source": [
    "#age_bracket has grouped age correctly\n",
    "\n",
    "train_df.head()"
   ]
  },
  {
   "cell_type": "markdown",
   "id": "735a8633",
   "metadata": {},
   "source": [
    "### Exploratory Data Analysis"
   ]
  },
  {
   "cell_type": "markdown",
   "id": "4a577a64",
   "metadata": {},
   "source": [
    "Firstly simple descriptive statistics of the data are printed. "
   ]
  },
  {
   "cell_type": "code",
   "execution_count": 298,
   "id": "98a8c406-cabb-4423-94e7-bcf6b0b1f84b",
   "metadata": {},
   "outputs": [
    {
     "data": {
      "text/html": [
       "<div>\n",
       "<style scoped>\n",
       "    .dataframe tbody tr th:only-of-type {\n",
       "        vertical-align: middle;\n",
       "    }\n",
       "\n",
       "    .dataframe tbody tr th {\n",
       "        vertical-align: top;\n",
       "    }\n",
       "\n",
       "    .dataframe thead th {\n",
       "        text-align: right;\n",
       "    }\n",
       "</style>\n",
       "<table border=\"1\" class=\"dataframe\">\n",
       "  <thead>\n",
       "    <tr style=\"text-align: right;\">\n",
       "      <th></th>\n",
       "      <th>age</th>\n",
       "      <th>balance</th>\n",
       "      <th>day</th>\n",
       "      <th>duration</th>\n",
       "      <th>campaign</th>\n",
       "      <th>pdays</th>\n",
       "      <th>previous</th>\n",
       "    </tr>\n",
       "  </thead>\n",
       "  <tbody>\n",
       "    <tr>\n",
       "      <th>count</th>\n",
       "      <td>3164.000000</td>\n",
       "      <td>3164.000000</td>\n",
       "      <td>3164.000000</td>\n",
       "      <td>3164.000000</td>\n",
       "      <td>3164.000000</td>\n",
       "      <td>3164.000000</td>\n",
       "      <td>3164.000000</td>\n",
       "    </tr>\n",
       "    <tr>\n",
       "      <th>mean</th>\n",
       "      <td>41.054678</td>\n",
       "      <td>1406.905499</td>\n",
       "      <td>16.050885</td>\n",
       "      <td>265.302149</td>\n",
       "      <td>2.798357</td>\n",
       "      <td>39.932364</td>\n",
       "      <td>0.515803</td>\n",
       "    </tr>\n",
       "    <tr>\n",
       "      <th>std</th>\n",
       "      <td>10.386760</td>\n",
       "      <td>2810.333965</td>\n",
       "      <td>8.222576</td>\n",
       "      <td>263.214008</td>\n",
       "      <td>3.128472</td>\n",
       "      <td>100.104153</td>\n",
       "      <td>1.490216</td>\n",
       "    </tr>\n",
       "    <tr>\n",
       "      <th>min</th>\n",
       "      <td>19.000000</td>\n",
       "      <td>-3313.000000</td>\n",
       "      <td>1.000000</td>\n",
       "      <td>4.000000</td>\n",
       "      <td>1.000000</td>\n",
       "      <td>-1.000000</td>\n",
       "      <td>0.000000</td>\n",
       "    </tr>\n",
       "    <tr>\n",
       "      <th>25%</th>\n",
       "      <td>33.000000</td>\n",
       "      <td>64.000000</td>\n",
       "      <td>9.000000</td>\n",
       "      <td>104.000000</td>\n",
       "      <td>1.000000</td>\n",
       "      <td>-1.000000</td>\n",
       "      <td>0.000000</td>\n",
       "    </tr>\n",
       "    <tr>\n",
       "      <th>50%</th>\n",
       "      <td>39.000000</td>\n",
       "      <td>452.000000</td>\n",
       "      <td>16.000000</td>\n",
       "      <td>185.000000</td>\n",
       "      <td>2.000000</td>\n",
       "      <td>-1.000000</td>\n",
       "      <td>0.000000</td>\n",
       "    </tr>\n",
       "    <tr>\n",
       "      <th>75%</th>\n",
       "      <td>48.000000</td>\n",
       "      <td>1490.000000</td>\n",
       "      <td>21.000000</td>\n",
       "      <td>332.000000</td>\n",
       "      <td>3.000000</td>\n",
       "      <td>-1.000000</td>\n",
       "      <td>0.000000</td>\n",
       "    </tr>\n",
       "    <tr>\n",
       "      <th>max</th>\n",
       "      <td>87.000000</td>\n",
       "      <td>42045.000000</td>\n",
       "      <td>31.000000</td>\n",
       "      <td>3025.000000</td>\n",
       "      <td>50.000000</td>\n",
       "      <td>871.000000</td>\n",
       "      <td>22.000000</td>\n",
       "    </tr>\n",
       "  </tbody>\n",
       "</table>\n",
       "</div>"
      ],
      "text/plain": [
       "               age       balance          day     duration     campaign  \\\n",
       "count  3164.000000   3164.000000  3164.000000  3164.000000  3164.000000   \n",
       "mean     41.054678   1406.905499    16.050885   265.302149     2.798357   \n",
       "std      10.386760   2810.333965     8.222576   263.214008     3.128472   \n",
       "min      19.000000  -3313.000000     1.000000     4.000000     1.000000   \n",
       "25%      33.000000     64.000000     9.000000   104.000000     1.000000   \n",
       "50%      39.000000    452.000000    16.000000   185.000000     2.000000   \n",
       "75%      48.000000   1490.000000    21.000000   332.000000     3.000000   \n",
       "max      87.000000  42045.000000    31.000000  3025.000000    50.000000   \n",
       "\n",
       "             pdays     previous  \n",
       "count  3164.000000  3164.000000  \n",
       "mean     39.932364     0.515803  \n",
       "std     100.104153     1.490216  \n",
       "min      -1.000000     0.000000  \n",
       "25%      -1.000000     0.000000  \n",
       "50%      -1.000000     0.000000  \n",
       "75%      -1.000000     0.000000  \n",
       "max     871.000000    22.000000  "
      ]
     },
     "execution_count": 298,
     "metadata": {},
     "output_type": "execute_result"
    }
   ],
   "source": [
    "#Printing basic descriptive statistics.\n",
    "\n",
    "train_df.describe()"
   ]
  },
  {
   "cell_type": "markdown",
   "id": "133b0ea8",
   "metadata": {},
   "source": [
    "### Visualising Categorical Features"
   ]
  },
  {
   "cell_type": "markdown",
   "id": "4daf1f00",
   "metadata": {},
   "source": [
    "In order to glean insights around the data, the categorical features have been graphed as bar charts. Given that the objective of the model is to predict which customers will subscribe to a term deposit, this label was incorporated into these visualisations. \n",
    "\n",
    "First the training data was split into two groups: Customers who subscribed to the term deposit (Converters) and customers who didn’t (Non-converters). Next, a unique list was taken of every category in the feature of interest. This was then joined to counts of customers who possessed that feature trait. The reason this was done, rather than simply taking the counts, was because a count for the converters or non-converters may not contain all categories. Using a left merge however, on the unique category names, however, would preserve all categories (regardless if they’re present). \n",
    "\n",
    "Finally the counts were transformed into percentages. The reason for this was that counts for the positive class (converters) would be far smaller than counts for the negative class. Using percentages is far easier to see the differences. \n",
    "\n",
    "In order to facilitate this process, a Custom Class cat_graph was created. Then a separate instance (graph_education for example) was then created for each graph. Then the custom method .converter_split() was applied to each instance. "
   ]
  },
  {
   "cell_type": "code",
   "execution_count": 299,
   "id": "0f0493a6",
   "metadata": {},
   "outputs": [],
   "source": [
    "converters = train_df[train_df[\"y\"]==\"yes\"]\n",
    "non_converters = train_df[train_df[\"y\"]==\"no\"]"
   ]
  },
  {
   "cell_type": "code",
   "execution_count": 300,
   "id": "a05b5955",
   "metadata": {},
   "outputs": [],
   "source": [
    "class cat_graph:\n",
    "    def __init__(self, name_of_column):\n",
    "        self.name_of_column = name_of_column\n",
    "    def converter_split(self):\n",
    "\n",
    "\n",
    "        #This makes counts of the two groups (converters and non-converters) per each feature used in the function.\n",
    "\n",
    "        counts_converters = converters[self.name_of_column].value_counts().sort_values(ascending=False)\n",
    "        counts_non_converters = non_converters[self.name_of_column].value_counts().sort_values(ascending=False)\n",
    "\n",
    "\n",
    "        #This creates a unique list of the categories contained within the feature of interest\n",
    "\n",
    "        feature = pd.DataFrame (train_df[self.name_of_column].unique())\n",
    "\n",
    "        #Renames the column (with the name of the feature)\n",
    "\n",
    "        feature = feature.rename(columns = {0 : self.name_of_column})\n",
    "\n",
    "\n",
    "        #Merges the counts to the category names\n",
    "\n",
    "        feature_merge_non_converters = feature.merge(counts_non_converters, how='left', on = self.name_of_column)\n",
    "\n",
    "        feature_merge_final = feature_merge_non_converters.merge(counts_converters, how='left', on = self.name_of_column)\n",
    "\n",
    "\n",
    "        feature_merge_final = feature_merge_final.rename(columns={\"count_x\": \"not_converted\", \"count_y\": \"converted\"})\n",
    "\n",
    "\n",
    "        feature_merge_final[self.name_of_column] = feature_merge_final[self.name_of_column].str.capitalize()\n",
    "\n",
    "        #Rather than using absolute counts, percentages are used (for easier comparison)\n",
    "\n",
    "        feature_merge_final[\"not_converted_percent\"] = ((feature_merge_final['not_converted'] / feature_merge_final['not_converted'].sum()) * 100).round(2)\n",
    "\n",
    "        feature_merge_final[\"converted_percent\"] = ((feature_merge_final['converted'] / feature_merge_final['converted'].sum()) * 100).round(2)\n",
    "\n",
    "\n",
    "        #Creates the plots \n",
    "\n",
    "        X = feature_merge_final[self.name_of_column]\n",
    "        Y_not_converted = feature_merge_final[\"not_converted_percent\"]\n",
    "        Z_converted = feature_merge_final[\"converted_percent\"]\n",
    "\n",
    "        X_axis = np.arange(len(X)) \n",
    "\n",
    "        plt.bar(X_axis - 0.2, Y_not_converted, 0.4, label = 'Not - Converted', color= \"midnightblue\", edgecolor= \"black\", linewidth=0.75) \n",
    "        plt.bar(X_axis + 0.2, Z_converted, 0.4, label = 'Converted', color= \"crimson\", edgecolor= \"black\", linewidth=0.75) \n",
    "\n",
    "        plt.xticks(X_axis, X) \n",
    "        plt.xlabel(self.name_of_column.title().replace(\"_\", \" \")) \n",
    "        plt.ylabel(\"Percentage of Customers\") \n",
    "        plt.title(self.name_of_column.title().replace(\"_\", \" \"))\n",
    "        plt.yticks(np.arange(0, 110, step=10), fontsize=10)\n",
    "        plt.xticks(fontsize=10, rotation='vertical')\n",
    "        plt.legend(loc=1, prop={'size': 8}) \n",
    "\n"
   ]
  },
  {
   "cell_type": "code",
   "execution_count": 301,
   "id": "8db68f84",
   "metadata": {},
   "outputs": [],
   "source": [
    "#Creating new class instances\n",
    "\n",
    "graph_education = cat_graph(\"education\")\n",
    "\n",
    "graph_age = cat_graph(\"age_bracket\")\n",
    "\n",
    "graph_marital = cat_graph(\"marital\")\n",
    "\n",
    "graph_default = cat_graph(\"default\")\n",
    "\n",
    "graph_housing = cat_graph(\"housing\")\n",
    "\n",
    "graph_loan = cat_graph(\"loan\")\n"
   ]
  },
  {
   "cell_type": "code",
   "execution_count": 302,
   "id": "665bb2fb",
   "metadata": {},
   "outputs": [
    {
     "data": {
      "image/png": "[encoded data removed]",
      "text/plain": [
       "<Figure size 900x500 with 3 Axes>"
      ]
     },
     "metadata": {},
     "output_type": "display_data"
    }
   ],
   "source": [
    "#This uses the method and instances created above, passes through each feature name of interest, and outputs the graphs accordingly \n",
    "\n",
    "import warnings\n",
    "warnings.filterwarnings(\"ignore\")\n",
    "\n",
    "\n",
    "fig, axes = plt.subplots(2,1, constrained_layout=True, figsize=(9, 5))\n",
    "\n",
    "plt.subplot(1, 3, 1)\n",
    "\n",
    "\n",
    "\n",
    "graph_education.converter_split()\n",
    "\n",
    "\n",
    "\n",
    "plt.subplot(1, 3, 2)\n",
    "\n",
    "\n",
    "\n",
    "graph_age.converter_split()\n",
    "\n",
    "\n",
    "plt.subplot(1, 3, 3)\n",
    "\n",
    "\n",
    "\n",
    "\n",
    "graph_marital.converter_split()\n",
    "\n",
    "\n",
    "plt.show()\n"
   ]
  },
  {
   "cell_type": "code",
   "execution_count": 303,
   "id": "01726906",
   "metadata": {},
   "outputs": [
    {
     "data": {
      "image/png": "[encoded data removed]",
      "text/plain": [
       "<Figure size 900x500 with 3 Axes>"
      ]
     },
     "metadata": {},
     "output_type": "display_data"
    }
   ],
   "source": [
    "import warnings\n",
    "warnings.filterwarnings(\"ignore\")\n",
    "\n",
    "\n",
    "fig, axes = plt.subplots(2,1, constrained_layout=True, figsize=(9, 5))\n",
    "\n",
    "plt.subplot(1, 3, 1)\n",
    "\n",
    "\n",
    "graph_default.converter_split()\n",
    "\n",
    "\n",
    "plt.subplot(1, 3, 2)\n",
    "\n",
    "graph_age.converter_split()\n",
    "\n",
    "\n",
    "plt.subplot(1, 3, 3)\n",
    "\n",
    "graph_loan.converter_split()\n",
    "\n",
    "\n",
    "plt.show()\n",
    "\n"
   ]
  },
  {
   "cell_type": "markdown",
   "id": "84c807f6",
   "metadata": {},
   "source": [
    "From looking at the graphs it can be seen how the Converted over or under-index with respect to the non-converters. Converters are over-indexed in tertiary jobs, in their twenties and not possessing a housing loan. Looking at the Default graph, there doesn’t seem to be any over or under-indexing on this feature. This may indicate that the Default feature will poorly predict the response variable. "
   ]
  },
  {
   "cell_type": "markdown",
   "id": "88e73f8b",
   "metadata": {},
   "source": [
    "### Visualising Numerical Features"
   ]
  },
  {
   "cell_type": "markdown",
   "id": "b1fa6484",
   "metadata": {},
   "source": [
    "The decision was made to visualise the numerical features as histograms. \n",
    "\n",
    "Customer Account Balance was visualised first (a few cells below). It can clearly be seen that the distribution shows a large right skew. The 2nd graph simply zooms in on this, to demonstrate that there are indeed outlier Customer Account Balances, which go right up to 42,045 euros. \n"
   ]
  },
  {
   "cell_type": "code",
   "execution_count": 304,
   "id": "97299b64",
   "metadata": {},
   "outputs": [],
   "source": [
    "#Removing the column age_bracket as we don't need it for further analysis.\n",
    "\n",
    "train_df = train_df.drop([\"age_bracket\"], axis = 1)"
   ]
  },
  {
   "cell_type": "code",
   "execution_count": 305,
   "id": "c8e0fc97",
   "metadata": {},
   "outputs": [
    {
     "data": {
      "text/plain": [
       "42045"
      ]
     },
     "execution_count": 305,
     "metadata": {},
     "output_type": "execute_result"
    }
   ],
   "source": [
    "#Checking the max and mins of numerical features, to check their bounds, before graphing them. \n",
    "\n",
    "train_df[\"balance\"].max()"
   ]
  },
  {
   "cell_type": "code",
   "execution_count": 306,
   "id": "16d6b5ae",
   "metadata": {},
   "outputs": [
    {
     "data": {
      "text/plain": [
       "-3313"
      ]
     },
     "execution_count": 306,
     "metadata": {},
     "output_type": "execute_result"
    }
   ],
   "source": [
    "train_df[\"balance\"].min()"
   ]
  },
  {
   "cell_type": "code",
   "execution_count": 307,
   "id": "e2a0f697",
   "metadata": {},
   "outputs": [
    {
     "data": {
      "image/png": "[encoded data removed]",
      "text/plain": [
       "<Figure size 600x400 with 1 Axes>"
      ]
     },
     "metadata": {},
     "output_type": "display_data"
    }
   ],
   "source": [
    "#Using the min and max taken above to set the bounds of the graph below.\n",
    "#Note that negative ballance will be people in their overdraft. \n",
    "\n",
    "plt.figure(figsize=(6,4))\n",
    "\n",
    "\n",
    "plt.hist(train_df[\"balance\"], color ='crimson', bins = 100, edgecolor='black', linewidth=0.50)\n",
    "\n",
    "\n",
    "plt.title(\"Customer Account Balance\")\n",
    "plt.xlabel(\"Bank Balance (in Euros)\")\n",
    "plt.ylabel(\"Customer Count\")\n",
    "plt.ylim(0, 1250)\n",
    "plt.xlim(-3500, 45000)\n",
    "\n",
    "plt.show()\n"
   ]
  },
  {
   "cell_type": "code",
   "execution_count": 308,
   "id": "0a85fe13",
   "metadata": {},
   "outputs": [
    {
     "data": {
      "image/png": "[encoded data removed]",
      "text/plain": [
       "<Figure size 600x400 with 1 Axes>"
      ]
     },
     "metadata": {},
     "output_type": "display_data"
    }
   ],
   "source": [
    "#Below shows (when we cut off the top of the histograms) that there are indeed observations that go up to 41K. Hard to see from the previous graph.\n",
    "\n",
    "\n",
    "plt.figure(figsize=(6,4))\n",
    "\n",
    "\n",
    "plt.hist(train_df[\"balance\"], color ='crimson', bins = 100, edgecolor='black', linewidth=0.50)\n",
    "\n",
    "\n",
    "plt.title(\"Customer Account Balance\")\n",
    "plt.xlabel(\"Bank Balance (in Euros)\")\n",
    "plt.ylabel(\"Customer Count\")\n",
    "plt.ylim(0, 100)\n",
    "plt.xlim(-3500, 45000)\n",
    "\n",
    "plt.show()\n"
   ]
  },
  {
   "cell_type": "markdown",
   "id": "7bf3faf3",
   "metadata": {},
   "source": [
    "Graphs for Contact Duration and Contacts Performed (a few cells below), both show exponential-like distributions, again with several outliers towards the upper end of the distributions. "
   ]
  },
  {
   "cell_type": "code",
   "execution_count": 309,
   "id": "69d5a3f6",
   "metadata": {},
   "outputs": [
    {
     "data": {
      "text/plain": [
       "4"
      ]
     },
     "execution_count": 309,
     "metadata": {},
     "output_type": "execute_result"
    }
   ],
   "source": [
    "train_df[\"duration\"].min()"
   ]
  },
  {
   "cell_type": "code",
   "execution_count": 310,
   "id": "19ca2712",
   "metadata": {},
   "outputs": [
    {
     "data": {
      "text/plain": [
       "3025"
      ]
     },
     "execution_count": 310,
     "metadata": {},
     "output_type": "execute_result"
    }
   ],
   "source": [
    "train_df[\"duration\"].max()"
   ]
  },
  {
   "cell_type": "code",
   "execution_count": 311,
   "id": "cfc3329a",
   "metadata": {},
   "outputs": [
    {
     "data": {
      "image/png": "[encoded data removed]",
      "text/plain": [
       "<Figure size 600x400 with 1 Axes>"
      ]
     },
     "metadata": {},
     "output_type": "display_data"
    }
   ],
   "source": [
    "\n",
    "plt.figure(figsize=(6,4))\n",
    "\n",
    "\n",
    "plt.hist(train_df[\"duration\"], color ='crimson', bins = 100, edgecolor='black', linewidth=0.50)\n",
    "\n",
    "\n",
    "plt.title(\"Last Contact Duration\")\n",
    "plt.xlabel(\"Last Contact Duration (in seconds)\")\n",
    "plt.ylabel(\"Customer Count\")\n",
    "plt.ylim(0, 350)\n",
    "plt.xlim(0, 3200)\n",
    "\n",
    "plt.show()\n"
   ]
  },
  {
   "cell_type": "code",
   "execution_count": 312,
   "id": "69a9a8d5",
   "metadata": {},
   "outputs": [
    {
     "data": {
      "text/plain": [
       "50"
      ]
     },
     "execution_count": 312,
     "metadata": {},
     "output_type": "execute_result"
    }
   ],
   "source": [
    "train_df[\"campaign\"].max()"
   ]
  },
  {
   "cell_type": "code",
   "execution_count": 313,
   "id": "544a8816",
   "metadata": {},
   "outputs": [
    {
     "data": {
      "image/png": "[encoded data removed]",
      "text/plain": [
       "<Figure size 600x400 with 1 Axes>"
      ]
     },
     "metadata": {},
     "output_type": "display_data"
    }
   ],
   "source": [
    "\n",
    "plt.figure(figsize=(6,4))\n",
    "\n",
    "#This time setting bins to the exact amount of touchpoints (50)\n",
    "\n",
    "plt.hist(train_df[\"campaign\"], color ='crimson', bins = 50, edgecolor='black', linewidth=0.50)\n",
    "\n",
    "\n",
    "plt.title(\"Number of Contacts Performed During Campaign\")\n",
    "plt.xlabel(\"Number of Contacts\")\n",
    "plt.ylabel(\"Customer Count\")\n",
    "plt.ylim(0, 1500)\n",
    "plt.xlim(0, 51)\n",
    "\n",
    "plt.show()\n"
   ]
  },
  {
   "cell_type": "markdown",
   "id": "09d9f0dc",
   "metadata": {},
   "source": [
    "### Cleansing the Data for the Model"
   ]
  },
  {
   "cell_type": "markdown",
   "id": "c8676550",
   "metadata": {},
   "source": [
    "The first check made in the data cleansing process, is for null values. This returns empty, meaning we are fine to proceed, without imputing values. \n"
   ]
  },
  {
   "cell_type": "code",
   "execution_count": 314,
   "id": "c1967b2f",
   "metadata": {},
   "outputs": [
    {
     "data": {
      "text/html": [
       "<div>\n",
       "<style scoped>\n",
       "    .dataframe tbody tr th:only-of-type {\n",
       "        vertical-align: middle;\n",
       "    }\n",
       "\n",
       "    .dataframe tbody tr th {\n",
       "        vertical-align: top;\n",
       "    }\n",
       "\n",
       "    .dataframe thead th {\n",
       "        text-align: right;\n",
       "    }\n",
       "</style>\n",
       "<table border=\"1\" class=\"dataframe\">\n",
       "  <thead>\n",
       "    <tr style=\"text-align: right;\">\n",
       "      <th></th>\n",
       "      <th>age</th>\n",
       "      <th>job</th>\n",
       "      <th>marital</th>\n",
       "      <th>education</th>\n",
       "      <th>default</th>\n",
       "      <th>balance</th>\n",
       "      <th>housing</th>\n",
       "      <th>loan</th>\n",
       "      <th>contact</th>\n",
       "      <th>day</th>\n",
       "      <th>month</th>\n",
       "      <th>duration</th>\n",
       "      <th>campaign</th>\n",
       "      <th>pdays</th>\n",
       "      <th>previous</th>\n",
       "      <th>poutcome</th>\n",
       "      <th>y</th>\n",
       "    </tr>\n",
       "  </thead>\n",
       "  <tbody>\n",
       "  </tbody>\n",
       "</table>\n",
       "</div>"
      ],
      "text/plain": [
       "Empty DataFrame\n",
       "Columns: [age, job, marital, education, default, balance, housing, loan, contact, day, month, duration, campaign, pdays, previous, poutcome, y]\n",
       "Index: []"
      ]
     },
     "execution_count": 314,
     "metadata": {},
     "output_type": "execute_result"
    }
   ],
   "source": [
    "#Checking for null values\n",
    "#No null values present in the data, so we don't need to impute values.\n",
    "\n",
    "train_df[pd.isnull(train_df).any(axis=1)]"
   ]
  },
  {
   "cell_type": "markdown",
   "id": "84395bae",
   "metadata": {},
   "source": [
    "\n",
    "\n",
    "The next action was to transform the categorical features. Most classification models can’t use categorical features in their original form. They need to be encoded into dummy variables, so that the model can interpret them correctly. \n",
    "\n",
    "In order to give the model better information about the features. The decision was taken to split these categorical variables into two groups: Those with natural ordinal hierarchies and those without. The ones without were handled first, and simply given dummy variables. \n",
    "\n",
    "The features with natural ordinal hierarchies were then OrdinalEncoded, using SKLearn Preprocessing module. \n"
   ]
  },
  {
   "cell_type": "code",
   "execution_count": 315,
   "id": "71a375e3",
   "metadata": {},
   "outputs": [],
   "source": [
    "from sklearn.preprocessing import OrdinalEncoder\n",
    "\n",
    "#Using get_dummys rather than Sklearn one hot encoding. This is to specificy the columns, so that I can also add ordinal ones.\n",
    "\n",
    "\n",
    "train_df_cleaned = pd.get_dummies(train_df, columns = [\"job\", \"marital\", \"default\", \"housing\", \"loan\", \"contact\", \"poutcome\"])\n",
    "\n",
    "\n",
    "enc = OrdinalEncoder()\n",
    "enc.fit(train_df[[\"education\",\"month\"]])\n",
    "train_df_cleaned[[\"education_int\", \"month_int\"]] = enc.transform(train_df[[\"education\",\"month\"]])\n",
    "\n",
    "#Setting up a function to check that ordinal value are in correct orders\n",
    "def ordinal_check(column, column_int):\n",
    "    result = train_df_cleaned[[column, column_int]].drop_duplicates().sort_values(by=column_int)\n",
    "    print (result)"
   ]
  },
  {
   "cell_type": "markdown",
   "id": "9841a6c0",
   "metadata": {},
   "source": [
    "Checks were then run, to ensure that the automatic ordering was correct."
   ]
  },
  {
   "cell_type": "code",
   "execution_count": 316,
   "id": "bcfd7850",
   "metadata": {},
   "outputs": [
    {
     "name": "stdout",
     "output_type": "stream",
     "text": [
      "      education  education_int\n",
      "1833    primary            0.0\n",
      "3359  secondary            1.0\n",
      "1244   tertiary            2.0\n",
      "4279    unknown            3.0\n"
     ]
    }
   ],
   "source": [
    "#Checking that ordinal value are in correct orders \n",
    "\n",
    "ordinal_check(\"education\", \"education_int\")"
   ]
  },
  {
   "cell_type": "code",
   "execution_count": 317,
   "id": "6dc2c86d",
   "metadata": {},
   "outputs": [
    {
     "name": "stdout",
     "output_type": "stream",
     "text": [
      "     month  month_int\n",
      "2285   apr        0.0\n",
      "1367   aug        1.0\n",
      "3889   dec        2.0\n",
      "4023   feb        3.0\n",
      "158    jan        4.0\n",
      "3359   jul        5.0\n",
      "3306   jun        6.0\n",
      "3439   mar        7.0\n",
      "4174   may        8.0\n",
      "1244   nov        9.0\n",
      "1928   oct       10.0\n",
      "855    sep       11.0\n"
     ]
    }
   ],
   "source": [
    "#Checking that ordinal value are in correct orders \n",
    "\n",
    "ordinal_check(\"month\", \"month_int\")"
   ]
  },
  {
   "cell_type": "markdown",
   "id": "2ebe8019",
   "metadata": {},
   "source": [
    " They were not, so this was corrected with more specific code. "
   ]
  },
  {
   "cell_type": "code",
   "execution_count": 318,
   "id": "54a040b3",
   "metadata": {},
   "outputs": [],
   "source": [
    "\n",
    "#Due to the above encodings not being in the correct order, the following code rectifies that.\n",
    "\n",
    "enc = OrdinalEncoder(categories=[['primary', 'secondary', 'tertiary', 'unknown'], \n",
    "                                 ['jan', 'feb', 'mar', 'apr', 'may', 'jun', 'jul', 'aug', 'sep', 'oct', 'nov', 'dec']])\n",
    "enc.fit(train_df[[\"education\", \"month\"]])\n",
    "train_df_cleaned[[\"education_int\", \"month_int\"]] = enc.transform(train_df[[\"education\",\"month\"]])\n"
   ]
  },
  {
   "cell_type": "markdown",
   "id": "e107a7c6",
   "metadata": {},
   "source": [
    "Based on the data exploratory analysis, certain features were removed. These were the features which were expected to have poor predictive performance on the label. Finally SKLearn’s StandardScaler method was used to standardise the features. This transformation subtracts the mean, and divides by the standard deviation:"
   ]
  },
  {
   "attachments": {
    "image.png": {
     "image/png": "[encoded data removed]"
    }
   },
   "cell_type": "markdown",
   "id": "0d63dc40",
   "metadata": {},
   "source": [
    "![image.png](attachment:image.png)"
   ]
  },
  {
   "cell_type": "markdown",
   "id": "82b13507",
   "metadata": {},
   "source": [
    "These transformations, along with the final encoding was placed inside a function for reproducibility later. "
   ]
  },
  {
   "cell_type": "code",
   "execution_count": 319,
   "id": "4eb1901c",
   "metadata": {},
   "outputs": [],
   "source": [
    "#Now that we are happy with the encoding above, the below code uses those, as well as other data manipulations to clean the data for the final model trainings.\n",
    "#This is all coded as a function, to allow for repreducibility later. \n",
    "\n",
    "\n",
    "def feature_clean (df):\n",
    "    \n",
    "\n",
    "    features_cleaned = pd.get_dummies(df, columns = [\"job\", \"marital\", \"default\", \"housing\", \"loan\", \"contact\", \"poutcome\"])\n",
    "\n",
    "\n",
    "    enc = OrdinalEncoder(categories=[['primary', 'secondary', 'tertiary', 'unknown'], \n",
    "                                     ['jan', 'feb', 'mar', 'apr', 'may', 'jun', 'jul', 'aug', 'sep', 'oct', 'nov', 'dec']])\n",
    "    enc.fit(df[[\"education\", \"month\"]])\n",
    "    features_cleaned[[\"education_int\", \"month_int\"]] = enc.transform(df[[\"education\",\"month\"]])\n",
    "    \n",
    "    \n",
    "    x_cleaned = features_cleaned[[\"education_int\", \"age\",'job_admin.', 'job_blue-collar', 'job_entrepreneur', 'job_housemaid',\n",
    "       'job_management', 'job_retired', 'job_self-employed', 'job_services',\n",
    "       'job_student', 'job_technician', 'job_unemployed', 'job_unknown',\n",
    "       'marital_divorced', 'marital_married', 'marital_single', 'default_no',\n",
    "       'default_yes', 'housing_no', 'housing_yes', 'loan_no', 'loan_yes']]\n",
    "    \n",
    "    #We also standardise the features\n",
    "\n",
    "    from sklearn.preprocessing import StandardScaler\n",
    "\n",
    "    sc = StandardScaler()\n",
    "    \n",
    "    x_cleaned = sc.fit_transform(x_cleaned)\n",
    "    \n",
    "    return x_cleaned"
   ]
  },
  {
   "cell_type": "code",
   "execution_count": 320,
   "id": "0e8479c5",
   "metadata": {},
   "outputs": [],
   "source": [
    "x_train_cleaned = feature_clean (train_df)\n",
    "\n",
    "y_train_cleaned = train_df[\"y\"]"
   ]
  },
  {
   "cell_type": "markdown",
   "id": "a782bc69",
   "metadata": {},
   "source": [
    "# Methodology"
   ]
  },
  {
   "cell_type": "markdown",
   "id": "96ae7401",
   "metadata": {},
   "source": [
    "### Cross-Validation "
   ]
  },
  {
   "cell_type": "markdown",
   "id": "5402ad6a",
   "metadata": {},
   "source": [
    "As previously mentioned, it’s important to keep the test data unseen, until evaluation right at the end of the machine learning process. This avoids data leakage. In order to iteratively test the models throughout the training process, however, it’s important to use a process known as Cross-Validation. This project will use the particular technique K-Fold Cross-Validation. This is where the training data is split into k different sections. The model is then run on k-1 of these sections, whilst the remaining section is left as a hold-out group, and then validated on. The algorithm will then use another section as the hold-out group (before it is used to validate on). It will do this iteratively until each of the sections have been held out and used for validation. \n",
    "\n",
    "Rather than using the standard K-Fold method, the decision was made to use the StratifiedKFold method. This has a similar effect to the Stratify parameter for the test-train split method. It ensures that each K split has equal proportions of the label. Again, this is important, given that the data suffers from class imbalance. The random_state parameter is set to allow for reproducibility. \n"
   ]
  },
  {
   "cell_type": "code",
   "execution_count": 321,
   "id": "4d56464e",
   "metadata": {},
   "outputs": [],
   "source": [
    "from sklearn.model_selection import KFold\n",
    "from sklearn.model_selection import cross_val_score\n",
    "from sklearn.model_selection import StratifiedKFold\n",
    "\n",
    "\n",
    "#StratifiedKFold is used because of the class imbalance\n",
    "\n",
    "KFS = StratifiedKFold(n_splits = 5, shuffle = True, random_state = 42)\n"
   ]
  },
  {
   "cell_type": "markdown",
   "id": "47958471",
   "metadata": {},
   "source": [
    "## Training the Models"
   ]
  },
  {
   "cell_type": "markdown",
   "id": "f26b8bf9",
   "metadata": {},
   "source": [
    "### Logistic Regression - without Regularisation "
   ]
  },
  {
   "cell_type": "markdown",
   "id": "9aa7a770-d349-4a36-9f98-2536a4525bf2",
   "metadata": {},
   "source": [
    "The first model that is trained is a standard logistic regression model. This model is chosen, because it works well for 2-class classification problems like this one. \n",
    "The Logistic Regression uses the following function to estimate the probability that a certain observation is <50% or  >=50%:"
   ]
  },
  {
   "attachments": {
    "Screen%20Shot%202025-05-07%20at%2012.54.34.png": {
     "image/png": "[encoded data removed]"
    }
   },
   "cell_type": "markdown",
   "id": "1d45b29b",
   "metadata": {},
   "source": [
    "![Screen%20Shot%202025-05-07%20at%2012.54.34.png](attachment:Screen%20Shot%202025-05-07%20at%2012.54.34.png)"
   ]
  },
  {
   "cell_type": "markdown",
   "id": "ec891834",
   "metadata": {},
   "source": [
    "The cross_val_score function is given the scoring parameter “accuracy”. This will measure the percentage of correct predictions made. This model produces an accuracy of 88.46%. This appears strong. It should be remembered, however, that the data suffers from class imbalance. This means that there is a good chance that the model is simply learning from the Non-converters, and as a result, blindly predicting almost all customers will not convert. This will result in a large proportion of correct predictions, but a low number of predicted converters. \n",
    "\n",
    "To use a more robust metric, the next model uses “roc_auc” (Area Under the Receiver Operating Characteristic Curve). This is a better scoring metric for when data is imbalanced, because it can better distinguish between positive and negative classes. This shows a much reduced score of 62.20%. This more robust metric should be used going forwards however. \n"
   ]
  },
  {
   "cell_type": "code",
   "execution_count": 322,
   "id": "4a761fc6",
   "metadata": {},
   "outputs": [
    {
     "data": {
      "text/plain": [
       "array([0.88467615, 0.88467615, 0.88467615, 0.88467615, 0.88449367])"
      ]
     },
     "execution_count": 322,
     "metadata": {},
     "output_type": "execute_result"
    }
   ],
   "source": [
    "from sklearn.linear_model import LogisticRegression\n",
    "\n",
    "#Training the logistic regression\n",
    "log_reg = LogisticRegression(penalty=\"none\", solver = 'sag')\n",
    "\n",
    "#Cross validation, optimised towards the \"accuracy\" metric\n",
    "\n",
    "kfscore_accuracy = cross_val_score (log_reg, x_train_cleaned, y_train_cleaned, cv = KFS, scoring = \"accuracy\")\n",
    "\n",
    "\n",
    "kfscore_accuracy\n"
   ]
  },
  {
   "cell_type": "code",
   "execution_count": 323,
   "id": "a9748e89",
   "metadata": {},
   "outputs": [
    {
     "data": {
      "text/plain": [
       "0.8846396504489371"
      ]
     },
     "execution_count": 323,
     "metadata": {},
     "output_type": "execute_result"
    }
   ],
   "source": [
    "#This returns accuracy, which performs pretty well. But remember that we have a large class imballance. So accuracy isn't the best metric.\n",
    "\n",
    "np.average(kfscore_accuracy)"
   ]
  },
  {
   "cell_type": "code",
   "execution_count": 324,
   "id": "0b336e3f",
   "metadata": {},
   "outputs": [
    {
     "data": {
      "text/plain": [
       "array([0.60090509, 0.66585127, 0.61738014, 0.63172701, 0.59424854])"
      ]
     },
     "execution_count": 324,
     "metadata": {},
     "output_type": "execute_result"
    }
   ],
   "source": [
    "#Instead, here we use roc_auc, which takes into account the class imballance. \n",
    "\n",
    "kfscore_roc_auc = cross_val_score (log_reg, x_train_cleaned, y_train_cleaned, cv = KFS, scoring = \"roc_auc\")\n",
    "\n",
    "kfscore_roc_auc\n"
   ]
  },
  {
   "cell_type": "code",
   "execution_count": 325,
   "id": "471f0c69",
   "metadata": {},
   "outputs": [
    {
     "data": {
      "text/plain": [
       "0.6220224077451698"
      ]
     },
     "execution_count": 325,
     "metadata": {},
     "output_type": "execute_result"
    }
   ],
   "source": [
    "#This doesn't perform as well.\n",
    "\n",
    "np.average(kfscore_roc_auc)"
   ]
  },
  {
   "cell_type": "markdown",
   "id": "c14d5653",
   "metadata": {},
   "source": [
    "### Logistic Regression - with Regularisation \n"
   ]
  },
  {
   "cell_type": "markdown",
   "id": "50562792",
   "metadata": {},
   "source": [
    "The next two models introduce regularisation (a technique where a penalty term is added to the loss function of a model). This penalty term means that the model is not only focussed on minimising the loss, but also on minimising the penalty term. This results in a model that generalises better to unseen data. The ROC-AUC results on the regularised logistic regression are shown below:\n",
    "\n",
    "L2 Regularisation = 62.30%\n",
    "\n",
    "L1 Regularisation = 62.12% \n",
    "\n",
    "The L2 Logistic Regression is so far the best model. \n"
   ]
  },
  {
   "cell_type": "code",
   "execution_count": 326,
   "id": "7a933ded",
   "metadata": {},
   "outputs": [
    {
     "data": {
      "text/plain": [
       "0.6223543448427965"
      ]
     },
     "execution_count": 326,
     "metadata": {},
     "output_type": "execute_result"
    }
   ],
   "source": [
    "#Testing the models with the L2 regularization parameter. Note that solver is now set to \"saga\". \n",
    "#This is because it's compatible with penalty L1 (which we'll test shortly). This was to keep the test consistent.\n",
    "log_reg_l2 = LogisticRegression(penalty=\"l2\", solver = 'saga', class_weight = 'balanced')\n",
    "\n",
    "#Instead, here we use roc_auc, which takes into account the class imballance. \n",
    "\n",
    "kfscore_roc_auc_l2 = cross_val_score (log_reg_l2, x_train_cleaned, y_train_cleaned, cv = KFS, scoring = \"roc_auc\")\n",
    "\n",
    "kfscore_roc_auc_l2\n",
    "\n",
    "np.average(kfscore_roc_auc_l2)"
   ]
  },
  {
   "cell_type": "code",
   "execution_count": 327,
   "id": "0fe2c266",
   "metadata": {},
   "outputs": [
    {
     "data": {
      "text/plain": [
       "array([0.60318004, 0.66183953, 0.61473826, 0.63767123, 0.59125885])"
      ]
     },
     "execution_count": 327,
     "metadata": {},
     "output_type": "execute_result"
    }
   ],
   "source": [
    "#Checking L1 regularisation\n",
    "\n",
    "log_reg_l1 = LogisticRegression(penalty=\"l1\", solver = 'saga', class_weight = 'balanced')\n",
    "\n",
    "\n",
    "kfscore_roc_auc_l1 = cross_val_score (log_reg_l1, x_train_cleaned, y_train_cleaned, cv = KFS, scoring = \"roc_auc\")\n",
    "\n",
    "kfscore_roc_auc_l1\n",
    "\n"
   ]
  },
  {
   "cell_type": "code",
   "execution_count": 328,
   "id": "9950551b",
   "metadata": {},
   "outputs": [
    {
     "data": {
      "text/plain": [
       "0.6217375826626383"
      ]
     },
     "execution_count": 328,
     "metadata": {},
     "output_type": "execute_result"
    }
   ],
   "source": [
    "np.average(kfscore_roc_auc_l1)"
   ]
  },
  {
   "cell_type": "markdown",
   "id": "f08f03c7",
   "metadata": {},
   "source": [
    "### Support Vector Machines"
   ]
  },
  {
   "cell_type": "markdown",
   "id": "44d9eea4",
   "metadata": {},
   "source": [
    "The next model that is fit is a Support Vector Machine (SVM), also known as a Support Vector Classifier (SVC) in this classification context. The model seeks to solve this optimisation problem:"
   ]
  },
  {
   "attachments": {
    "Screen%20Shot%202025-05-07%20at%2013.00.06.png": {
     "image/png": "[encoded data removed]"
    }
   },
   "cell_type": "markdown",
   "id": "1fd5bcd3",
   "metadata": {},
   "source": [
    "![Screen%20Shot%202025-05-07%20at%2013.00.06.png](attachment:Screen%20Shot%202025-05-07%20at%2013.00.06.png)"
   ]
  },
  {
   "cell_type": "markdown",
   "id": "f6b74ea7",
   "metadata": {},
   "source": [
    "The model tries to maximise the margin (denoted by M), subject to the normalised distances from the decision boundaries, being greater than M.\n",
    "\n",
    "The basic model is fit first, which actually returns the poorest ROC-AUC score yet of only 55.20%. \n"
   ]
  },
  {
   "cell_type": "code",
   "execution_count": 329,
   "id": "f8195f97",
   "metadata": {},
   "outputs": [],
   "source": [
    "#Training the Support Vector Classifier\n",
    "\n",
    "from sklearn.svm import SVC\n",
    "\n",
    "svc = SVC()"
   ]
  },
  {
   "cell_type": "code",
   "execution_count": 330,
   "id": "a5953844",
   "metadata": {},
   "outputs": [
    {
     "data": {
      "text/plain": [
       "array([0.5717955 , 0.59124266, 0.53748777, 0.51952055, 0.54014017])"
      ]
     },
     "execution_count": 330,
     "metadata": {},
     "output_type": "execute_result"
    }
   ],
   "source": [
    "kfscore_svm_roc_auc = cross_val_score (svc, x_train_cleaned, y_train_cleaned, cv = KFS, scoring = \"roc_auc\")\n",
    "\n",
    "kfscore_svm_roc_auc\n"
   ]
  },
  {
   "cell_type": "code",
   "execution_count": 331,
   "id": "206ec2c7",
   "metadata": {},
   "outputs": [
    {
     "data": {
      "text/plain": [
       "0.5520373299048832"
      ]
     },
     "execution_count": 331,
     "metadata": {},
     "output_type": "execute_result"
    }
   ],
   "source": [
    "np.average(kfscore_svm_roc_auc)"
   ]
  },
  {
   "cell_type": "markdown",
   "id": "174bf564",
   "metadata": {},
   "source": [
    "### Checking for Linear Seperability"
   ]
  },
  {
   "cell_type": "markdown",
   "id": "3cf25070",
   "metadata": {},
   "source": [
    "The next step is to conduct some hyperparameter tuning, in order to improve the performance of this model. The graph below demonstrates that the data isn’t linearly separable for even two features (let alone many more). This means that the linear kernel hyperparameter won’t be appropriate.  "
   ]
  },
  {
   "cell_type": "code",
   "execution_count": 332,
   "id": "02dba2b8",
   "metadata": {},
   "outputs": [
    {
     "data": {
      "text/html": [
       "<div>\n",
       "<style scoped>\n",
       "    .dataframe tbody tr th:only-of-type {\n",
       "        vertical-align: middle;\n",
       "    }\n",
       "\n",
       "    .dataframe tbody tr th {\n",
       "        vertical-align: top;\n",
       "    }\n",
       "\n",
       "    .dataframe thead th {\n",
       "        text-align: right;\n",
       "    }\n",
       "</style>\n",
       "<table border=\"1\" class=\"dataframe\">\n",
       "  <thead>\n",
       "    <tr style=\"text-align: right;\">\n",
       "      <th></th>\n",
       "      <th>age</th>\n",
       "      <th>duration</th>\n",
       "      <th>y</th>\n",
       "    </tr>\n",
       "  </thead>\n",
       "  <tbody>\n",
       "    <tr>\n",
       "      <th>0</th>\n",
       "      <td>30</td>\n",
       "      <td>79</td>\n",
       "      <td>no</td>\n",
       "    </tr>\n",
       "    <tr>\n",
       "      <th>1</th>\n",
       "      <td>33</td>\n",
       "      <td>220</td>\n",
       "      <td>no</td>\n",
       "    </tr>\n",
       "    <tr>\n",
       "      <th>2</th>\n",
       "      <td>35</td>\n",
       "      <td>185</td>\n",
       "      <td>no</td>\n",
       "    </tr>\n",
       "    <tr>\n",
       "      <th>3</th>\n",
       "      <td>30</td>\n",
       "      <td>199</td>\n",
       "      <td>no</td>\n",
       "    </tr>\n",
       "    <tr>\n",
       "      <th>4</th>\n",
       "      <td>59</td>\n",
       "      <td>226</td>\n",
       "      <td>no</td>\n",
       "    </tr>\n",
       "  </tbody>\n",
       "</table>\n",
       "</div>"
      ],
      "text/plain": [
       "   age  duration   y\n",
       "0   30        79  no\n",
       "1   33       220  no\n",
       "2   35       185  no\n",
       "3   30       199  no\n",
       "4   59       226  no"
      ]
     },
     "execution_count": 332,
     "metadata": {},
     "output_type": "execute_result"
    }
   ],
   "source": [
    "#Using original (uncleaned) dataframe, for easier visualisation.\n",
    "\n",
    "age_and_duration = bank_data[[\"age\", \"duration\", \"y\"]]\n",
    "\n",
    "age_and_duration[\"y\"].value_counts()\n",
    "\n",
    "age_and_duration.loc[age_and_duration[\"y\"] == \"yes\", [\"age\", \"duration\"]]\n",
    "\n",
    "age_and_duration.head()"
   ]
  },
  {
   "cell_type": "code",
   "execution_count": 333,
   "id": "0068d191",
   "metadata": {},
   "outputs": [
    {
     "data": {
      "text/plain": [
       "<matplotlib.legend.Legend at 0x138116590>"
      ]
     },
     "execution_count": 333,
     "metadata": {},
     "output_type": "execute_result"
    },
    {
     "data": {
      "image/png": "[encoded data removed]",
      "text/plain": [
       "<Figure size 600x400 with 1 Axes>"
      ]
     },
     "metadata": {},
     "output_type": "display_data"
    }
   ],
   "source": [
    "#Even using just 2 features, we can see that the dataset isn't linearly seperable.\n",
    "\n",
    "plt.figure(figsize=(6, 4))\n",
    "\n",
    "plt.plot(age_and_duration.loc[age_and_duration[\"y\"] == \"yes\", [\"age\"]], age_and_duration.loc[age_and_duration[\"y\"] == \"yes\", [\"duration\"]], \"x\", color = \"green\",label=\"Label = Y\", markersize=7)\n",
    "plt.plot(age_and_duration.loc[age_and_duration[\"y\"] == \"no\", [\"age\"]], age_and_duration.loc[age_and_duration[\"y\"] == \"no\", [\"duration\"]], \"x\", color = \"red\", label=\"Label = N\", markersize=7)\n",
    "plt.xlabel(\"Age (in Years)\", fontsize=10)\n",
    "plt.ylabel(\"Last Contact Duration (in Seconds)\", fontsize=10)\n",
    "plt.legend(loc=\"upper left\", fontsize=14)\n",
    "plt.legend(loc=1, prop={'size': 8}) \n"
   ]
  },
  {
   "cell_type": "markdown",
   "id": "204a7bdb",
   "metadata": {},
   "source": [
    "This means that the new loss function is defined as this: "
   ]
  },
  {
   "attachments": {
    "Screen%20Shot%202025-05-07%20at%2014.35.48.png": {
     "image/png": "[encoded data removed]"
    }
   },
   "cell_type": "markdown",
   "id": "70628f14",
   "metadata": {},
   "source": [
    "![Screen%20Shot%202025-05-07%20at%2014.35.48.png](attachment:Screen%20Shot%202025-05-07%20at%2014.35.48.png)"
   ]
  },
  {
   "cell_type": "markdown",
   "id": "5beede1c",
   "metadata": {},
   "source": [
    "Introducing the non-negative parameter ξi means the algorithm no longer insists that every training example has margin >= 1. The C represents the balance the model makes between maximising the margin, and minimising the amount of misclassification errors."
   ]
  },
  {
   "cell_type": "markdown",
   "id": "43e9e0e4",
   "metadata": {},
   "source": [
    "### Tuning the SVC"
   ]
  },
  {
   "cell_type": "markdown",
   "id": "b630b13d",
   "metadata": {},
   "source": [
    "In order to tune the hyperparameters of the SVC, a technique known as Grid Search is utilised. Grid Search tests every combination of hyperparameters within a given range, and finds the best combination, optimising towards a certain scoring metric (ROC-AUC in this case). Given that SVCs can have high computational complexity of between      O(n^2) and O(n^3) (with n denoting the amount of training instances), (Bottou, Lin, 2007) the decision was made to split the Grid Search up into segments (one testing the kernel and one testing C). "
   ]
  },
  {
   "cell_type": "code",
   "execution_count": 334,
   "id": "d732b34c",
   "metadata": {},
   "outputs": [
    {
     "name": "stdout",
     "output_type": "stream",
     "text": [
      "{'kernel': 'poly'}\n"
     ]
    }
   ],
   "source": [
    "#We can leave out linear kernel, given that the data isn't linearly seperable.\n",
    "#Due to computational complexity, we are only testing one parameter at a time. \n",
    "\n",
    "from sklearn.model_selection import GridSearchCV\n",
    "\n",
    "svc_params = {\"kernel\": [\"poly\", \"rbf\", \"sigmoid\"]}\n",
    "\n",
    "\n",
    "grid_search = GridSearchCV(svc, param_grid=svc_params, cv=KFS, n_jobs=4, scoring = 'roc_auc')\n",
    "\n",
    "grid_search = grid_search.fit(x_train_cleaned, y_train_cleaned)\n",
    "\n",
    "\n",
    "print (grid_search.best_params_)"
   ]
  },
  {
   "cell_type": "code",
   "execution_count": 338,
   "id": "47dde4c5",
   "metadata": {},
   "outputs": [
    {
     "data": {
      "text/plain": [
       "Text(0, 0.5, 'ROC AUC')"
      ]
     },
     "execution_count": 338,
     "metadata": {},
     "output_type": "execute_result"
    },
    {
     "data": {
      "image/png": "[encoded data removed]",
      "text/plain": [
       "<Figure size 640x480 with 1 Axes>"
      ]
     },
     "metadata": {},
     "output_type": "display_data"
    }
   ],
   "source": [
    "c_range = [1, 10, 100, 1000]\n",
    "\n",
    "scores = []\n",
    "\n",
    "for i in c_range:\n",
    "    \n",
    " #Setting the SVC to use the poly kernel, given that it performed the best in gridsearch previously.   \n",
    "\n",
    "    svc = SVC(C = i, kernel = \"poly\")\n",
    "\n",
    "    kfscore_svm_loop_c = cross_val_score (svc, x_train_cleaned, y_train_cleaned, cv = KFS, scoring = \"roc_auc\")\n",
    "\n",
    "    scores.append (np.average(kfscore_svm_loop_c))\n",
    "  \n",
    "plt.plot(c_range, scores, color= \"midnightblue\", marker=\"o\")\n",
    "plt.xlabel(\"C Range\", fontsize=14)\n",
    "plt.ylabel(\"ROC AUC\", fontsize=14)\n",
    "\n"
   ]
  },
  {
   "cell_type": "code",
   "execution_count": 336,
   "id": "c2c1138b",
   "metadata": {},
   "outputs": [
    {
     "data": {
      "text/plain": [
       "0.5751107521818736"
      ]
     },
     "execution_count": 336,
     "metadata": {},
     "output_type": "execute_result"
    }
   ],
   "source": [
    "max(scores)"
   ]
  },
  {
   "cell_type": "markdown",
   "id": "7a6afa1e",
   "metadata": {},
   "source": [
    "Grid Search shows that the optimal Kernel is “Poly” (or Polynomial), whilst the graphs show that a C of 1 is the optimal value. These hyperparameters return a ROC-AUC score of 57.51%. "
   ]
  },
  {
   "cell_type": "markdown",
   "id": "3d9a280b",
   "metadata": {},
   "source": [
    "### Gradient Boost"
   ]
  },
  {
   "cell_type": "markdown",
   "id": "aa450d1c",
   "metadata": {},
   "source": [
    "The final model to be tested is Gradient Boost. Gradient Boost is a popular tree-based ensemble model, which iteratively builds new models, each focussed on correcting errors made by the previous model. \n",
    "\n",
    "Gradient Boosting can be used as a technique to reduce a model’s bias. Given that the ROC-AUC is consistently relatively weak across folds (less than 70%), this indicates there may be a bias issue in the model, and therefore Gradient Boost is a suitable model choice. "
   ]
  },
  {
   "cell_type": "code",
   "execution_count": 337,
   "id": "c38698e5",
   "metadata": {},
   "outputs": [],
   "source": [
    "#Transforming the Label to 1 and 0, as per the GradientBoost requirements\n",
    "\n",
    "y_train_cleaned = y_train_cleaned.replace (('yes', 'no'), (1, 0))"
   ]
  },
  {
   "cell_type": "code",
   "execution_count": 339,
   "id": "9c8a17f2",
   "metadata": {},
   "outputs": [
    {
     "name": "stdout",
     "output_type": "stream",
     "text": [
      "{'max_depth': 3, 'min_samples_split': 0.4555555555555556, 'min_weight_fraction_leaf': 0.125}\n"
     ]
    }
   ],
   "source": [
    "from sklearn.ensemble import GradientBoostingClassifier\n",
    "\n",
    "gb = GradientBoostingClassifier()\n",
    "\n",
    "gb_params = {\"min_samples_split\": np.linspace(0.1, 0.5, 10),\n",
    "             \"max_depth\": [3,4,5],\n",
    "             \"min_weight_fraction_leaf\": np.linspace(0.0, 0.5, 5)\n",
    "             }\n",
    "\n",
    "grid_search_gb = GridSearchCV(gb, param_grid=gb_params, cv=KFS, n_jobs=4, scoring = \"roc_auc\")\n",
    "\n",
    "grid_search_gb.fit(x_train_cleaned, y_train_cleaned)\n",
    "\n",
    "print (grid_search_gb.best_params_)"
   ]
  },
  {
   "cell_type": "code",
   "execution_count": 340,
   "id": "06315acd",
   "metadata": {},
   "outputs": [
    {
     "name": "stdout",
     "output_type": "stream",
     "text": [
      "0.6403162491379281\n"
     ]
    }
   ],
   "source": [
    "print (grid_search_gb.best_score_)"
   ]
  },
  {
   "cell_type": "markdown",
   "id": "3556073d",
   "metadata": {},
   "source": [
    "This time using an exhaustive Grid Search across all of the selected hyperparameters, it can be seen that the winning combination is as follows:\n",
    "\n",
    "'max_depth': 3\n",
    "'min_samples_split': 0.456\n",
    "'min_weight_fraction_leaf': 0.125\n",
    "\n",
    "This combination returns an ROC-AUC score of 64.03%, which is the strongest model yet. \n",
    "\n",
    "Having now found the strongest model in the Cross Validation process, the next step is to evaluate this winning model against unseen test data. \n"
   ]
  },
  {
   "cell_type": "markdown",
   "id": "4bb78d62",
   "metadata": {},
   "source": [
    "# Results"
   ]
  },
  {
   "cell_type": "markdown",
   "id": "135ffb37",
   "metadata": {},
   "source": [
    "### Testing and Evaluating the Model"
   ]
  },
  {
   "cell_type": "markdown",
   "id": "32f2e5cf",
   "metadata": {},
   "source": [
    "Upon testing the Gradient Boost model on unseen test data, it can be seen that unfortunately, the ROC-AUC score has drastically dropped to 39.84%. This suggests that the model isn’t stable and suffers from high variance, meaning that the model is overly focussed on (and has overfit) specific patterns in the training data, and hasn’t generalised well to onsen data. One potential reason for this, may be due to model complexity. "
   ]
  },
  {
   "cell_type": "code",
   "execution_count": 341,
   "id": "48c581f3",
   "metadata": {},
   "outputs": [
    {
     "data": {
      "text/plain": [
       "0.3984553470398599"
      ]
     },
     "execution_count": 341,
     "metadata": {},
     "output_type": "execute_result"
    }
   ],
   "source": [
    "#Testing the GradientBoost model\n",
    "\n",
    "from sklearn.metrics import classification_report, roc_auc_score\n",
    "from sklearn import metrics\n",
    "\n",
    "#Applying the same clean function to the test data \n",
    "\n",
    "x_test_cleaned = feature_clean(x_test)\n",
    "\n",
    "#Predicting y_pred using the test features \n",
    "\n",
    "y_pred = grid_search_gb.predict(x_test_cleaned)\n",
    "\n",
    "y_test = y_test.replace(('yes', 'no'), (1, 0))\n",
    "\n",
    "#roc_auc requires the probability scales of the label as an input\n",
    "\n",
    "y_prob = grid_search_gb.predict_proba(x_test_cleaned)\n",
    "\n",
    "roc_auc_score(y_test, y_prob[:,0])\n"
   ]
  },
  {
   "cell_type": "code",
   "execution_count": 342,
   "id": "48a29633",
   "metadata": {},
   "outputs": [
    {
     "data": {
      "text/plain": [
       "(array([0]), array([1357]))"
      ]
     },
     "execution_count": 342,
     "metadata": {},
     "output_type": "execute_result"
    }
   ],
   "source": [
    "np.unique(y_pred, return_counts=True)"
   ]
  },
  {
   "cell_type": "markdown",
   "id": "158bd359",
   "metadata": {},
   "source": [
    "Looking at the Classification Report of the tested model, however, shows some valuable insights. Despite utilising best-practises to mitigate class-imbalance throughout the project, this problem has still has a huge impact on the variance of the model. Recall is the percentage of correctly identified true positives. Recall of Class 1 = 0%, meaning none were correctly identified by the model, whilst Recall of Class 0 = 100%. This means that the model has learnt from the large Non-Converter class and labelled all customers as this. "
   ]
  },
  {
   "cell_type": "code",
   "execution_count": 343,
   "id": "fbe4a775",
   "metadata": {},
   "outputs": [
    {
     "name": "stdout",
     "output_type": "stream",
     "text": [
      "              precision    recall  f1-score   support\n",
      "\n",
      "           0       0.89      1.00      0.94      1201\n",
      "           1       0.00      0.00      0.00       156\n",
      "\n",
      "    accuracy                           0.89      1357\n",
      "   macro avg       0.44      0.50      0.47      1357\n",
      "weighted avg       0.78      0.89      0.83      1357\n",
      "\n"
     ]
    }
   ],
   "source": [
    "print (classification_report(y_test,y_pred))\n"
   ]
  },
  {
   "cell_type": "markdown",
   "id": "895c51bc",
   "metadata": {},
   "source": [
    "### Finalising the Propensity Score"
   ]
  },
  {
   "cell_type": "markdown",
   "id": "7a231deb",
   "metadata": {},
   "source": [
    "Using the predict_proba method returns the actual probability scale of the model. Column 1 shows the probability of the customer being in the positive class. As shown, there are no customers with > 50% probability (which concurs with the 0% Recall). Note that a classification model will classify all observations of >50% as 1, and all others as 0. "
   ]
  },
  {
   "cell_type": "code",
   "execution_count": 344,
   "id": "2df93715",
   "metadata": {
    "scrolled": true
   },
   "outputs": [
    {
     "data": {
      "text/plain": [
       "0"
      ]
     },
     "execution_count": 344,
     "metadata": {},
     "output_type": "execute_result"
    }
   ],
   "source": [
    "#This shows that there are none of the positive class with probabilities > 50% (hence the 0% Recall) \n",
    "\n",
    "y_prob = grid_search_gb.predict_proba(x_test_cleaned)\n",
    "\n",
    "y_prob = pd.Series(y_prob[:, 1])\n",
    "\n",
    "y_prob[y_prob>0.5].count()\n"
   ]
  },
  {
   "cell_type": "markdown",
   "id": "eb993a73",
   "metadata": {},
   "source": [
    "Looking at the output of predict_proba Column 1, it can be that the observations do have well varied probabilities, but all are very low. This means that by increasing the probability threshold, a suitable output can be obtained by the model, which can then be used as a customer propensity score. "
   ]
  },
  {
   "cell_type": "code",
   "execution_count": 345,
   "id": "662f9a67",
   "metadata": {},
   "outputs": [
    {
     "data": {
      "text/plain": [
       "0     0.048033\n",
       "1     0.197903\n",
       "2     0.116577\n",
       "3     0.117300\n",
       "4     0.090468\n",
       "5     0.212064\n",
       "6     0.077530\n",
       "7     0.083319\n",
       "8     0.082060\n",
       "9     0.036566\n",
       "10    0.212301\n",
       "dtype: float64"
      ]
     },
     "execution_count": 345,
     "metadata": {},
     "output_type": "execute_result"
    }
   ],
   "source": [
    "y_prob.head(11)"
   ]
  },
  {
   "cell_type": "markdown",
   "id": "a2c9c7b5",
   "metadata": {},
   "source": [
    "A threshold is set to < 0.85 to the predict_proba method. This returns more suitable amounts of both classes. 354 customers are now in the positive class (Converters), making up 26% of overall customers in the test data. This is appropriate, given the business’ requirement for a select list of customers."
   ]
  },
  {
   "cell_type": "code",
   "execution_count": 346,
   "id": "6cc60fb4",
   "metadata": {},
   "outputs": [
    {
     "data": {
      "text/plain": [
       "354"
      ]
     },
     "execution_count": 346,
     "metadata": {},
     "output_type": "execute_result"
    }
   ],
   "source": [
    "#Shifting the probability threshold to 85% returns a reasonable amount of the positive class (1's). \n",
    "#Note that the code below returns the 1st column (the probability that the class = 0). \n",
    "#So we're taking the smaller proportion of those customers (which were below 85%)\n",
    "\n",
    "y_prob_85pc = grid_search_gb.predict_proba(x_test_cleaned) < 0.85\n",
    "\n",
    "y_prob_85pc = pd.Series(y_prob_85pc[:, 0])\n",
    "\n",
    "y_prob_85pc[y_prob_85pc==True].count()\n"
   ]
  },
  {
   "cell_type": "code",
   "execution_count": 347,
   "id": "3a6771a5",
   "metadata": {},
   "outputs": [],
   "source": [
    "predict_probs_85pc = grid_search_gb.predict_proba(x_test_cleaned)"
   ]
  },
  {
   "cell_type": "markdown",
   "id": "4d5d79eb",
   "metadata": {},
   "source": [
    "This output could be used in its current state, whilst interpreting customers >= 85% as likely to Convert. However, given that the output would be distributed to the Marketing and Sales team, interpretability is vital. For this reason, 0.35 is subtracted from the values. This normalises the scale, so that anything >= 50% can be considered as likely to convert. \n"
   ]
  },
  {
   "cell_type": "code",
   "execution_count": 348,
   "id": "bafc60a8",
   "metadata": {},
   "outputs": [
    {
     "data": {
      "text/plain": [
       "0       0.601967\n",
       "1       0.452097\n",
       "2       0.533423\n",
       "3       0.532700\n",
       "4       0.559532\n",
       "          ...   \n",
       "1352    0.592018\n",
       "1353    0.602414\n",
       "1354    0.525263\n",
       "1355    0.586537\n",
       "1356    0.469037\n",
       "Length: 1357, dtype: float64"
      ]
     },
     "execution_count": 348,
     "metadata": {},
     "output_type": "execute_result"
    }
   ],
   "source": [
    "#This code then centers the range around 50%, for easier interbretability\n",
    "\n",
    "predict_prob_transformed = pd.Series(predict_probs_85pc[:, 0]) - 0.35\n",
    "\n",
    "predict_prob_transformed"
   ]
  },
  {
   "cell_type": "code",
   "execution_count": 349,
   "id": "e5ed4a48",
   "metadata": {},
   "outputs": [
    {
     "data": {
      "text/plain": [
       "354"
      ]
     },
     "execution_count": 349,
     "metadata": {},
     "output_type": "execute_result"
    }
   ],
   "source": [
    "#This then returns 354 customers as the predicted Converters\n",
    "\n",
    "predict_prob_transformed[predict_prob_transformed<.50].count()"
   ]
  },
  {
   "cell_type": "code",
   "execution_count": 350,
   "id": "d9ae243d",
   "metadata": {},
   "outputs": [
    {
     "data": {
      "text/plain": [
       "1003"
      ]
     },
     "execution_count": 350,
     "metadata": {},
     "output_type": "execute_result"
    }
   ],
   "source": [
    "#This then returns 1003 customers as the predicted Non-Converters\n",
    "\n",
    "predict_prob_transformed[predict_prob_transformed>0.5].count()\n"
   ]
  },
  {
   "cell_type": "code",
   "execution_count": 351,
   "id": "5daae05c",
   "metadata": {},
   "outputs": [
    {
     "data": {
      "text/plain": [
       "354"
      ]
     },
     "execution_count": 351,
     "metadata": {},
     "output_type": "execute_result"
    }
   ],
   "source": [
    "#Note that we're been working with the 1st column from the probabilities (which is 1 - the 2nd column). \n",
    "#Therefore to convert this, we make the following transformation:\n",
    "\n",
    "propensity_score_final = 1 - predict_prob_transformed\n",
    "\n",
    "propensity_score_final[lead_score_final>.50].count()"
   ]
  },
  {
   "cell_type": "code",
   "execution_count": 352,
   "id": "2ee40ef5",
   "metadata": {},
   "outputs": [
    {
     "data": {
      "text/plain": [
       "0       0.398033\n",
       "1       0.547903\n",
       "2       0.466577\n",
       "3       0.467300\n",
       "4       0.440468\n",
       "          ...   \n",
       "1352    0.407982\n",
       "1353    0.397586\n",
       "1354    0.474737\n",
       "1355    0.413463\n",
       "1356    0.530963\n",
       "Length: 1357, dtype: float64"
      ]
     },
     "execution_count": 352,
     "metadata": {},
     "output_type": "execute_result"
    }
   ],
   "source": [
    "#This then returns the final customere propensity score, which can be joined back to customer ID, and email / phone number, \n",
    "#and distributed to the relevant teams.\n",
    "\n",
    "propensity_score_final"
   ]
  },
  {
   "cell_type": "code",
   "execution_count": 353,
   "id": "d30178ba",
   "metadata": {},
   "outputs": [],
   "source": [
    "propensity_score_final = pd.Series(propensity_score_final)"
   ]
  },
  {
   "cell_type": "markdown",
   "id": "bdce6d20",
   "metadata": {},
   "source": [
    "This new output is tested using ROC-AUC, which returns a score of 60.15% (which is more in line with the validated models in the training process). This is the finalised Customer Propensity Score, which can be distributed to the Sales and Marketing teams. "
   ]
  },
  {
   "cell_type": "code",
   "execution_count": 354,
   "id": "1f5c6b6a",
   "metadata": {},
   "outputs": [
    {
     "data": {
      "text/plain": [
       "0.60154465296014"
      ]
     },
     "execution_count": 354,
     "metadata": {},
     "output_type": "execute_result"
    }
   ],
   "source": [
    "roc_auc_score(y_test, lead_score_final)"
   ]
  },
  {
   "cell_type": "markdown",
   "id": "f0a1b4b4",
   "metadata": {},
   "source": [
    "# Conclusion"
   ]
  },
  {
   "cell_type": "markdown",
   "id": "f2450879",
   "metadata": {},
   "source": [
    "It’s clear that class imbalance can cause numerous difficulties in the machine learning process. It’s vital to consider these ramifications across the whole machine learning pipeline. \n",
    "\n",
    "Despite the set-back of having poor recall in the model evaluation stage, changing the probability thresholds of the final model was a strong resolution, and gave a set of outputs which could be utilised by the bank in order to drive term deposit uptake (the initial objective). \n",
    "\n",
    "Another option which could be attempted in the future, would be Synthetic Minority Oversampling Technique (SMORT). This technique creates new synthetic samples of the minority class, before building a model on this partly synthesised training data. This would, of course, have to be tested alongside the threshold adjustment approach used in this report. A suitable testing approach, and success criteria would have to be established. \n",
    "\n",
    "In conclusion, class imbalance presents an interesting problem in the machine learning space. This report has used some of the best-practise solutions for dealing with this problem. But many more exist, which hold broad scope for further exploration. \n"
   ]
  },
  {
   "cell_type": "markdown",
   "id": "9422d6a4",
   "metadata": {},
   "source": [
    "# References"
   ]
  },
  {
   "cell_type": "markdown",
   "id": "129175be",
   "metadata": {},
   "source": [
    "Bottou, Lin (2007) Support Vector Machine Solvers. Taipei, Taiwan: National Taiwan University\n",
    "\n",
    "Coussement, C., Van den Poel, D., (2008) Churn prediction in subscription services: An application of support vector machines while comparing two parameter-selection techniques, Science Direct\n",
    "\n",
    "Abedin, Mohammad Zoynul. et al. (2023) Modelling bank customer behaviour using feature engineering and classification techniques, Science Direct\n",
    "\n",
    "Chen, Shuixia. et al. (2024) Customer purchase prediction in B2C e-business: A systematic review and future research agenda, Science Direct\n",
    "\n",
    "raisin.co.uk (2025) Available at:\n",
    "https://www.raisin.co.uk/savings-accounts/term-deposit/ (Accessed: 1 May 2025)\n",
    "\n",
    "ibm.com (2025) Available at:\n",
    "https://www.ibm.com/think/topics/data-leakage-machine-learning (Accessed: 4 May 2025)\n"
   ]
  }
 ],
 "metadata": {
  "kernelspec": {
   "display_name": "Python 3 (ipykernel)",
   "language": "python",
   "name": "python3"
  },
  "language_info": {
   "codemirror_mode": {
    "name": "ipython",
    "version": 3
   },
   "file_extension": ".py",
   "mimetype": "text/x-python",
   "name": "python",
   "nbconvert_exporter": "python",
   "pygments_lexer": "ipython3",
   "version": "3.12.4"
  }
 },
 "nbformat": 4,
 "nbformat_minor": 5
}
